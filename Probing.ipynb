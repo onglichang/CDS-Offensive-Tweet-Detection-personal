{
  "nbformat": 4,
  "nbformat_minor": 0,
  "metadata": {
    "accelerator": "GPU",
    "colab": {
      "name": "Probing.ipynb",
      "provenance": [],
      "collapsed_sections": [],
      "toc_visible": true
    },
    "kernelspec": {
      "display_name": "Python 3",
      "name": "python3"
    }
  },
  "cells": [
    {
      "cell_type": "markdown",
      "metadata": {
        "id": "-Jmzz6iTdkJA"
      },
      "source": [
        "# Import Libraries "
      ]
    },
    {
      "cell_type": "code",
      "metadata": {
        "colab": {
          "base_uri": "https://localhost:8080/"
        },
        "id": "2J7yFcV9cs4z",
        "outputId": "dff5aed2-9bd3-43dd-defc-f0881a3acf2f"
      },
      "source": [
        "#import the necessary files and libraries \n",
        "#import the necessary libraries \n",
        "!pip install tweet-preprocessor\n",
        "!pip install symspellpy\n",
        "!pip install tqdm\n",
        "!pip install zeugma\n",
        "from zeugma.embeddings import EmbeddingTransformer\n",
        "from sklearn.linear_model import LogisticRegression\n",
        "from nltk.tokenize import TweetTokenizer\n",
        "from symspellpy.symspellpy import SymSpell\n",
        "from bs4 import BeautifulSoup\n",
        "from nltk import word_tokenize, FreqDist\n",
        "from nltk.corpus import stopwords\n",
        "from nltk.stem import WordNetLemmatizer\n",
        "from sklearn.feature_extraction.text import TfidfVectorizer\n",
        "from tqdm import tqdm\n",
        "import preprocessor as p\n",
        "import numpy as np\n",
        "import matplotlib.pyplot as plt\n",
        "import pandas as pd\n",
        "import lxml\n",
        "from keras.preprocessing.text import Tokenizer\n",
        "from keras.preprocessing.sequence import pad_sequences\n",
        "from sklearn.preprocessing import LabelEncoder, LabelBinarizer\n",
        "from sklearn.model_selection import train_test_split\n",
        "from sklearn.linear_model import LogisticRegression\n",
        "from sklearn.metrics import classification_report, confusion_matrix, roc_curve, roc_auc_score, accuracy_score\n",
        "from keras.utils import to_categorical\n",
        "import tensorflow as tf \n",
        "import io\n",
        "import re\n",
        "import string\n",
        "import nltk\n",
        "import pkg_resources\n",
        "import ast \n",
        "import pickle\n",
        "import gensim\n",
        "import logging\n",
        "import nltk.data\n",
        "nltk.download('punkt')\n",
        "nltk.download\n",
        "nltk.download('wordnet')\n",
        "nltk.download('stopwords')"
      ],
      "execution_count": null,
      "outputs": [
        {
          "output_type": "stream",
          "text": [
            "Collecting tweet-preprocessor\n",
            "  Downloading https://files.pythonhosted.org/packages/17/9d/71bd016a9edcef8860c607e531f30bd09b13103c7951ae73dd2bf174163c/tweet_preprocessor-0.6.0-py3-none-any.whl\n",
            "Installing collected packages: tweet-preprocessor\n",
            "Successfully installed tweet-preprocessor-0.6.0\n",
            "Collecting symspellpy\n",
            "\u001b[?25l  Downloading https://files.pythonhosted.org/packages/99/af/e71fcca6a42b6a63f518b0c1627e1f67822815cb0cf71e6af05acbd75c78/symspellpy-6.7.0-py3-none-any.whl (2.6MB)\n",
            "\u001b[K     |████████████████████████████████| 2.6MB 8.7MB/s \n",
            "\u001b[?25hRequirement already satisfied: numpy>=1.13.1 in /usr/local/lib/python3.6/dist-packages (from symspellpy) (1.18.5)\n",
            "Installing collected packages: symspellpy\n",
            "Successfully installed symspellpy-6.7.0\n",
            "Requirement already satisfied: tqdm in /usr/local/lib/python3.6/dist-packages (4.41.1)\n",
            "Collecting zeugma\n",
            "  Downloading https://files.pythonhosted.org/packages/59/38/8f57f83719027e36a61238abe1cafa55d257eaaf8e9185b2adbb5a928308/zeugma-0.48.tar.gz\n",
            "Requirement already satisfied: numpy>=1.13.3 in /usr/local/lib/python3.6/dist-packages (from zeugma) (1.18.5)\n",
            "Requirement already satisfied: Cython>=0.27.3 in /usr/local/lib/python3.6/dist-packages (from zeugma) (0.29.21)\n",
            "Requirement already satisfied: pandas>=0.20.3 in /usr/local/lib/python3.6/dist-packages (from zeugma) (1.1.5)\n",
            "Requirement already satisfied: gensim>=3.5.0 in /usr/local/lib/python3.6/dist-packages (from zeugma) (3.6.0)\n",
            "Requirement already satisfied: scikit_learn>=0.19.1 in /usr/local/lib/python3.6/dist-packages (from zeugma) (0.22.2.post1)\n",
            "Requirement already satisfied: tensorflow>=1.5.0 in /usr/local/lib/python3.6/dist-packages (from zeugma) (2.3.0)\n",
            "Requirement already satisfied: keras>=2.1.3 in /usr/local/lib/python3.6/dist-packages (from zeugma) (2.4.3)\n",
            "Requirement already satisfied: python-dateutil>=2.7.3 in /usr/local/lib/python3.6/dist-packages (from pandas>=0.20.3->zeugma) (2.8.1)\n",
            "Requirement already satisfied: pytz>=2017.2 in /usr/local/lib/python3.6/dist-packages (from pandas>=0.20.3->zeugma) (2018.9)\n",
            "Requirement already satisfied: six>=1.5.0 in /usr/local/lib/python3.6/dist-packages (from gensim>=3.5.0->zeugma) (1.15.0)\n",
            "Requirement already satisfied: scipy>=0.18.1 in /usr/local/lib/python3.6/dist-packages (from gensim>=3.5.0->zeugma) (1.4.1)\n",
            "Requirement already satisfied: smart-open>=1.2.1 in /usr/local/lib/python3.6/dist-packages (from gensim>=3.5.0->zeugma) (4.0.1)\n",
            "Requirement already satisfied: joblib>=0.11 in /usr/local/lib/python3.6/dist-packages (from scikit_learn>=0.19.1->zeugma) (0.17.0)\n",
            "Requirement already satisfied: opt-einsum>=2.3.2 in /usr/local/lib/python3.6/dist-packages (from tensorflow>=1.5.0->zeugma) (3.3.0)\n",
            "Requirement already satisfied: protobuf>=3.9.2 in /usr/local/lib/python3.6/dist-packages (from tensorflow>=1.5.0->zeugma) (3.12.4)\n",
            "Requirement already satisfied: wheel>=0.26 in /usr/local/lib/python3.6/dist-packages (from tensorflow>=1.5.0->zeugma) (0.36.1)\n",
            "Requirement already satisfied: google-pasta>=0.1.8 in /usr/local/lib/python3.6/dist-packages (from tensorflow>=1.5.0->zeugma) (0.2.0)\n",
            "Requirement already satisfied: h5py<2.11.0,>=2.10.0 in /usr/local/lib/python3.6/dist-packages (from tensorflow>=1.5.0->zeugma) (2.10.0)\n",
            "Requirement already satisfied: wrapt>=1.11.1 in /usr/local/lib/python3.6/dist-packages (from tensorflow>=1.5.0->zeugma) (1.12.1)\n",
            "Requirement already satisfied: gast==0.3.3 in /usr/local/lib/python3.6/dist-packages (from tensorflow>=1.5.0->zeugma) (0.3.3)\n",
            "Requirement already satisfied: grpcio>=1.8.6 in /usr/local/lib/python3.6/dist-packages (from tensorflow>=1.5.0->zeugma) (1.34.0)\n",
            "Requirement already satisfied: keras-preprocessing<1.2,>=1.1.1 in /usr/local/lib/python3.6/dist-packages (from tensorflow>=1.5.0->zeugma) (1.1.2)\n",
            "Requirement already satisfied: tensorboard<3,>=2.3.0 in /usr/local/lib/python3.6/dist-packages (from tensorflow>=1.5.0->zeugma) (2.3.0)\n",
            "Requirement already satisfied: tensorflow-estimator<2.4.0,>=2.3.0 in /usr/local/lib/python3.6/dist-packages (from tensorflow>=1.5.0->zeugma) (2.3.0)\n",
            "Requirement already satisfied: termcolor>=1.1.0 in /usr/local/lib/python3.6/dist-packages (from tensorflow>=1.5.0->zeugma) (1.1.0)\n",
            "Requirement already satisfied: astunparse==1.6.3 in /usr/local/lib/python3.6/dist-packages (from tensorflow>=1.5.0->zeugma) (1.6.3)\n",
            "Requirement already satisfied: absl-py>=0.7.0 in /usr/local/lib/python3.6/dist-packages (from tensorflow>=1.5.0->zeugma) (0.10.0)\n",
            "Requirement already satisfied: pyyaml in /usr/local/lib/python3.6/dist-packages (from keras>=2.1.3->zeugma) (3.13)\n",
            "Requirement already satisfied: setuptools in /usr/local/lib/python3.6/dist-packages (from protobuf>=3.9.2->tensorflow>=1.5.0->zeugma) (50.3.2)\n",
            "Requirement already satisfied: google-auth<2,>=1.6.3 in /usr/local/lib/python3.6/dist-packages (from tensorboard<3,>=2.3.0->tensorflow>=1.5.0->zeugma) (1.17.2)\n",
            "Requirement already satisfied: requests<3,>=2.21.0 in /usr/local/lib/python3.6/dist-packages (from tensorboard<3,>=2.3.0->tensorflow>=1.5.0->zeugma) (2.23.0)\n",
            "Requirement already satisfied: google-auth-oauthlib<0.5,>=0.4.1 in /usr/local/lib/python3.6/dist-packages (from tensorboard<3,>=2.3.0->tensorflow>=1.5.0->zeugma) (0.4.2)\n",
            "Requirement already satisfied: markdown>=2.6.8 in /usr/local/lib/python3.6/dist-packages (from tensorboard<3,>=2.3.0->tensorflow>=1.5.0->zeugma) (3.3.3)\n",
            "Requirement already satisfied: werkzeug>=0.11.15 in /usr/local/lib/python3.6/dist-packages (from tensorboard<3,>=2.3.0->tensorflow>=1.5.0->zeugma) (1.0.1)\n",
            "Requirement already satisfied: tensorboard-plugin-wit>=1.6.0 in /usr/local/lib/python3.6/dist-packages (from tensorboard<3,>=2.3.0->tensorflow>=1.5.0->zeugma) (1.7.0)\n",
            "Requirement already satisfied: pyasn1-modules>=0.2.1 in /usr/local/lib/python3.6/dist-packages (from google-auth<2,>=1.6.3->tensorboard<3,>=2.3.0->tensorflow>=1.5.0->zeugma) (0.2.8)\n",
            "Requirement already satisfied: cachetools<5.0,>=2.0.0 in /usr/local/lib/python3.6/dist-packages (from google-auth<2,>=1.6.3->tensorboard<3,>=2.3.0->tensorflow>=1.5.0->zeugma) (4.1.1)\n",
            "Requirement already satisfied: rsa<5,>=3.1.4; python_version >= \"3\" in /usr/local/lib/python3.6/dist-packages (from google-auth<2,>=1.6.3->tensorboard<3,>=2.3.0->tensorflow>=1.5.0->zeugma) (4.6)\n",
            "Requirement already satisfied: urllib3!=1.25.0,!=1.25.1,<1.26,>=1.21.1 in /usr/local/lib/python3.6/dist-packages (from requests<3,>=2.21.0->tensorboard<3,>=2.3.0->tensorflow>=1.5.0->zeugma) (1.24.3)\n",
            "Requirement already satisfied: chardet<4,>=3.0.2 in /usr/local/lib/python3.6/dist-packages (from requests<3,>=2.21.0->tensorboard<3,>=2.3.0->tensorflow>=1.5.0->zeugma) (3.0.4)\n",
            "Requirement already satisfied: certifi>=2017.4.17 in /usr/local/lib/python3.6/dist-packages (from requests<3,>=2.21.0->tensorboard<3,>=2.3.0->tensorflow>=1.5.0->zeugma) (2020.12.5)\n",
            "Requirement already satisfied: idna<3,>=2.5 in /usr/local/lib/python3.6/dist-packages (from requests<3,>=2.21.0->tensorboard<3,>=2.3.0->tensorflow>=1.5.0->zeugma) (2.10)\n",
            "Requirement already satisfied: requests-oauthlib>=0.7.0 in /usr/local/lib/python3.6/dist-packages (from google-auth-oauthlib<0.5,>=0.4.1->tensorboard<3,>=2.3.0->tensorflow>=1.5.0->zeugma) (1.3.0)\n",
            "Requirement already satisfied: importlib-metadata; python_version < \"3.8\" in /usr/local/lib/python3.6/dist-packages (from markdown>=2.6.8->tensorboard<3,>=2.3.0->tensorflow>=1.5.0->zeugma) (3.1.1)\n",
            "Requirement already satisfied: pyasn1<0.5.0,>=0.4.6 in /usr/local/lib/python3.6/dist-packages (from pyasn1-modules>=0.2.1->google-auth<2,>=1.6.3->tensorboard<3,>=2.3.0->tensorflow>=1.5.0->zeugma) (0.4.8)\n",
            "Requirement already satisfied: oauthlib>=3.0.0 in /usr/local/lib/python3.6/dist-packages (from requests-oauthlib>=0.7.0->google-auth-oauthlib<0.5,>=0.4.1->tensorboard<3,>=2.3.0->tensorflow>=1.5.0->zeugma) (3.1.0)\n",
            "Requirement already satisfied: zipp>=0.5 in /usr/local/lib/python3.6/dist-packages (from importlib-metadata; python_version < \"3.8\"->markdown>=2.6.8->tensorboard<3,>=2.3.0->tensorflow>=1.5.0->zeugma) (3.4.0)\n",
            "Building wheels for collected packages: zeugma\n",
            "  Building wheel for zeugma (setup.py) ... \u001b[?25l\u001b[?25hdone\n",
            "  Created wheel for zeugma: filename=zeugma-0.48-cp36-none-any.whl size=8777 sha256=f9a7e1e9ed0322c43c35cfed746821ea8b42041c90c7bf985cb19bb5c962fd53\n",
            "  Stored in directory: /root/.cache/pip/wheels/6a/b5/bc/5183ac478b0071d04d3ed0c0dd4a43db94c5c8ffb317b5eb53\n",
            "Successfully built zeugma\n",
            "Installing collected packages: zeugma\n",
            "Successfully installed zeugma-0.48\n",
            "[nltk_data] Downloading package punkt to /root/nltk_data...\n",
            "[nltk_data]   Unzipping tokenizers/punkt.zip.\n",
            "[nltk_data] Downloading package wordnet to /root/nltk_data...\n",
            "[nltk_data]   Unzipping corpora/wordnet.zip.\n",
            "[nltk_data] Downloading package stopwords to /root/nltk_data...\n",
            "[nltk_data]   Unzipping corpora/stopwords.zip.\n"
          ],
          "name": "stdout"
        },
        {
          "output_type": "execute_result",
          "data": {
            "text/plain": [
              "True"
            ]
          },
          "metadata": {
            "tags": []
          },
          "execution_count": 1
        }
      ]
    },
    {
      "cell_type": "code",
      "metadata": {
        "id": "Ceegx_U1doeh",
        "colab": {
          "base_uri": "https://localhost:8080/"
        },
        "outputId": "68ee29e0-fb34-4185-9be0-8c3a02823cdd"
      },
      "source": [
        "from google.colab import drive\n",
        "drive.mount('/content/drive')"
      ],
      "execution_count": null,
      "outputs": [
        {
          "output_type": "stream",
          "text": [
            "Mounted at /content/drive\n"
          ],
          "name": "stdout"
        }
      ]
    },
    {
      "cell_type": "code",
      "metadata": {
        "id": "evuw3O4jwk7T"
      },
      "source": [
        "#Evaluation function \n",
        "def evaluate_on_training_set(y_test, y_pred):\n",
        "  # Calculate AUC\n",
        "  print(\"AUC is: \", roc_auc_score(y_test, y_pred))\n",
        "  \n",
        "  # print out recall and precision\n",
        "  print(classification_report(y_test, y_pred))\n",
        "  \n",
        "  # print out confusion matrix\n",
        "  print(\"Confusion Matrix: \\n\", confusion_matrix(y_test, y_pred))\n",
        "\n",
        "  # # calculate points for ROC curve\n",
        "  fpr, tpr, thresholds = roc_curve(y_test, y_pred)\n",
        "  \n",
        "  # Plot ROC curve\n",
        "  plt.plot(fpr, tpr, label='ROC curve (area = %0.3f)' % roc_auc_score(y_test, y_pred))\n",
        "  plt.plot([0, 1], [0, 1], 'k--')  # random predictions curve\n",
        "  plt.xlim([0.0, 1.0])\n",
        "  plt.ylim([0.0, 1.0])\n",
        "  plt.xlabel('False Positive Rate or (1 - Specifity)')\n",
        "  plt.ylabel('True Positive Rate or (Sensitivity)')\n",
        "  plt.title('Receiver Operating Characteristic')"
      ],
      "execution_count": null,
      "outputs": []
    },
    {
      "cell_type": "code",
      "metadata": {
        "id": "eeiPApUEqBVf"
      },
      "source": [
        "def multiclass_roc_auc_score(y_test, y_pred, average=\"macro\"):\n",
        "  lb = LabelBinarizer()\n",
        "  lb.fit(y_test)\n",
        "  y_test = lb.transform(y_test)\n",
        "  y_pred = lb.transform(y_pred)\n",
        "  return roc_auc_score(y_test, y_pred, average=average)"
      ],
      "execution_count": null,
      "outputs": []
    },
    {
      "cell_type": "markdown",
      "metadata": {
        "id": "j6OSgFJ9b803"
      },
      "source": [
        "# Data Cleaning Final"
      ]
    },
    {
      "cell_type": "markdown",
      "metadata": {
        "id": "tYyxtP7xeIUY"
      },
      "source": [
        "## Load the DataFrames"
      ]
    },
    {
      "cell_type": "code",
      "metadata": {
        "id": "VnnFCk83drVv"
      },
      "source": [
        "#read the files into their respective dataframes \n",
        "labela_df = pd.read_csv('/content/drive/My Drive/CDS_Project/OLIDv1/labels-levela.csv', header = None)\n",
        "labelb_df = pd.read_csv('/content/drive/My Drive/CDS_Project/OLIDv1/labels-levelb.csv', header = None)\n",
        "labelc_df = pd.read_csv('/content/drive/My Drive/CDS_Project/OLIDv1/labels-levelc.csv', header = None)\n",
        "testa_df = pd.read_csv('/content/drive/My Drive/CDS_Project/OLIDv1/testset-levela.tsv', sep = '\\t')\n",
        "testb_df = pd.read_csv('/content/drive/My Drive/CDS_Project/OLIDv1/testset-levelb.tsv', sep = '\\t')\n",
        "testc_df = pd.read_csv('/content/drive/My Drive/CDS_Project/OLIDv1/testset-levelc.tsv', sep = '\\t')\n",
        "train_df = pd.read_csv('/content/drive/My Drive/CDS_Project/OLIDv1/olid-training-v1.0.tsv', sep = '\\t')\n",
        "experiment_df = pd.read_excel('/content/drive/My Drive/CDS_Project/OLIDv1/Data/PublicData.xlsx')"
      ],
      "execution_count": null,
      "outputs": []
    },
    {
      "cell_type": "code",
      "metadata": {
        "id": "SiyuGXTN3nOW",
        "colab": {
          "base_uri": "https://localhost:8080/"
        },
        "outputId": "8f792368-21b1-4dde-e8cc-182ae30c9532"
      },
      "source": [
        "#Clean the experimental labels \n",
        "experiment_df['subtask_a'] = experiment_df['subtask_a'].replace('OFF ', 'OFF')\n",
        "experiment_df['subtask_b'] = experiment_df['subtask_b'].replace('OFF ', 'OFF')\n",
        "experiment_df['subtask_c'] = experiment_df['subtask_c'].replace('OFF ', 'OFF')\n",
        "experiment_df['subtask_a'].unique(),experiment_df['subtask_b'].unique(), experiment_df['subtask_c'].unique() "
      ],
      "execution_count": null,
      "outputs": [
        {
          "output_type": "execute_result",
          "data": {
            "text/plain": [
              "(array(['OFF', 'NOT'], dtype=object),\n",
              " array(['TIN', nan, 'UNT'], dtype=object),\n",
              " array(['IND', 'GRP', 'OTH', nan], dtype=object))"
            ]
          },
          "metadata": {
            "tags": []
          },
          "execution_count": 6
        }
      ]
    },
    {
      "cell_type": "code",
      "metadata": {
        "id": "6y9qM8cPv3oI",
        "colab": {
          "base_uri": "https://localhost:8080/",
          "height": 204
        },
        "outputId": "e19670bb-9bc5-4a7a-8e5d-ef89aaa45a91"
      },
      "source": [
        "#Split the experiment data into A, B and C\n",
        "experiment_a_df = experiment_df[['tweet', 'subtask_a']]\n",
        "experiment_b_df = experiment_df[['tweet', 'subtask_b']]\n",
        "experiment_c_df = experiment_df[['tweet', 'subtask_c']]\n",
        "experiment_a_df.head()"
      ],
      "execution_count": null,
      "outputs": [
        {
          "output_type": "execute_result",
          "data": {
            "text/html": [
              "<div>\n",
              "<style scoped>\n",
              "    .dataframe tbody tr th:only-of-type {\n",
              "        vertical-align: middle;\n",
              "    }\n",
              "\n",
              "    .dataframe tbody tr th {\n",
              "        vertical-align: top;\n",
              "    }\n",
              "\n",
              "    .dataframe thead th {\n",
              "        text-align: right;\n",
              "    }\n",
              "</style>\n",
              "<table border=\"1\" class=\"dataframe\">\n",
              "  <thead>\n",
              "    <tr style=\"text-align: right;\">\n",
              "      <th></th>\n",
              "      <th>tweet</th>\n",
              "      <th>subtask_a</th>\n",
              "    </tr>\n",
              "  </thead>\n",
              "  <tbody>\n",
              "    <tr>\n",
              "      <th>0</th>\n",
              "      <td>RT @iSellGreenCards: 1st RT @MsSashaBelle: Sho...</td>\n",
              "      <td>OFF</td>\n",
              "    </tr>\n",
              "    <tr>\n",
              "      <th>1</th>\n",
              "      <td>@40oz_VAN IYCMI. I can't get any work done if ...</td>\n",
              "      <td>OFF</td>\n",
              "    </tr>\n",
              "    <tr>\n",
              "      <th>2</th>\n",
              "      <td>&amp;#8220;@lildebo2391: He too rich to let that b...</td>\n",
              "      <td>OFF</td>\n",
              "    </tr>\n",
              "    <tr>\n",
              "      <th>3</th>\n",
              "      <td>Really Barnicle? OJ or Anthony Weiner? MJ is a...</td>\n",
              "      <td>OFF</td>\n",
              "    </tr>\n",
              "    <tr>\n",
              "      <th>4</th>\n",
              "      <td>RT @GabrielaAngela4: That hoe wanta 6/6.</td>\n",
              "      <td>OFF</td>\n",
              "    </tr>\n",
              "  </tbody>\n",
              "</table>\n",
              "</div>"
            ],
            "text/plain": [
              "                                               tweet subtask_a\n",
              "0  RT @iSellGreenCards: 1st RT @MsSashaBelle: Sho...       OFF\n",
              "1  @40oz_VAN IYCMI. I can't get any work done if ...       OFF\n",
              "2  &#8220;@lildebo2391: He too rich to let that b...       OFF\n",
              "3  Really Barnicle? OJ or Anthony Weiner? MJ is a...       OFF\n",
              "4           RT @GabrielaAngela4: That hoe wanta 6/6.       OFF"
            ]
          },
          "metadata": {
            "tags": []
          },
          "execution_count": 7
        }
      ]
    },
    {
      "cell_type": "code",
      "metadata": {
        "id": "3GxuiM3Xd0dB",
        "colab": {
          "base_uri": "https://localhost:8080/",
          "height": 204
        },
        "outputId": "ce4ff2a5-0628-4021-cb1d-7e37586b8b10"
      },
      "source": [
        "#Merge the label dataset with the test data set, so only Test data set needed\n",
        "\n",
        "testa_df['subtask_a'] = labela_df[1]\n",
        "testb_df['subtask_b'] = labelb_df[1]\n",
        "testc_df['subtask_c'] = labelc_df[1]\n",
        "testc_df.head()"
      ],
      "execution_count": null,
      "outputs": [
        {
          "output_type": "execute_result",
          "data": {
            "text/html": [
              "<div>\n",
              "<style scoped>\n",
              "    .dataframe tbody tr th:only-of-type {\n",
              "        vertical-align: middle;\n",
              "    }\n",
              "\n",
              "    .dataframe tbody tr th {\n",
              "        vertical-align: top;\n",
              "    }\n",
              "\n",
              "    .dataframe thead th {\n",
              "        text-align: right;\n",
              "    }\n",
              "</style>\n",
              "<table border=\"1\" class=\"dataframe\">\n",
              "  <thead>\n",
              "    <tr style=\"text-align: right;\">\n",
              "      <th></th>\n",
              "      <th>id</th>\n",
              "      <th>tweet</th>\n",
              "      <th>subtask_c</th>\n",
              "    </tr>\n",
              "  </thead>\n",
              "  <tbody>\n",
              "    <tr>\n",
              "      <th>0</th>\n",
              "      <td>15923</td>\n",
              "      <td>#WhoIsQ #WheresTheServer #DumpNike #DECLASFISA...</td>\n",
              "      <td>OTH</td>\n",
              "    </tr>\n",
              "    <tr>\n",
              "      <th>1</th>\n",
              "      <td>60133</td>\n",
              "      <td>#NoPasaran: Unity demo to oppose the far-right...</td>\n",
              "      <td>GRP</td>\n",
              "    </tr>\n",
              "    <tr>\n",
              "      <th>2</th>\n",
              "      <td>83681</td>\n",
              "      <td>. . . What the fuck did he do this time?</td>\n",
              "      <td>IND</td>\n",
              "    </tr>\n",
              "    <tr>\n",
              "      <th>3</th>\n",
              "      <td>65507</td>\n",
              "      <td>@USER Do you get the feeling he is kissing @US...</td>\n",
              "      <td>OTH</td>\n",
              "    </tr>\n",
              "    <tr>\n",
              "      <th>4</th>\n",
              "      <td>34263</td>\n",
              "      <td>#StopKavanaugh he is liar like the rest of the...</td>\n",
              "      <td>IND</td>\n",
              "    </tr>\n",
              "  </tbody>\n",
              "</table>\n",
              "</div>"
            ],
            "text/plain": [
              "      id                                              tweet subtask_c\n",
              "0  15923  #WhoIsQ #WheresTheServer #DumpNike #DECLASFISA...       OTH\n",
              "1  60133  #NoPasaran: Unity demo to oppose the far-right...       GRP\n",
              "2  83681           . . . What the fuck did he do this time?       IND\n",
              "3  65507  @USER Do you get the feeling he is kissing @US...       OTH\n",
              "4  34263  #StopKavanaugh he is liar like the rest of the...       IND"
            ]
          },
          "metadata": {
            "tags": []
          },
          "execution_count": 8
        }
      ]
    },
    {
      "cell_type": "code",
      "metadata": {
        "id": "ZeI88dPCd3X7",
        "colab": {
          "base_uri": "https://localhost:8080/",
          "height": 289
        },
        "outputId": "1784a58b-fbf1-4067-f9ba-62111b8f4d98"
      },
      "source": [
        "#View the training data set\n",
        "train_df.head()"
      ],
      "execution_count": null,
      "outputs": [
        {
          "output_type": "execute_result",
          "data": {
            "text/html": [
              "<div>\n",
              "<style scoped>\n",
              "    .dataframe tbody tr th:only-of-type {\n",
              "        vertical-align: middle;\n",
              "    }\n",
              "\n",
              "    .dataframe tbody tr th {\n",
              "        vertical-align: top;\n",
              "    }\n",
              "\n",
              "    .dataframe thead th {\n",
              "        text-align: right;\n",
              "    }\n",
              "</style>\n",
              "<table border=\"1\" class=\"dataframe\">\n",
              "  <thead>\n",
              "    <tr style=\"text-align: right;\">\n",
              "      <th></th>\n",
              "      <th>id</th>\n",
              "      <th>tweet</th>\n",
              "      <th>subtask_a</th>\n",
              "      <th>subtask_b</th>\n",
              "      <th>subtask_c</th>\n",
              "    </tr>\n",
              "  </thead>\n",
              "  <tbody>\n",
              "    <tr>\n",
              "      <th>0</th>\n",
              "      <td>86426</td>\n",
              "      <td>@USER She should ask a few native Americans wh...</td>\n",
              "      <td>OFF</td>\n",
              "      <td>UNT</td>\n",
              "      <td>NaN</td>\n",
              "    </tr>\n",
              "    <tr>\n",
              "      <th>1</th>\n",
              "      <td>90194</td>\n",
              "      <td>@USER @USER Go home you’re drunk!!! @USER #MAG...</td>\n",
              "      <td>OFF</td>\n",
              "      <td>TIN</td>\n",
              "      <td>IND</td>\n",
              "    </tr>\n",
              "    <tr>\n",
              "      <th>2</th>\n",
              "      <td>16820</td>\n",
              "      <td>Amazon is investigating Chinese employees who ...</td>\n",
              "      <td>NOT</td>\n",
              "      <td>NaN</td>\n",
              "      <td>NaN</td>\n",
              "    </tr>\n",
              "    <tr>\n",
              "      <th>3</th>\n",
              "      <td>62688</td>\n",
              "      <td>@USER Someone should'veTaken\" this piece of sh...</td>\n",
              "      <td>OFF</td>\n",
              "      <td>UNT</td>\n",
              "      <td>NaN</td>\n",
              "    </tr>\n",
              "    <tr>\n",
              "      <th>4</th>\n",
              "      <td>43605</td>\n",
              "      <td>@USER @USER Obama wanted liberals &amp;amp; illega...</td>\n",
              "      <td>NOT</td>\n",
              "      <td>NaN</td>\n",
              "      <td>NaN</td>\n",
              "    </tr>\n",
              "  </tbody>\n",
              "</table>\n",
              "</div>"
            ],
            "text/plain": [
              "      id                                              tweet  ... subtask_b subtask_c\n",
              "0  86426  @USER She should ask a few native Americans wh...  ...       UNT       NaN\n",
              "1  90194  @USER @USER Go home you’re drunk!!! @USER #MAG...  ...       TIN       IND\n",
              "2  16820  Amazon is investigating Chinese employees who ...  ...       NaN       NaN\n",
              "3  62688  @USER Someone should'veTaken\" this piece of sh...  ...       UNT       NaN\n",
              "4  43605  @USER @USER Obama wanted liberals &amp; illega...  ...       NaN       NaN\n",
              "\n",
              "[5 rows x 5 columns]"
            ]
          },
          "metadata": {
            "tags": []
          },
          "execution_count": 9
        }
      ]
    },
    {
      "cell_type": "markdown",
      "metadata": {
        "id": "uTaW_Vypda5l"
      },
      "source": [
        "## Cleaning the Tweets\n",
        "\n",
        "The training and test data are in 2 separate files, so a function has been written to to tidy the text up and return a column of cleaned tweets\n",
        "\n",
        "* remove URLs, Hashtags, Mentions, Reserved Words (RT, FAV), Emojis\n",
        "* Change text to lowercase \n",
        "* Handle Apostrophe (e.g. aren't -> are not)\n",
        "* Remove punctuations\n",
        "* Remove numbers \n",
        "* Segment the words (fix the spelling) \n",
        "* Lemmatization and Tokenization\n",
        "* Remove Stop Words (with Blacklist and Whitelist words)"
      ]
    },
    {
      "cell_type": "markdown",
      "metadata": {
        "id": "fm3ViTeZeTnB"
      },
      "source": [
        "### Cleaning Function"
      ]
    },
    {
      "cell_type": "code",
      "metadata": {
        "id": "54COcJPGeWXs"
      },
      "source": [
        "#list of contractions to remove later \n",
        "contractions = {\n",
        "\"ain't\": \"am not / are not\",\n",
        "\"aren't\": \"are not / am not\",\n",
        "\"can't\": \"cannot\",\n",
        "\"can't've\": \"cannot have\",\n",
        "\"'cause\": \"because\",\n",
        "\"could've\": \"could have\",\n",
        "\"couldn't\": \"could not\",\n",
        "\"couldn't've\": \"could not have\",\n",
        "\"didn't\": \"did not\",\n",
        "\"doesn't\": \"does not\",\n",
        "\"don't\": \"do not\",\n",
        "\"hadn't\": \"had not\",\n",
        "\"hadn't've\": \"had not have\",\n",
        "\"hasn't\": \"has not\",\n",
        "\"haven't\": \"have not\",\n",
        "\"he'd\": \"he had / he would\",\n",
        "\"he'd've\": \"he would have\",\n",
        "\"he'll\": \"he shall / he will\",\n",
        "\"he'll've\": \"he shall have / he will have\",\n",
        "\"he's\": \"he has / he is\",\n",
        "\"how'd\": \"how did\",\n",
        "\"how'd'y\": \"how do you\",\n",
        "\"how'll\": \"how will\",\n",
        "\"how's\": \"how has / how is\",\n",
        "\"i'd\": \"I had / I would\",\n",
        "\"i'd've\": \"I would have\",\n",
        "\"i'll\": \"I shall / I will\",\n",
        "\"i'll've\": \"I shall have / I will have\",\n",
        "\"i'm\": \"I am\",\n",
        "\"i've\": \"I have\",\n",
        "\"isn't\": \"is not\",\n",
        "\"it'd\": \"it had / it would\",\n",
        "\"it'd've\": \"it would have\",\n",
        "\"it'll\": \"it shall / it will\",\n",
        "\"it'll've\": \"it shall have / it will have\",\n",
        "\"it's\": \"it has / it is\",\n",
        "\"let's\": \"let us\",\n",
        "\"ma'am\": \"madam\",\n",
        "\"mayn't\": \"may not\",\n",
        "\"might've\": \"might have\",\n",
        "\"mightn't\": \"might not\",\n",
        "\"mightn't've\": \"might not have\",\n",
        "\"must've\": \"must have\",\n",
        "\"mustn't\": \"must not\",\n",
        "\"mustn't've\": \"must not have\",\n",
        "\"needn't\": \"need not\",\n",
        "\"needn't've\": \"need not have\",\n",
        "\"o'clock\": \"of the clock\",\n",
        "\"oughtn't\": \"ought not\",\n",
        "\"oughtn't've\": \"ought not have\",\n",
        "\"shan't\": \"shall not\",\n",
        "\"sha'n't\": \"shall not\",\n",
        "\"shan't've\": \"shall not have\",\n",
        "\"she'd\": \"she had / she would\",\n",
        "\"she'd've\": \"she would have\",\n",
        "\"she'll\": \"she shall / she will\",\n",
        "\"she'll've\": \"she shall have / she will have\",\n",
        "\"she's\": \"she has / she is\",\n",
        "\"should've\": \"should have\",\n",
        "\"shouldn't\": \"should not\",\n",
        "\"shouldn't've\": \"should not have\",\n",
        "\"so've\": \"so have\",\n",
        "\"so's\": \"so as / so is\",\n",
        "\"that'd\": \"that would / that had\",\n",
        "\"that'd've\": \"that would have\",\n",
        "\"that's\": \"that has / that is\",\n",
        "\"there'd\": \"there had / there would\",\n",
        "\"there'd've\": \"there would have\",\n",
        "\"there's\": \"there has / there is\",\n",
        "\"they'd\": \"they had / they would\",\n",
        "\"they'd've\": \"they would have\",\n",
        "\"they'll\": \"they shall / they will\",\n",
        "\"they'll've\": \"they shall have / they will have\",\n",
        "\"they're\": \"they are\",\n",
        "\"they've\": \"they have\",\n",
        "\"to've\": \"to have\",\n",
        "\"wasn't\": \"was not\",\n",
        "\"we'd\": \"we had / we would\",\n",
        "\"we'd've\": \"we would have\",\n",
        "\"we'll\": \"we will\",\n",
        "\"we'll've\": \"we will have\",\n",
        "\"we're\": \"we are\",\n",
        "\"we've\": \"we have\",\n",
        "\"weren't\": \"were not\",\n",
        "\"what'll\": \"what shall / what will\",\n",
        "\"what'll've\": \"what shall have / what will have\",\n",
        "\"what're\": \"what are\",\n",
        "\"what's\": \"what has / what is\",\n",
        "\"what've\": \"what have\",\n",
        "\"when's\": \"when has / when is\",\n",
        "\"when've\": \"when have\",\n",
        "\"where'd\": \"where did\",\n",
        "\"where's\": \"where has / where is\",\n",
        "\"where've\": \"where have\",\n",
        "\"who'll\": \"who shall / who will\",\n",
        "\"who'll've\": \"who shall have / who will have\",\n",
        "\"who's\": \"who has / who is\",\n",
        "\"who've\": \"who have\",\n",
        "\"why's\": \"why has / why is\",\n",
        "\"why've\": \"why have\",\n",
        "\"will've\": \"will have\",\n",
        "\"won't\": \"will not\",\n",
        "\"won't've\": \"will not have\",\n",
        "\"would've\": \"would have\",\n",
        "\"wouldn't\": \"would not\",\n",
        "\"wouldn't've\": \"would not have\",\n",
        "\"y'all\": \"you all\",\n",
        "\"y'all'd\": \"you all would\",\n",
        "\"y'all'd've\": \"you all would have\",\n",
        "\"y'all're\": \"you all are\",\n",
        "\"y'all've\": \"you all have\",\n",
        "\"you'd\": \"you had / you would\",\n",
        "\"you'd've\": \"you would have\",\n",
        "\"you'll\": \"you shall / you will\",\n",
        "\"you'll've\": \"you shall have / you will have\",\n",
        "\"you're\": \"you are\",\n",
        "\"you've\": \"you have\"\n",
        "}"
      ],
      "execution_count": null,
      "outputs": []
    },
    {
      "cell_type": "code",
      "metadata": {
        "id": "Cvr-OXQeeaKH",
        "colab": {
          "base_uri": "https://localhost:8080/"
        },
        "outputId": "02bf6111-cd13-40c5-8479-d4bca78b5993"
      },
      "source": [
        "#Setting up SymSpell to segment words\n",
        "sym_spell = SymSpell(max_dictionary_edit_distance=0, prefix_length=7)\n",
        "dictionary_path = pkg_resources.resource_filename(\n",
        "    \"symspellpy\", \"frequency_dictionary_en_82_765.txt\")\n",
        "# term_index is the column of the term and count_index is the column of the term frequency\n",
        "sym_spell.load_dictionary(dictionary_path, term_index=0, count_index=1)\n"
      ],
      "execution_count": null,
      "outputs": [
        {
          "output_type": "execute_result",
          "data": {
            "text/plain": [
              "True"
            ]
          },
          "metadata": {
            "tags": []
          },
          "execution_count": 11
        }
      ]
    },
    {
      "cell_type": "code",
      "metadata": {
        "id": "Lk6oFv1Jeckj"
      },
      "source": [
        "#Setting up Lematizer, Tokenizer\n",
        "lemmatizer = nltk.stem.WordNetLemmatizer()\n",
        "w_tokenizer = TweetTokenizer()"
      ],
      "execution_count": null,
      "outputs": []
    },
    {
      "cell_type": "code",
      "metadata": {
        "id": "BoCnHYA4efft"
      },
      "source": [
        "#Removes specially chosen stop words\n",
        "def cleaner(row, contractions, blacklist, whitelist):\n",
        "  '''\n",
        "  Blacklist: Words that are not in stop words but we will be removing \n",
        "  Whitelist: Words that are in the stop words but we will be keeping\n",
        "  '''\n",
        "  #remove URLs, Hashtags, Mentions, Reserved Words (RT, FAV), Emojis\n",
        "  row = p.clean(row)\n",
        "  #lower the text \n",
        "  row = row.lower()\n",
        "  #Apostrophe Handling\n",
        "  for word in row.split():\n",
        "    if word in contractions: \n",
        "      row = row.replace(word, contractions[word.lower()])\n",
        "  #remove punctuations\n",
        "  row  = \"\".join([char for char in row if char not in string.punctuation])\n",
        "  row = re.sub('[0-9]+', '', row, flags=re.MULTILINE)\n",
        "  #remove numbers \n",
        "  row = re.sub(r'\\d+', '', row, flags=re.MULTILINE)\n",
        "  #Segment the words \n",
        "  try:\n",
        "    row = (sym_spell.word_segmentation(row)).corrected_string\n",
        "  except: \n",
        "    pass\n",
        "  #Lemmatization and Tokenization\n",
        "  row = [(lemmatizer.lemmatize(w)) for w in w_tokenizer.tokenize((row))]\n",
        "  #Stopwords \n",
        "  all_stopwords = stopwords.words('english')\n",
        "  all_stopwords.extend(blacklist)\n",
        "  all_stopwords = set(all_stopwords)- set(whitelist)\n",
        "  row = [word for word in row if word not in all_stopwords]\n",
        "  return row"
      ],
      "execution_count": null,
      "outputs": []
    },
    {
      "cell_type": "code",
      "metadata": {
        "id": "XScY5X-0fnbN",
        "colab": {
          "base_uri": "https://localhost:8080/"
        },
        "outputId": "cc704491-58f6-4468-fc2e-0a73cc2d495a"
      },
      "source": [
        "tqdm.pandas()\n",
        "#List of stopwords that want to remove in addition to the ones in stopwords corpus\n",
        "badboy_list = ['url', 'ha']\n",
        "#List of stopwords that we would like to keep \n",
        "goodboy_list = ['i', 'he', 'she', 'it', 'him', 'her', 'we', 'you', 'they', 'us', 'them' ]\n",
        "#Apply modified clean tweet to the training data\n",
        "train_df['clean_tweet'] = train_df['tweet'].progress_apply(lambda x: cleaner(x, contractions, badboy_list, goodboy_list))\n",
        "#Apply modified clean tweet to the test data\n",
        "testc_df['clean_tweet'] = testc_df['tweet'].progress_apply(lambda x: cleaner(x, contractions, badboy_list, goodboy_list))\n",
        "testb_df['clean_tweet'] = testb_df['tweet'].progress_apply(lambda x: cleaner(x, contractions, badboy_list, goodboy_list))\n",
        "testa_df['clean_tweet'] = testa_df['tweet'].progress_apply(lambda x: cleaner(x, contractions, badboy_list, goodboy_list))\n",
        "#Apply modified cleaen tweet to the experimental data \n",
        "experiment_a_df['clean_tweet'] = experiment_a_df['tweet'].progress_apply(lambda x: cleaner(x, contractions, badboy_list, goodboy_list))\n",
        "experiment_b_df['clean_tweet'] = experiment_b_df['tweet'].progress_apply(lambda x: cleaner(x, contractions, badboy_list, goodboy_list))\n",
        "experiment_c_df['clean_tweet'] = experiment_c_df['tweet'].progress_apply(lambda x: cleaner(x, contractions, badboy_list, goodboy_list))"
      ],
      "execution_count": null,
      "outputs": [
        {
          "output_type": "stream",
          "text": [
            "100%|██████████| 13240/13240 [02:06<00:00, 104.49it/s]\n",
            "100%|██████████| 213/213 [00:02<00:00, 97.29it/s] \n",
            "100%|██████████| 240/240 [00:02<00:00, 101.21it/s]\n",
            "100%|██████████| 860/860 [00:08<00:00, 97.06it/s]\n",
            "100%|██████████| 200/200 [00:01<00:00, 170.88it/s]\n",
            "/usr/local/lib/python3.6/dist-packages/ipykernel_launcher.py:13: SettingWithCopyWarning: \n",
            "A value is trying to be set on a copy of a slice from a DataFrame.\n",
            "Try using .loc[row_indexer,col_indexer] = value instead\n",
            "\n",
            "See the caveats in the documentation: https://pandas.pydata.org/pandas-docs/stable/user_guide/indexing.html#returning-a-view-versus-a-copy\n",
            "  del sys.path[0]\n",
            "100%|██████████| 200/200 [00:01<00:00, 170.23it/s]\n",
            "/usr/local/lib/python3.6/dist-packages/ipykernel_launcher.py:14: SettingWithCopyWarning: \n",
            "A value is trying to be set on a copy of a slice from a DataFrame.\n",
            "Try using .loc[row_indexer,col_indexer] = value instead\n",
            "\n",
            "See the caveats in the documentation: https://pandas.pydata.org/pandas-docs/stable/user_guide/indexing.html#returning-a-view-versus-a-copy\n",
            "  \n",
            "100%|██████████| 200/200 [00:01<00:00, 170.41it/s]\n",
            "/usr/local/lib/python3.6/dist-packages/ipykernel_launcher.py:15: SettingWithCopyWarning: \n",
            "A value is trying to be set on a copy of a slice from a DataFrame.\n",
            "Try using .loc[row_indexer,col_indexer] = value instead\n",
            "\n",
            "See the caveats in the documentation: https://pandas.pydata.org/pandas-docs/stable/user_guide/indexing.html#returning-a-view-versus-a-copy\n",
            "  from ipykernel import kernelapp as app\n"
          ],
          "name": "stderr"
        }
      ]
    },
    {
      "cell_type": "code",
      "metadata": {
        "id": "MvNGMmcuisqV",
        "colab": {
          "base_uri": "https://localhost:8080/",
          "height": 272
        },
        "outputId": "7a25ebab-7089-463d-a7bb-73d5ae773939"
      },
      "source": [
        "experiment_a_df.head()"
      ],
      "execution_count": null,
      "outputs": [
        {
          "output_type": "execute_result",
          "data": {
            "text/html": [
              "<div>\n",
              "<style scoped>\n",
              "    .dataframe tbody tr th:only-of-type {\n",
              "        vertical-align: middle;\n",
              "    }\n",
              "\n",
              "    .dataframe tbody tr th {\n",
              "        vertical-align: top;\n",
              "    }\n",
              "\n",
              "    .dataframe thead th {\n",
              "        text-align: right;\n",
              "    }\n",
              "</style>\n",
              "<table border=\"1\" class=\"dataframe\">\n",
              "  <thead>\n",
              "    <tr style=\"text-align: right;\">\n",
              "      <th></th>\n",
              "      <th>tweet</th>\n",
              "      <th>subtask_a</th>\n",
              "      <th>clean_tweet</th>\n",
              "    </tr>\n",
              "  </thead>\n",
              "  <tbody>\n",
              "    <tr>\n",
              "      <th>0</th>\n",
              "      <td>RT @iSellGreenCards: 1st RT @MsSashaBelle: Sho...</td>\n",
              "      <td>OFF</td>\n",
              "      <td>[st, rt, show, proof, i, sold, pussy, I, shall...</td>\n",
              "    </tr>\n",
              "    <tr>\n",
              "      <th>1</th>\n",
              "      <td>@40oz_VAN IYCMI. I can't get any work done if ...</td>\n",
              "      <td>OFF</td>\n",
              "      <td>[iycmi, i, get, work, done, you, keep, show, b...</td>\n",
              "    </tr>\n",
              "    <tr>\n",
              "      <th>2</th>\n",
              "      <td>&amp;#8220;@lildebo2391: He too rich to let that b...</td>\n",
              "      <td>OFF</td>\n",
              "      <td>[he, rich, let, bitch, get, him, mad, like, ni...</td>\n",
              "    </tr>\n",
              "    <tr>\n",
              "      <th>3</th>\n",
              "      <td>Really Barnicle? OJ or Anthony Weiner? MJ is a...</td>\n",
              "      <td>OFF</td>\n",
              "      <td>[really, barn, i, cleo, j, anthony, we, er, mj...</td>\n",
              "    </tr>\n",
              "    <tr>\n",
              "      <th>4</th>\n",
              "      <td>RT @GabrielaAngela4: That hoe wanta 6/6.</td>\n",
              "      <td>OFF</td>\n",
              "      <td>[hoe, want]</td>\n",
              "    </tr>\n",
              "  </tbody>\n",
              "</table>\n",
              "</div>"
            ],
            "text/plain": [
              "                                               tweet  ...                                        clean_tweet\n",
              "0  RT @iSellGreenCards: 1st RT @MsSashaBelle: Sho...  ...  [st, rt, show, proof, i, sold, pussy, I, shall...\n",
              "1  @40oz_VAN IYCMI. I can't get any work done if ...  ...  [iycmi, i, get, work, done, you, keep, show, b...\n",
              "2  &#8220;@lildebo2391: He too rich to let that b...  ...  [he, rich, let, bitch, get, him, mad, like, ni...\n",
              "3  Really Barnicle? OJ or Anthony Weiner? MJ is a...  ...  [really, barn, i, cleo, j, anthony, we, er, mj...\n",
              "4           RT @GabrielaAngela4: That hoe wanta 6/6.  ...                                        [hoe, want]\n",
              "\n",
              "[5 rows x 3 columns]"
            ]
          },
          "metadata": {
            "tags": []
          },
          "execution_count": 15
        }
      ]
    },
    {
      "cell_type": "code",
      "metadata": {
        "id": "ctOiQsrVlc2L"
      },
      "source": [
        "#Train Dataframe for each of the subsets  \n",
        "train_df_a = train_df.dropna(subset=['subtask_a'])\n",
        "train_df_a = train_df_a.drop(columns = ['subtask_b', 'subtask_c'])\n",
        "train_df_b = train_df.dropna(subset=['subtask_b'])\n",
        "train_df_b = train_df_b.drop(columns = ['subtask_a', 'subtask_c'])\n",
        "train_df_c = train_df.dropna(subset=['subtask_c'])\n",
        "train_df_c = train_df_c.drop(columns = ['subtask_a', 'subtask_b'])\n",
        "experiment_a_df = experiment_a_df.dropna(subset=['subtask_a']) \n",
        "experiment_b_df = experiment_b_df.dropna(subset=['subtask_b'])\n",
        "experiment_c_df = experiment_c_df.dropna(subset=['subtask_c'])"
      ],
      "execution_count": null,
      "outputs": []
    },
    {
      "cell_type": "code",
      "metadata": {
        "id": "MTSjYYDy7Hct",
        "colab": {
          "base_uri": "https://localhost:8080/"
        },
        "outputId": "a55a2092-6a78-4cb4-949f-73b2575f15f2"
      },
      "source": [
        "experiment_a_df['subtask_a'].unique(), experiment_b_df['subtask_b'].unique(), experiment_c_df['subtask_c'].unique()"
      ],
      "execution_count": null,
      "outputs": [
        {
          "output_type": "execute_result",
          "data": {
            "text/plain": [
              "(array(['OFF', 'NOT'], dtype=object),\n",
              " array(['TIN', 'UNT'], dtype=object),\n",
              " array(['IND', 'GRP', 'OTH'], dtype=object))"
            ]
          },
          "metadata": {
            "tags": []
          },
          "execution_count": 17
        }
      ]
    },
    {
      "cell_type": "markdown",
      "metadata": {
        "id": "cITWaysdn0ZX"
      },
      "source": [
        "Key Dataframes "
      ]
    },
    {
      "cell_type": "code",
      "metadata": {
        "id": "jh6oajBwmDHs"
      },
      "source": [
        "#Split the data into X and Y \n",
        "#Split the data into X and Y\n",
        "a_trainX_df = train_df_a['clean_tweet']\n",
        "a_trainY_df = train_df_a['subtask_a'] \n",
        "a_testX_df = testa_df['clean_tweet'] \n",
        "a_testY_df = testa_df['subtask_a'] \n",
        "a_experimentX_df = experiment_a_df['clean_tweet']\n",
        "a_experimentY_df = experiment_a_df['subtask_a']\n",
        "\n",
        "b_trainX_df = train_df_b['clean_tweet']\n",
        "b_trainY_df = train_df_b['subtask_b'] \n",
        "b_testX_df = testb_df['clean_tweet'] \n",
        "b_testY_df = testb_df['subtask_b'] \n",
        "b_experimentX_df = experiment_b_df['clean_tweet']\n",
        "b_experimentY_df = experiment_b_df['subtask_b']\n",
        "\n",
        "\n",
        "c_trainX_df = train_df_c['clean_tweet']\n",
        "c_trainY_df = train_df_c['subtask_c'] \n",
        "c_testX_df = testc_df['clean_tweet'] \n",
        "c_testY_df = testc_df['subtask_c'] \n",
        "c_experimentX_df = experiment_c_df['clean_tweet']\n",
        "c_experimentY_df = experiment_c_df['subtask_c']"
      ],
      "execution_count": null,
      "outputs": []
    },
    {
      "cell_type": "markdown",
      "metadata": {
        "id": "JtwVdlLgkoFX"
      },
      "source": [
        "## Vectorizing the Tweets"
      ]
    },
    {
      "cell_type": "code",
      "metadata": {
        "id": "-TRd2L-jyhAX"
      },
      "source": [
        "#Convert list to string\n",
        "train_df['clean_tweet_str'] = train_df['clean_tweet'].apply(lambda x: ' '.join([str(elem) for elem in x]))"
      ],
      "execution_count": null,
      "outputs": []
    },
    {
      "cell_type": "code",
      "metadata": {
        "id": "KmhvozOSomas",
        "colab": {
          "base_uri": "https://localhost:8080/",
          "height": 282
        },
        "outputId": "c4a787b7-4df8-436c-86f3-8713076e9420"
      },
      "source": [
        "# get length of all the messages in the train set\n",
        "seq_len = [len(i.split()) for i in train_df['clean_tweet_str']]\n",
        "pd.Series(seq_len).hist(bins = 30)"
      ],
      "execution_count": null,
      "outputs": [
        {
          "output_type": "execute_result",
          "data": {
            "text/plain": [
              "<matplotlib.axes._subplots.AxesSubplot at 0x7f2d24762198>"
            ]
          },
          "metadata": {
            "tags": []
          },
          "execution_count": 20
        },
        {
          "output_type": "display_data",
          "data": {
            "image/png": "[encoded data removed]",
            "text/plain": [
              "<Figure size 432x288 with 1 Axes>"
            ]
          },
          "metadata": {
            "tags": [],
            "needs_background": "light"
          }
        }
      ]
    },
    {
      "cell_type": "code",
      "metadata": {
        "id": "wpZ60H8tqzXT",
        "colab": {
          "base_uri": "https://localhost:8080/"
        },
        "outputId": "48c87b1d-b00b-4b8a-f5ff-143f555a9781"
      },
      "source": [
        "#Count the number of unique words\n",
        "from collections import Counter\n",
        "results = Counter()\n",
        "train_df['clean_tweet_str'].str.lower().str.split().apply(results.update)\n",
        "print(len(results.keys()))"
      ],
      "execution_count": null,
      "outputs": [
        {
          "output_type": "stream",
          "text": [
            "13828\n"
          ],
          "name": "stdout"
        }
      ]
    },
    {
      "cell_type": "code",
      "metadata": {
        "id": "FPkOec5yqN2H"
      },
      "source": [
        "#Vectorizing the training data\n",
        "#https://stackoverflow.com/questions/45735070/keras-text-preprocessing-saving-tokenizer-object-to-file-for-scoring\n",
        "def vectorizing(trainX_df, testX_df, experiment_dfX, category):\n",
        "  MAX_NUM_WORDS = 13828 # Parameter indicating the number of words we'll put in the dictionary\n",
        "  MAX_SEQUENCE_LENGTH = 40 # Maximum number of words in a sequence\n",
        "  tokenizer = Tokenizer(num_words=MAX_NUM_WORDS)\n",
        "  tokenizer.fit_on_texts(trainX_df)\n",
        "  token_file_name = 'tokenizer_' + category + '.pickle'\n",
        "  with open(token_file_name, 'wb') as handle:\n",
        "    pickle.dump(tokenizer, handle, protocol=pickle.HIGHEST_PROTOCOL)\n",
        "  #Tokenize the training and test data set\n",
        "  trainX_seq = tokenizer.texts_to_sequences(trainX_df)\n",
        "  testX_seq = tokenizer.texts_to_sequences(testX_df)\n",
        "  experimentX_seq = tokenizer.texts_to_sequences(experiment_dfX)\n",
        "\n",
        "  word_index = tokenizer.word_index\n",
        "  print('Found %s unique tokens.' % len(word_index))\n",
        "\n",
        "  #Padding the sequence \n",
        "  trainX_seq_trunc = pad_sequences(trainX_seq, maxlen=MAX_SEQUENCE_LENGTH)\n",
        "  testX_seq_trunc = pad_sequences(testX_seq, maxlen=MAX_SEQUENCE_LENGTH)\n",
        "  experimentX_seq_trunc = pad_sequences(experimentX_seq, maxlen = MAX_SEQUENCE_LENGTH)\n",
        "  return trainX_seq_trunc, testX_seq_trunc, experimentX_seq_trunc, word_index"
      ],
      "execution_count": null,
      "outputs": []
    },
    {
      "cell_type": "code",
      "metadata": {
        "id": "FfVBN7xpYPI_",
        "colab": {
          "base_uri": "https://localhost:8080/"
        },
        "outputId": "35b76ace-5745-4056-b267-cdddd77e8f89"
      },
      "source": [
        "a_trainX_df.head()"
      ],
      "execution_count": null,
      "outputs": [
        {
          "output_type": "execute_result",
          "data": {
            "text/plain": [
              "0                   [she, ask, native, american, take]\n",
              "1                               [go, home, you, drunk]\n",
              "2    [amazon, investigating, chinese, employee, sel...\n",
              "3            [someone, vet, ken, piece, shit, volcano]\n",
              "4    [obama, wanted, liberal, amp, illegals, move, ...\n",
              "Name: clean_tweet, dtype: object"
            ]
          },
          "metadata": {
            "tags": []
          },
          "execution_count": 23
        }
      ]
    },
    {
      "cell_type": "code",
      "metadata": {
        "id": "4D5RGQ3IsTIb",
        "colab": {
          "base_uri": "https://localhost:8080/"
        },
        "outputId": "829c8f89-29e3-41cc-dcd3-3d4a1c4a8b10"
      },
      "source": [
        "#Generate vectorized matrix for A B and C\n",
        "vec_a_trainX_df, vec_a_testX_df, vec_a_exp_df, word_index_a = vectorizing(a_trainX_df, a_testX_df, a_experimentX_df, 'a')\n",
        "vec_b_trainX_df, vec_b_testX_df, vec_b_exp_df, word_index_b = vectorizing(b_trainX_df, b_testX_df, b_experimentX_df,'b')\n",
        "vec_c_trainX_df, vec_c_testX_df, vec_c_exp_df, word_index_c = vectorizing(c_trainX_df, c_testX_df, c_experimentX_df, 'c')"
      ],
      "execution_count": null,
      "outputs": [
        {
          "output_type": "stream",
          "text": [
            "Found 13828 unique tokens.\n",
            "Found 8208 unique tokens.\n",
            "Found 7751 unique tokens.\n"
          ],
          "name": "stdout"
        }
      ]
    },
    {
      "cell_type": "code",
      "metadata": {
        "id": "PPh6Ncw026TP",
        "colab": {
          "base_uri": "https://localhost:8080/"
        },
        "outputId": "51d9be4c-11da-4441-aac0-9ba486725805"
      },
      "source": [
        "a_experimentY_df.unique()"
      ],
      "execution_count": null,
      "outputs": [
        {
          "output_type": "execute_result",
          "data": {
            "text/plain": [
              "array(['OFF', 'NOT'], dtype=object)"
            ]
          },
          "metadata": {
            "tags": []
          },
          "execution_count": 25
        }
      ]
    },
    {
      "cell_type": "code",
      "metadata": {
        "id": "8-sQ8BaHtQSu",
        "colab": {
          "base_uri": "https://localhost:8080/"
        },
        "outputId": "baee46c2-2716-4410-d844-f076b22fb944"
      },
      "source": [
        "#Convert the target classes to categoricial  \n",
        "le = LabelEncoder()\n",
        "ie_a_trainY_df = le.fit_transform(a_trainY_df)\n",
        "print(le.classes_)\n",
        "ie_a_testY_df = le.transform(a_testY_df)\n",
        "ie_a_exp_y_df = le.transform(a_experimentY_df)\n",
        "ie_b_trainY_df = le.fit_transform(b_trainY_df)\n",
        "print(le.classes_)\n",
        "ie_b_testY_df = le.transform(b_testY_df)\n",
        "ie_b_exp_y_df = le.transform(b_experimentY_df)\n",
        "ie_c_trainY_df = le.fit_transform(c_trainY_df)\n",
        "print(le.classes_)\n",
        "ie_c_testY_df = le.transform(c_testY_df)\n",
        "ie_c_exp_y_df = le.transform(c_experimentY_df)\n",
        "\n",
        "#Convert to One Hot Encoding\n",
        "oh_a_trainY_df = to_categorical(ie_a_trainY_df)\n",
        "oh_a_testY_df = to_categorical(ie_a_testY_df)\n",
        "oh_a_exp_y_df = to_categorical(ie_a_exp_y_df)\n",
        "oh_b_trainY_df = to_categorical(ie_b_trainY_df)\n",
        "oh_b_testY_df = to_categorical(ie_b_testY_df)\n",
        "oh_b_exp_y_df = to_categorical(ie_b_exp_y_df)\n",
        "oh_c_trainY_df = to_categorical(ie_c_trainY_df)\n",
        "oh_c_testY_df = to_categorical(ie_c_testY_df)\n",
        "oh_c_exp_y_df = to_categorical(ie_c_exp_y_df)"
      ],
      "execution_count": null,
      "outputs": [
        {
          "output_type": "stream",
          "text": [
            "['NOT' 'OFF']\n",
            "['TIN' 'UNT']\n",
            "['GRP' 'IND' 'OTH']\n"
          ],
          "name": "stdout"
        }
      ]
    },
    {
      "cell_type": "code",
      "metadata": {
        "id": "588ttO7ozm9l",
        "colab": {
          "base_uri": "https://localhost:8080/"
        },
        "outputId": "48c66e81-e963-4d5d-9163-76d1bfe77df6"
      },
      "source": [
        "le.classes_"
      ],
      "execution_count": null,
      "outputs": [
        {
          "output_type": "execute_result",
          "data": {
            "text/plain": [
              "array(['GRP', 'IND', 'OTH'], dtype=object)"
            ]
          },
          "metadata": {
            "tags": []
          },
          "execution_count": 27
        }
      ]
    },
    {
      "cell_type": "code",
      "metadata": {
        "id": "-FdNeElw9VO_",
        "colab": {
          "base_uri": "https://localhost:8080/"
        },
        "outputId": "e9083e83-df72-462c-dbd1-09263c319e12"
      },
      "source": [
        "oh_a_trainY_df.shape,ie_a_trainY_df.shape"
      ],
      "execution_count": null,
      "outputs": [
        {
          "output_type": "execute_result",
          "data": {
            "text/plain": [
              "((13240, 2), (13240,))"
            ]
          },
          "metadata": {
            "tags": []
          },
          "execution_count": 28
        }
      ]
    },
    {
      "cell_type": "markdown",
      "metadata": {
        "id": "8S61zjctvG1s"
      },
      "source": [
        "### Splitting of Validation Data\n",
        "* For one hot encoding\n",
        "* For integer encoding"
      ]
    },
    {
      "cell_type": "code",
      "metadata": {
        "id": "pIJIFBmqTfgG"
      },
      "source": [
        "#Allocate 10% of the training data for validation \n",
        "oh_a_trainX_df, oh_a_validX_df, oh_a_trainY_df, oh_a_validY_df = train_test_split(vec_a_trainX_df, oh_a_trainY_df, test_size = 0.1, random_state = 37)\n",
        "oh_b_trainX_df, oh_b_validX_df, oh_b_trainY_df, oh_b_validY_df = train_test_split(vec_b_trainX_df, oh_b_trainY_df, test_size = 0.1, random_state = 37)\n",
        "oh_c_trainX_df, oh_c_validX_df, oh_c_trainY_df, oh_c_validY_df = train_test_split(vec_c_trainX_df, oh_c_trainY_df, test_size = 0.1, random_state = 37)\n",
        "\n",
        "#For Integer Encoding \n",
        "le_a_trainX_df, le_a_validX_df, le_a_trainY_df, le_a_validY_df = train_test_split(vec_a_trainX_df, ie_a_trainY_df, test_size = 0.1, random_state = 37)\n",
        "le_b_trainX_df, le_b_validX_df, le_b_trainY_df, le_b_validY_df = train_test_split(vec_b_trainX_df, ie_b_trainY_df, test_size = 0.1, random_state = 37)\n",
        "le_c_trainX_df, le_c_validX_df, le_c_trainY_df, le_c_validY_df = train_test_split(vec_c_trainX_df, ie_c_trainY_df, test_size = 0.1, random_state = 37)"
      ],
      "execution_count": null,
      "outputs": []
    },
    {
      "cell_type": "code",
      "metadata": {
        "id": "gdove94p8m8f",
        "colab": {
          "base_uri": "https://localhost:8080/"
        },
        "outputId": "83bff279-1eb9-470e-82a1-2ab5ba5118da"
      },
      "source": [
        "le_a_trainX_df"
      ],
      "execution_count": null,
      "outputs": [
        {
          "output_type": "execute_result",
          "data": {
            "text/plain": [
              "array([[   0,    0,    0, ..., 3382, 4711,  286],\n",
              "       [   0,    0,    0, ...,   68,  130, 4400],\n",
              "       [   0,    0,    0, ...,   37, 1965,  826],\n",
              "       ...,\n",
              "       [   0,    0,    0, ...,  971,   24,    3],\n",
              "       [   0,    0,    0, ..., 4466, 3463,   43],\n",
              "       [   0,    0,    0, ...,    0,   77, 3143]], dtype=int32)"
            ]
          },
          "metadata": {
            "tags": []
          },
          "execution_count": 30
        }
      ]
    },
    {
      "cell_type": "markdown",
      "metadata": {
        "id": "-DDCyHAGcYWR"
      },
      "source": [
        "# GloVe\n",
        "* For Neural Network \n",
        "* For statistical model"
      ]
    },
    {
      "cell_type": "markdown",
      "metadata": {
        "id": "sgIzqJNwedDY"
      },
      "source": [
        "## For STATS Model"
      ]
    },
    {
      "cell_type": "code",
      "metadata": {
        "id": "E-oAfcIcecav"
      },
      "source": [
        "#convert the training data to string\n",
        "a_trainX_str = a_trainX_df.apply(', '.join)\n",
        "a_testX_str = a_testX_df.apply(', ' .join)\n",
        "a_expX_str = a_experimentX_df.apply(',' .join)\n",
        "b_trainX_str = b_trainX_df.apply(', '.join)\n",
        "b_testX_str = b_testX_df.apply(', '.join)\n",
        "b_expX_str = b_experimentX_df.apply(',' .join)\n",
        "c_trainX_str = c_trainX_df.apply(', '.join)\n",
        "c_testX_str = c_testX_df.apply(', '.join)\n",
        "c_expX_str = c_experimentX_df.apply(',' .join)"
      ],
      "execution_count": null,
      "outputs": []
    },
    {
      "cell_type": "code",
      "metadata": {
        "id": "JMT_rdDYhl1y",
        "colab": {
          "base_uri": "https://localhost:8080/"
        },
        "outputId": "cbc190c0-17de-438d-e870-64a8092c7b3b"
      },
      "source": [
        "#Download the embedding transformer \n",
        "## TAKES LONG\n",
        "glove = EmbeddingTransformer('glove-twitter-200')\n"
      ],
      "execution_count": null,
      "outputs": [
        {
          "output_type": "stream",
          "text": [
            "[==================================================] 100.0% 758.5/758.5MB downloaded\n"
          ],
          "name": "stdout"
        }
      ]
    },
    {
      "cell_type": "code",
      "metadata": {
        "id": "ge0etALGhrMJ"
      },
      "source": [
        "#Embed the training data \n",
        "a_trainX_em = glove.transform(a_trainX_str)\n",
        "a_testX_em = glove.transform(a_testX_str)\n",
        "a_expX_em = glove.transform(a_expX_str)\n",
        "b_trainX_em = glove.transform(b_trainX_str)\n",
        "b_testX_em = glove.transform(b_testX_str)\n",
        "b_expX_em = glove.transform(b_expX_str)\n",
        "c_trainX_em = glove.transform(c_trainX_str)\n",
        "c_testX_em = glove.transform(c_testX_str)\n",
        "c_expX_em = glove.transform(c_expX_str)"
      ],
      "execution_count": null,
      "outputs": []
    },
    {
      "cell_type": "code",
      "metadata": {
        "id": "tBmOTQR_lAVQ",
        "colab": {
          "base_uri": "https://localhost:8080/"
        },
        "outputId": "d2cf90ff-b66d-4017-b0e2-33d86d1b395e"
      },
      "source": [
        "b_trainX_em.shape, ie_b_trainY_df.shape, b_testX_df.shape, b_testX_em.shape"
      ],
      "execution_count": null,
      "outputs": [
        {
          "output_type": "execute_result",
          "data": {
            "text/plain": [
              "((4400, 200), (4400,), (240,), (240, 200))"
            ]
          },
          "metadata": {
            "tags": []
          },
          "execution_count": 34
        }
      ]
    },
    {
      "cell_type": "code",
      "metadata": {
        "id": "ECbUoj0aijT6"
      },
      "source": [
        "# Create Validation Split\n",
        "a_trainX_em, a_validX_em, a_trainY_em, a_validY_em = train_test_split(a_trainX_em, ie_a_trainY_df, test_size=0.1, random_state=37)\n",
        "b_trainX_em, b_validX_em, b_trainY_em, b_validY_em = train_test_split(b_trainX_em, ie_b_trainY_df, test_size=0.1, random_state=37)\n",
        "c_trainX_em, c_validX_em, c_trainY_em, c_validY_em = train_test_split(c_trainX_em, ie_c_trainY_df, test_size=0.1, random_state=37)"
      ],
      "execution_count": null,
      "outputs": []
    },
    {
      "cell_type": "markdown",
      "metadata": {
        "id": "W7O351EKweFQ"
      },
      "source": [
        "### Test the Model's Performance "
      ]
    },
    {
      "cell_type": "code",
      "metadata": {
        "id": "FVOLa_hEwgxZ",
        "colab": {
          "base_uri": "https://localhost:8080/",
          "height": 604
        },
        "outputId": "4a469c7e-fe07-4527-dd9b-ffb8f3695eab"
      },
      "source": [
        "# Balanced Weights\n",
        "# LOGISTIC REGRESSION\n",
        "\n",
        "model = LogisticRegression(max_iter=100000, class_weight='balanced', solver='newton-cg')\n",
        "model.fit(a_trainX_em, a_trainY_em)\n",
        "\n",
        "y_pred = model.predict(a_validX_em)\n",
        "\n",
        "evaluate_on_training_set(a_validY_em, y_pred)"
      ],
      "execution_count": null,
      "outputs": [
        {
          "output_type": "stream",
          "text": [
            "AUC is:  0.5877262443438914\n",
            "              precision    recall  f1-score   support\n",
            "\n",
            "           0       0.73      0.65      0.69       884\n",
            "           1       0.43      0.53      0.47       440\n",
            "\n",
            "    accuracy                           0.61      1324\n",
            "   macro avg       0.58      0.59      0.58      1324\n",
            "weighted avg       0.63      0.61      0.62      1324\n",
            "\n",
            "Confusion Matrix: \n",
            " [[575 309]\n",
            " [209 231]]\n"
          ],
          "name": "stdout"
        },
        {
          "output_type": "stream",
          "text": [
            "/usr/local/lib/python3.6/dist-packages/scipy/optimize/linesearch.py:314: LineSearchWarning: The line search algorithm did not converge\n",
            "  warn('The line search algorithm did not converge', LineSearchWarning)\n",
            "/usr/local/lib/python3.6/dist-packages/sklearn/utils/optimize.py:204: UserWarning: Line Search failed\n",
            "  warnings.warn('Line Search failed')\n"
          ],
          "name": "stderr"
        },
        {
          "output_type": "display_data",
          "data": {
            "image/png": "[encoded data removed]",
            "text/plain": [
              "<Figure size 432x288 with 1 Axes>"
            ]
          },
          "metadata": {
            "tags": [],
            "needs_background": "light"
          }
        }
      ]
    },
    {
      "cell_type": "code",
      "metadata": {
        "colab": {
          "base_uri": "https://localhost:8080/",
          "height": 604
        },
        "id": "dW2rsSfzkc2A",
        "outputId": "b3860e2d-53b3-406c-9c2a-25946aaacff9"
      },
      "source": [
        "# Balanced Weights\n",
        "# LOGISTIC REGRESSION\n",
        "\n",
        "model = LogisticRegression(max_iter=100000, class_weight='balanced', solver='newton-cg')\n",
        "model.fit(b_trainX_em, b_trainY_em)\n",
        "\n",
        "y_pred = model.predict(b_validX_em)\n",
        "\n",
        "evaluate_on_training_set(b_validY_em, y_pred)"
      ],
      "execution_count": null,
      "outputs": [
        {
          "output_type": "stream",
          "text": [
            "AUC is:  0.5445797329143756\n",
            "              precision    recall  f1-score   support\n",
            "\n",
            "           0       0.92      0.64      0.76       402\n",
            "           1       0.11      0.45      0.17        38\n",
            "\n",
            "    accuracy                           0.62       440\n",
            "   macro avg       0.52      0.54      0.46       440\n",
            "weighted avg       0.85      0.62      0.71       440\n",
            "\n",
            "Confusion Matrix: \n",
            " [[258 144]\n",
            " [ 21  17]]\n"
          ],
          "name": "stdout"
        },
        {
          "output_type": "stream",
          "text": [
            "/usr/local/lib/python3.6/dist-packages/scipy/optimize/linesearch.py:314: LineSearchWarning: The line search algorithm did not converge\n",
            "  warn('The line search algorithm did not converge', LineSearchWarning)\n",
            "/usr/local/lib/python3.6/dist-packages/sklearn/utils/optimize.py:204: UserWarning: Line Search failed\n",
            "  warnings.warn('Line Search failed')\n"
          ],
          "name": "stderr"
        },
        {
          "output_type": "display_data",
          "data": {
            "image/png": "[encoded data removed]",
            "text/plain": [
              "<Figure size 432x288 with 1 Axes>"
            ]
          },
          "metadata": {
            "tags": [],
            "needs_background": "light"
          }
        }
      ]
    },
    {
      "cell_type": "code",
      "metadata": {
        "colab": {
          "base_uri": "https://localhost:8080/"
        },
        "id": "yMMWqFWin1aw",
        "outputId": "c6217259-9a39-487e-f925-d081709a7767"
      },
      "source": [
        "# Balanced Weights\n",
        "# LOGISTIC REGRESSION\n",
        "from sklearn.metrics import classification_report, confusion_matrix\n",
        "\n",
        "model = LogisticRegression(max_iter=100000, class_weight='balanced', solver='newton-cg', multi_class='ovr')\n",
        "model.fit(c_trainX_em, c_trainY_em)\n",
        "\n",
        "y_pred = model.predict(c_validX_em)\n",
        "\n",
        "classification_report = classification_report(c_validY_em, y_pred)\n",
        "\n",
        "print('\\n Accuracy: ', accuracy_score(c_validY_em, y_pred))\n",
        "print('\\nClassification Report')\n",
        "print('======================================================')\n",
        "print('\\n', classification_report)\n",
        "\n",
        "print(f\"AUC score:{multiclass_roc_auc_score(c_validY_em, y_pred)}\")"
      ],
      "execution_count": null,
      "outputs": [
        {
          "output_type": "stream",
          "text": [
            "/usr/local/lib/python3.6/dist-packages/scipy/optimize/linesearch.py:314: LineSearchWarning: The line search algorithm did not converge\n",
            "  warn('The line search algorithm did not converge', LineSearchWarning)\n",
            "/usr/local/lib/python3.6/dist-packages/sklearn/utils/optimize.py:204: UserWarning: Line Search failed\n",
            "  warnings.warn('Line Search failed')\n"
          ],
          "name": "stderr"
        },
        {
          "output_type": "stream",
          "text": [
            "\n",
            " Accuracy:  0.47164948453608246\n",
            "\n",
            "Classification Report\n",
            "======================================================\n",
            "\n",
            "               precision    recall  f1-score   support\n",
            "\n",
            "           0       0.33      0.38      0.35        97\n",
            "           1       0.75      0.51      0.60       261\n",
            "           2       0.14      0.47      0.22        30\n",
            "\n",
            "    accuracy                           0.47       388\n",
            "   macro avg       0.41      0.45      0.39       388\n",
            "weighted avg       0.59      0.47      0.51       388\n",
            "\n",
            "AUC score:0.5839535211704997\n"
          ],
          "name": "stdout"
        },
        {
          "output_type": "stream",
          "text": [
            "/usr/local/lib/python3.6/dist-packages/scipy/optimize/linesearch.py:314: LineSearchWarning: The line search algorithm did not converge\n",
            "  warn('The line search algorithm did not converge', LineSearchWarning)\n",
            "/usr/local/lib/python3.6/dist-packages/sklearn/utils/optimize.py:204: UserWarning: Line Search failed\n",
            "  warnings.warn('Line Search failed')\n"
          ],
          "name": "stderr"
        }
      ]
    },
    {
      "cell_type": "markdown",
      "metadata": {
        "id": "YAcp7wJBnoip"
      },
      "source": [
        "# Data Cleaning Init"
      ]
    },
    {
      "cell_type": "markdown",
      "metadata": {
        "id": "BbQc8UCbnoi1"
      },
      "source": [
        "## Load the DataFrames"
      ]
    },
    {
      "cell_type": "code",
      "metadata": {
        "id": "FwIiRzhlnoi1"
      },
      "source": [
        "#read the files into their respective dataframes \n",
        "labela_df = pd.read_csv('/content/drive/My Drive/CDS_Project/OLIDv1/labels-levela.csv', header = None)\n",
        "labelb_df = pd.read_csv('/content/drive/My Drive/CDS_Project/OLIDv1/labels-levelb.csv', header = None)\n",
        "labelc_df = pd.read_csv('/content/drive/My Drive/CDS_Project/OLIDv1/labels-levelc.csv', header = None)\n",
        "testa_df = pd.read_csv('/content/drive/My Drive/CDS_Project/OLIDv1/testset-levela.tsv', sep = '\\t')\n",
        "testb_df = pd.read_csv('/content/drive/My Drive/CDS_Project/OLIDv1/testset-levelb.tsv', sep = '\\t')\n",
        "testc_df = pd.read_csv('/content/drive/My Drive/CDS_Project/OLIDv1/testset-levelc.tsv', sep = '\\t')\n",
        "train_df = pd.read_csv('/content/drive/My Drive/CDS_Project/OLIDv1/olid-training-v1.0.tsv', sep = '\\t')\n",
        "experiment_df = pd.read_excel('/content/drive/My Drive/CDS_Project/OLIDv1/Data/PublicData.xlsx')"
      ],
      "execution_count": null,
      "outputs": []
    },
    {
      "cell_type": "code",
      "metadata": {
        "colab": {
          "base_uri": "https://localhost:8080/"
        },
        "id": "KTDA8N3-noi2",
        "outputId": "f7c68b63-597e-4292-87a5-418ec8aa0518"
      },
      "source": [
        "#Clean the experimental labels \n",
        "experiment_df['subtask_a'] = experiment_df['subtask_a'].replace('OFF ', 'OFF')\n",
        "experiment_df['subtask_b'] = experiment_df['subtask_b'].replace('OFF ', 'OFF')\n",
        "experiment_df['subtask_c'] = experiment_df['subtask_c'].replace('OFF ', 'OFF')\n",
        "experiment_df['subtask_a'].unique(),experiment_df['subtask_b'].unique(), experiment_df['subtask_c'].unique() "
      ],
      "execution_count": null,
      "outputs": [
        {
          "output_type": "execute_result",
          "data": {
            "text/plain": [
              "(array(['OFF', 'NOT'], dtype=object),\n",
              " array(['TIN', nan, 'UNT'], dtype=object),\n",
              " array(['IND', 'GRP', 'OTH', nan], dtype=object))"
            ]
          },
          "metadata": {
            "tags": []
          },
          "execution_count": 40
        }
      ]
    },
    {
      "cell_type": "code",
      "metadata": {
        "colab": {
          "base_uri": "https://localhost:8080/",
          "height": 204
        },
        "id": "pjIZVp4vnoi2",
        "outputId": "51542b80-29a8-41c1-c3e4-d3df930c31cc"
      },
      "source": [
        "#Split the experiment data into A, B and C\n",
        "experiment_a_df = experiment_df[['tweet', 'subtask_a']]\n",
        "experiment_b_df = experiment_df[['tweet', 'subtask_b']]\n",
        "experiment_c_df = experiment_df[['tweet', 'subtask_c']]\n",
        "experiment_a_df.head()"
      ],
      "execution_count": null,
      "outputs": [
        {
          "output_type": "execute_result",
          "data": {
            "text/html": [
              "<div>\n",
              "<style scoped>\n",
              "    .dataframe tbody tr th:only-of-type {\n",
              "        vertical-align: middle;\n",
              "    }\n",
              "\n",
              "    .dataframe tbody tr th {\n",
              "        vertical-align: top;\n",
              "    }\n",
              "\n",
              "    .dataframe thead th {\n",
              "        text-align: right;\n",
              "    }\n",
              "</style>\n",
              "<table border=\"1\" class=\"dataframe\">\n",
              "  <thead>\n",
              "    <tr style=\"text-align: right;\">\n",
              "      <th></th>\n",
              "      <th>tweet</th>\n",
              "      <th>subtask_a</th>\n",
              "    </tr>\n",
              "  </thead>\n",
              "  <tbody>\n",
              "    <tr>\n",
              "      <th>0</th>\n",
              "      <td>RT @iSellGreenCards: 1st RT @MsSashaBelle: Sho...</td>\n",
              "      <td>OFF</td>\n",
              "    </tr>\n",
              "    <tr>\n",
              "      <th>1</th>\n",
              "      <td>@40oz_VAN IYCMI. I can't get any work done if ...</td>\n",
              "      <td>OFF</td>\n",
              "    </tr>\n",
              "    <tr>\n",
              "      <th>2</th>\n",
              "      <td>&amp;#8220;@lildebo2391: He too rich to let that b...</td>\n",
              "      <td>OFF</td>\n",
              "    </tr>\n",
              "    <tr>\n",
              "      <th>3</th>\n",
              "      <td>Really Barnicle? OJ or Anthony Weiner? MJ is a...</td>\n",
              "      <td>OFF</td>\n",
              "    </tr>\n",
              "    <tr>\n",
              "      <th>4</th>\n",
              "      <td>RT @GabrielaAngela4: That hoe wanta 6/6.</td>\n",
              "      <td>OFF</td>\n",
              "    </tr>\n",
              "  </tbody>\n",
              "</table>\n",
              "</div>"
            ],
            "text/plain": [
              "                                               tweet subtask_a\n",
              "0  RT @iSellGreenCards: 1st RT @MsSashaBelle: Sho...       OFF\n",
              "1  @40oz_VAN IYCMI. I can't get any work done if ...       OFF\n",
              "2  &#8220;@lildebo2391: He too rich to let that b...       OFF\n",
              "3  Really Barnicle? OJ or Anthony Weiner? MJ is a...       OFF\n",
              "4           RT @GabrielaAngela4: That hoe wanta 6/6.       OFF"
            ]
          },
          "metadata": {
            "tags": []
          },
          "execution_count": 41
        }
      ]
    },
    {
      "cell_type": "code",
      "metadata": {
        "colab": {
          "base_uri": "https://localhost:8080/",
          "height": 204
        },
        "id": "ZcN7Qb9mnoi2",
        "outputId": "e2d33a88-98ec-41d6-ae5a-094c6f2e9485"
      },
      "source": [
        "#Merge the label dataset with the test data set, so only Test data set needed\n",
        "\n",
        "testa_df['subtask_a'] = labela_df[1]\n",
        "testb_df['subtask_b'] = labelb_df[1]\n",
        "testc_df['subtask_c'] = labelc_df[1]\n",
        "testc_df.head()"
      ],
      "execution_count": null,
      "outputs": [
        {
          "output_type": "execute_result",
          "data": {
            "text/html": [
              "<div>\n",
              "<style scoped>\n",
              "    .dataframe tbody tr th:only-of-type {\n",
              "        vertical-align: middle;\n",
              "    }\n",
              "\n",
              "    .dataframe tbody tr th {\n",
              "        vertical-align: top;\n",
              "    }\n",
              "\n",
              "    .dataframe thead th {\n",
              "        text-align: right;\n",
              "    }\n",
              "</style>\n",
              "<table border=\"1\" class=\"dataframe\">\n",
              "  <thead>\n",
              "    <tr style=\"text-align: right;\">\n",
              "      <th></th>\n",
              "      <th>id</th>\n",
              "      <th>tweet</th>\n",
              "      <th>subtask_c</th>\n",
              "    </tr>\n",
              "  </thead>\n",
              "  <tbody>\n",
              "    <tr>\n",
              "      <th>0</th>\n",
              "      <td>15923</td>\n",
              "      <td>#WhoIsQ #WheresTheServer #DumpNike #DECLASFISA...</td>\n",
              "      <td>OTH</td>\n",
              "    </tr>\n",
              "    <tr>\n",
              "      <th>1</th>\n",
              "      <td>60133</td>\n",
              "      <td>#NoPasaran: Unity demo to oppose the far-right...</td>\n",
              "      <td>GRP</td>\n",
              "    </tr>\n",
              "    <tr>\n",
              "      <th>2</th>\n",
              "      <td>83681</td>\n",
              "      <td>. . . What the fuck did he do this time?</td>\n",
              "      <td>IND</td>\n",
              "    </tr>\n",
              "    <tr>\n",
              "      <th>3</th>\n",
              "      <td>65507</td>\n",
              "      <td>@USER Do you get the feeling he is kissing @US...</td>\n",
              "      <td>OTH</td>\n",
              "    </tr>\n",
              "    <tr>\n",
              "      <th>4</th>\n",
              "      <td>34263</td>\n",
              "      <td>#StopKavanaugh he is liar like the rest of the...</td>\n",
              "      <td>IND</td>\n",
              "    </tr>\n",
              "  </tbody>\n",
              "</table>\n",
              "</div>"
            ],
            "text/plain": [
              "      id                                              tweet subtask_c\n",
              "0  15923  #WhoIsQ #WheresTheServer #DumpNike #DECLASFISA...       OTH\n",
              "1  60133  #NoPasaran: Unity demo to oppose the far-right...       GRP\n",
              "2  83681           . . . What the fuck did he do this time?       IND\n",
              "3  65507  @USER Do you get the feeling he is kissing @US...       OTH\n",
              "4  34263  #StopKavanaugh he is liar like the rest of the...       IND"
            ]
          },
          "metadata": {
            "tags": []
          },
          "execution_count": 42
        }
      ]
    },
    {
      "cell_type": "code",
      "metadata": {
        "colab": {
          "base_uri": "https://localhost:8080/",
          "height": 289
        },
        "id": "DIrgWHx2noi3",
        "outputId": "7de3a314-6a26-4634-a699-c1fd3fae9ffe"
      },
      "source": [
        "#View the training data set\n",
        "train_df.head()"
      ],
      "execution_count": null,
      "outputs": [
        {
          "output_type": "execute_result",
          "data": {
            "text/html": [
              "<div>\n",
              "<style scoped>\n",
              "    .dataframe tbody tr th:only-of-type {\n",
              "        vertical-align: middle;\n",
              "    }\n",
              "\n",
              "    .dataframe tbody tr th {\n",
              "        vertical-align: top;\n",
              "    }\n",
              "\n",
              "    .dataframe thead th {\n",
              "        text-align: right;\n",
              "    }\n",
              "</style>\n",
              "<table border=\"1\" class=\"dataframe\">\n",
              "  <thead>\n",
              "    <tr style=\"text-align: right;\">\n",
              "      <th></th>\n",
              "      <th>id</th>\n",
              "      <th>tweet</th>\n",
              "      <th>subtask_a</th>\n",
              "      <th>subtask_b</th>\n",
              "      <th>subtask_c</th>\n",
              "    </tr>\n",
              "  </thead>\n",
              "  <tbody>\n",
              "    <tr>\n",
              "      <th>0</th>\n",
              "      <td>86426</td>\n",
              "      <td>@USER She should ask a few native Americans wh...</td>\n",
              "      <td>OFF</td>\n",
              "      <td>UNT</td>\n",
              "      <td>NaN</td>\n",
              "    </tr>\n",
              "    <tr>\n",
              "      <th>1</th>\n",
              "      <td>90194</td>\n",
              "      <td>@USER @USER Go home you’re drunk!!! @USER #MAG...</td>\n",
              "      <td>OFF</td>\n",
              "      <td>TIN</td>\n",
              "      <td>IND</td>\n",
              "    </tr>\n",
              "    <tr>\n",
              "      <th>2</th>\n",
              "      <td>16820</td>\n",
              "      <td>Amazon is investigating Chinese employees who ...</td>\n",
              "      <td>NOT</td>\n",
              "      <td>NaN</td>\n",
              "      <td>NaN</td>\n",
              "    </tr>\n",
              "    <tr>\n",
              "      <th>3</th>\n",
              "      <td>62688</td>\n",
              "      <td>@USER Someone should'veTaken\" this piece of sh...</td>\n",
              "      <td>OFF</td>\n",
              "      <td>UNT</td>\n",
              "      <td>NaN</td>\n",
              "    </tr>\n",
              "    <tr>\n",
              "      <th>4</th>\n",
              "      <td>43605</td>\n",
              "      <td>@USER @USER Obama wanted liberals &amp;amp; illega...</td>\n",
              "      <td>NOT</td>\n",
              "      <td>NaN</td>\n",
              "      <td>NaN</td>\n",
              "    </tr>\n",
              "  </tbody>\n",
              "</table>\n",
              "</div>"
            ],
            "text/plain": [
              "      id                                              tweet  ... subtask_b subtask_c\n",
              "0  86426  @USER She should ask a few native Americans wh...  ...       UNT       NaN\n",
              "1  90194  @USER @USER Go home you’re drunk!!! @USER #MAG...  ...       TIN       IND\n",
              "2  16820  Amazon is investigating Chinese employees who ...  ...       NaN       NaN\n",
              "3  62688  @USER Someone should'veTaken\" this piece of sh...  ...       UNT       NaN\n",
              "4  43605  @USER @USER Obama wanted liberals &amp; illega...  ...       NaN       NaN\n",
              "\n",
              "[5 rows x 5 columns]"
            ]
          },
          "metadata": {
            "tags": []
          },
          "execution_count": 43
        }
      ]
    },
    {
      "cell_type": "markdown",
      "metadata": {
        "id": "cU_rzL2cnoi3"
      },
      "source": [
        "## Cleaning the Tweets\n",
        "\n",
        "The training and test data are in 2 separate files, so a function has been written to to tidy the text up and return a column of cleaned tweets\n",
        "\n",
        "* remove URLs, Hashtags, Mentions, Reserved Words (RT, FAV), Emojis\n",
        "* Change text to lowercase \n",
        "* Handle Apostrophe (e.g. aren't -> are not)\n",
        "* Remove punctuations\n",
        "* Remove numbers \n",
        "* Segment the words (fix the spelling) \n",
        "* Lemmatization and Tokenization\n",
        "* Remove Stop Words (with Blacklist and Whitelist words)"
      ]
    },
    {
      "cell_type": "markdown",
      "metadata": {
        "id": "g7UYb5LBnoi3"
      },
      "source": [
        "### Cleaning Function"
      ]
    },
    {
      "cell_type": "code",
      "metadata": {
        "id": "jkh7OeDbnoi4"
      },
      "source": [
        "#list of contractions to remove later \n",
        "contractions = {\n",
        "\"ain't\": \"am not / are not\",\n",
        "\"aren't\": \"are not / am not\",\n",
        "\"can't\": \"cannot\",\n",
        "\"can't've\": \"cannot have\",\n",
        "\"'cause\": \"because\",\n",
        "\"could've\": \"could have\",\n",
        "\"couldn't\": \"could not\",\n",
        "\"couldn't've\": \"could not have\",\n",
        "\"didn't\": \"did not\",\n",
        "\"doesn't\": \"does not\",\n",
        "\"don't\": \"do not\",\n",
        "\"hadn't\": \"had not\",\n",
        "\"hadn't've\": \"had not have\",\n",
        "\"hasn't\": \"has not\",\n",
        "\"haven't\": \"have not\",\n",
        "\"he'd\": \"he had / he would\",\n",
        "\"he'd've\": \"he would have\",\n",
        "\"he'll\": \"he shall / he will\",\n",
        "\"he'll've\": \"he shall have / he will have\",\n",
        "\"he's\": \"he has / he is\",\n",
        "\"how'd\": \"how did\",\n",
        "\"how'd'y\": \"how do you\",\n",
        "\"how'll\": \"how will\",\n",
        "\"how's\": \"how has / how is\",\n",
        "\"i'd\": \"I had / I would\",\n",
        "\"i'd've\": \"I would have\",\n",
        "\"i'll\": \"I shall / I will\",\n",
        "\"i'll've\": \"I shall have / I will have\",\n",
        "\"i'm\": \"I am\",\n",
        "\"i've\": \"I have\",\n",
        "\"isn't\": \"is not\",\n",
        "\"it'd\": \"it had / it would\",\n",
        "\"it'd've\": \"it would have\",\n",
        "\"it'll\": \"it shall / it will\",\n",
        "\"it'll've\": \"it shall have / it will have\",\n",
        "\"it's\": \"it has / it is\",\n",
        "\"let's\": \"let us\",\n",
        "\"ma'am\": \"madam\",\n",
        "\"mayn't\": \"may not\",\n",
        "\"might've\": \"might have\",\n",
        "\"mightn't\": \"might not\",\n",
        "\"mightn't've\": \"might not have\",\n",
        "\"must've\": \"must have\",\n",
        "\"mustn't\": \"must not\",\n",
        "\"mustn't've\": \"must not have\",\n",
        "\"needn't\": \"need not\",\n",
        "\"needn't've\": \"need not have\",\n",
        "\"o'clock\": \"of the clock\",\n",
        "\"oughtn't\": \"ought not\",\n",
        "\"oughtn't've\": \"ought not have\",\n",
        "\"shan't\": \"shall not\",\n",
        "\"sha'n't\": \"shall not\",\n",
        "\"shan't've\": \"shall not have\",\n",
        "\"she'd\": \"she had / she would\",\n",
        "\"she'd've\": \"she would have\",\n",
        "\"she'll\": \"she shall / she will\",\n",
        "\"she'll've\": \"she shall have / she will have\",\n",
        "\"she's\": \"she has / she is\",\n",
        "\"should've\": \"should have\",\n",
        "\"shouldn't\": \"should not\",\n",
        "\"shouldn't've\": \"should not have\",\n",
        "\"so've\": \"so have\",\n",
        "\"so's\": \"so as / so is\",\n",
        "\"that'd\": \"that would / that had\",\n",
        "\"that'd've\": \"that would have\",\n",
        "\"that's\": \"that has / that is\",\n",
        "\"there'd\": \"there had / there would\",\n",
        "\"there'd've\": \"there would have\",\n",
        "\"there's\": \"there has / there is\",\n",
        "\"they'd\": \"they had / they would\",\n",
        "\"they'd've\": \"they would have\",\n",
        "\"they'll\": \"they shall / they will\",\n",
        "\"they'll've\": \"they shall have / they will have\",\n",
        "\"they're\": \"they are\",\n",
        "\"they've\": \"they have\",\n",
        "\"to've\": \"to have\",\n",
        "\"wasn't\": \"was not\",\n",
        "\"we'd\": \"we had / we would\",\n",
        "\"we'd've\": \"we would have\",\n",
        "\"we'll\": \"we will\",\n",
        "\"we'll've\": \"we will have\",\n",
        "\"we're\": \"we are\",\n",
        "\"we've\": \"we have\",\n",
        "\"weren't\": \"were not\",\n",
        "\"what'll\": \"what shall / what will\",\n",
        "\"what'll've\": \"what shall have / what will have\",\n",
        "\"what're\": \"what are\",\n",
        "\"what's\": \"what has / what is\",\n",
        "\"what've\": \"what have\",\n",
        "\"when's\": \"when has / when is\",\n",
        "\"when've\": \"when have\",\n",
        "\"where'd\": \"where did\",\n",
        "\"where's\": \"where has / where is\",\n",
        "\"where've\": \"where have\",\n",
        "\"who'll\": \"who shall / who will\",\n",
        "\"who'll've\": \"who shall have / who will have\",\n",
        "\"who's\": \"who has / who is\",\n",
        "\"who've\": \"who have\",\n",
        "\"why's\": \"why has / why is\",\n",
        "\"why've\": \"why have\",\n",
        "\"will've\": \"will have\",\n",
        "\"won't\": \"will not\",\n",
        "\"won't've\": \"will not have\",\n",
        "\"would've\": \"would have\",\n",
        "\"wouldn't\": \"would not\",\n",
        "\"wouldn't've\": \"would not have\",\n",
        "\"y'all\": \"you all\",\n",
        "\"y'all'd\": \"you all would\",\n",
        "\"y'all'd've\": \"you all would have\",\n",
        "\"y'all're\": \"you all are\",\n",
        "\"y'all've\": \"you all have\",\n",
        "\"you'd\": \"you had / you would\",\n",
        "\"you'd've\": \"you would have\",\n",
        "\"you'll\": \"you shall / you will\",\n",
        "\"you'll've\": \"you shall have / you will have\",\n",
        "\"you're\": \"you are\",\n",
        "\"you've\": \"you have\"\n",
        "}"
      ],
      "execution_count": null,
      "outputs": []
    },
    {
      "cell_type": "code",
      "metadata": {
        "colab": {
          "base_uri": "https://localhost:8080/"
        },
        "id": "cLVqWmLwnoi4",
        "outputId": "ea8afab5-90e0-42dc-fec2-4477e2dad446"
      },
      "source": [
        "#Setting up SymSpell to segment words\n",
        "sym_spell = SymSpell(max_dictionary_edit_distance=0, prefix_length=7)\n",
        "dictionary_path = pkg_resources.resource_filename(\n",
        "    \"symspellpy\", \"frequency_dictionary_en_82_765.txt\")\n",
        "# term_index is the column of the term and count_index is the column of the term frequency\n",
        "sym_spell.load_dictionary(dictionary_path, term_index=0, count_index=1)\n"
      ],
      "execution_count": null,
      "outputs": [
        {
          "output_type": "execute_result",
          "data": {
            "text/plain": [
              "True"
            ]
          },
          "metadata": {
            "tags": []
          },
          "execution_count": 45
        }
      ]
    },
    {
      "cell_type": "code",
      "metadata": {
        "id": "M0TSaOKbnoi4"
      },
      "source": [
        "#Setting up Lematizer, Tokenizer\n",
        "lemmatizer = nltk.stem.WordNetLemmatizer()\n",
        "w_tokenizer = TweetTokenizer()"
      ],
      "execution_count": null,
      "outputs": []
    },
    {
      "cell_type": "code",
      "metadata": {
        "id": "57PAn_i3noi5"
      },
      "source": [
        "#Removes specially chosen stop words\n",
        "def cleaner(row, contractions, blacklist, whitelist):\n",
        "  '''\n",
        "  Blacklist: Words that are not in stop words but we will be removing \n",
        "  Whitelist: Words that are in the stop words but we will be keeping\n",
        "  '''\n",
        "  #remove URLs, Hashtags, Mentions, Reserved Words (RT, FAV), Emojis\n",
        "  row = p.clean(row)\n",
        "  #lower the text \n",
        "  row = row.lower()\n",
        "  #Apostrophe Handling\n",
        "  for word in row.split():\n",
        "    if word in contractions: \n",
        "      row = row.replace(word, contractions[word.lower()])\n",
        "  #remove punctuations\n",
        "  row  = \"\".join([char for char in row if char not in string.punctuation])\n",
        "  row = re.sub('[0-9]+', '', row, flags=re.MULTILINE)\n",
        "  #remove numbers \n",
        "  row = re.sub(r'\\d+', '', row, flags=re.MULTILINE)\n",
        "  #Segment the words \n",
        "  try:\n",
        "    row = (sym_spell.word_segmentation(row)).corrected_string\n",
        "  except: \n",
        "    pass\n",
        "  #Lemmatization and Tokenization\n",
        "  row = [(lemmatizer.lemmatize(w)) for w in w_tokenizer.tokenize((row))]\n",
        "  #Stopwords \n",
        "  all_stopwords = stopwords.words('english')\n",
        "  all_stopwords.extend(blacklist)\n",
        "  all_stopwords = set(all_stopwords)- set(whitelist)\n",
        "  row = [word for word in row if word not in all_stopwords]\n",
        "  return row"
      ],
      "execution_count": null,
      "outputs": []
    },
    {
      "cell_type": "code",
      "metadata": {
        "colab": {
          "base_uri": "https://localhost:8080/"
        },
        "id": "BhrEP_3Wnoi5",
        "outputId": "b0d8fec9-857b-450a-ac85-7f9c6da51098"
      },
      "source": [
        "tqdm.pandas()\n",
        "#List of stopwords that want to remove in addition to the ones in stopwords corpus\n",
        "badboy_list = []\n",
        "#List of stopwords that we would like to keep \n",
        "goodboy_list = [ ]\n",
        "#Apply modified clean tweet to the training data\n",
        "train_df['clean_tweet'] = train_df['tweet'].progress_apply(lambda x: cleaner(x, contractions, badboy_list, goodboy_list))\n",
        "#Apply modified clean tweet to the test data\n",
        "testc_df['clean_tweet'] = testc_df['tweet'].progress_apply(lambda x: cleaner(x, contractions, badboy_list, goodboy_list))\n",
        "testb_df['clean_tweet'] = testb_df['tweet'].progress_apply(lambda x: cleaner(x, contractions, badboy_list, goodboy_list))\n",
        "testa_df['clean_tweet'] = testa_df['tweet'].progress_apply(lambda x: cleaner(x, contractions, badboy_list, goodboy_list))\n",
        "#Apply modified cleaen tweet to the experimental data \n",
        "experiment_a_df['clean_tweet'] = experiment_a_df['tweet'].progress_apply(lambda x: cleaner(x, contractions, badboy_list, goodboy_list))\n",
        "experiment_b_df['clean_tweet'] = experiment_b_df['tweet'].progress_apply(lambda x: cleaner(x, contractions, badboy_list, goodboy_list))\n",
        "experiment_c_df['clean_tweet'] = experiment_c_df['tweet'].progress_apply(lambda x: cleaner(x, contractions, badboy_list, goodboy_list))"
      ],
      "execution_count": null,
      "outputs": [
        {
          "output_type": "stream",
          "text": [
            "100%|██████████| 13240/13240 [01:57<00:00, 112.74it/s]\n",
            "100%|██████████| 213/213 [00:02<00:00, 101.64it/s]\n",
            "100%|██████████| 240/240 [00:02<00:00, 107.23it/s]\n",
            "100%|██████████| 860/860 [00:08<00:00, 104.37it/s]\n",
            "100%|██████████| 200/200 [00:01<00:00, 180.10it/s]\n",
            "/usr/local/lib/python3.6/dist-packages/ipykernel_launcher.py:13: SettingWithCopyWarning: \n",
            "A value is trying to be set on a copy of a slice from a DataFrame.\n",
            "Try using .loc[row_indexer,col_indexer] = value instead\n",
            "\n",
            "See the caveats in the documentation: https://pandas.pydata.org/pandas-docs/stable/user_guide/indexing.html#returning-a-view-versus-a-copy\n",
            "  del sys.path[0]\n",
            "100%|██████████| 200/200 [00:01<00:00, 181.12it/s]\n",
            "/usr/local/lib/python3.6/dist-packages/ipykernel_launcher.py:14: SettingWithCopyWarning: \n",
            "A value is trying to be set on a copy of a slice from a DataFrame.\n",
            "Try using .loc[row_indexer,col_indexer] = value instead\n",
            "\n",
            "See the caveats in the documentation: https://pandas.pydata.org/pandas-docs/stable/user_guide/indexing.html#returning-a-view-versus-a-copy\n",
            "  \n",
            "100%|██████████| 200/200 [00:01<00:00, 181.02it/s]\n",
            "/usr/local/lib/python3.6/dist-packages/ipykernel_launcher.py:15: SettingWithCopyWarning: \n",
            "A value is trying to be set on a copy of a slice from a DataFrame.\n",
            "Try using .loc[row_indexer,col_indexer] = value instead\n",
            "\n",
            "See the caveats in the documentation: https://pandas.pydata.org/pandas-docs/stable/user_guide/indexing.html#returning-a-view-versus-a-copy\n",
            "  from ipykernel import kernelapp as app\n"
          ],
          "name": "stderr"
        }
      ]
    },
    {
      "cell_type": "code",
      "metadata": {
        "colab": {
          "base_uri": "https://localhost:8080/",
          "height": 272
        },
        "id": "swd-8eMJnoi5",
        "outputId": "f9455f30-51f0-485c-c42c-17e276e130e9"
      },
      "source": [
        "experiment_a_df.head()"
      ],
      "execution_count": null,
      "outputs": [
        {
          "output_type": "execute_result",
          "data": {
            "text/html": [
              "<div>\n",
              "<style scoped>\n",
              "    .dataframe tbody tr th:only-of-type {\n",
              "        vertical-align: middle;\n",
              "    }\n",
              "\n",
              "    .dataframe tbody tr th {\n",
              "        vertical-align: top;\n",
              "    }\n",
              "\n",
              "    .dataframe thead th {\n",
              "        text-align: right;\n",
              "    }\n",
              "</style>\n",
              "<table border=\"1\" class=\"dataframe\">\n",
              "  <thead>\n",
              "    <tr style=\"text-align: right;\">\n",
              "      <th></th>\n",
              "      <th>tweet</th>\n",
              "      <th>subtask_a</th>\n",
              "      <th>clean_tweet</th>\n",
              "    </tr>\n",
              "  </thead>\n",
              "  <tbody>\n",
              "    <tr>\n",
              "      <th>0</th>\n",
              "      <td>RT @iSellGreenCards: 1st RT @MsSashaBelle: Sho...</td>\n",
              "      <td>OFF</td>\n",
              "      <td>[st, rt, show, proof, sold, pussy, I, shall, I...</td>\n",
              "    </tr>\n",
              "    <tr>\n",
              "      <th>1</th>\n",
              "      <td>@40oz_VAN IYCMI. I can't get any work done if ...</td>\n",
              "      <td>OFF</td>\n",
              "      <td>[iycmi, get, work, done, keep, show, bitch]</td>\n",
              "    </tr>\n",
              "    <tr>\n",
              "      <th>2</th>\n",
              "      <td>&amp;#8220;@lildebo2391: He too rich to let that b...</td>\n",
              "      <td>OFF</td>\n",
              "      <td>[rich, let, bitch, get, mad, like, nigga, think]</td>\n",
              "    </tr>\n",
              "    <tr>\n",
              "      <th>3</th>\n",
              "      <td>Really Barnicle? OJ or Anthony Weiner? MJ is a...</td>\n",
              "      <td>OFF</td>\n",
              "      <td>[really, barn, cleo, j, anthony, er, mj, clown...</td>\n",
              "    </tr>\n",
              "    <tr>\n",
              "      <th>4</th>\n",
              "      <td>RT @GabrielaAngela4: That hoe wanta 6/6.</td>\n",
              "      <td>OFF</td>\n",
              "      <td>[hoe, want]</td>\n",
              "    </tr>\n",
              "  </tbody>\n",
              "</table>\n",
              "</div>"
            ],
            "text/plain": [
              "                                               tweet  ...                                        clean_tweet\n",
              "0  RT @iSellGreenCards: 1st RT @MsSashaBelle: Sho...  ...  [st, rt, show, proof, sold, pussy, I, shall, I...\n",
              "1  @40oz_VAN IYCMI. I can't get any work done if ...  ...        [iycmi, get, work, done, keep, show, bitch]\n",
              "2  &#8220;@lildebo2391: He too rich to let that b...  ...   [rich, let, bitch, get, mad, like, nigga, think]\n",
              "3  Really Barnicle? OJ or Anthony Weiner? MJ is a...  ...  [really, barn, cleo, j, anthony, er, mj, clown...\n",
              "4           RT @GabrielaAngela4: That hoe wanta 6/6.  ...                                        [hoe, want]\n",
              "\n",
              "[5 rows x 3 columns]"
            ]
          },
          "metadata": {
            "tags": []
          },
          "execution_count": 49
        }
      ]
    },
    {
      "cell_type": "code",
      "metadata": {
        "id": "aaXcAycenoi5"
      },
      "source": [
        "#Train Dataframe for each of the subsets  \n",
        "train_df_a = train_df.dropna(subset=['subtask_a'])\n",
        "train_df_a = train_df_a.drop(columns = ['subtask_b', 'subtask_c'])\n",
        "train_df_b = train_df.dropna(subset=['subtask_b'])\n",
        "train_df_b = train_df_b.drop(columns = ['subtask_a', 'subtask_c'])\n",
        "train_df_c = train_df.dropna(subset=['subtask_c'])\n",
        "train_df_c = train_df_c.drop(columns = ['subtask_a', 'subtask_b'])\n",
        "experiment_a_df = experiment_a_df.dropna(subset=['subtask_a']) \n",
        "experiment_b_df = experiment_b_df.dropna(subset=['subtask_b'])\n",
        "experiment_c_df = experiment_c_df.dropna(subset=['subtask_c'])"
      ],
      "execution_count": null,
      "outputs": []
    },
    {
      "cell_type": "code",
      "metadata": {
        "colab": {
          "base_uri": "https://localhost:8080/"
        },
        "id": "Xi20z-UYnoi5",
        "outputId": "1a42d94c-9336-402f-f2b7-0cb314f4b86c"
      },
      "source": [
        "experiment_a_df['subtask_a'].unique(), experiment_b_df['subtask_b'].unique(), experiment_c_df['subtask_c'].unique()"
      ],
      "execution_count": null,
      "outputs": [
        {
          "output_type": "execute_result",
          "data": {
            "text/plain": [
              "(array(['OFF', 'NOT'], dtype=object),\n",
              " array(['TIN', 'UNT'], dtype=object),\n",
              " array(['IND', 'GRP', 'OTH'], dtype=object))"
            ]
          },
          "metadata": {
            "tags": []
          },
          "execution_count": 51
        }
      ]
    },
    {
      "cell_type": "markdown",
      "metadata": {
        "id": "sa_mkqr9noi6"
      },
      "source": [
        "Key Dataframes "
      ]
    },
    {
      "cell_type": "code",
      "metadata": {
        "id": "BvPwjnZpnoi6"
      },
      "source": [
        "#Split the data into X and Y \n",
        "#Split the data into X and Y\n",
        "a_trainX_df = train_df_a['clean_tweet']\n",
        "a_trainY_df = train_df_a['subtask_a'] \n",
        "a_testX_df = testa_df['clean_tweet'] \n",
        "a_testY_df = testa_df['subtask_a'] \n",
        "a_experimentX_df = experiment_a_df['clean_tweet']\n",
        "a_experimentY_df = experiment_a_df['subtask_a']\n",
        "\n",
        "b_trainX_df = train_df_b['clean_tweet']\n",
        "b_trainY_df = train_df_b['subtask_b'] \n",
        "b_testX_df = testb_df['clean_tweet'] \n",
        "b_testY_df = testb_df['subtask_b'] \n",
        "b_experimentX_df = experiment_b_df['clean_tweet']\n",
        "b_experimentY_df = experiment_b_df['subtask_b']\n",
        "\n",
        "\n",
        "c_trainX_df = train_df_c['clean_tweet']\n",
        "c_trainY_df = train_df_c['subtask_c'] \n",
        "c_testX_df = testc_df['clean_tweet'] \n",
        "c_testY_df = testc_df['subtask_c'] \n",
        "c_experimentX_df = experiment_c_df['clean_tweet']\n",
        "c_experimentY_df = experiment_c_df['subtask_c']"
      ],
      "execution_count": null,
      "outputs": []
    },
    {
      "cell_type": "markdown",
      "metadata": {
        "id": "x190sRO2noi6"
      },
      "source": [
        "## Vectorizing the Tweets"
      ]
    },
    {
      "cell_type": "code",
      "metadata": {
        "id": "1XIOT0rinoi6"
      },
      "source": [
        "#Convert list to string\n",
        "train_df['clean_tweet_str'] = train_df['clean_tweet'].apply(lambda x: ' '.join([str(elem) for elem in x]))"
      ],
      "execution_count": null,
      "outputs": []
    },
    {
      "cell_type": "code",
      "metadata": {
        "colab": {
          "base_uri": "https://localhost:8080/",
          "height": 282
        },
        "id": "pg9IKRZenoi6",
        "outputId": "71d627a6-8892-4ca2-bf8d-d9f466bb0bf0"
      },
      "source": [
        "# get length of all the messages in the train set\n",
        "seq_len = [len(i.split()) for i in train_df['clean_tweet_str']]\n",
        "pd.Series(seq_len).hist(bins = 30)"
      ],
      "execution_count": null,
      "outputs": [
        {
          "output_type": "execute_result",
          "data": {
            "text/plain": [
              "<matplotlib.axes._subplots.AxesSubplot at 0x7f2d247799b0>"
            ]
          },
          "metadata": {
            "tags": []
          },
          "execution_count": 54
        },
        {
          "output_type": "display_data",
          "data": {
            "image/png": "[encoded data removed]",
            "text/plain": [
              "<Figure size 432x288 with 1 Axes>"
            ]
          },
          "metadata": {
            "tags": [],
            "needs_background": "light"
          }
        }
      ]
    },
    {
      "cell_type": "code",
      "metadata": {
        "colab": {
          "base_uri": "https://localhost:8080/"
        },
        "id": "wYi8X7Y6noi6",
        "outputId": "0b3c1b9d-0563-4846-8136-22ed0bbfffdb"
      },
      "source": [
        "#Count the number of unique words\n",
        "from collections import Counter\n",
        "results = Counter()\n",
        "train_df['clean_tweet_str'].str.lower().str.split().apply(results.update)\n",
        "print(len(results.keys()))"
      ],
      "execution_count": null,
      "outputs": [
        {
          "output_type": "stream",
          "text": [
            "13821\n"
          ],
          "name": "stdout"
        }
      ]
    },
    {
      "cell_type": "code",
      "metadata": {
        "id": "6ukWmSmDnoi7"
      },
      "source": [
        "#Vectorizing the training data\n",
        "#https://stackoverflow.com/questions/45735070/keras-text-preprocessing-saving-tokenizer-object-to-file-for-scoring\n",
        "def vectorizing(trainX_df, testX_df, experiment_dfX, category):\n",
        "  MAX_NUM_WORDS = 13828 # Parameter indicating the number of words we'll put in the dictionary\n",
        "  MAX_SEQUENCE_LENGTH = 40 # Maximum number of words in a sequence\n",
        "  tokenizer = Tokenizer(num_words=MAX_NUM_WORDS)\n",
        "  tokenizer.fit_on_texts(trainX_df)\n",
        "  token_file_name = 'tokenizer_' + category + '.pickle'\n",
        "  with open(token_file_name, 'wb') as handle:\n",
        "    pickle.dump(tokenizer, handle, protocol=pickle.HIGHEST_PROTOCOL)\n",
        "  #Tokenize the training and test data set\n",
        "  trainX_seq = tokenizer.texts_to_sequences(trainX_df)\n",
        "  testX_seq = tokenizer.texts_to_sequences(testX_df)\n",
        "  experimentX_seq = tokenizer.texts_to_sequences(experiment_dfX)\n",
        "\n",
        "  word_index = tokenizer.word_index\n",
        "  print('Found %s unique tokens.' % len(word_index))\n",
        "\n",
        "  #Padding the sequence \n",
        "  trainX_seq_trunc = pad_sequences(trainX_seq, maxlen=MAX_SEQUENCE_LENGTH)\n",
        "  testX_seq_trunc = pad_sequences(testX_seq, maxlen=MAX_SEQUENCE_LENGTH)\n",
        "  experimentX_seq_trunc = pad_sequences(experimentX_seq, maxlen = MAX_SEQUENCE_LENGTH)\n",
        "  return trainX_seq_trunc, testX_seq_trunc, experimentX_seq_trunc, word_index"
      ],
      "execution_count": null,
      "outputs": []
    },
    {
      "cell_type": "code",
      "metadata": {
        "colab": {
          "base_uri": "https://localhost:8080/"
        },
        "id": "ty5VZwOznoi7",
        "outputId": "92ac68ff-61f2-4d98-d4f3-1a9b5bee7631"
      },
      "source": [
        "a_trainX_df.head()"
      ],
      "execution_count": null,
      "outputs": [
        {
          "output_type": "execute_result",
          "data": {
            "text/plain": [
              "0                        [ask, native, american, take]\n",
              "1                               [go, home, drunk, url]\n",
              "2    [amazon, investigating, chinese, employee, sel...\n",
              "3            [someone, vet, ken, piece, shit, volcano]\n",
              "4    [obama, wanted, liberal, amp, illegals, move, ...\n",
              "Name: clean_tweet, dtype: object"
            ]
          },
          "metadata": {
            "tags": []
          },
          "execution_count": 57
        }
      ]
    },
    {
      "cell_type": "code",
      "metadata": {
        "colab": {
          "base_uri": "https://localhost:8080/"
        },
        "id": "lpNVXz10noi7",
        "outputId": "f586e953-050c-40dd-edb7-dbf5ed3c11b4"
      },
      "source": [
        "#Generate vectorized matrix for A B and C\n",
        "vec_a_trainX_df, vec_a_testX_df, vec_a_exp_df, word_index_a = vectorizing(a_trainX_df, a_testX_df, a_experimentX_df, 'a')\n",
        "vec_b_trainX_df, vec_b_testX_df, vec_b_exp_df, word_index_b = vectorizing(b_trainX_df, b_testX_df, b_experimentX_df,'b')\n",
        "vec_c_trainX_df, vec_c_testX_df, vec_c_exp_df, word_index_c = vectorizing(c_trainX_df, c_testX_df, c_experimentX_df, 'c')"
      ],
      "execution_count": null,
      "outputs": [
        {
          "output_type": "stream",
          "text": [
            "Found 13821 unique tokens.\n",
            "Found 8201 unique tokens.\n",
            "Found 7744 unique tokens.\n"
          ],
          "name": "stdout"
        }
      ]
    },
    {
      "cell_type": "code",
      "metadata": {
        "colab": {
          "base_uri": "https://localhost:8080/"
        },
        "id": "XypS7sVenoi7",
        "outputId": "54de6a09-5d44-4bc0-8702-88ead003b79b"
      },
      "source": [
        "a_experimentY_df.unique()"
      ],
      "execution_count": null,
      "outputs": [
        {
          "output_type": "execute_result",
          "data": {
            "text/plain": [
              "array(['OFF', 'NOT'], dtype=object)"
            ]
          },
          "metadata": {
            "tags": []
          },
          "execution_count": 59
        }
      ]
    },
    {
      "cell_type": "code",
      "metadata": {
        "colab": {
          "base_uri": "https://localhost:8080/"
        },
        "id": "DwAup7KGnoi7",
        "outputId": "7c47e93f-060c-4a26-8a3c-67342b873189"
      },
      "source": [
        "#Convert the target classes to categoricial  \n",
        "le = LabelEncoder()\n",
        "ie_a_trainY_df = le.fit_transform(a_trainY_df)\n",
        "print(le.classes_)\n",
        "ie_a_testY_df = le.transform(a_testY_df)\n",
        "ie_a_exp_y_df = le.transform(a_experimentY_df)\n",
        "ie_b_trainY_df = le.fit_transform(b_trainY_df)\n",
        "print(le.classes_)\n",
        "ie_b_testY_df = le.transform(b_testY_df)\n",
        "ie_b_exp_y_df = le.transform(b_experimentY_df)\n",
        "ie_c_trainY_df = le.fit_transform(c_trainY_df)\n",
        "print(le.classes_)\n",
        "ie_c_testY_df = le.transform(c_testY_df)\n",
        "ie_c_exp_y_df = le.transform(c_experimentY_df)\n",
        "\n",
        "#Convert to One Hot Encoding\n",
        "oh_a_trainY_df = to_categorical(ie_a_trainY_df)\n",
        "oh_a_testY_df = to_categorical(ie_a_testY_df)\n",
        "oh_a_exp_y_df = to_categorical(ie_a_exp_y_df)\n",
        "oh_b_trainY_df = to_categorical(ie_b_trainY_df)\n",
        "oh_b_testY_df = to_categorical(ie_b_testY_df)\n",
        "oh_b_exp_y_df = to_categorical(ie_b_exp_y_df)\n",
        "oh_c_trainY_df = to_categorical(ie_c_trainY_df)\n",
        "oh_c_testY_df = to_categorical(ie_c_testY_df)\n",
        "oh_c_exp_y_df = to_categorical(ie_c_exp_y_df)"
      ],
      "execution_count": null,
      "outputs": [
        {
          "output_type": "stream",
          "text": [
            "['NOT' 'OFF']\n",
            "['TIN' 'UNT']\n",
            "['GRP' 'IND' 'OTH']\n"
          ],
          "name": "stdout"
        }
      ]
    },
    {
      "cell_type": "code",
      "metadata": {
        "colab": {
          "base_uri": "https://localhost:8080/"
        },
        "id": "Ct3zGqxPnoi8",
        "outputId": "68db1ceb-3f43-4859-82e7-6fe0efb1abf0"
      },
      "source": [
        "le.classes_"
      ],
      "execution_count": null,
      "outputs": [
        {
          "output_type": "execute_result",
          "data": {
            "text/plain": [
              "array(['GRP', 'IND', 'OTH'], dtype=object)"
            ]
          },
          "metadata": {
            "tags": []
          },
          "execution_count": 61
        }
      ]
    },
    {
      "cell_type": "code",
      "metadata": {
        "colab": {
          "base_uri": "https://localhost:8080/"
        },
        "id": "wzfGP4U9noi8",
        "outputId": "b7a9cc58-5e37-413f-c9a3-464a67587845"
      },
      "source": [
        "oh_a_trainY_df.shape,ie_a_trainY_df.shape"
      ],
      "execution_count": null,
      "outputs": [
        {
          "output_type": "execute_result",
          "data": {
            "text/plain": [
              "((13240, 2), (13240,))"
            ]
          },
          "metadata": {
            "tags": []
          },
          "execution_count": 62
        }
      ]
    },
    {
      "cell_type": "markdown",
      "metadata": {
        "id": "2Vl6p_Cinoi8"
      },
      "source": [
        "### Splitting of Validation Data\n",
        "* For one hot encoding\n",
        "* For integer encoding"
      ]
    },
    {
      "cell_type": "code",
      "metadata": {
        "id": "nqMYhreWnoi8"
      },
      "source": [
        "#Allocate 10% of the training data for validation \n",
        "oh_a_trainX_df, oh_a_validX_df, oh_a_trainY_df, oh_a_validY_df = train_test_split(vec_a_trainX_df, oh_a_trainY_df, test_size = 0.1, random_state = 37)\n",
        "oh_b_trainX_df, oh_b_validX_df, oh_b_trainY_df, oh_b_validY_df = train_test_split(vec_b_trainX_df, oh_b_trainY_df, test_size = 0.1, random_state = 37)\n",
        "oh_c_trainX_df, oh_c_validX_df, oh_c_trainY_df, oh_c_validY_df = train_test_split(vec_c_trainX_df, oh_c_trainY_df, test_size = 0.1, random_state = 37)\n",
        "\n",
        "#For Integer Encoding \n",
        "le_a_trainX_df, le_a_validX_df, le_a_trainY_df, le_a_validY_df = train_test_split(vec_a_trainX_df, ie_a_trainY_df, test_size = 0.1, random_state = 37)\n",
        "le_b_trainX_df, le_b_validX_df, le_b_trainY_df, le_b_validY_df = train_test_split(vec_b_trainX_df, ie_b_trainY_df, test_size = 0.1, random_state = 37)\n",
        "le_c_trainX_df, le_c_validX_df, le_c_trainY_df, le_c_validY_df = train_test_split(vec_c_trainX_df, ie_c_trainY_df, test_size = 0.1, random_state = 37)"
      ],
      "execution_count": null,
      "outputs": []
    },
    {
      "cell_type": "code",
      "metadata": {
        "colab": {
          "base_uri": "https://localhost:8080/"
        },
        "id": "7bmAFqvRnoi8",
        "outputId": "6b2b59d3-db2e-4cb4-c345-d8799df8ac3f"
      },
      "source": [
        "le_a_trainX_df"
      ],
      "execution_count": null,
      "outputs": [
        {
          "output_type": "execute_result",
          "data": {
            "text/plain": [
              "array([[   0,    0,    0, ..., 3375, 4704,  279],\n",
              "       [   0,    0,    0, ...,   61,  123, 4393],\n",
              "       [   0,    0,    0, ...,   30, 1958,  819],\n",
              "       ...,\n",
              "       [   0,    0,    0, ..., 3880,  964,   18],\n",
              "       [   0,    0,    0, ..., 4459, 3456,   36],\n",
              "       [   0,    0,    0, ...,    0,   70, 3136]], dtype=int32)"
            ]
          },
          "metadata": {
            "tags": []
          },
          "execution_count": 64
        }
      ]
    },
    {
      "cell_type": "markdown",
      "metadata": {
        "id": "HVofV7OvqxMU"
      },
      "source": [
        "# GloVe Init\n",
        "* For Neural Network \n",
        "* For statistical model"
      ]
    },
    {
      "cell_type": "markdown",
      "metadata": {
        "id": "o4s4Un7BqxMe"
      },
      "source": [
        "## For STATS Model"
      ]
    },
    {
      "cell_type": "code",
      "metadata": {
        "id": "2YUmt1z9qxMe"
      },
      "source": [
        "#convert the training data to string\n",
        "a_trainX_str = a_trainX_df.apply(', '.join)\n",
        "a_testX_str = a_testX_df.apply(', ' .join)\n",
        "a_expX_str = a_experimentX_df.apply(',' .join)\n",
        "b_trainX_str = b_trainX_df.apply(', '.join)\n",
        "b_testX_str = b_testX_df.apply(', '.join)\n",
        "b_expX_str = b_experimentX_df.apply(',' .join)\n",
        "c_trainX_str = c_trainX_df.apply(', '.join)\n",
        "c_testX_str = c_testX_df.apply(', '.join)\n",
        "c_expX_str = c_experimentX_df.apply(',' .join)"
      ],
      "execution_count": null,
      "outputs": []
    },
    {
      "cell_type": "code",
      "metadata": {
        "id": "Hf0dW3AmqxMf"
      },
      "source": [
        "# #Download the embedding transformer \n",
        "# ## TAKES LONG\n",
        "# glove = EmbeddingTransformer('glove-twitter-200')\n"
      ],
      "execution_count": null,
      "outputs": []
    },
    {
      "cell_type": "code",
      "metadata": {
        "id": "Vad_exmaqxMf"
      },
      "source": [
        "#Embed the training data \n",
        "a_trainX_em = glove.transform(a_trainX_str)\n",
        "a_testX_em = glove.transform(a_testX_str)\n",
        "a_expX_em = glove.transform(a_expX_str)\n",
        "b_trainX_em = glove.transform(b_trainX_str)\n",
        "b_testX_em = glove.transform(b_testX_str)\n",
        "b_expX_em = glove.transform(b_expX_str)\n",
        "c_trainX_em = glove.transform(c_trainX_str)\n",
        "c_testX_em = glove.transform(c_testX_str)\n",
        "c_expX_em = glove.transform(c_expX_str)"
      ],
      "execution_count": null,
      "outputs": []
    },
    {
      "cell_type": "code",
      "metadata": {
        "colab": {
          "base_uri": "https://localhost:8080/"
        },
        "id": "vKN05FA6qxMf",
        "outputId": "31b78ccf-abcb-4384-dd7b-98ce5f67a772"
      },
      "source": [
        "b_trainX_em.shape, ie_b_trainY_df.shape, b_testX_df.shape, b_testX_em.shape"
      ],
      "execution_count": null,
      "outputs": [
        {
          "output_type": "execute_result",
          "data": {
            "text/plain": [
              "((4400, 200), (4400,), (240,), (240, 200))"
            ]
          },
          "metadata": {
            "tags": []
          },
          "execution_count": 68
        }
      ]
    },
    {
      "cell_type": "code",
      "metadata": {
        "id": "jSimnyhhqxMg"
      },
      "source": [
        "# Create Validation Split\n",
        "a_trainX_em, a_validX_em, a_trainY_em, a_validY_em = train_test_split(a_trainX_em, ie_a_trainY_df, test_size=0.1, random_state=37)\n",
        "b_trainX_em, b_validX_em, b_trainY_em, b_validY_em = train_test_split(b_trainX_em, ie_b_trainY_df, test_size=0.1, random_state=37)\n",
        "c_trainX_em, c_validX_em, c_trainY_em, c_validY_em = train_test_split(c_trainX_em, ie_c_trainY_df, test_size=0.1, random_state=37)"
      ],
      "execution_count": null,
      "outputs": []
    },
    {
      "cell_type": "markdown",
      "metadata": {
        "id": "tt5ksiJjqxMg"
      },
      "source": [
        "### Test the Model's Performance "
      ]
    },
    {
      "cell_type": "code",
      "metadata": {
        "colab": {
          "base_uri": "https://localhost:8080/",
          "height": 604
        },
        "id": "EIbxmUjXqxMg",
        "outputId": "54c328d4-d07c-43e3-b0d3-e2b2e567aa14"
      },
      "source": [
        "# Balanced Weights\n",
        "# LOGISTIC REGRESSION\n",
        "from sklearn.metrics import classification_report, confusion_matrix\n",
        "\n",
        "model = LogisticRegression(max_iter=100000, class_weight='balanced', solver='newton-cg')\n",
        "model.fit(a_trainX_em, a_trainY_em)\n",
        "\n",
        "y_pred = model.predict(a_validX_em)\n",
        "\n",
        "evaluate_on_training_set(a_validY_em, y_pred)"
      ],
      "execution_count": null,
      "outputs": [
        {
          "output_type": "stream",
          "text": [
            "AUC is:  0.5950740436034554\n",
            "              precision    recall  f1-score   support\n",
            "\n",
            "           0       0.74      0.67      0.70       884\n",
            "           1       0.44      0.52      0.48       440\n",
            "\n",
            "    accuracy                           0.62      1324\n",
            "   macro avg       0.59      0.60      0.59      1324\n",
            "weighted avg       0.64      0.62      0.63      1324\n",
            "\n",
            "Confusion Matrix: \n",
            " [[590 294]\n",
            " [210 230]]\n"
          ],
          "name": "stdout"
        },
        {
          "output_type": "stream",
          "text": [
            "/usr/local/lib/python3.6/dist-packages/scipy/optimize/linesearch.py:314: LineSearchWarning: The line search algorithm did not converge\n",
            "  warn('The line search algorithm did not converge', LineSearchWarning)\n",
            "/usr/local/lib/python3.6/dist-packages/sklearn/utils/optimize.py:204: UserWarning: Line Search failed\n",
            "  warnings.warn('Line Search failed')\n"
          ],
          "name": "stderr"
        },
        {
          "output_type": "display_data",
          "data": {
            "image/png": "[encoded data removed]",
            "text/plain": [
              "<Figure size 432x288 with 1 Axes>"
            ]
          },
          "metadata": {
            "tags": [],
            "needs_background": "light"
          }
        }
      ]
    },
    {
      "cell_type": "code",
      "metadata": {
        "colab": {
          "base_uri": "https://localhost:8080/",
          "height": 604
        },
        "id": "zoCfUDM4qxMg",
        "outputId": "f1035c95-6dea-4ad3-9c6d-5ca83f326950"
      },
      "source": [
        "\n",
        "# Balanced Weights\n",
        "# LOGISTIC REGRESSION\n",
        "\n",
        "model = LogisticRegression(max_iter=100000, class_weight='balanced', solver='newton-cg')\n",
        "model.fit(b_trainX_em, b_trainY_em)\n",
        "\n",
        "y_pred = model.predict(b_validX_em)\n",
        "\n",
        "evaluate_on_training_set(b_validY_em, y_pred)"
      ],
      "execution_count": null,
      "outputs": [
        {
          "output_type": "stream",
          "text": [
            "AUC is:  0.5701754385964912\n",
            "              precision    recall  f1-score   support\n",
            "\n",
            "           0       0.93      0.67      0.78       402\n",
            "           1       0.12      0.47      0.19        38\n",
            "\n",
            "    accuracy                           0.65       440\n",
            "   macro avg       0.52      0.57      0.48       440\n",
            "weighted avg       0.86      0.65      0.73       440\n",
            "\n",
            "Confusion Matrix: \n",
            " [[268 134]\n",
            " [ 20  18]]\n"
          ],
          "name": "stdout"
        },
        {
          "output_type": "stream",
          "text": [
            "/usr/local/lib/python3.6/dist-packages/scipy/optimize/linesearch.py:314: LineSearchWarning: The line search algorithm did not converge\n",
            "  warn('The line search algorithm did not converge', LineSearchWarning)\n",
            "/usr/local/lib/python3.6/dist-packages/sklearn/utils/optimize.py:204: UserWarning: Line Search failed\n",
            "  warnings.warn('Line Search failed')\n"
          ],
          "name": "stderr"
        },
        {
          "output_type": "display_data",
          "data": {
            "image/png": "[encoded data removed]",
            "text/plain": [
              "<Figure size 432x288 with 1 Axes>"
            ]
          },
          "metadata": {
            "tags": [],
            "needs_background": "light"
          }
        }
      ]
    },
    {
      "cell_type": "code",
      "metadata": {
        "colab": {
          "base_uri": "https://localhost:8080/"
        },
        "id": "bL-gUVahqxMh",
        "outputId": "8e31859d-cfaf-4cec-d1c7-0736b954d45a"
      },
      "source": [
        "# Balanced Weights\n",
        "# LOGISTIC REGRESSION\n",
        "from sklearn.metrics import classification_report, confusion_matrix\n",
        "\n",
        "model = LogisticRegression(max_iter=100000, class_weight='balanced', solver='newton-cg', multi_class='ovr')\n",
        "model.fit(c_trainX_em, c_trainY_em)\n",
        "\n",
        "y_pred = model.predict(c_validX_em)\n",
        "\n",
        "classification_report = classification_report(c_validY_em, y_pred)\n",
        "\n",
        "print('\\n Accuracy: ', accuracy_score(c_validY_em, y_pred))\n",
        "print('\\nClassification Report')\n",
        "print('======================================================')\n",
        "print('\\n', classification_report)\n",
        "\n",
        "print(f\"AUC score:{multiclass_roc_auc_score(c_validY_em, y_pred)}\")"
      ],
      "execution_count": null,
      "outputs": [
        {
          "output_type": "stream",
          "text": [
            "/usr/local/lib/python3.6/dist-packages/scipy/optimize/linesearch.py:314: LineSearchWarning: The line search algorithm did not converge\n",
            "  warn('The line search algorithm did not converge', LineSearchWarning)\n",
            "/usr/local/lib/python3.6/dist-packages/sklearn/utils/optimize.py:204: UserWarning: Line Search failed\n",
            "  warnings.warn('Line Search failed')\n"
          ],
          "name": "stderr"
        },
        {
          "output_type": "stream",
          "text": [
            "\n",
            " Accuracy:  0.4639175257731959\n",
            "\n",
            "Classification Report\n",
            "======================================================\n",
            "\n",
            "               precision    recall  f1-score   support\n",
            "\n",
            "           0       0.33      0.36      0.34        97\n",
            "           1       0.76      0.49      0.59       261\n",
            "           2       0.16      0.60      0.25        30\n",
            "\n",
            "    accuracy                           0.46       388\n",
            "   macro avg       0.41      0.48      0.40       388\n",
            "weighted avg       0.60      0.46      0.50       388\n",
            "\n",
            "AUC score:0.602072909339398\n"
          ],
          "name": "stdout"
        },
        {
          "output_type": "stream",
          "text": [
            "/usr/local/lib/python3.6/dist-packages/scipy/optimize/linesearch.py:314: LineSearchWarning: The line search algorithm did not converge\n",
            "  warn('The line search algorithm did not converge', LineSearchWarning)\n",
            "/usr/local/lib/python3.6/dist-packages/sklearn/utils/optimize.py:204: UserWarning: Line Search failed\n",
            "  warnings.warn('Line Search failed')\n"
          ],
          "name": "stderr"
        }
      ]
    },
    {
      "cell_type": "markdown",
      "metadata": {
        "id": "098TyCl6IQbQ"
      },
      "source": [
        "#Data Cleaning Intermediate"
      ]
    },
    {
      "cell_type": "markdown",
      "metadata": {
        "id": "HLW9r-P8CQ5s"
      },
      "source": [
        "## Load the DataFrames"
      ]
    },
    {
      "cell_type": "code",
      "metadata": {
        "id": "V-bDrgWXCQ5t"
      },
      "source": [
        "#read the files into their respective dataframes \n",
        "labela_df = pd.read_csv('/content/drive/My Drive/CDS_Project/OLIDv1/labels-levela.csv', header = None)\n",
        "labelb_df = pd.read_csv('/content/drive/My Drive/CDS_Project/OLIDv1/labels-levelb.csv', header = None)\n",
        "labelc_df = pd.read_csv('/content/drive/My Drive/CDS_Project/OLIDv1/labels-levelc.csv', header = None)\n",
        "testa_df = pd.read_csv('/content/drive/My Drive/CDS_Project/OLIDv1/testset-levela.tsv', sep = '\\t')\n",
        "testb_df = pd.read_csv('/content/drive/My Drive/CDS_Project/OLIDv1/testset-levelb.tsv', sep = '\\t')\n",
        "testc_df = pd.read_csv('/content/drive/My Drive/CDS_Project/OLIDv1/testset-levelc.tsv', sep = '\\t')\n",
        "train_df = pd.read_csv('/content/drive/My Drive/CDS_Project/OLIDv1/olid-training-v1.0.tsv', sep = '\\t')\n",
        "experiment_df = pd.read_excel('/content/drive/My Drive/CDS_Project/OLIDv1/Data/PublicData.xlsx')"
      ],
      "execution_count": null,
      "outputs": []
    },
    {
      "cell_type": "code",
      "metadata": {
        "colab": {
          "base_uri": "https://localhost:8080/"
        },
        "id": "XGuQrEBiCQ5t",
        "outputId": "e352d717-c0bf-4212-8e22-4e2cc787c6e3"
      },
      "source": [
        "#Clean the experimental labels \n",
        "experiment_df['subtask_a'] = experiment_df['subtask_a'].replace('OFF ', 'OFF')\n",
        "experiment_df['subtask_b'] = experiment_df['subtask_b'].replace('OFF ', 'OFF')\n",
        "experiment_df['subtask_c'] = experiment_df['subtask_c'].replace('OFF ', 'OFF')\n",
        "experiment_df['subtask_a'].unique(),experiment_df['subtask_b'].unique(), experiment_df['subtask_c'].unique() "
      ],
      "execution_count": null,
      "outputs": [
        {
          "output_type": "execute_result",
          "data": {
            "text/plain": [
              "(array(['OFF', 'NOT'], dtype=object),\n",
              " array(['TIN', nan, 'UNT'], dtype=object),\n",
              " array(['IND', 'GRP', 'OTH', nan], dtype=object))"
            ]
          },
          "metadata": {
            "tags": []
          },
          "execution_count": 74
        }
      ]
    },
    {
      "cell_type": "code",
      "metadata": {
        "colab": {
          "base_uri": "https://localhost:8080/",
          "height": 204
        },
        "id": "WgBSX9vbCQ5u",
        "outputId": "6ecfc967-b98c-47ec-ae3c-a1b221c48880"
      },
      "source": [
        "#Split the experiment data into A, B and C\n",
        "experiment_a_df = experiment_df[['tweet', 'subtask_a']]\n",
        "experiment_b_df = experiment_df[['tweet', 'subtask_b']]\n",
        "experiment_c_df = experiment_df[['tweet', 'subtask_c']]\n",
        "experiment_a_df.head()"
      ],
      "execution_count": null,
      "outputs": [
        {
          "output_type": "execute_result",
          "data": {
            "text/html": [
              "<div>\n",
              "<style scoped>\n",
              "    .dataframe tbody tr th:only-of-type {\n",
              "        vertical-align: middle;\n",
              "    }\n",
              "\n",
              "    .dataframe tbody tr th {\n",
              "        vertical-align: top;\n",
              "    }\n",
              "\n",
              "    .dataframe thead th {\n",
              "        text-align: right;\n",
              "    }\n",
              "</style>\n",
              "<table border=\"1\" class=\"dataframe\">\n",
              "  <thead>\n",
              "    <tr style=\"text-align: right;\">\n",
              "      <th></th>\n",
              "      <th>tweet</th>\n",
              "      <th>subtask_a</th>\n",
              "    </tr>\n",
              "  </thead>\n",
              "  <tbody>\n",
              "    <tr>\n",
              "      <th>0</th>\n",
              "      <td>RT @iSellGreenCards: 1st RT @MsSashaBelle: Sho...</td>\n",
              "      <td>OFF</td>\n",
              "    </tr>\n",
              "    <tr>\n",
              "      <th>1</th>\n",
              "      <td>@40oz_VAN IYCMI. I can't get any work done if ...</td>\n",
              "      <td>OFF</td>\n",
              "    </tr>\n",
              "    <tr>\n",
              "      <th>2</th>\n",
              "      <td>&amp;#8220;@lildebo2391: He too rich to let that b...</td>\n",
              "      <td>OFF</td>\n",
              "    </tr>\n",
              "    <tr>\n",
              "      <th>3</th>\n",
              "      <td>Really Barnicle? OJ or Anthony Weiner? MJ is a...</td>\n",
              "      <td>OFF</td>\n",
              "    </tr>\n",
              "    <tr>\n",
              "      <th>4</th>\n",
              "      <td>RT @GabrielaAngela4: That hoe wanta 6/6.</td>\n",
              "      <td>OFF</td>\n",
              "    </tr>\n",
              "  </tbody>\n",
              "</table>\n",
              "</div>"
            ],
            "text/plain": [
              "                                               tweet subtask_a\n",
              "0  RT @iSellGreenCards: 1st RT @MsSashaBelle: Sho...       OFF\n",
              "1  @40oz_VAN IYCMI. I can't get any work done if ...       OFF\n",
              "2  &#8220;@lildebo2391: He too rich to let that b...       OFF\n",
              "3  Really Barnicle? OJ or Anthony Weiner? MJ is a...       OFF\n",
              "4           RT @GabrielaAngela4: That hoe wanta 6/6.       OFF"
            ]
          },
          "metadata": {
            "tags": []
          },
          "execution_count": 75
        }
      ]
    },
    {
      "cell_type": "code",
      "metadata": {
        "colab": {
          "base_uri": "https://localhost:8080/",
          "height": 204
        },
        "id": "4OKFc7C0CQ5v",
        "outputId": "2e0f7b06-2d8d-4790-bfe7-2b825002fd53"
      },
      "source": [
        "#Merge the label dataset with the test data set, so only Test data set needed\n",
        "\n",
        "testa_df['subtask_a'] = labela_df[1]\n",
        "testb_df['subtask_b'] = labelb_df[1]\n",
        "testc_df['subtask_c'] = labelc_df[1]\n",
        "testc_df.head()"
      ],
      "execution_count": null,
      "outputs": [
        {
          "output_type": "execute_result",
          "data": {
            "text/html": [
              "<div>\n",
              "<style scoped>\n",
              "    .dataframe tbody tr th:only-of-type {\n",
              "        vertical-align: middle;\n",
              "    }\n",
              "\n",
              "    .dataframe tbody tr th {\n",
              "        vertical-align: top;\n",
              "    }\n",
              "\n",
              "    .dataframe thead th {\n",
              "        text-align: right;\n",
              "    }\n",
              "</style>\n",
              "<table border=\"1\" class=\"dataframe\">\n",
              "  <thead>\n",
              "    <tr style=\"text-align: right;\">\n",
              "      <th></th>\n",
              "      <th>id</th>\n",
              "      <th>tweet</th>\n",
              "      <th>subtask_c</th>\n",
              "    </tr>\n",
              "  </thead>\n",
              "  <tbody>\n",
              "    <tr>\n",
              "      <th>0</th>\n",
              "      <td>15923</td>\n",
              "      <td>#WhoIsQ #WheresTheServer #DumpNike #DECLASFISA...</td>\n",
              "      <td>OTH</td>\n",
              "    </tr>\n",
              "    <tr>\n",
              "      <th>1</th>\n",
              "      <td>60133</td>\n",
              "      <td>#NoPasaran: Unity demo to oppose the far-right...</td>\n",
              "      <td>GRP</td>\n",
              "    </tr>\n",
              "    <tr>\n",
              "      <th>2</th>\n",
              "      <td>83681</td>\n",
              "      <td>. . . What the fuck did he do this time?</td>\n",
              "      <td>IND</td>\n",
              "    </tr>\n",
              "    <tr>\n",
              "      <th>3</th>\n",
              "      <td>65507</td>\n",
              "      <td>@USER Do you get the feeling he is kissing @US...</td>\n",
              "      <td>OTH</td>\n",
              "    </tr>\n",
              "    <tr>\n",
              "      <th>4</th>\n",
              "      <td>34263</td>\n",
              "      <td>#StopKavanaugh he is liar like the rest of the...</td>\n",
              "      <td>IND</td>\n",
              "    </tr>\n",
              "  </tbody>\n",
              "</table>\n",
              "</div>"
            ],
            "text/plain": [
              "      id                                              tweet subtask_c\n",
              "0  15923  #WhoIsQ #WheresTheServer #DumpNike #DECLASFISA...       OTH\n",
              "1  60133  #NoPasaran: Unity demo to oppose the far-right...       GRP\n",
              "2  83681           . . . What the fuck did he do this time?       IND\n",
              "3  65507  @USER Do you get the feeling he is kissing @US...       OTH\n",
              "4  34263  #StopKavanaugh he is liar like the rest of the...       IND"
            ]
          },
          "metadata": {
            "tags": []
          },
          "execution_count": 76
        }
      ]
    },
    {
      "cell_type": "code",
      "metadata": {
        "colab": {
          "base_uri": "https://localhost:8080/",
          "height": 289
        },
        "id": "XV084D_MCQ5v",
        "outputId": "cce7a36d-5d46-4918-bd40-b2698a31575b"
      },
      "source": [
        "#View the training data set\n",
        "train_df.head()"
      ],
      "execution_count": null,
      "outputs": [
        {
          "output_type": "execute_result",
          "data": {
            "text/html": [
              "<div>\n",
              "<style scoped>\n",
              "    .dataframe tbody tr th:only-of-type {\n",
              "        vertical-align: middle;\n",
              "    }\n",
              "\n",
              "    .dataframe tbody tr th {\n",
              "        vertical-align: top;\n",
              "    }\n",
              "\n",
              "    .dataframe thead th {\n",
              "        text-align: right;\n",
              "    }\n",
              "</style>\n",
              "<table border=\"1\" class=\"dataframe\">\n",
              "  <thead>\n",
              "    <tr style=\"text-align: right;\">\n",
              "      <th></th>\n",
              "      <th>id</th>\n",
              "      <th>tweet</th>\n",
              "      <th>subtask_a</th>\n",
              "      <th>subtask_b</th>\n",
              "      <th>subtask_c</th>\n",
              "    </tr>\n",
              "  </thead>\n",
              "  <tbody>\n",
              "    <tr>\n",
              "      <th>0</th>\n",
              "      <td>86426</td>\n",
              "      <td>@USER She should ask a few native Americans wh...</td>\n",
              "      <td>OFF</td>\n",
              "      <td>UNT</td>\n",
              "      <td>NaN</td>\n",
              "    </tr>\n",
              "    <tr>\n",
              "      <th>1</th>\n",
              "      <td>90194</td>\n",
              "      <td>@USER @USER Go home you’re drunk!!! @USER #MAG...</td>\n",
              "      <td>OFF</td>\n",
              "      <td>TIN</td>\n",
              "      <td>IND</td>\n",
              "    </tr>\n",
              "    <tr>\n",
              "      <th>2</th>\n",
              "      <td>16820</td>\n",
              "      <td>Amazon is investigating Chinese employees who ...</td>\n",
              "      <td>NOT</td>\n",
              "      <td>NaN</td>\n",
              "      <td>NaN</td>\n",
              "    </tr>\n",
              "    <tr>\n",
              "      <th>3</th>\n",
              "      <td>62688</td>\n",
              "      <td>@USER Someone should'veTaken\" this piece of sh...</td>\n",
              "      <td>OFF</td>\n",
              "      <td>UNT</td>\n",
              "      <td>NaN</td>\n",
              "    </tr>\n",
              "    <tr>\n",
              "      <th>4</th>\n",
              "      <td>43605</td>\n",
              "      <td>@USER @USER Obama wanted liberals &amp;amp; illega...</td>\n",
              "      <td>NOT</td>\n",
              "      <td>NaN</td>\n",
              "      <td>NaN</td>\n",
              "    </tr>\n",
              "  </tbody>\n",
              "</table>\n",
              "</div>"
            ],
            "text/plain": [
              "      id                                              tweet  ... subtask_b subtask_c\n",
              "0  86426  @USER She should ask a few native Americans wh...  ...       UNT       NaN\n",
              "1  90194  @USER @USER Go home you’re drunk!!! @USER #MAG...  ...       TIN       IND\n",
              "2  16820  Amazon is investigating Chinese employees who ...  ...       NaN       NaN\n",
              "3  62688  @USER Someone should'veTaken\" this piece of sh...  ...       UNT       NaN\n",
              "4  43605  @USER @USER Obama wanted liberals &amp; illega...  ...       NaN       NaN\n",
              "\n",
              "[5 rows x 5 columns]"
            ]
          },
          "metadata": {
            "tags": []
          },
          "execution_count": 77
        }
      ]
    },
    {
      "cell_type": "markdown",
      "metadata": {
        "id": "DuJQgeKBCQ5w"
      },
      "source": [
        "## Cleaning the Tweets\n",
        "\n",
        "The training and test data are in 2 separate files, so a function has been written to to tidy the text up and return a column of cleaned tweets\n",
        "\n",
        "* remove URLs, Hashtags, Mentions, Reserved Words (RT, FAV), Emojis\n",
        "* Change text to lowercase \n",
        "* Handle Apostrophe (e.g. aren't -> are not)\n",
        "* Remove punctuations\n",
        "* Remove numbers \n",
        "* Segment the words (fix the spelling) \n",
        "* Lemmatization and Tokenization\n",
        "* Remove Stop Words (with Blacklist and Whitelist words)"
      ]
    },
    {
      "cell_type": "markdown",
      "metadata": {
        "id": "3sOpQI_8CQ5w"
      },
      "source": [
        "### Cleaning Function"
      ]
    },
    {
      "cell_type": "code",
      "metadata": {
        "id": "D8aw0TDcCQ5w"
      },
      "source": [
        "#list of contractions to remove later \n",
        "contractions = {\n",
        "\"ain't\": \"am not / are not\",\n",
        "\"aren't\": \"are not / am not\",\n",
        "\"can't\": \"cannot\",\n",
        "\"can't've\": \"cannot have\",\n",
        "\"'cause\": \"because\",\n",
        "\"could've\": \"could have\",\n",
        "\"couldn't\": \"could not\",\n",
        "\"couldn't've\": \"could not have\",\n",
        "\"didn't\": \"did not\",\n",
        "\"doesn't\": \"does not\",\n",
        "\"don't\": \"do not\",\n",
        "\"hadn't\": \"had not\",\n",
        "\"hadn't've\": \"had not have\",\n",
        "\"hasn't\": \"has not\",\n",
        "\"haven't\": \"have not\",\n",
        "\"he'd\": \"he had / he would\",\n",
        "\"he'd've\": \"he would have\",\n",
        "\"he'll\": \"he shall / he will\",\n",
        "\"he'll've\": \"he shall have / he will have\",\n",
        "\"he's\": \"he has / he is\",\n",
        "\"how'd\": \"how did\",\n",
        "\"how'd'y\": \"how do you\",\n",
        "\"how'll\": \"how will\",\n",
        "\"how's\": \"how has / how is\",\n",
        "\"i'd\": \"I had / I would\",\n",
        "\"i'd've\": \"I would have\",\n",
        "\"i'll\": \"I shall / I will\",\n",
        "\"i'll've\": \"I shall have / I will have\",\n",
        "\"i'm\": \"I am\",\n",
        "\"i've\": \"I have\",\n",
        "\"isn't\": \"is not\",\n",
        "\"it'd\": \"it had / it would\",\n",
        "\"it'd've\": \"it would have\",\n",
        "\"it'll\": \"it shall / it will\",\n",
        "\"it'll've\": \"it shall have / it will have\",\n",
        "\"it's\": \"it has / it is\",\n",
        "\"let's\": \"let us\",\n",
        "\"ma'am\": \"madam\",\n",
        "\"mayn't\": \"may not\",\n",
        "\"might've\": \"might have\",\n",
        "\"mightn't\": \"might not\",\n",
        "\"mightn't've\": \"might not have\",\n",
        "\"must've\": \"must have\",\n",
        "\"mustn't\": \"must not\",\n",
        "\"mustn't've\": \"must not have\",\n",
        "\"needn't\": \"need not\",\n",
        "\"needn't've\": \"need not have\",\n",
        "\"o'clock\": \"of the clock\",\n",
        "\"oughtn't\": \"ought not\",\n",
        "\"oughtn't've\": \"ought not have\",\n",
        "\"shan't\": \"shall not\",\n",
        "\"sha'n't\": \"shall not\",\n",
        "\"shan't've\": \"shall not have\",\n",
        "\"she'd\": \"she had / she would\",\n",
        "\"she'd've\": \"she would have\",\n",
        "\"she'll\": \"she shall / she will\",\n",
        "\"she'll've\": \"she shall have / she will have\",\n",
        "\"she's\": \"she has / she is\",\n",
        "\"should've\": \"should have\",\n",
        "\"shouldn't\": \"should not\",\n",
        "\"shouldn't've\": \"should not have\",\n",
        "\"so've\": \"so have\",\n",
        "\"so's\": \"so as / so is\",\n",
        "\"that'd\": \"that would / that had\",\n",
        "\"that'd've\": \"that would have\",\n",
        "\"that's\": \"that has / that is\",\n",
        "\"there'd\": \"there had / there would\",\n",
        "\"there'd've\": \"there would have\",\n",
        "\"there's\": \"there has / there is\",\n",
        "\"they'd\": \"they had / they would\",\n",
        "\"they'd've\": \"they would have\",\n",
        "\"they'll\": \"they shall / they will\",\n",
        "\"they'll've\": \"they shall have / they will have\",\n",
        "\"they're\": \"they are\",\n",
        "\"they've\": \"they have\",\n",
        "\"to've\": \"to have\",\n",
        "\"wasn't\": \"was not\",\n",
        "\"we'd\": \"we had / we would\",\n",
        "\"we'd've\": \"we would have\",\n",
        "\"we'll\": \"we will\",\n",
        "\"we'll've\": \"we will have\",\n",
        "\"we're\": \"we are\",\n",
        "\"we've\": \"we have\",\n",
        "\"weren't\": \"were not\",\n",
        "\"what'll\": \"what shall / what will\",\n",
        "\"what'll've\": \"what shall have / what will have\",\n",
        "\"what're\": \"what are\",\n",
        "\"what's\": \"what has / what is\",\n",
        "\"what've\": \"what have\",\n",
        "\"when's\": \"when has / when is\",\n",
        "\"when've\": \"when have\",\n",
        "\"where'd\": \"where did\",\n",
        "\"where's\": \"where has / where is\",\n",
        "\"where've\": \"where have\",\n",
        "\"who'll\": \"who shall / who will\",\n",
        "\"who'll've\": \"who shall have / who will have\",\n",
        "\"who's\": \"who has / who is\",\n",
        "\"who've\": \"who have\",\n",
        "\"why's\": \"why has / why is\",\n",
        "\"why've\": \"why have\",\n",
        "\"will've\": \"will have\",\n",
        "\"won't\": \"will not\",\n",
        "\"won't've\": \"will not have\",\n",
        "\"would've\": \"would have\",\n",
        "\"wouldn't\": \"would not\",\n",
        "\"wouldn't've\": \"would not have\",\n",
        "\"y'all\": \"you all\",\n",
        "\"y'all'd\": \"you all would\",\n",
        "\"y'all'd've\": \"you all would have\",\n",
        "\"y'all're\": \"you all are\",\n",
        "\"y'all've\": \"you all have\",\n",
        "\"you'd\": \"you had / you would\",\n",
        "\"you'd've\": \"you would have\",\n",
        "\"you'll\": \"you shall / you will\",\n",
        "\"you'll've\": \"you shall have / you will have\",\n",
        "\"you're\": \"you are\",\n",
        "\"you've\": \"you have\"\n",
        "}"
      ],
      "execution_count": null,
      "outputs": []
    },
    {
      "cell_type": "code",
      "metadata": {
        "colab": {
          "base_uri": "https://localhost:8080/"
        },
        "id": "vN5vh6huCQ5w",
        "outputId": "68605928-03cf-439b-972a-f604224040df"
      },
      "source": [
        "#Setting up SymSpell to segment words\n",
        "sym_spell = SymSpell(max_dictionary_edit_distance=0, prefix_length=7)\n",
        "dictionary_path = pkg_resources.resource_filename(\n",
        "    \"symspellpy\", \"frequency_dictionary_en_82_765.txt\")\n",
        "# term_index is the column of the term and count_index is the column of the term frequency\n",
        "sym_spell.load_dictionary(dictionary_path, term_index=0, count_index=1)\n"
      ],
      "execution_count": null,
      "outputs": [
        {
          "output_type": "execute_result",
          "data": {
            "text/plain": [
              "True"
            ]
          },
          "metadata": {
            "tags": []
          },
          "execution_count": 79
        }
      ]
    },
    {
      "cell_type": "code",
      "metadata": {
        "id": "toITucu4CQ5x"
      },
      "source": [
        "#Setting up Lematizer, Tokenizer\n",
        "lemmatizer = nltk.stem.WordNetLemmatizer()\n",
        "w_tokenizer = TweetTokenizer()"
      ],
      "execution_count": null,
      "outputs": []
    },
    {
      "cell_type": "code",
      "metadata": {
        "id": "BX4goMU8CQ5x"
      },
      "source": [
        "#Removes specially chosen stop words\n",
        "def cleaner(row, contractions, blacklist, whitelist):\n",
        "  '''\n",
        "  Blacklist: Words that are not in stop words but we will be removing \n",
        "  Whitelist: Words that are in the stop words but we will be keeping\n",
        "  '''\n",
        "  #remove URLs, Hashtags, Mentions, Reserved Words (RT, FAV), Emojis\n",
        "  row = p.clean(row)\n",
        "  #lower the text \n",
        "  row = row.lower()\n",
        "  #Apostrophe Handling\n",
        "  for word in row.split():\n",
        "    if word in contractions: \n",
        "      row = row.replace(word, contractions[word.lower()])\n",
        "  #remove punctuations\n",
        "  row  = \"\".join([char for char in row if char not in string.punctuation])\n",
        "  row = re.sub('[0-9]+', '', row, flags=re.MULTILINE)\n",
        "  #remove numbers \n",
        "  row = re.sub(r'\\d+', '', row, flags=re.MULTILINE)\n",
        "  #Segment the words \n",
        "  try:\n",
        "    row = (sym_spell.word_segmentation(row)).corrected_string\n",
        "  except: \n",
        "    pass\n",
        "  #Lemmatization and Tokenization\n",
        "  row = [(lemmatizer.lemmatize(w)) for w in w_tokenizer.tokenize((row))]\n",
        "  #Stopwords \n",
        "  all_stopwords = stopwords.words('english')\n",
        "  all_stopwords.extend(blacklist)\n",
        "  all_stopwords = set(all_stopwords)- set(whitelist)\n",
        "  row = [word for word in row if word not in all_stopwords]\n",
        "  return row"
      ],
      "execution_count": null,
      "outputs": []
    },
    {
      "cell_type": "code",
      "metadata": {
        "colab": {
          "base_uri": "https://localhost:8080/"
        },
        "id": "JmdjKQ1pCQ5x",
        "outputId": "17875445-2a05-4ac9-f1a8-dbf5245176cb"
      },
      "source": [
        "tqdm.pandas()\n",
        "#List of stopwords that want to remove in addition to the ones in stopwords corpus\n",
        "badboy_list = ['url', 'ha']\n",
        "#List of stopwords that we would like to keep \n",
        "goodboy_list = [ ]\n",
        "#Apply modified clean tweet to the training data\n",
        "train_df['clean_tweet'] = train_df['tweet'].progress_apply(lambda x: cleaner(x, contractions, badboy_list, goodboy_list))\n",
        "#Apply modified clean tweet to the test data\n",
        "testc_df['clean_tweet'] = testc_df['tweet'].progress_apply(lambda x: cleaner(x, contractions, badboy_list, goodboy_list))\n",
        "testb_df['clean_tweet'] = testb_df['tweet'].progress_apply(lambda x: cleaner(x, contractions, badboy_list, goodboy_list))\n",
        "testa_df['clean_tweet'] = testa_df['tweet'].progress_apply(lambda x: cleaner(x, contractions, badboy_list, goodboy_list))\n",
        "#Apply modified cleaen tweet to the experimental data \n",
        "experiment_a_df['clean_tweet'] = experiment_a_df['tweet'].progress_apply(lambda x: cleaner(x, contractions, badboy_list, goodboy_list))\n",
        "experiment_b_df['clean_tweet'] = experiment_b_df['tweet'].progress_apply(lambda x: cleaner(x, contractions, badboy_list, goodboy_list))\n",
        "experiment_c_df['clean_tweet'] = experiment_c_df['tweet'].progress_apply(lambda x: cleaner(x, contractions, badboy_list, goodboy_list))"
      ],
      "execution_count": null,
      "outputs": [
        {
          "output_type": "stream",
          "text": [
            "100%|██████████| 13240/13240 [01:58<00:00, 111.56it/s]\n",
            "100%|██████████| 213/213 [00:02<00:00, 103.05it/s]\n",
            "100%|██████████| 240/240 [00:02<00:00, 106.14it/s]\n",
            "100%|██████████| 860/860 [00:08<00:00, 103.82it/s]\n",
            "100%|██████████| 200/200 [00:01<00:00, 183.11it/s]\n",
            "/usr/local/lib/python3.6/dist-packages/ipykernel_launcher.py:13: SettingWithCopyWarning: \n",
            "A value is trying to be set on a copy of a slice from a DataFrame.\n",
            "Try using .loc[row_indexer,col_indexer] = value instead\n",
            "\n",
            "See the caveats in the documentation: https://pandas.pydata.org/pandas-docs/stable/user_guide/indexing.html#returning-a-view-versus-a-copy\n",
            "  del sys.path[0]\n",
            "100%|██████████| 200/200 [00:01<00:00, 183.31it/s]\n",
            "/usr/local/lib/python3.6/dist-packages/ipykernel_launcher.py:14: SettingWithCopyWarning: \n",
            "A value is trying to be set on a copy of a slice from a DataFrame.\n",
            "Try using .loc[row_indexer,col_indexer] = value instead\n",
            "\n",
            "See the caveats in the documentation: https://pandas.pydata.org/pandas-docs/stable/user_guide/indexing.html#returning-a-view-versus-a-copy\n",
            "  \n",
            "100%|██████████| 200/200 [00:01<00:00, 182.08it/s]\n",
            "/usr/local/lib/python3.6/dist-packages/ipykernel_launcher.py:15: SettingWithCopyWarning: \n",
            "A value is trying to be set on a copy of a slice from a DataFrame.\n",
            "Try using .loc[row_indexer,col_indexer] = value instead\n",
            "\n",
            "See the caveats in the documentation: https://pandas.pydata.org/pandas-docs/stable/user_guide/indexing.html#returning-a-view-versus-a-copy\n",
            "  from ipykernel import kernelapp as app\n"
          ],
          "name": "stderr"
        }
      ]
    },
    {
      "cell_type": "code",
      "metadata": {
        "colab": {
          "base_uri": "https://localhost:8080/",
          "height": 272
        },
        "id": "6gNcEOYACQ5x",
        "outputId": "c7fd03b1-3cd8-490d-f2b8-15758f8ce290"
      },
      "source": [
        "experiment_a_df.head()"
      ],
      "execution_count": null,
      "outputs": [
        {
          "output_type": "execute_result",
          "data": {
            "text/html": [
              "<div>\n",
              "<style scoped>\n",
              "    .dataframe tbody tr th:only-of-type {\n",
              "        vertical-align: middle;\n",
              "    }\n",
              "\n",
              "    .dataframe tbody tr th {\n",
              "        vertical-align: top;\n",
              "    }\n",
              "\n",
              "    .dataframe thead th {\n",
              "        text-align: right;\n",
              "    }\n",
              "</style>\n",
              "<table border=\"1\" class=\"dataframe\">\n",
              "  <thead>\n",
              "    <tr style=\"text-align: right;\">\n",
              "      <th></th>\n",
              "      <th>tweet</th>\n",
              "      <th>subtask_a</th>\n",
              "      <th>clean_tweet</th>\n",
              "    </tr>\n",
              "  </thead>\n",
              "  <tbody>\n",
              "    <tr>\n",
              "      <th>0</th>\n",
              "      <td>RT @iSellGreenCards: 1st RT @MsSashaBelle: Sho...</td>\n",
              "      <td>OFF</td>\n",
              "      <td>[st, rt, show, proof, sold, pussy, I, shall, I...</td>\n",
              "    </tr>\n",
              "    <tr>\n",
              "      <th>1</th>\n",
              "      <td>@40oz_VAN IYCMI. I can't get any work done if ...</td>\n",
              "      <td>OFF</td>\n",
              "      <td>[iycmi, get, work, done, keep, show, bitch]</td>\n",
              "    </tr>\n",
              "    <tr>\n",
              "      <th>2</th>\n",
              "      <td>&amp;#8220;@lildebo2391: He too rich to let that b...</td>\n",
              "      <td>OFF</td>\n",
              "      <td>[rich, let, bitch, get, mad, like, nigga, think]</td>\n",
              "    </tr>\n",
              "    <tr>\n",
              "      <th>3</th>\n",
              "      <td>Really Barnicle? OJ or Anthony Weiner? MJ is a...</td>\n",
              "      <td>OFF</td>\n",
              "      <td>[really, barn, cleo, j, anthony, er, mj, clown...</td>\n",
              "    </tr>\n",
              "    <tr>\n",
              "      <th>4</th>\n",
              "      <td>RT @GabrielaAngela4: That hoe wanta 6/6.</td>\n",
              "      <td>OFF</td>\n",
              "      <td>[hoe, want]</td>\n",
              "    </tr>\n",
              "  </tbody>\n",
              "</table>\n",
              "</div>"
            ],
            "text/plain": [
              "                                               tweet  ...                                        clean_tweet\n",
              "0  RT @iSellGreenCards: 1st RT @MsSashaBelle: Sho...  ...  [st, rt, show, proof, sold, pussy, I, shall, I...\n",
              "1  @40oz_VAN IYCMI. I can't get any work done if ...  ...        [iycmi, get, work, done, keep, show, bitch]\n",
              "2  &#8220;@lildebo2391: He too rich to let that b...  ...   [rich, let, bitch, get, mad, like, nigga, think]\n",
              "3  Really Barnicle? OJ or Anthony Weiner? MJ is a...  ...  [really, barn, cleo, j, anthony, er, mj, clown...\n",
              "4           RT @GabrielaAngela4: That hoe wanta 6/6.  ...                                        [hoe, want]\n",
              "\n",
              "[5 rows x 3 columns]"
            ]
          },
          "metadata": {
            "tags": []
          },
          "execution_count": 83
        }
      ]
    },
    {
      "cell_type": "code",
      "metadata": {
        "id": "Dh4aCHNlCQ5y"
      },
      "source": [
        "#Train Dataframe for each of the subsets  \n",
        "train_df_a = train_df.dropna(subset=['subtask_a'])\n",
        "train_df_a = train_df_a.drop(columns = ['subtask_b', 'subtask_c'])\n",
        "train_df_b = train_df.dropna(subset=['subtask_b'])\n",
        "train_df_b = train_df_b.drop(columns = ['subtask_a', 'subtask_c'])\n",
        "train_df_c = train_df.dropna(subset=['subtask_c'])\n",
        "train_df_c = train_df_c.drop(columns = ['subtask_a', 'subtask_b'])\n",
        "experiment_a_df = experiment_a_df.dropna(subset=['subtask_a']) \n",
        "experiment_b_df = experiment_b_df.dropna(subset=['subtask_b'])\n",
        "experiment_c_df = experiment_c_df.dropna(subset=['subtask_c'])"
      ],
      "execution_count": null,
      "outputs": []
    },
    {
      "cell_type": "code",
      "metadata": {
        "colab": {
          "base_uri": "https://localhost:8080/"
        },
        "id": "ibd_TCEBCQ5y",
        "outputId": "67a57048-0e71-4ba3-8f0b-843daab2f69a"
      },
      "source": [
        "experiment_a_df['subtask_a'].unique(), experiment_b_df['subtask_b'].unique(), experiment_c_df['subtask_c'].unique()"
      ],
      "execution_count": null,
      "outputs": [
        {
          "output_type": "execute_result",
          "data": {
            "text/plain": [
              "(array(['OFF', 'NOT'], dtype=object),\n",
              " array(['TIN', 'UNT'], dtype=object),\n",
              " array(['IND', 'GRP', 'OTH'], dtype=object))"
            ]
          },
          "metadata": {
            "tags": []
          },
          "execution_count": 85
        }
      ]
    },
    {
      "cell_type": "markdown",
      "metadata": {
        "id": "RLJCWIRrCQ5y"
      },
      "source": [
        "Key Dataframes "
      ]
    },
    {
      "cell_type": "code",
      "metadata": {
        "id": "eVTrHeqXCQ5y"
      },
      "source": [
        "#Split the data into X and Y \n",
        "#Split the data into X and Y\n",
        "a_trainX_df = train_df_a['clean_tweet']\n",
        "a_trainY_df = train_df_a['subtask_a'] \n",
        "a_testX_df = testa_df['clean_tweet'] \n",
        "a_testY_df = testa_df['subtask_a'] \n",
        "a_experimentX_df = experiment_a_df['clean_tweet']\n",
        "a_experimentY_df = experiment_a_df['subtask_a']\n",
        "\n",
        "b_trainX_df = train_df_b['clean_tweet']\n",
        "b_trainY_df = train_df_b['subtask_b'] \n",
        "b_testX_df = testb_df['clean_tweet'] \n",
        "b_testY_df = testb_df['subtask_b'] \n",
        "b_experimentX_df = experiment_b_df['clean_tweet']\n",
        "b_experimentY_df = experiment_b_df['subtask_b']\n",
        "\n",
        "\n",
        "c_trainX_df = train_df_c['clean_tweet']\n",
        "c_trainY_df = train_df_c['subtask_c'] \n",
        "c_testX_df = testc_df['clean_tweet'] \n",
        "c_testY_df = testc_df['subtask_c'] \n",
        "c_experimentX_df = experiment_c_df['clean_tweet']\n",
        "c_experimentY_df = experiment_c_df['subtask_c']"
      ],
      "execution_count": null,
      "outputs": []
    },
    {
      "cell_type": "markdown",
      "metadata": {
        "id": "MQQCdqMWCQ5y"
      },
      "source": [
        "## Vectorizing the Tweets"
      ]
    },
    {
      "cell_type": "code",
      "metadata": {
        "id": "RCbZOLq0CQ5z"
      },
      "source": [
        "#Convert list to string\n",
        "train_df['clean_tweet_str'] = train_df['clean_tweet'].apply(lambda x: ' '.join([str(elem) for elem in x]))"
      ],
      "execution_count": null,
      "outputs": []
    },
    {
      "cell_type": "code",
      "metadata": {
        "colab": {
          "base_uri": "https://localhost:8080/",
          "height": 282
        },
        "id": "9WCbw3sFCQ5z",
        "outputId": "8359af01-83b8-4742-e00a-c7c2eedca830"
      },
      "source": [
        "# get length of all the messages in the train set\n",
        "seq_len = [len(i.split()) for i in train_df['clean_tweet_str']]\n",
        "pd.Series(seq_len).hist(bins = 30)"
      ],
      "execution_count": null,
      "outputs": [
        {
          "output_type": "execute_result",
          "data": {
            "text/plain": [
              "<matplotlib.axes._subplots.AxesSubplot at 0x7f2d08fd4208>"
            ]
          },
          "metadata": {
            "tags": []
          },
          "execution_count": 88
        },
        {
          "output_type": "display_data",
          "data": {
            "image/png": "[encoded data removed]",
            "text/plain": [
              "<Figure size 432x288 with 1 Axes>"
            ]
          },
          "metadata": {
            "tags": [],
            "needs_background": "light"
          }
        }
      ]
    },
    {
      "cell_type": "code",
      "metadata": {
        "colab": {
          "base_uri": "https://localhost:8080/"
        },
        "id": "UdqT1a82CQ5z",
        "outputId": "af56df44-f6f8-46db-db83-7b3f9350ceac"
      },
      "source": [
        "#Count the number of unique words\n",
        "from collections import Counter\n",
        "results = Counter()\n",
        "train_df['clean_tweet_str'].str.lower().str.split().apply(results.update)\n",
        "print(len(results.keys()))"
      ],
      "execution_count": null,
      "outputs": [
        {
          "output_type": "stream",
          "text": [
            "13819\n"
          ],
          "name": "stdout"
        }
      ]
    },
    {
      "cell_type": "code",
      "metadata": {
        "id": "FrZ1yvW-CQ5z"
      },
      "source": [
        "#Vectorizing the training data\n",
        "#https://stackoverflow.com/questions/45735070/keras-text-preprocessing-saving-tokenizer-object-to-file-for-scoring\n",
        "def vectorizing(trainX_df, testX_df, experiment_dfX, category):\n",
        "  MAX_NUM_WORDS = 13828 # Parameter indicating the number of words we'll put in the dictionary\n",
        "  MAX_SEQUENCE_LENGTH = 40 # Maximum number of words in a sequence\n",
        "  tokenizer = Tokenizer(num_words=MAX_NUM_WORDS)\n",
        "  tokenizer.fit_on_texts(trainX_df)\n",
        "  token_file_name = 'tokenizer_' + category + '.pickle'\n",
        "  with open(token_file_name, 'wb') as handle:\n",
        "    pickle.dump(tokenizer, handle, protocol=pickle.HIGHEST_PROTOCOL)\n",
        "  #Tokenize the training and test data set\n",
        "  trainX_seq = tokenizer.texts_to_sequences(trainX_df)\n",
        "  testX_seq = tokenizer.texts_to_sequences(testX_df)\n",
        "  experimentX_seq = tokenizer.texts_to_sequences(experiment_dfX)\n",
        "\n",
        "  word_index = tokenizer.word_index\n",
        "  print('Found %s unique tokens.' % len(word_index))\n",
        "\n",
        "  #Padding the sequence \n",
        "  trainX_seq_trunc = pad_sequences(trainX_seq, maxlen=MAX_SEQUENCE_LENGTH)\n",
        "  testX_seq_trunc = pad_sequences(testX_seq, maxlen=MAX_SEQUENCE_LENGTH)\n",
        "  experimentX_seq_trunc = pad_sequences(experimentX_seq, maxlen = MAX_SEQUENCE_LENGTH)\n",
        "  return trainX_seq_trunc, testX_seq_trunc, experimentX_seq_trunc, word_index"
      ],
      "execution_count": null,
      "outputs": []
    },
    {
      "cell_type": "code",
      "metadata": {
        "colab": {
          "base_uri": "https://localhost:8080/"
        },
        "id": "77VZcC5kCQ5z",
        "outputId": "5b9b60a1-3594-4c93-906a-372da584e58c"
      },
      "source": [
        "a_trainX_df.head()"
      ],
      "execution_count": null,
      "outputs": [
        {
          "output_type": "execute_result",
          "data": {
            "text/plain": [
              "0                        [ask, native, american, take]\n",
              "1                                    [go, home, drunk]\n",
              "2    [amazon, investigating, chinese, employee, sel...\n",
              "3            [someone, vet, ken, piece, shit, volcano]\n",
              "4    [obama, wanted, liberal, amp, illegals, move, ...\n",
              "Name: clean_tweet, dtype: object"
            ]
          },
          "metadata": {
            "tags": []
          },
          "execution_count": 91
        }
      ]
    },
    {
      "cell_type": "code",
      "metadata": {
        "colab": {
          "base_uri": "https://localhost:8080/"
        },
        "id": "WIb0m4yfCQ5z",
        "outputId": "63638871-c40b-4c48-9270-c57082547c34"
      },
      "source": [
        "#Generate vectorized matrix for A B and C\n",
        "vec_a_trainX_df, vec_a_testX_df, vec_a_exp_df, word_index_a = vectorizing(a_trainX_df, a_testX_df, a_experimentX_df, 'a')\n",
        "vec_b_trainX_df, vec_b_testX_df, vec_b_exp_df, word_index_b = vectorizing(b_trainX_df, b_testX_df, b_experimentX_df,'b')\n",
        "vec_c_trainX_df, vec_c_testX_df, vec_c_exp_df, word_index_c = vectorizing(c_trainX_df, c_testX_df, c_experimentX_df, 'c')"
      ],
      "execution_count": null,
      "outputs": [
        {
          "output_type": "stream",
          "text": [
            "Found 13819 unique tokens.\n",
            "Found 8199 unique tokens.\n",
            "Found 7742 unique tokens.\n"
          ],
          "name": "stdout"
        }
      ]
    },
    {
      "cell_type": "code",
      "metadata": {
        "colab": {
          "base_uri": "https://localhost:8080/"
        },
        "id": "PwzNdjbbCQ50",
        "outputId": "b4a3300c-4602-4ad3-eb3f-34792cf02e79"
      },
      "source": [
        "a_experimentY_df.unique()"
      ],
      "execution_count": null,
      "outputs": [
        {
          "output_type": "execute_result",
          "data": {
            "text/plain": [
              "array(['OFF', 'NOT'], dtype=object)"
            ]
          },
          "metadata": {
            "tags": []
          },
          "execution_count": 93
        }
      ]
    },
    {
      "cell_type": "code",
      "metadata": {
        "colab": {
          "base_uri": "https://localhost:8080/"
        },
        "id": "QU4oXWwWCQ50",
        "outputId": "0532df51-8f37-4611-e7d5-5626c869e559"
      },
      "source": [
        "#Convert the target classes to categoricial  \n",
        "le = LabelEncoder()\n",
        "ie_a_trainY_df = le.fit_transform(a_trainY_df)\n",
        "print(le.classes_)\n",
        "ie_a_testY_df = le.transform(a_testY_df)\n",
        "ie_a_exp_y_df = le.transform(a_experimentY_df)\n",
        "ie_b_trainY_df = le.fit_transform(b_trainY_df)\n",
        "print(le.classes_)\n",
        "ie_b_testY_df = le.transform(b_testY_df)\n",
        "ie_b_exp_y_df = le.transform(b_experimentY_df)\n",
        "ie_c_trainY_df = le.fit_transform(c_trainY_df)\n",
        "print(le.classes_)\n",
        "ie_c_testY_df = le.transform(c_testY_df)\n",
        "ie_c_exp_y_df = le.transform(c_experimentY_df)\n",
        "\n",
        "#Convert to One Hot Encoding\n",
        "oh_a_trainY_df = to_categorical(ie_a_trainY_df)\n",
        "oh_a_testY_df = to_categorical(ie_a_testY_df)\n",
        "oh_a_exp_y_df = to_categorical(ie_a_exp_y_df)\n",
        "oh_b_trainY_df = to_categorical(ie_b_trainY_df)\n",
        "oh_b_testY_df = to_categorical(ie_b_testY_df)\n",
        "oh_b_exp_y_df = to_categorical(ie_b_exp_y_df)\n",
        "oh_c_trainY_df = to_categorical(ie_c_trainY_df)\n",
        "oh_c_testY_df = to_categorical(ie_c_testY_df)\n",
        "oh_c_exp_y_df = to_categorical(ie_c_exp_y_df)"
      ],
      "execution_count": null,
      "outputs": [
        {
          "output_type": "stream",
          "text": [
            "['NOT' 'OFF']\n",
            "['TIN' 'UNT']\n",
            "['GRP' 'IND' 'OTH']\n"
          ],
          "name": "stdout"
        }
      ]
    },
    {
      "cell_type": "code",
      "metadata": {
        "colab": {
          "base_uri": "https://localhost:8080/"
        },
        "id": "rHLbovMECQ50",
        "outputId": "fca80637-4ab0-424a-d8ed-e244f573c783"
      },
      "source": [
        "le.classes_"
      ],
      "execution_count": null,
      "outputs": [
        {
          "output_type": "execute_result",
          "data": {
            "text/plain": [
              "array(['GRP', 'IND', 'OTH'], dtype=object)"
            ]
          },
          "metadata": {
            "tags": []
          },
          "execution_count": 95
        }
      ]
    },
    {
      "cell_type": "code",
      "metadata": {
        "colab": {
          "base_uri": "https://localhost:8080/"
        },
        "id": "aQmYvRQtCQ50",
        "outputId": "05e11978-d974-4203-97f2-5b74f5659a10"
      },
      "source": [
        "oh_a_trainY_df.shape,ie_a_trainY_df.shape"
      ],
      "execution_count": null,
      "outputs": [
        {
          "output_type": "execute_result",
          "data": {
            "text/plain": [
              "((13240, 2), (13240,))"
            ]
          },
          "metadata": {
            "tags": []
          },
          "execution_count": 96
        }
      ]
    },
    {
      "cell_type": "markdown",
      "metadata": {
        "id": "c60q8VkECQ50"
      },
      "source": [
        "### Splitting of Validation Data\n",
        "* For one hot encoding\n",
        "* For integer encoding"
      ]
    },
    {
      "cell_type": "code",
      "metadata": {
        "id": "kq2Wx-uFCQ51"
      },
      "source": [
        "#Allocate 10% of the training data for validation \n",
        "oh_a_trainX_df, oh_a_validX_df, oh_a_trainY_df, oh_a_validY_df = train_test_split(vec_a_trainX_df, oh_a_trainY_df, test_size = 0.1, random_state = 37)\n",
        "oh_b_trainX_df, oh_b_validX_df, oh_b_trainY_df, oh_b_validY_df = train_test_split(vec_b_trainX_df, oh_b_trainY_df, test_size = 0.1, random_state = 37)\n",
        "oh_c_trainX_df, oh_c_validX_df, oh_c_trainY_df, oh_c_validY_df = train_test_split(vec_c_trainX_df, oh_c_trainY_df, test_size = 0.1, random_state = 37)\n",
        "\n",
        "#For Integer Encoding \n",
        "le_a_trainX_df, le_a_validX_df, le_a_trainY_df, le_a_validY_df = train_test_split(vec_a_trainX_df, ie_a_trainY_df, test_size = 0.1, random_state = 37)\n",
        "le_b_trainX_df, le_b_validX_df, le_b_trainY_df, le_b_validY_df = train_test_split(vec_b_trainX_df, ie_b_trainY_df, test_size = 0.1, random_state = 37)\n",
        "le_c_trainX_df, le_c_validX_df, le_c_trainY_df, le_c_validY_df = train_test_split(vec_c_trainX_df, ie_c_trainY_df, test_size = 0.1, random_state = 37)"
      ],
      "execution_count": null,
      "outputs": []
    },
    {
      "cell_type": "code",
      "metadata": {
        "colab": {
          "base_uri": "https://localhost:8080/"
        },
        "id": "40YSRYMJCQ51",
        "outputId": "e1fb0a8c-a1d6-42f3-c792-5c57c96ddf88"
      },
      "source": [
        "le_a_trainX_df"
      ],
      "execution_count": null,
      "outputs": [
        {
          "output_type": "execute_result",
          "data": {
            "text/plain": [
              "array([[   0,    0,    0, ..., 3373, 4702,  277],\n",
              "       [   0,    0,    0, ...,   59,  121, 4391],\n",
              "       [   0,    0,    0, ...,   28, 1956,  817],\n",
              "       ...,\n",
              "       [   0,    0,    0, ..., 3878,  962,   16],\n",
              "       [   0,    0,    0, ..., 4457, 3454,   34],\n",
              "       [   0,    0,    0, ...,    0,   68, 3134]], dtype=int32)"
            ]
          },
          "metadata": {
            "tags": []
          },
          "execution_count": 98
        }
      ]
    },
    {
      "cell_type": "markdown",
      "metadata": {
        "id": "xFGcRmyPI67B"
      },
      "source": [
        "# GloVe Intermediate\n",
        "* For Neural Network \n",
        "* For statistical model"
      ]
    },
    {
      "cell_type": "markdown",
      "metadata": {
        "id": "nNTv_svAI67L"
      },
      "source": [
        "## For STATS Model"
      ]
    },
    {
      "cell_type": "code",
      "metadata": {
        "id": "bUIqLIJqI67L"
      },
      "source": [
        "#convert the training data to string\n",
        "a_trainX_str = a_trainX_df.apply(', '.join)\n",
        "a_testX_str = a_testX_df.apply(', ' .join)\n",
        "a_expX_str = a_experimentX_df.apply(',' .join)\n",
        "b_trainX_str = b_trainX_df.apply(', '.join)\n",
        "b_testX_str = b_testX_df.apply(', '.join)\n",
        "b_expX_str = b_experimentX_df.apply(',' .join)\n",
        "c_trainX_str = c_trainX_df.apply(', '.join)\n",
        "c_testX_str = c_testX_df.apply(', '.join)\n",
        "c_expX_str = c_experimentX_df.apply(',' .join)"
      ],
      "execution_count": null,
      "outputs": []
    },
    {
      "cell_type": "code",
      "metadata": {
        "id": "KkidT9H-I67M"
      },
      "source": [
        "# #Download the embedding transformer \n",
        "# ## TAKES LONG\n",
        "# glove = EmbeddingTransformer('glove-twitter-200')\n"
      ],
      "execution_count": null,
      "outputs": []
    },
    {
      "cell_type": "code",
      "metadata": {
        "id": "db8kaII5I67M"
      },
      "source": [
        "#Embed the training data \n",
        "a_trainX_em = glove.transform(a_trainX_str)\n",
        "a_testX_em = glove.transform(a_testX_str)\n",
        "a_expX_em = glove.transform(a_expX_str)\n",
        "b_trainX_em = glove.transform(b_trainX_str)\n",
        "b_testX_em = glove.transform(b_testX_str)\n",
        "b_expX_em = glove.transform(b_expX_str)\n",
        "c_trainX_em = glove.transform(c_trainX_str)\n",
        "c_testX_em = glove.transform(c_testX_str)\n",
        "c_expX_em = glove.transform(c_expX_str)"
      ],
      "execution_count": null,
      "outputs": []
    },
    {
      "cell_type": "code",
      "metadata": {
        "colab": {
          "base_uri": "https://localhost:8080/"
        },
        "id": "lOhEZTifI67M",
        "outputId": "8357978f-e914-49ea-8571-12f01aa4dd90"
      },
      "source": [
        "b_trainX_em.shape, ie_b_trainY_df.shape, b_testX_df.shape, b_testX_em.shape"
      ],
      "execution_count": null,
      "outputs": [
        {
          "output_type": "execute_result",
          "data": {
            "text/plain": [
              "((4400, 200), (4400,), (240,), (240, 200))"
            ]
          },
          "metadata": {
            "tags": []
          },
          "execution_count": 102
        }
      ]
    },
    {
      "cell_type": "code",
      "metadata": {
        "id": "_mliq85DI67N"
      },
      "source": [
        "# Create Validation Split\n",
        "a_trainX_em, a_validX_em, a_trainY_em, a_validY_em = train_test_split(a_trainX_em, ie_a_trainY_df, test_size=0.1, random_state=37)\n",
        "b_trainX_em, b_validX_em, b_trainY_em, b_validY_em = train_test_split(b_trainX_em, ie_b_trainY_df, test_size=0.1, random_state=37)\n",
        "c_trainX_em, c_validX_em, c_trainY_em, c_validY_em = train_test_split(c_trainX_em, ie_c_trainY_df, test_size=0.1, random_state=37)"
      ],
      "execution_count": null,
      "outputs": []
    },
    {
      "cell_type": "markdown",
      "metadata": {
        "id": "ExioRdSbI67N"
      },
      "source": [
        "### Test the Model's Performance "
      ]
    },
    {
      "cell_type": "code",
      "metadata": {
        "colab": {
          "base_uri": "https://localhost:8080/"
        },
        "id": "D5vCyoWdI67N",
        "outputId": "6b6bfdef-af54-4367-cf59-86a1b2877a79"
      },
      "source": [
        "# Balanced Weights\n",
        "# LOGISTIC REGRESSION\n",
        "from sklearn.metrics import classification_report, confusion_matrix\n",
        "\n",
        "model = LogisticRegression(max_iter=100000, class_weight='balanced', solver='newton-cg')\n",
        "model.fit(a_trainX_em, a_trainY_em)\n",
        "\n",
        "y_pred = model.predict(a_validX_em)\n",
        "\n",
        "evaluate_on_training_set(a_validY_em, y_pred)"
      ],
      "execution_count": null,
      "outputs": [
        {
          "output_type": "stream",
          "text": [
            "AUC is:  0.5996452077334431\n",
            "              precision    recall  f1-score   support\n",
            "\n",
            "           0       0.74      0.66      0.70       884\n",
            "           1       0.44      0.54      0.49       440\n",
            "\n",
            "    accuracy                           0.62      1324\n",
            "   macro avg       0.59      0.60      0.59      1324\n",
            "weighted avg       0.64      0.62      0.63      1324\n",
            "\n",
            "Confusion Matrix: \n",
            " [[580 304]\n",
            " [201 239]]\n"
          ],
          "name": "stdout"
        },
        {
          "output_type": "stream",
          "text": [
            "/usr/local/lib/python3.6/dist-packages/scipy/optimize/linesearch.py:314: LineSearchWarning: The line search algorithm did not converge\n",
            "  warn('The line search algorithm did not converge', LineSearchWarning)\n",
            "/usr/local/lib/python3.6/dist-packages/sklearn/utils/optimize.py:204: UserWarning: Line Search failed\n",
            "  warnings.warn('Line Search failed')\n"
          ],
          "name": "stderr"
        },
        {
          "output_type": "display_data",
          "data": {
            "image/png": "[encoded data removed]",
            "text/plain": [
              "<Figure size 432x288 with 1 Axes>"
            ]
          },
          "metadata": {
            "tags": [],
            "needs_background": "light"
          }
        }
      ]
    },
    {
      "cell_type": "code",
      "metadata": {
        "colab": {
          "base_uri": "https://localhost:8080/"
        },
        "id": "7swhIM6NI67O",
        "outputId": "d5848309-d76c-4b62-f5c2-79c45de9e96a"
      },
      "source": [
        "# Balanced Weights\n",
        "# LOGISTIC REGRESSION\n",
        "\n",
        "model = LogisticRegression(max_iter=100000, class_weight='balanced', solver='newton-cg')\n",
        "model.fit(b_trainX_em, b_trainY_em)\n",
        "\n",
        "y_pred = model.predict(b_validX_em)\n",
        "\n",
        "evaluate_on_training_set(b_validY_em, y_pred)"
      ],
      "execution_count": null,
      "outputs": [
        {
          "output_type": "stream",
          "text": [
            "AUC is:  0.5314218381775334\n",
            "              precision    recall  f1-score   support\n",
            "\n",
            "           0       0.92      0.64      0.76       402\n",
            "           1       0.10      0.42      0.16        38\n",
            "\n",
            "    accuracy                           0.62       440\n",
            "   macro avg       0.51      0.53      0.46       440\n",
            "weighted avg       0.85      0.62      0.71       440\n",
            "\n",
            "Confusion Matrix: \n",
            " [[258 144]\n",
            " [ 22  16]]\n"
          ],
          "name": "stdout"
        },
        {
          "output_type": "stream",
          "text": [
            "/usr/local/lib/python3.6/dist-packages/scipy/optimize/linesearch.py:314: LineSearchWarning: The line search algorithm did not converge\n",
            "  warn('The line search algorithm did not converge', LineSearchWarning)\n",
            "/usr/local/lib/python3.6/dist-packages/sklearn/utils/optimize.py:204: UserWarning: Line Search failed\n",
            "  warnings.warn('Line Search failed')\n"
          ],
          "name": "stderr"
        },
        {
          "output_type": "display_data",
          "data": {
            "image/png": "[encoded data removed]",
            "text/plain": [
              "<Figure size 432x288 with 1 Axes>"
            ]
          },
          "metadata": {
            "tags": [],
            "needs_background": "light"
          }
        }
      ]
    },
    {
      "cell_type": "code",
      "metadata": {
        "colab": {
          "base_uri": "https://localhost:8080/"
        },
        "id": "IL9_yyM2I67O",
        "outputId": "30d29e19-6bae-4af2-ac58-89df408d89c8"
      },
      "source": [
        "# Balanced Weights\n",
        "# LOGISTIC REGRESSION\n",
        "from sklearn.metrics import classification_report, confusion_matrix\n",
        "\n",
        "model = LogisticRegression(max_iter=100000, class_weight='balanced', solver='newton-cg', multi_class='ovr')\n",
        "model.fit(c_trainX_em, c_trainY_em)\n",
        "\n",
        "y_pred = model.predict(c_validX_em)\n",
        "\n",
        "classification_report = classification_report(c_validY_em, y_pred)\n",
        "\n",
        "print('\\n Accuracy: ', accuracy_score(c_validY_em, y_pred))\n",
        "print('\\nClassification Report')\n",
        "print('======================================================')\n",
        "print('\\n', classification_report)\n",
        "\n",
        "print(f\"AUC score:{multiclass_roc_auc_score(c_validY_em, y_pred)}\")"
      ],
      "execution_count": null,
      "outputs": [
        {
          "output_type": "stream",
          "text": [
            "/usr/local/lib/python3.6/dist-packages/scipy/optimize/linesearch.py:314: LineSearchWarning: The line search algorithm did not converge\n",
            "  warn('The line search algorithm did not converge', LineSearchWarning)\n",
            "/usr/local/lib/python3.6/dist-packages/sklearn/utils/optimize.py:204: UserWarning: Line Search failed\n",
            "  warnings.warn('Line Search failed')\n",
            "/usr/local/lib/python3.6/dist-packages/scipy/optimize/linesearch.py:314: LineSearchWarning: The line search algorithm did not converge\n",
            "  warn('The line search algorithm did not converge', LineSearchWarning)\n",
            "/usr/local/lib/python3.6/dist-packages/sklearn/utils/optimize.py:204: UserWarning: Line Search failed\n",
            "  warnings.warn('Line Search failed')\n"
          ],
          "name": "stderr"
        },
        {
          "output_type": "stream",
          "text": [
            "\n",
            " Accuracy:  0.48711340206185566\n",
            "\n",
            "Classification Report\n",
            "======================================================\n",
            "\n",
            "               precision    recall  f1-score   support\n",
            "\n",
            "           0       0.36      0.41      0.38        97\n",
            "           1       0.75      0.51      0.61       261\n",
            "           2       0.15      0.50      0.23        30\n",
            "\n",
            "    accuracy                           0.49       388\n",
            "   macro avg       0.42      0.48      0.41       388\n",
            "weighted avg       0.61      0.49      0.52       388\n",
            "\n",
            "AUC score:0.6000096911602818\n"
          ],
          "name": "stdout"
        },
        {
          "output_type": "stream",
          "text": [
            "/usr/local/lib/python3.6/dist-packages/scipy/optimize/linesearch.py:314: LineSearchWarning: The line search algorithm did not converge\n",
            "  warn('The line search algorithm did not converge', LineSearchWarning)\n",
            "/usr/local/lib/python3.6/dist-packages/sklearn/utils/optimize.py:204: UserWarning: Line Search failed\n",
            "  warnings.warn('Line Search failed')\n"
          ],
          "name": "stderr"
        }
      ]
    },
    {
      "cell_type": "markdown",
      "metadata": {
        "id": "37zx8_tsqfZy"
      },
      "source": [
        "#Data Cleaning Advanced"
      ]
    },
    {
      "cell_type": "markdown",
      "metadata": {
        "id": "ngr0IM_pqfZ9"
      },
      "source": [
        "## Load the DataFrames"
      ]
    },
    {
      "cell_type": "code",
      "metadata": {
        "id": "HH-fitbyqfZ-"
      },
      "source": [
        "#read the files into their respective dataframes \n",
        "labela_df = pd.read_csv('/content/drive/My Drive/CDS_Project/OLIDv1/labels-levela.csv', header = None)\n",
        "labelb_df = pd.read_csv('/content/drive/My Drive/CDS_Project/OLIDv1/labels-levelb.csv', header = None)\n",
        "labelc_df = pd.read_csv('/content/drive/My Drive/CDS_Project/OLIDv1/labels-levelc.csv', header = None)\n",
        "testa_df = pd.read_csv('/content/drive/My Drive/CDS_Project/OLIDv1/testset-levela.tsv', sep = '\\t')\n",
        "testb_df = pd.read_csv('/content/drive/My Drive/CDS_Project/OLIDv1/testset-levelb.tsv', sep = '\\t')\n",
        "testc_df = pd.read_csv('/content/drive/My Drive/CDS_Project/OLIDv1/testset-levelc.tsv', sep = '\\t')\n",
        "train_df = pd.read_csv('/content/drive/My Drive/CDS_Project/OLIDv1/olid-training-v1.0.tsv', sep = '\\t')\n",
        "experiment_df = pd.read_excel('/content/drive/My Drive/CDS_Project/OLIDv1/Data/PublicData.xlsx')"
      ],
      "execution_count": null,
      "outputs": []
    },
    {
      "cell_type": "code",
      "metadata": {
        "colab": {
          "base_uri": "https://localhost:8080/"
        },
        "id": "UKFlBB4WqfZ_",
        "outputId": "d2a2eae1-c64f-4c3c-d606-2d44561b561f"
      },
      "source": [
        "#Clean the experimental labels \n",
        "experiment_df['subtask_a'] = experiment_df['subtask_a'].replace('OFF ', 'OFF')\n",
        "experiment_df['subtask_b'] = experiment_df['subtask_b'].replace('OFF ', 'OFF')\n",
        "experiment_df['subtask_c'] = experiment_df['subtask_c'].replace('OFF ', 'OFF')\n",
        "experiment_df['subtask_a'].unique(),experiment_df['subtask_b'].unique(), experiment_df['subtask_c'].unique() "
      ],
      "execution_count": null,
      "outputs": [
        {
          "output_type": "execute_result",
          "data": {
            "text/plain": [
              "(array(['OFF', 'NOT'], dtype=object),\n",
              " array(['TIN', nan, 'UNT'], dtype=object),\n",
              " array(['IND', 'GRP', 'OTH', nan], dtype=object))"
            ]
          },
          "metadata": {
            "tags": []
          },
          "execution_count": 108
        }
      ]
    },
    {
      "cell_type": "code",
      "metadata": {
        "colab": {
          "base_uri": "https://localhost:8080/",
          "height": 204
        },
        "id": "9woE2GIwqfZ_",
        "outputId": "62f516af-9a5b-454e-ed99-13e93f26cfe6"
      },
      "source": [
        "#Split the experiment data into A, B and C\n",
        "experiment_a_df = experiment_df[['tweet', 'subtask_a']]\n",
        "experiment_b_df = experiment_df[['tweet', 'subtask_b']]\n",
        "experiment_c_df = experiment_df[['tweet', 'subtask_c']]\n",
        "experiment_a_df.head()"
      ],
      "execution_count": null,
      "outputs": [
        {
          "output_type": "execute_result",
          "data": {
            "text/html": [
              "<div>\n",
              "<style scoped>\n",
              "    .dataframe tbody tr th:only-of-type {\n",
              "        vertical-align: middle;\n",
              "    }\n",
              "\n",
              "    .dataframe tbody tr th {\n",
              "        vertical-align: top;\n",
              "    }\n",
              "\n",
              "    .dataframe thead th {\n",
              "        text-align: right;\n",
              "    }\n",
              "</style>\n",
              "<table border=\"1\" class=\"dataframe\">\n",
              "  <thead>\n",
              "    <tr style=\"text-align: right;\">\n",
              "      <th></th>\n",
              "      <th>tweet</th>\n",
              "      <th>subtask_a</th>\n",
              "    </tr>\n",
              "  </thead>\n",
              "  <tbody>\n",
              "    <tr>\n",
              "      <th>0</th>\n",
              "      <td>RT @iSellGreenCards: 1st RT @MsSashaBelle: Sho...</td>\n",
              "      <td>OFF</td>\n",
              "    </tr>\n",
              "    <tr>\n",
              "      <th>1</th>\n",
              "      <td>@40oz_VAN IYCMI. I can't get any work done if ...</td>\n",
              "      <td>OFF</td>\n",
              "    </tr>\n",
              "    <tr>\n",
              "      <th>2</th>\n",
              "      <td>&amp;#8220;@lildebo2391: He too rich to let that b...</td>\n",
              "      <td>OFF</td>\n",
              "    </tr>\n",
              "    <tr>\n",
              "      <th>3</th>\n",
              "      <td>Really Barnicle? OJ or Anthony Weiner? MJ is a...</td>\n",
              "      <td>OFF</td>\n",
              "    </tr>\n",
              "    <tr>\n",
              "      <th>4</th>\n",
              "      <td>RT @GabrielaAngela4: That hoe wanta 6/6.</td>\n",
              "      <td>OFF</td>\n",
              "    </tr>\n",
              "  </tbody>\n",
              "</table>\n",
              "</div>"
            ],
            "text/plain": [
              "                                               tweet subtask_a\n",
              "0  RT @iSellGreenCards: 1st RT @MsSashaBelle: Sho...       OFF\n",
              "1  @40oz_VAN IYCMI. I can't get any work done if ...       OFF\n",
              "2  &#8220;@lildebo2391: He too rich to let that b...       OFF\n",
              "3  Really Barnicle? OJ or Anthony Weiner? MJ is a...       OFF\n",
              "4           RT @GabrielaAngela4: That hoe wanta 6/6.       OFF"
            ]
          },
          "metadata": {
            "tags": []
          },
          "execution_count": 109
        }
      ]
    },
    {
      "cell_type": "code",
      "metadata": {
        "colab": {
          "base_uri": "https://localhost:8080/",
          "height": 204
        },
        "id": "Z2IDJszMqfZ_",
        "outputId": "39a9f6c2-99fb-4aaa-c193-f8fe3e950be1"
      },
      "source": [
        "#Merge the label dataset with the test data set, so only Test data set needed\n",
        "\n",
        "testa_df['subtask_a'] = labela_df[1]\n",
        "testb_df['subtask_b'] = labelb_df[1]\n",
        "testc_df['subtask_c'] = labelc_df[1]\n",
        "testc_df.head()"
      ],
      "execution_count": null,
      "outputs": [
        {
          "output_type": "execute_result",
          "data": {
            "text/html": [
              "<div>\n",
              "<style scoped>\n",
              "    .dataframe tbody tr th:only-of-type {\n",
              "        vertical-align: middle;\n",
              "    }\n",
              "\n",
              "    .dataframe tbody tr th {\n",
              "        vertical-align: top;\n",
              "    }\n",
              "\n",
              "    .dataframe thead th {\n",
              "        text-align: right;\n",
              "    }\n",
              "</style>\n",
              "<table border=\"1\" class=\"dataframe\">\n",
              "  <thead>\n",
              "    <tr style=\"text-align: right;\">\n",
              "      <th></th>\n",
              "      <th>id</th>\n",
              "      <th>tweet</th>\n",
              "      <th>subtask_c</th>\n",
              "    </tr>\n",
              "  </thead>\n",
              "  <tbody>\n",
              "    <tr>\n",
              "      <th>0</th>\n",
              "      <td>15923</td>\n",
              "      <td>#WhoIsQ #WheresTheServer #DumpNike #DECLASFISA...</td>\n",
              "      <td>OTH</td>\n",
              "    </tr>\n",
              "    <tr>\n",
              "      <th>1</th>\n",
              "      <td>60133</td>\n",
              "      <td>#NoPasaran: Unity demo to oppose the far-right...</td>\n",
              "      <td>GRP</td>\n",
              "    </tr>\n",
              "    <tr>\n",
              "      <th>2</th>\n",
              "      <td>83681</td>\n",
              "      <td>. . . What the fuck did he do this time?</td>\n",
              "      <td>IND</td>\n",
              "    </tr>\n",
              "    <tr>\n",
              "      <th>3</th>\n",
              "      <td>65507</td>\n",
              "      <td>@USER Do you get the feeling he is kissing @US...</td>\n",
              "      <td>OTH</td>\n",
              "    </tr>\n",
              "    <tr>\n",
              "      <th>4</th>\n",
              "      <td>34263</td>\n",
              "      <td>#StopKavanaugh he is liar like the rest of the...</td>\n",
              "      <td>IND</td>\n",
              "    </tr>\n",
              "  </tbody>\n",
              "</table>\n",
              "</div>"
            ],
            "text/plain": [
              "      id                                              tweet subtask_c\n",
              "0  15923  #WhoIsQ #WheresTheServer #DumpNike #DECLASFISA...       OTH\n",
              "1  60133  #NoPasaran: Unity demo to oppose the far-right...       GRP\n",
              "2  83681           . . . What the fuck did he do this time?       IND\n",
              "3  65507  @USER Do you get the feeling he is kissing @US...       OTH\n",
              "4  34263  #StopKavanaugh he is liar like the rest of the...       IND"
            ]
          },
          "metadata": {
            "tags": []
          },
          "execution_count": 110
        }
      ]
    },
    {
      "cell_type": "code",
      "metadata": {
        "colab": {
          "base_uri": "https://localhost:8080/",
          "height": 289
        },
        "id": "ICg1yqIaqfZ_",
        "outputId": "9e9acba8-2622-4fbf-c55b-ce9c94ada3a3"
      },
      "source": [
        "#View the training data set\n",
        "train_df.head()"
      ],
      "execution_count": null,
      "outputs": [
        {
          "output_type": "execute_result",
          "data": {
            "text/html": [
              "<div>\n",
              "<style scoped>\n",
              "    .dataframe tbody tr th:only-of-type {\n",
              "        vertical-align: middle;\n",
              "    }\n",
              "\n",
              "    .dataframe tbody tr th {\n",
              "        vertical-align: top;\n",
              "    }\n",
              "\n",
              "    .dataframe thead th {\n",
              "        text-align: right;\n",
              "    }\n",
              "</style>\n",
              "<table border=\"1\" class=\"dataframe\">\n",
              "  <thead>\n",
              "    <tr style=\"text-align: right;\">\n",
              "      <th></th>\n",
              "      <th>id</th>\n",
              "      <th>tweet</th>\n",
              "      <th>subtask_a</th>\n",
              "      <th>subtask_b</th>\n",
              "      <th>subtask_c</th>\n",
              "    </tr>\n",
              "  </thead>\n",
              "  <tbody>\n",
              "    <tr>\n",
              "      <th>0</th>\n",
              "      <td>86426</td>\n",
              "      <td>@USER She should ask a few native Americans wh...</td>\n",
              "      <td>OFF</td>\n",
              "      <td>UNT</td>\n",
              "      <td>NaN</td>\n",
              "    </tr>\n",
              "    <tr>\n",
              "      <th>1</th>\n",
              "      <td>90194</td>\n",
              "      <td>@USER @USER Go home you’re drunk!!! @USER #MAG...</td>\n",
              "      <td>OFF</td>\n",
              "      <td>TIN</td>\n",
              "      <td>IND</td>\n",
              "    </tr>\n",
              "    <tr>\n",
              "      <th>2</th>\n",
              "      <td>16820</td>\n",
              "      <td>Amazon is investigating Chinese employees who ...</td>\n",
              "      <td>NOT</td>\n",
              "      <td>NaN</td>\n",
              "      <td>NaN</td>\n",
              "    </tr>\n",
              "    <tr>\n",
              "      <th>3</th>\n",
              "      <td>62688</td>\n",
              "      <td>@USER Someone should'veTaken\" this piece of sh...</td>\n",
              "      <td>OFF</td>\n",
              "      <td>UNT</td>\n",
              "      <td>NaN</td>\n",
              "    </tr>\n",
              "    <tr>\n",
              "      <th>4</th>\n",
              "      <td>43605</td>\n",
              "      <td>@USER @USER Obama wanted liberals &amp;amp; illega...</td>\n",
              "      <td>NOT</td>\n",
              "      <td>NaN</td>\n",
              "      <td>NaN</td>\n",
              "    </tr>\n",
              "  </tbody>\n",
              "</table>\n",
              "</div>"
            ],
            "text/plain": [
              "      id                                              tweet  ... subtask_b subtask_c\n",
              "0  86426  @USER She should ask a few native Americans wh...  ...       UNT       NaN\n",
              "1  90194  @USER @USER Go home you’re drunk!!! @USER #MAG...  ...       TIN       IND\n",
              "2  16820  Amazon is investigating Chinese employees who ...  ...       NaN       NaN\n",
              "3  62688  @USER Someone should'veTaken\" this piece of sh...  ...       UNT       NaN\n",
              "4  43605  @USER @USER Obama wanted liberals &amp; illega...  ...       NaN       NaN\n",
              "\n",
              "[5 rows x 5 columns]"
            ]
          },
          "metadata": {
            "tags": []
          },
          "execution_count": 111
        }
      ]
    },
    {
      "cell_type": "markdown",
      "metadata": {
        "id": "hF5FveohqfaA"
      },
      "source": [
        "## Cleaning the Tweets\n",
        "\n",
        "The training and test data are in 2 separate files, so a function has been written to to tidy the text up and return a column of cleaned tweets\n",
        "\n",
        "* remove URLs, Hashtags, Mentions, Reserved Words (RT, FAV), Emojis\n",
        "* Change text to lowercase \n",
        "* Handle Apostrophe (e.g. aren't -> are not)\n",
        "* Remove punctuations\n",
        "* Remove numbers \n",
        "* Segment the words (fix the spelling) \n",
        "* Lemmatization and Tokenization\n",
        "* Remove Stop Words (with Blacklist and Whitelist words)"
      ]
    },
    {
      "cell_type": "markdown",
      "metadata": {
        "id": "9AGGYsLIqfaA"
      },
      "source": [
        "### Cleaning Function"
      ]
    },
    {
      "cell_type": "code",
      "metadata": {
        "id": "5qQRV0l1qfaA"
      },
      "source": [
        "#list of contractions to remove later \n",
        "contractions = {\n",
        "\"ain't\": \"am not / are not\",\n",
        "\"aren't\": \"are not / am not\",\n",
        "\"can't\": \"cannot\",\n",
        "\"can't've\": \"cannot have\",\n",
        "\"'cause\": \"because\",\n",
        "\"could've\": \"could have\",\n",
        "\"couldn't\": \"could not\",\n",
        "\"couldn't've\": \"could not have\",\n",
        "\"didn't\": \"did not\",\n",
        "\"doesn't\": \"does not\",\n",
        "\"don't\": \"do not\",\n",
        "\"hadn't\": \"had not\",\n",
        "\"hadn't've\": \"had not have\",\n",
        "\"hasn't\": \"has not\",\n",
        "\"haven't\": \"have not\",\n",
        "\"he'd\": \"he had / he would\",\n",
        "\"he'd've\": \"he would have\",\n",
        "\"he'll\": \"he shall / he will\",\n",
        "\"he'll've\": \"he shall have / he will have\",\n",
        "\"he's\": \"he has / he is\",\n",
        "\"how'd\": \"how did\",\n",
        "\"how'd'y\": \"how do you\",\n",
        "\"how'll\": \"how will\",\n",
        "\"how's\": \"how has / how is\",\n",
        "\"i'd\": \"I had / I would\",\n",
        "\"i'd've\": \"I would have\",\n",
        "\"i'll\": \"I shall / I will\",\n",
        "\"i'll've\": \"I shall have / I will have\",\n",
        "\"i'm\": \"I am\",\n",
        "\"i've\": \"I have\",\n",
        "\"isn't\": \"is not\",\n",
        "\"it'd\": \"it had / it would\",\n",
        "\"it'd've\": \"it would have\",\n",
        "\"it'll\": \"it shall / it will\",\n",
        "\"it'll've\": \"it shall have / it will have\",\n",
        "\"it's\": \"it has / it is\",\n",
        "\"let's\": \"let us\",\n",
        "\"ma'am\": \"madam\",\n",
        "\"mayn't\": \"may not\",\n",
        "\"might've\": \"might have\",\n",
        "\"mightn't\": \"might not\",\n",
        "\"mightn't've\": \"might not have\",\n",
        "\"must've\": \"must have\",\n",
        "\"mustn't\": \"must not\",\n",
        "\"mustn't've\": \"must not have\",\n",
        "\"needn't\": \"need not\",\n",
        "\"needn't've\": \"need not have\",\n",
        "\"o'clock\": \"of the clock\",\n",
        "\"oughtn't\": \"ought not\",\n",
        "\"oughtn't've\": \"ought not have\",\n",
        "\"shan't\": \"shall not\",\n",
        "\"sha'n't\": \"shall not\",\n",
        "\"shan't've\": \"shall not have\",\n",
        "\"she'd\": \"she had / she would\",\n",
        "\"she'd've\": \"she would have\",\n",
        "\"she'll\": \"she shall / she will\",\n",
        "\"she'll've\": \"she shall have / she will have\",\n",
        "\"she's\": \"she has / she is\",\n",
        "\"should've\": \"should have\",\n",
        "\"shouldn't\": \"should not\",\n",
        "\"shouldn't've\": \"should not have\",\n",
        "\"so've\": \"so have\",\n",
        "\"so's\": \"so as / so is\",\n",
        "\"that'd\": \"that would / that had\",\n",
        "\"that'd've\": \"that would have\",\n",
        "\"that's\": \"that has / that is\",\n",
        "\"there'd\": \"there had / there would\",\n",
        "\"there'd've\": \"there would have\",\n",
        "\"there's\": \"there has / there is\",\n",
        "\"they'd\": \"they had / they would\",\n",
        "\"they'd've\": \"they would have\",\n",
        "\"they'll\": \"they shall / they will\",\n",
        "\"they'll've\": \"they shall have / they will have\",\n",
        "\"they're\": \"they are\",\n",
        "\"they've\": \"they have\",\n",
        "\"to've\": \"to have\",\n",
        "\"wasn't\": \"was not\",\n",
        "\"we'd\": \"we had / we would\",\n",
        "\"we'd've\": \"we would have\",\n",
        "\"we'll\": \"we will\",\n",
        "\"we'll've\": \"we will have\",\n",
        "\"we're\": \"we are\",\n",
        "\"we've\": \"we have\",\n",
        "\"weren't\": \"were not\",\n",
        "\"what'll\": \"what shall / what will\",\n",
        "\"what'll've\": \"what shall have / what will have\",\n",
        "\"what're\": \"what are\",\n",
        "\"what's\": \"what has / what is\",\n",
        "\"what've\": \"what have\",\n",
        "\"when's\": \"when has / when is\",\n",
        "\"when've\": \"when have\",\n",
        "\"where'd\": \"where did\",\n",
        "\"where's\": \"where has / where is\",\n",
        "\"where've\": \"where have\",\n",
        "\"who'll\": \"who shall / who will\",\n",
        "\"who'll've\": \"who shall have / who will have\",\n",
        "\"who's\": \"who has / who is\",\n",
        "\"who've\": \"who have\",\n",
        "\"why's\": \"why has / why is\",\n",
        "\"why've\": \"why have\",\n",
        "\"will've\": \"will have\",\n",
        "\"won't\": \"will not\",\n",
        "\"won't've\": \"will not have\",\n",
        "\"would've\": \"would have\",\n",
        "\"wouldn't\": \"would not\",\n",
        "\"wouldn't've\": \"would not have\",\n",
        "\"y'all\": \"you all\",\n",
        "\"y'all'd\": \"you all would\",\n",
        "\"y'all'd've\": \"you all would have\",\n",
        "\"y'all're\": \"you all are\",\n",
        "\"y'all've\": \"you all have\",\n",
        "\"you'd\": \"you had / you would\",\n",
        "\"you'd've\": \"you would have\",\n",
        "\"you'll\": \"you shall / you will\",\n",
        "\"you'll've\": \"you shall have / you will have\",\n",
        "\"you're\": \"you are\",\n",
        "\"you've\": \"you have\"\n",
        "}"
      ],
      "execution_count": null,
      "outputs": []
    },
    {
      "cell_type": "code",
      "metadata": {
        "colab": {
          "base_uri": "https://localhost:8080/"
        },
        "id": "QSEylFLsqfaA",
        "outputId": "7940a65b-b4cf-4ba4-d7ee-9fd40c516271"
      },
      "source": [
        "#Setting up SymSpell to segment words\n",
        "sym_spell = SymSpell(max_dictionary_edit_distance=0, prefix_length=7)\n",
        "dictionary_path = pkg_resources.resource_filename(\n",
        "    \"symspellpy\", \"frequency_dictionary_en_82_765.txt\")\n",
        "# term_index is the column of the term and count_index is the column of the term frequency\n",
        "sym_spell.load_dictionary(dictionary_path, term_index=0, count_index=1)\n"
      ],
      "execution_count": null,
      "outputs": [
        {
          "output_type": "execute_result",
          "data": {
            "text/plain": [
              "True"
            ]
          },
          "metadata": {
            "tags": []
          },
          "execution_count": 113
        }
      ]
    },
    {
      "cell_type": "code",
      "metadata": {
        "id": "Y_hWuIEaqfaA"
      },
      "source": [
        "#Setting up Lematizer, Tokenizer\n",
        "lemmatizer = nltk.stem.WordNetLemmatizer()\n",
        "w_tokenizer = TweetTokenizer()"
      ],
      "execution_count": null,
      "outputs": []
    },
    {
      "cell_type": "code",
      "metadata": {
        "id": "yJ7tgpX-qfaB"
      },
      "source": [
        "#Removes specially chosen stop words\n",
        "def cleaner(row, contractions, blacklist, whitelist):\n",
        "  '''\n",
        "  Blacklist: Words that are not in stop words but we will be removing \n",
        "  Whitelist: Words that are in the stop words but we will be keeping\n",
        "  '''\n",
        "  #remove URLs, Hashtags, Mentions, Reserved Words (RT, FAV), Emojis\n",
        "  row = p.clean(row)\n",
        "  #lower the text \n",
        "  row = row.lower()\n",
        "  #Apostrophe Handling\n",
        "  for word in row.split():\n",
        "    if word in contractions: \n",
        "      row = row.replace(word, contractions[word.lower()])\n",
        "  #remove punctuations\n",
        "  row  = \"\".join([char for char in row if char not in string.punctuation])\n",
        "  row = re.sub('[0-9]+', '', row, flags=re.MULTILINE)\n",
        "  #remove numbers \n",
        "  row = re.sub(r'\\d+', '', row, flags=re.MULTILINE)\n",
        "  #Segment the words \n",
        "  try:\n",
        "    row = (sym_spell.word_segmentation(row)).corrected_string\n",
        "  except: \n",
        "    pass\n",
        "  #Lemmatization and Tokenization\n",
        "  row = [(lemmatizer.lemmatize(w)) for w in w_tokenizer.tokenize((row))]\n",
        "  #Stopwords \n",
        "  all_stopwords = stopwords.words('english')\n",
        "  all_stopwords.extend(blacklist)\n",
        "  all_stopwords = set(all_stopwords)- set(whitelist)\n",
        "  row = [word for word in row if word not in all_stopwords]\n",
        "  return row"
      ],
      "execution_count": null,
      "outputs": []
    },
    {
      "cell_type": "code",
      "metadata": {
        "colab": {
          "base_uri": "https://localhost:8080/"
        },
        "id": "gFjd05tPqfaB",
        "outputId": "c4bad840-8587-4a94-da87-63758a44d0be"
      },
      "source": [
        "tqdm.pandas()\n",
        "#List of stopwords that want to remove in addition to the ones in stopwords corpus\n",
        "badboy_list = []\n",
        "#List of stopwords that we would like to keep \n",
        "goodboy_list = ['i', 'he', 'she', 'it', 'him', 'her', 'we', 'you', 'they', 'us', 'them' ]\n",
        "#Apply modified clean tweet to the training data\n",
        "train_df['clean_tweet'] = train_df['tweet'].progress_apply(lambda x: cleaner(x, contractions, badboy_list, goodboy_list))\n",
        "#Apply modified clean tweet to the test data\n",
        "testc_df['clean_tweet'] = testc_df['tweet'].progress_apply(lambda x: cleaner(x, contractions, badboy_list, goodboy_list))\n",
        "testb_df['clean_tweet'] = testb_df['tweet'].progress_apply(lambda x: cleaner(x, contractions, badboy_list, goodboy_list))\n",
        "testa_df['clean_tweet'] = testa_df['tweet'].progress_apply(lambda x: cleaner(x, contractions, badboy_list, goodboy_list))\n",
        "#Apply modified cleaen tweet to the experimental data \n",
        "experiment_a_df['clean_tweet'] = experiment_a_df['tweet'].progress_apply(lambda x: cleaner(x, contractions, badboy_list, goodboy_list))\n",
        "experiment_b_df['clean_tweet'] = experiment_b_df['tweet'].progress_apply(lambda x: cleaner(x, contractions, badboy_list, goodboy_list))\n",
        "experiment_c_df['clean_tweet'] = experiment_c_df['tweet'].progress_apply(lambda x: cleaner(x, contractions, badboy_list, goodboy_list))"
      ],
      "execution_count": null,
      "outputs": [
        {
          "output_type": "stream",
          "text": [
            "100%|██████████| 13240/13240 [01:56<00:00, 113.50it/s]\n",
            "100%|██████████| 213/213 [00:02<00:00, 104.18it/s]\n",
            "100%|██████████| 240/240 [00:02<00:00, 108.09it/s]\n",
            "100%|██████████| 860/860 [00:08<00:00, 102.75it/s]\n",
            "100%|██████████| 200/200 [00:01<00:00, 185.09it/s]\n",
            "/usr/local/lib/python3.6/dist-packages/ipykernel_launcher.py:13: SettingWithCopyWarning: \n",
            "A value is trying to be set on a copy of a slice from a DataFrame.\n",
            "Try using .loc[row_indexer,col_indexer] = value instead\n",
            "\n",
            "See the caveats in the documentation: https://pandas.pydata.org/pandas-docs/stable/user_guide/indexing.html#returning-a-view-versus-a-copy\n",
            "  del sys.path[0]\n",
            "100%|██████████| 200/200 [00:01<00:00, 185.83it/s]\n",
            "/usr/local/lib/python3.6/dist-packages/ipykernel_launcher.py:14: SettingWithCopyWarning: \n",
            "A value is trying to be set on a copy of a slice from a DataFrame.\n",
            "Try using .loc[row_indexer,col_indexer] = value instead\n",
            "\n",
            "See the caveats in the documentation: https://pandas.pydata.org/pandas-docs/stable/user_guide/indexing.html#returning-a-view-versus-a-copy\n",
            "  \n",
            "100%|██████████| 200/200 [00:01<00:00, 182.17it/s]\n",
            "/usr/local/lib/python3.6/dist-packages/ipykernel_launcher.py:15: SettingWithCopyWarning: \n",
            "A value is trying to be set on a copy of a slice from a DataFrame.\n",
            "Try using .loc[row_indexer,col_indexer] = value instead\n",
            "\n",
            "See the caveats in the documentation: https://pandas.pydata.org/pandas-docs/stable/user_guide/indexing.html#returning-a-view-versus-a-copy\n",
            "  from ipykernel import kernelapp as app\n"
          ],
          "name": "stderr"
        }
      ]
    },
    {
      "cell_type": "code",
      "metadata": {
        "colab": {
          "base_uri": "https://localhost:8080/",
          "height": 272
        },
        "id": "rw53wJvKqfaB",
        "outputId": "8428d36d-6b50-46e4-aa49-8e3605b26c24"
      },
      "source": [
        "experiment_a_df.head()"
      ],
      "execution_count": null,
      "outputs": [
        {
          "output_type": "execute_result",
          "data": {
            "text/html": [
              "<div>\n",
              "<style scoped>\n",
              "    .dataframe tbody tr th:only-of-type {\n",
              "        vertical-align: middle;\n",
              "    }\n",
              "\n",
              "    .dataframe tbody tr th {\n",
              "        vertical-align: top;\n",
              "    }\n",
              "\n",
              "    .dataframe thead th {\n",
              "        text-align: right;\n",
              "    }\n",
              "</style>\n",
              "<table border=\"1\" class=\"dataframe\">\n",
              "  <thead>\n",
              "    <tr style=\"text-align: right;\">\n",
              "      <th></th>\n",
              "      <th>tweet</th>\n",
              "      <th>subtask_a</th>\n",
              "      <th>clean_tweet</th>\n",
              "    </tr>\n",
              "  </thead>\n",
              "  <tbody>\n",
              "    <tr>\n",
              "      <th>0</th>\n",
              "      <td>RT @iSellGreenCards: 1st RT @MsSashaBelle: Sho...</td>\n",
              "      <td>OFF</td>\n",
              "      <td>[st, rt, show, proof, i, sold, pussy, I, shall...</td>\n",
              "    </tr>\n",
              "    <tr>\n",
              "      <th>1</th>\n",
              "      <td>@40oz_VAN IYCMI. I can't get any work done if ...</td>\n",
              "      <td>OFF</td>\n",
              "      <td>[iycmi, i, get, work, done, you, keep, show, b...</td>\n",
              "    </tr>\n",
              "    <tr>\n",
              "      <th>2</th>\n",
              "      <td>&amp;#8220;@lildebo2391: He too rich to let that b...</td>\n",
              "      <td>OFF</td>\n",
              "      <td>[he, rich, let, bitch, get, him, mad, like, ni...</td>\n",
              "    </tr>\n",
              "    <tr>\n",
              "      <th>3</th>\n",
              "      <td>Really Barnicle? OJ or Anthony Weiner? MJ is a...</td>\n",
              "      <td>OFF</td>\n",
              "      <td>[really, barn, i, cleo, j, anthony, we, er, mj...</td>\n",
              "    </tr>\n",
              "    <tr>\n",
              "      <th>4</th>\n",
              "      <td>RT @GabrielaAngela4: That hoe wanta 6/6.</td>\n",
              "      <td>OFF</td>\n",
              "      <td>[hoe, want]</td>\n",
              "    </tr>\n",
              "  </tbody>\n",
              "</table>\n",
              "</div>"
            ],
            "text/plain": [
              "                                               tweet  ...                                        clean_tweet\n",
              "0  RT @iSellGreenCards: 1st RT @MsSashaBelle: Sho...  ...  [st, rt, show, proof, i, sold, pussy, I, shall...\n",
              "1  @40oz_VAN IYCMI. I can't get any work done if ...  ...  [iycmi, i, get, work, done, you, keep, show, b...\n",
              "2  &#8220;@lildebo2391: He too rich to let that b...  ...  [he, rich, let, bitch, get, him, mad, like, ni...\n",
              "3  Really Barnicle? OJ or Anthony Weiner? MJ is a...  ...  [really, barn, i, cleo, j, anthony, we, er, mj...\n",
              "4           RT @GabrielaAngela4: That hoe wanta 6/6.  ...                                        [hoe, want]\n",
              "\n",
              "[5 rows x 3 columns]"
            ]
          },
          "metadata": {
            "tags": []
          },
          "execution_count": 117
        }
      ]
    },
    {
      "cell_type": "code",
      "metadata": {
        "id": "s5LUG9O6qfaB"
      },
      "source": [
        "#Train Dataframe for each of the subsets  \n",
        "train_df_a = train_df.dropna(subset=['subtask_a'])\n",
        "train_df_a = train_df_a.drop(columns = ['subtask_b', 'subtask_c'])\n",
        "train_df_b = train_df.dropna(subset=['subtask_b'])\n",
        "train_df_b = train_df_b.drop(columns = ['subtask_a', 'subtask_c'])\n",
        "train_df_c = train_df.dropna(subset=['subtask_c'])\n",
        "train_df_c = train_df_c.drop(columns = ['subtask_a', 'subtask_b'])\n",
        "experiment_a_df = experiment_a_df.dropna(subset=['subtask_a']) \n",
        "experiment_b_df = experiment_b_df.dropna(subset=['subtask_b'])\n",
        "experiment_c_df = experiment_c_df.dropna(subset=['subtask_c'])"
      ],
      "execution_count": null,
      "outputs": []
    },
    {
      "cell_type": "code",
      "metadata": {
        "colab": {
          "base_uri": "https://localhost:8080/"
        },
        "id": "X7dwD9QcqfaB",
        "outputId": "d776cfdc-12ea-4f0e-9b92-6773d265dccb"
      },
      "source": [
        "experiment_a_df['subtask_a'].unique(), experiment_b_df['subtask_b'].unique(), experiment_c_df['subtask_c'].unique()"
      ],
      "execution_count": null,
      "outputs": [
        {
          "output_type": "execute_result",
          "data": {
            "text/plain": [
              "(array(['OFF', 'NOT'], dtype=object),\n",
              " array(['TIN', 'UNT'], dtype=object),\n",
              " array(['IND', 'GRP', 'OTH'], dtype=object))"
            ]
          },
          "metadata": {
            "tags": []
          },
          "execution_count": 119
        }
      ]
    },
    {
      "cell_type": "markdown",
      "metadata": {
        "id": "Sr1WLTlnqfaB"
      },
      "source": [
        "Key Dataframes "
      ]
    },
    {
      "cell_type": "code",
      "metadata": {
        "id": "HxFe0-ibqfaB"
      },
      "source": [
        "#Split the data into X and Y \n",
        "#Split the data into X and Y\n",
        "a_trainX_df = train_df_a['clean_tweet']\n",
        "a_trainY_df = train_df_a['subtask_a'] \n",
        "a_testX_df = testa_df['clean_tweet'] \n",
        "a_testY_df = testa_df['subtask_a'] \n",
        "a_experimentX_df = experiment_a_df['clean_tweet']\n",
        "a_experimentY_df = experiment_a_df['subtask_a']\n",
        "\n",
        "b_trainX_df = train_df_b['clean_tweet']\n",
        "b_trainY_df = train_df_b['subtask_b'] \n",
        "b_testX_df = testb_df['clean_tweet'] \n",
        "b_testY_df = testb_df['subtask_b'] \n",
        "b_experimentX_df = experiment_b_df['clean_tweet']\n",
        "b_experimentY_df = experiment_b_df['subtask_b']\n",
        "\n",
        "\n",
        "c_trainX_df = train_df_c['clean_tweet']\n",
        "c_trainY_df = train_df_c['subtask_c'] \n",
        "c_testX_df = testc_df['clean_tweet'] \n",
        "c_testY_df = testc_df['subtask_c'] \n",
        "c_experimentX_df = experiment_c_df['clean_tweet']\n",
        "c_experimentY_df = experiment_c_df['subtask_c']"
      ],
      "execution_count": null,
      "outputs": []
    },
    {
      "cell_type": "markdown",
      "metadata": {
        "id": "NfKYA9v_qfaC"
      },
      "source": [
        "## Vectorizing the Tweets"
      ]
    },
    {
      "cell_type": "code",
      "metadata": {
        "id": "J03KncUKqfaC"
      },
      "source": [
        "#Convert list to string\n",
        "train_df['clean_tweet_str'] = train_df['clean_tweet'].apply(lambda x: ' '.join([str(elem) for elem in x]))"
      ],
      "execution_count": null,
      "outputs": []
    },
    {
      "cell_type": "code",
      "metadata": {
        "colab": {
          "base_uri": "https://localhost:8080/",
          "height": 282
        },
        "id": "uMsBYNf2qfaC",
        "outputId": "a813b353-7fd9-4672-9aab-ba71e932b4e9"
      },
      "source": [
        "# get length of all the messages in the train set\n",
        "seq_len = [len(i.split()) for i in train_df['clean_tweet_str']]\n",
        "pd.Series(seq_len).hist(bins = 30)"
      ],
      "execution_count": null,
      "outputs": [
        {
          "output_type": "execute_result",
          "data": {
            "text/plain": [
              "<matplotlib.axes._subplots.AxesSubplot at 0x7f2d07ffcac8>"
            ]
          },
          "metadata": {
            "tags": []
          },
          "execution_count": 122
        },
        {
          "output_type": "display_data",
          "data": {
            "image/png": "[encoded data removed]",
            "text/plain": [
              "<Figure size 432x288 with 1 Axes>"
            ]
          },
          "metadata": {
            "tags": [],
            "needs_background": "light"
          }
        }
      ]
    },
    {
      "cell_type": "code",
      "metadata": {
        "colab": {
          "base_uri": "https://localhost:8080/"
        },
        "id": "ldkoQwcYqfaC",
        "outputId": "b2a65196-ae29-400c-f30f-24e5b3682130"
      },
      "source": [
        "#Count the number of unique words\n",
        "from collections import Counter\n",
        "results = Counter()\n",
        "train_df['clean_tweet_str'].str.lower().str.split().apply(results.update)\n",
        "print(len(results.keys()))"
      ],
      "execution_count": null,
      "outputs": [
        {
          "output_type": "stream",
          "text": [
            "13830\n"
          ],
          "name": "stdout"
        }
      ]
    },
    {
      "cell_type": "code",
      "metadata": {
        "id": "mi0oAd3qqfaC"
      },
      "source": [
        "#Vectorizing the training data\n",
        "#https://stackoverflow.com/questions/45735070/keras-text-preprocessing-saving-tokenizer-object-to-file-for-scoring\n",
        "def vectorizing(trainX_df, testX_df, experiment_dfX, category):\n",
        "  MAX_NUM_WORDS = 13828 # Parameter indicating the number of words we'll put in the dictionary\n",
        "  MAX_SEQUENCE_LENGTH = 40 # Maximum number of words in a sequence\n",
        "  tokenizer = Tokenizer(num_words=MAX_NUM_WORDS)\n",
        "  tokenizer.fit_on_texts(trainX_df)\n",
        "  token_file_name = 'tokenizer_' + category + '.pickle'\n",
        "  with open(token_file_name, 'wb') as handle:\n",
        "    pickle.dump(tokenizer, handle, protocol=pickle.HIGHEST_PROTOCOL)\n",
        "  #Tokenize the training and test data set\n",
        "  trainX_seq = tokenizer.texts_to_sequences(trainX_df)\n",
        "  testX_seq = tokenizer.texts_to_sequences(testX_df)\n",
        "  experimentX_seq = tokenizer.texts_to_sequences(experiment_dfX)\n",
        "\n",
        "  word_index = tokenizer.word_index\n",
        "  print('Found %s unique tokens.' % len(word_index))\n",
        "\n",
        "  #Padding the sequence \n",
        "  trainX_seq_trunc = pad_sequences(trainX_seq, maxlen=MAX_SEQUENCE_LENGTH)\n",
        "  testX_seq_trunc = pad_sequences(testX_seq, maxlen=MAX_SEQUENCE_LENGTH)\n",
        "  experimentX_seq_trunc = pad_sequences(experimentX_seq, maxlen = MAX_SEQUENCE_LENGTH)\n",
        "  return trainX_seq_trunc, testX_seq_trunc, experimentX_seq_trunc, word_index"
      ],
      "execution_count": null,
      "outputs": []
    },
    {
      "cell_type": "code",
      "metadata": {
        "colab": {
          "base_uri": "https://localhost:8080/"
        },
        "id": "Ha_kp7WwqfaC",
        "outputId": "cdb340c0-53f3-47fe-acb0-a23e6cf13f5e"
      },
      "source": [
        "a_trainX_df.head()"
      ],
      "execution_count": null,
      "outputs": [
        {
          "output_type": "execute_result",
          "data": {
            "text/plain": [
              "0                   [she, ask, native, american, take]\n",
              "1                          [go, home, you, drunk, url]\n",
              "2    [amazon, investigating, chinese, employee, sel...\n",
              "3            [someone, vet, ken, piece, shit, volcano]\n",
              "4    [obama, wanted, liberal, amp, illegals, move, ...\n",
              "Name: clean_tweet, dtype: object"
            ]
          },
          "metadata": {
            "tags": []
          },
          "execution_count": 125
        }
      ]
    },
    {
      "cell_type": "code",
      "metadata": {
        "colab": {
          "base_uri": "https://localhost:8080/"
        },
        "id": "Ff7_yRAeqfaC",
        "outputId": "2bb6eafe-4214-4966-a3df-b0b9805d43a2"
      },
      "source": [
        "#Generate vectorized matrix for A B and C\n",
        "vec_a_trainX_df, vec_a_testX_df, vec_a_exp_df, word_index_a = vectorizing(a_trainX_df, a_testX_df, a_experimentX_df, 'a')\n",
        "vec_b_trainX_df, vec_b_testX_df, vec_b_exp_df, word_index_b = vectorizing(b_trainX_df, b_testX_df, b_experimentX_df,'b')\n",
        "vec_c_trainX_df, vec_c_testX_df, vec_c_exp_df, word_index_c = vectorizing(c_trainX_df, c_testX_df, c_experimentX_df, 'c')"
      ],
      "execution_count": null,
      "outputs": [
        {
          "output_type": "stream",
          "text": [
            "Found 13830 unique tokens.\n",
            "Found 8210 unique tokens.\n",
            "Found 7753 unique tokens.\n"
          ],
          "name": "stdout"
        }
      ]
    },
    {
      "cell_type": "code",
      "metadata": {
        "colab": {
          "base_uri": "https://localhost:8080/"
        },
        "id": "A8mZdghdqfaD",
        "outputId": "d6641e5e-854a-40e9-e785-21c2bf523d23"
      },
      "source": [
        "a_experimentY_df.unique()"
      ],
      "execution_count": null,
      "outputs": [
        {
          "output_type": "execute_result",
          "data": {
            "text/plain": [
              "array(['OFF', 'NOT'], dtype=object)"
            ]
          },
          "metadata": {
            "tags": []
          },
          "execution_count": 127
        }
      ]
    },
    {
      "cell_type": "code",
      "metadata": {
        "colab": {
          "base_uri": "https://localhost:8080/"
        },
        "id": "jimsBPqpqfaD",
        "outputId": "097a891b-e93e-4258-83df-e4cd6c612a15"
      },
      "source": [
        "#Convert the target classes to categoricial  \n",
        "le = LabelEncoder()\n",
        "ie_a_trainY_df = le.fit_transform(a_trainY_df)\n",
        "print(le.classes_)\n",
        "ie_a_testY_df = le.transform(a_testY_df)\n",
        "ie_a_exp_y_df = le.transform(a_experimentY_df)\n",
        "ie_b_trainY_df = le.fit_transform(b_trainY_df)\n",
        "print(le.classes_)\n",
        "ie_b_testY_df = le.transform(b_testY_df)\n",
        "ie_b_exp_y_df = le.transform(b_experimentY_df)\n",
        "ie_c_trainY_df = le.fit_transform(c_trainY_df)\n",
        "print(le.classes_)\n",
        "ie_c_testY_df = le.transform(c_testY_df)\n",
        "ie_c_exp_y_df = le.transform(c_experimentY_df)\n",
        "\n",
        "#Convert to One Hot Encoding\n",
        "oh_a_trainY_df = to_categorical(ie_a_trainY_df)\n",
        "oh_a_testY_df = to_categorical(ie_a_testY_df)\n",
        "oh_a_exp_y_df = to_categorical(ie_a_exp_y_df)\n",
        "oh_b_trainY_df = to_categorical(ie_b_trainY_df)\n",
        "oh_b_testY_df = to_categorical(ie_b_testY_df)\n",
        "oh_b_exp_y_df = to_categorical(ie_b_exp_y_df)\n",
        "oh_c_trainY_df = to_categorical(ie_c_trainY_df)\n",
        "oh_c_testY_df = to_categorical(ie_c_testY_df)\n",
        "oh_c_exp_y_df = to_categorical(ie_c_exp_y_df)"
      ],
      "execution_count": null,
      "outputs": [
        {
          "output_type": "stream",
          "text": [
            "['NOT' 'OFF']\n",
            "['TIN' 'UNT']\n",
            "['GRP' 'IND' 'OTH']\n"
          ],
          "name": "stdout"
        }
      ]
    },
    {
      "cell_type": "code",
      "metadata": {
        "colab": {
          "base_uri": "https://localhost:8080/"
        },
        "id": "QS9H40kBqfaD",
        "outputId": "8ba9afcf-d353-42c6-e500-1afa284da5cd"
      },
      "source": [
        "le.classes_"
      ],
      "execution_count": null,
      "outputs": [
        {
          "output_type": "execute_result",
          "data": {
            "text/plain": [
              "array(['GRP', 'IND', 'OTH'], dtype=object)"
            ]
          },
          "metadata": {
            "tags": []
          },
          "execution_count": 129
        }
      ]
    },
    {
      "cell_type": "code",
      "metadata": {
        "colab": {
          "base_uri": "https://localhost:8080/"
        },
        "id": "9ZS6YIv2qfaD",
        "outputId": "ba7ef18c-5a9c-46ef-f603-6a7aaa86dc50"
      },
      "source": [
        "oh_a_trainY_df.shape,ie_a_trainY_df.shape"
      ],
      "execution_count": null,
      "outputs": [
        {
          "output_type": "execute_result",
          "data": {
            "text/plain": [
              "((13240, 2), (13240,))"
            ]
          },
          "metadata": {
            "tags": []
          },
          "execution_count": 130
        }
      ]
    },
    {
      "cell_type": "markdown",
      "metadata": {
        "id": "ClsjaHMmqfaD"
      },
      "source": [
        "### Splitting of Validation Data\n",
        "* For one hot encoding\n",
        "* For integer encoding"
      ]
    },
    {
      "cell_type": "code",
      "metadata": {
        "id": "NFofv_ZkqfaD"
      },
      "source": [
        "#Allocate 10% of the training data for validation \n",
        "oh_a_trainX_df, oh_a_validX_df, oh_a_trainY_df, oh_a_validY_df = train_test_split(vec_a_trainX_df, oh_a_trainY_df, test_size = 0.1, random_state = 37)\n",
        "oh_b_trainX_df, oh_b_validX_df, oh_b_trainY_df, oh_b_validY_df = train_test_split(vec_b_trainX_df, oh_b_trainY_df, test_size = 0.1, random_state = 37)\n",
        "oh_c_trainX_df, oh_c_validX_df, oh_c_trainY_df, oh_c_validY_df = train_test_split(vec_c_trainX_df, oh_c_trainY_df, test_size = 0.1, random_state = 37)\n",
        "\n",
        "#For Integer Encoding \n",
        "le_a_trainX_df, le_a_validX_df, le_a_trainY_df, le_a_validY_df = train_test_split(vec_a_trainX_df, ie_a_trainY_df, test_size = 0.1, random_state = 37)\n",
        "le_b_trainX_df, le_b_validX_df, le_b_trainY_df, le_b_validY_df = train_test_split(vec_b_trainX_df, ie_b_trainY_df, test_size = 0.1, random_state = 37)\n",
        "le_c_trainX_df, le_c_validX_df, le_c_trainY_df, le_c_validY_df = train_test_split(vec_c_trainX_df, ie_c_trainY_df, test_size = 0.1, random_state = 37)"
      ],
      "execution_count": null,
      "outputs": []
    },
    {
      "cell_type": "code",
      "metadata": {
        "colab": {
          "base_uri": "https://localhost:8080/"
        },
        "id": "469Y8s5iqfaD",
        "outputId": "e4117c7f-ae14-4e9e-b59b-f96fa030eac5"
      },
      "source": [
        "le_a_trainX_df"
      ],
      "execution_count": null,
      "outputs": [
        {
          "output_type": "execute_result",
          "data": {
            "text/plain": [
              "array([[   0,    0,    0, ..., 3384, 4713,  288],\n",
              "       [   0,    0,    0, ...,   70,  132, 4402],\n",
              "       [   0,    0,    0, ...,   39, 1967,  828],\n",
              "       ...,\n",
              "       [   0,    0,    0, ...,  973,   26,    3],\n",
              "       [   0,    0,    0, ..., 4468, 3465,   45],\n",
              "       [   0,    0,    0, ...,    0,   79, 3145]], dtype=int32)"
            ]
          },
          "metadata": {
            "tags": []
          },
          "execution_count": 132
        }
      ]
    },
    {
      "cell_type": "markdown",
      "metadata": {
        "id": "NMdNi98XqoCD"
      },
      "source": [
        "# GloVe Advanced\n",
        "* For Neural Network \n",
        "* For statistical model"
      ]
    },
    {
      "cell_type": "markdown",
      "metadata": {
        "id": "Dgmnyqh5qoCD"
      },
      "source": [
        "## For STATS Model"
      ]
    },
    {
      "cell_type": "code",
      "metadata": {
        "id": "YQg1Igp-qoCD"
      },
      "source": [
        "#convert the training data to string\n",
        "a_trainX_str = a_trainX_df.apply(', '.join)\n",
        "a_testX_str = a_testX_df.apply(', ' .join)\n",
        "a_expX_str = a_experimentX_df.apply(',' .join)\n",
        "b_trainX_str = b_trainX_df.apply(', '.join)\n",
        "b_testX_str = b_testX_df.apply(', '.join)\n",
        "b_expX_str = b_experimentX_df.apply(',' .join)\n",
        "c_trainX_str = c_trainX_df.apply(', '.join)\n",
        "c_testX_str = c_testX_df.apply(', '.join)\n",
        "c_expX_str = c_experimentX_df.apply(',' .join)"
      ],
      "execution_count": null,
      "outputs": []
    },
    {
      "cell_type": "code",
      "metadata": {
        "id": "BO7mAq51qoCD"
      },
      "source": [
        "# #Download the embedding transformer \n",
        "# ## TAKES LONG\n",
        "# glove = EmbeddingTransformer('glove-twitter-200')\n"
      ],
      "execution_count": null,
      "outputs": []
    },
    {
      "cell_type": "code",
      "metadata": {
        "id": "ZOpF2XZKqoCE"
      },
      "source": [
        "#Embed the training data \n",
        "a_trainX_em = glove.transform(a_trainX_str)\n",
        "a_testX_em = glove.transform(a_testX_str)\n",
        "a_expX_em = glove.transform(a_expX_str)\n",
        "b_trainX_em = glove.transform(b_trainX_str)\n",
        "b_testX_em = glove.transform(b_testX_str)\n",
        "b_expX_em = glove.transform(b_expX_str)\n",
        "c_trainX_em = glove.transform(c_trainX_str)\n",
        "c_testX_em = glove.transform(c_testX_str)\n",
        "c_expX_em = glove.transform(c_expX_str)"
      ],
      "execution_count": null,
      "outputs": []
    },
    {
      "cell_type": "code",
      "metadata": {
        "colab": {
          "base_uri": "https://localhost:8080/"
        },
        "id": "mR3N2D5pqoCE",
        "outputId": "bb38763b-e414-42af-ed92-e4ff0401c117"
      },
      "source": [
        "b_trainX_em.shape, ie_b_trainY_df.shape, b_testX_df.shape, b_testX_em.shape"
      ],
      "execution_count": null,
      "outputs": [
        {
          "output_type": "execute_result",
          "data": {
            "text/plain": [
              "((4400, 200), (4400,), (240,), (240, 200))"
            ]
          },
          "metadata": {
            "tags": []
          },
          "execution_count": 136
        }
      ]
    },
    {
      "cell_type": "code",
      "metadata": {
        "id": "M2azWcT6qoCE"
      },
      "source": [
        "# Create Validation Split\n",
        "a_trainX_em, a_validX_em, a_trainY_em, a_validY_em = train_test_split(a_trainX_em, ie_a_trainY_df, test_size=0.1, random_state=37)\n",
        "b_trainX_em, b_validX_em, b_trainY_em, b_validY_em = train_test_split(b_trainX_em, ie_b_trainY_df, test_size=0.1, random_state=37)\n",
        "c_trainX_em, c_validX_em, c_trainY_em, c_validY_em = train_test_split(c_trainX_em, ie_c_trainY_df, test_size=0.1, random_state=37)"
      ],
      "execution_count": null,
      "outputs": []
    },
    {
      "cell_type": "markdown",
      "metadata": {
        "id": "k6MjflxkqoCE"
      },
      "source": [
        "### Test the Model's Performance "
      ]
    },
    {
      "cell_type": "code",
      "metadata": {
        "colab": {
          "base_uri": "https://localhost:8080/"
        },
        "id": "2gz98yhWqoCE",
        "outputId": "245442db-b9d1-41c7-f8c9-91e6761e08c8"
      },
      "source": [
        "# Balanced Weights\n",
        "# LOGISTIC REGRESSION\n",
        "from sklearn.metrics import classification_report, confusion_matrix\n",
        "\n",
        "model = LogisticRegression(max_iter=100000, class_weight='balanced', solver='newton-cg')\n",
        "model.fit(a_trainX_em, a_trainY_em)\n",
        "\n",
        "y_pred = model.predict(a_validX_em)\n",
        "\n",
        "evaluate_on_training_set(a_validY_em, y_pred)"
      ],
      "execution_count": null,
      "outputs": [
        {
          "output_type": "stream",
          "text": [
            "AUC is:  0.5905234471410942\n",
            "              precision    recall  f1-score   support\n",
            "\n",
            "           0       0.73      0.67      0.70       884\n",
            "           1       0.44      0.51      0.47       440\n",
            "\n",
            "    accuracy                           0.62      1324\n",
            "   macro avg       0.58      0.59      0.59      1324\n",
            "weighted avg       0.63      0.62      0.62      1324\n",
            "\n",
            "Confusion Matrix: \n",
            " [[592 292]\n",
            " [215 225]]\n"
          ],
          "name": "stdout"
        },
        {
          "output_type": "stream",
          "text": [
            "/usr/local/lib/python3.6/dist-packages/scipy/optimize/linesearch.py:314: LineSearchWarning: The line search algorithm did not converge\n",
            "  warn('The line search algorithm did not converge', LineSearchWarning)\n",
            "/usr/local/lib/python3.6/dist-packages/sklearn/utils/optimize.py:204: UserWarning: Line Search failed\n",
            "  warnings.warn('Line Search failed')\n"
          ],
          "name": "stderr"
        },
        {
          "output_type": "display_data",
          "data": {
            "image/png": "[encoded data removed]",
            "text/plain": [
              "<Figure size 432x288 with 1 Axes>"
            ]
          },
          "metadata": {
            "tags": [],
            "needs_background": "light"
          }
        }
      ]
    },
    {
      "cell_type": "code",
      "metadata": {
        "colab": {
          "base_uri": "https://localhost:8080/"
        },
        "id": "qaC1jb-TqoCE",
        "outputId": "b9661256-f699-4d0a-db28-99b5fe42d485"
      },
      "source": [
        "# Balanced Weights\n",
        "# LOGISTIC REGRESSION\n",
        "\n",
        "model = LogisticRegression(max_iter=100000, class_weight='balanced', solver='newton-cg')\n",
        "model.fit(b_trainX_em, b_trainY_em)\n",
        "\n",
        "y_pred = model.predict(b_validX_em)\n",
        "\n",
        "evaluate_on_training_set(b_validY_em, y_pred)"
      ],
      "execution_count": null,
      "outputs": [
        {
          "output_type": "stream",
          "text": [
            "AUC is:  0.5607488871432312\n",
            "              precision    recall  f1-score   support\n",
            "\n",
            "           0       0.93      0.67      0.78       402\n",
            "           1       0.11      0.45      0.18        38\n",
            "\n",
            "    accuracy                           0.65       440\n",
            "   macro avg       0.52      0.56      0.48       440\n",
            "weighted avg       0.86      0.65      0.73       440\n",
            "\n",
            "Confusion Matrix: \n",
            " [[271 131]\n",
            " [ 21  17]]\n"
          ],
          "name": "stdout"
        },
        {
          "output_type": "stream",
          "text": [
            "/usr/local/lib/python3.6/dist-packages/scipy/optimize/linesearch.py:314: LineSearchWarning: The line search algorithm did not converge\n",
            "  warn('The line search algorithm did not converge', LineSearchWarning)\n",
            "/usr/local/lib/python3.6/dist-packages/sklearn/utils/optimize.py:204: UserWarning: Line Search failed\n",
            "  warnings.warn('Line Search failed')\n"
          ],
          "name": "stderr"
        },
        {
          "output_type": "display_data",
          "data": {
            "image/png": "[encoded data removed]",
            "text/plain": [
              "<Figure size 432x288 with 1 Axes>"
            ]
          },
          "metadata": {
            "tags": [],
            "needs_background": "light"
          }
        }
      ]
    },
    {
      "cell_type": "code",
      "metadata": {
        "colab": {
          "base_uri": "https://localhost:8080/"
        },
        "id": "tck4xYrXqoCE",
        "outputId": "35dc4a8b-889a-46c1-e7c2-09b061aa9636"
      },
      "source": [
        "# Balanced Weights\n",
        "# LOGISTIC REGRESSION\n",
        "from sklearn.metrics import classification_report, confusion_matrix\n",
        "\n",
        "model = LogisticRegression(max_iter=100000, class_weight='balanced', solver='newton-cg', multi_class='ovr')\n",
        "model.fit(c_trainX_em, c_trainY_em)\n",
        "\n",
        "y_pred = model.predict(c_validX_em)\n",
        "\n",
        "classification_report = classification_report(c_validY_em, y_pred)\n",
        "\n",
        "print('\\n Accuracy: ', accuracy_score(c_validY_em, y_pred))\n",
        "print('\\nClassification Report')\n",
        "print('======================================================')\n",
        "print('\\n', classification_report)\n",
        "\n",
        "print(f\"AUC score:{multiclass_roc_auc_score(c_validY_em, y_pred)}\")"
      ],
      "execution_count": null,
      "outputs": [
        {
          "output_type": "stream",
          "text": [
            "/usr/local/lib/python3.6/dist-packages/scipy/optimize/linesearch.py:314: LineSearchWarning: The line search algorithm did not converge\n",
            "  warn('The line search algorithm did not converge', LineSearchWarning)\n",
            "/usr/local/lib/python3.6/dist-packages/sklearn/utils/optimize.py:204: UserWarning: Line Search failed\n",
            "  warnings.warn('Line Search failed')\n"
          ],
          "name": "stderr"
        },
        {
          "output_type": "stream",
          "text": [
            "\n",
            " Accuracy:  0.47164948453608246\n",
            "\n",
            "Classification Report\n",
            "======================================================\n",
            "\n",
            "               precision    recall  f1-score   support\n",
            "\n",
            "           0       0.34      0.35      0.35        97\n",
            "           1       0.76      0.51      0.61       261\n",
            "           2       0.14      0.53      0.23        30\n",
            "\n",
            "    accuracy                           0.47       388\n",
            "   macro avg       0.41      0.46      0.39       388\n",
            "weighted avg       0.60      0.47      0.51       388\n",
            "\n",
            "AUC score:0.593314019309077\n"
          ],
          "name": "stdout"
        },
        {
          "output_type": "stream",
          "text": [
            "/usr/local/lib/python3.6/dist-packages/scipy/optimize/linesearch.py:314: LineSearchWarning: The line search algorithm did not converge\n",
            "  warn('The line search algorithm did not converge', LineSearchWarning)\n",
            "/usr/local/lib/python3.6/dist-packages/sklearn/utils/optimize.py:204: UserWarning: Line Search failed\n",
            "  warnings.warn('Line Search failed')\n"
          ],
          "name": "stderr"
        }
      ]
    }
  ]
}