{
  "nbformat": 4,
  "nbformat_minor": 0,
  "metadata": {
    "accelerator": "GPU",
    "colab": {
      "name": "Text Representation.ipynb",
      "provenance": [],
      "collapsed_sections": []
    },
    "kernelspec": {
      "display_name": "Python 3",
      "name": "python3"
    }
  },
  "cells": [
    {
      "cell_type": "markdown",
      "metadata": {
        "id": "-Jmzz6iTdkJA"
      },
      "source": [
        "# Import Libraries "
      ]
    },
    {
      "cell_type": "code",
      "metadata": {
        "colab": {
          "base_uri": "https://localhost:8080/"
        },
        "id": "2J7yFcV9cs4z",
        "outputId": "c3fc13b0-2f1b-4ce9-fcf9-0cb321f7842e"
      },
      "source": [
        "#import the necessary files and libraries \n",
        "#import the necessary libraries \n",
        "!pip install tweet-preprocessor\n",
        "!pip install symspellpy\n",
        "!pip install tqdm\n",
        "!pip install zeugma\n",
        "from zeugma.embeddings import EmbeddingTransformer\n",
        "from sklearn.linear_model import LogisticRegression\n",
        "from nltk.tokenize import TweetTokenizer\n",
        "from symspellpy.symspellpy import SymSpell\n",
        "from bs4 import BeautifulSoup\n",
        "from nltk import word_tokenize, FreqDist\n",
        "from nltk.corpus import stopwords\n",
        "from nltk.stem import WordNetLemmatizer\n",
        "from sklearn.feature_extraction.text import TfidfVectorizer\n",
        "from tqdm import tqdm\n",
        "import preprocessor as p\n",
        "import numpy as np\n",
        "import matplotlib.pyplot as plt\n",
        "import pandas as pd\n",
        "import lxml\n",
        "from keras.preprocessing.text import Tokenizer\n",
        "from keras.preprocessing.sequence import pad_sequences\n",
        "from sklearn.preprocessing import LabelEncoder\n",
        "from sklearn.model_selection import train_test_split\n",
        "from keras.utils import to_categorical\n",
        "import tensorflow as tf \n",
        "import io\n",
        "import re\n",
        "import string\n",
        "import nltk\n",
        "import pkg_resources\n",
        "import ast \n",
        "import pickle\n",
        "import gensim\n",
        "import logging\n",
        "import nltk.data\n",
        "nltk.download('punkt')\n",
        "nltk.download\n",
        "nltk.download('wordnet')\n",
        "nltk.download('stopwords')"
      ],
      "execution_count": null,
      "outputs": [
        {
          "output_type": "stream",
          "text": [
            "Collecting tweet-preprocessor\n",
            "  Downloading https://files.pythonhosted.org/packages/17/9d/71bd016a9edcef8860c607e531f30bd09b13103c7951ae73dd2bf174163c/tweet_preprocessor-0.6.0-py3-none-any.whl\n",
            "Installing collected packages: tweet-preprocessor\n",
            "Successfully installed tweet-preprocessor-0.6.0\n",
            "Collecting symspellpy\n",
            "\u001b[?25l  Downloading https://files.pythonhosted.org/packages/99/af/e71fcca6a42b6a63f518b0c1627e1f67822815cb0cf71e6af05acbd75c78/symspellpy-6.7.0-py3-none-any.whl (2.6MB)\n",
            "\u001b[K     |████████████████████████████████| 2.6MB 8.4MB/s \n",
            "\u001b[?25hRequirement already satisfied: numpy>=1.13.1 in /usr/local/lib/python3.6/dist-packages (from symspellpy) (1.18.5)\n",
            "Installing collected packages: symspellpy\n",
            "Successfully installed symspellpy-6.7.0\n",
            "Requirement already satisfied: tqdm in /usr/local/lib/python3.6/dist-packages (4.41.1)\n",
            "Collecting zeugma\n",
            "  Downloading https://files.pythonhosted.org/packages/59/38/8f57f83719027e36a61238abe1cafa55d257eaaf8e9185b2adbb5a928308/zeugma-0.48.tar.gz\n",
            "Requirement already satisfied: numpy>=1.13.3 in /usr/local/lib/python3.6/dist-packages (from zeugma) (1.18.5)\n",
            "Requirement already satisfied: Cython>=0.27.3 in /usr/local/lib/python3.6/dist-packages (from zeugma) (0.29.21)\n",
            "Requirement already satisfied: pandas>=0.20.3 in /usr/local/lib/python3.6/dist-packages (from zeugma) (1.1.5)\n",
            "Requirement already satisfied: gensim>=3.5.0 in /usr/local/lib/python3.6/dist-packages (from zeugma) (3.6.0)\n",
            "Requirement already satisfied: scikit_learn>=0.19.1 in /usr/local/lib/python3.6/dist-packages (from zeugma) (0.22.2.post1)\n",
            "Requirement already satisfied: tensorflow>=1.5.0 in /usr/local/lib/python3.6/dist-packages (from zeugma) (2.3.0)\n",
            "Requirement already satisfied: keras>=2.1.3 in /usr/local/lib/python3.6/dist-packages (from zeugma) (2.4.3)\n",
            "Requirement already satisfied: python-dateutil>=2.7.3 in /usr/local/lib/python3.6/dist-packages (from pandas>=0.20.3->zeugma) (2.8.1)\n",
            "Requirement already satisfied: pytz>=2017.2 in /usr/local/lib/python3.6/dist-packages (from pandas>=0.20.3->zeugma) (2018.9)\n",
            "Requirement already satisfied: smart-open>=1.2.1 in /usr/local/lib/python3.6/dist-packages (from gensim>=3.5.0->zeugma) (4.0.1)\n",
            "Requirement already satisfied: six>=1.5.0 in /usr/local/lib/python3.6/dist-packages (from gensim>=3.5.0->zeugma) (1.15.0)\n",
            "Requirement already satisfied: scipy>=0.18.1 in /usr/local/lib/python3.6/dist-packages (from gensim>=3.5.0->zeugma) (1.4.1)\n",
            "Requirement already satisfied: joblib>=0.11 in /usr/local/lib/python3.6/dist-packages (from scikit_learn>=0.19.1->zeugma) (0.17.0)\n",
            "Requirement already satisfied: termcolor>=1.1.0 in /usr/local/lib/python3.6/dist-packages (from tensorflow>=1.5.0->zeugma) (1.1.0)\n",
            "Requirement already satisfied: absl-py>=0.7.0 in /usr/local/lib/python3.6/dist-packages (from tensorflow>=1.5.0->zeugma) (0.10.0)\n",
            "Requirement already satisfied: gast==0.3.3 in /usr/local/lib/python3.6/dist-packages (from tensorflow>=1.5.0->zeugma) (0.3.3)\n",
            "Requirement already satisfied: grpcio>=1.8.6 in /usr/local/lib/python3.6/dist-packages (from tensorflow>=1.5.0->zeugma) (1.34.0)\n",
            "Requirement already satisfied: protobuf>=3.9.2 in /usr/local/lib/python3.6/dist-packages (from tensorflow>=1.5.0->zeugma) (3.12.4)\n",
            "Requirement already satisfied: wheel>=0.26 in /usr/local/lib/python3.6/dist-packages (from tensorflow>=1.5.0->zeugma) (0.36.1)\n",
            "Requirement already satisfied: google-pasta>=0.1.8 in /usr/local/lib/python3.6/dist-packages (from tensorflow>=1.5.0->zeugma) (0.2.0)\n",
            "Requirement already satisfied: wrapt>=1.11.1 in /usr/local/lib/python3.6/dist-packages (from tensorflow>=1.5.0->zeugma) (1.12.1)\n",
            "Requirement already satisfied: h5py<2.11.0,>=2.10.0 in /usr/local/lib/python3.6/dist-packages (from tensorflow>=1.5.0->zeugma) (2.10.0)\n",
            "Requirement already satisfied: tensorboard<3,>=2.3.0 in /usr/local/lib/python3.6/dist-packages (from tensorflow>=1.5.0->zeugma) (2.3.0)\n",
            "Requirement already satisfied: opt-einsum>=2.3.2 in /usr/local/lib/python3.6/dist-packages (from tensorflow>=1.5.0->zeugma) (3.3.0)\n",
            "Requirement already satisfied: tensorflow-estimator<2.4.0,>=2.3.0 in /usr/local/lib/python3.6/dist-packages (from tensorflow>=1.5.0->zeugma) (2.3.0)\n",
            "Requirement already satisfied: keras-preprocessing<1.2,>=1.1.1 in /usr/local/lib/python3.6/dist-packages (from tensorflow>=1.5.0->zeugma) (1.1.2)\n",
            "Requirement already satisfied: astunparse==1.6.3 in /usr/local/lib/python3.6/dist-packages (from tensorflow>=1.5.0->zeugma) (1.6.3)\n",
            "Requirement already satisfied: pyyaml in /usr/local/lib/python3.6/dist-packages (from keras>=2.1.3->zeugma) (3.13)\n",
            "Requirement already satisfied: setuptools in /usr/local/lib/python3.6/dist-packages (from protobuf>=3.9.2->tensorflow>=1.5.0->zeugma) (50.3.2)\n",
            "Requirement already satisfied: google-auth<2,>=1.6.3 in /usr/local/lib/python3.6/dist-packages (from tensorboard<3,>=2.3.0->tensorflow>=1.5.0->zeugma) (1.17.2)\n",
            "Requirement already satisfied: tensorboard-plugin-wit>=1.6.0 in /usr/local/lib/python3.6/dist-packages (from tensorboard<3,>=2.3.0->tensorflow>=1.5.0->zeugma) (1.7.0)\n",
            "Requirement already satisfied: markdown>=2.6.8 in /usr/local/lib/python3.6/dist-packages (from tensorboard<3,>=2.3.0->tensorflow>=1.5.0->zeugma) (3.3.3)\n",
            "Requirement already satisfied: werkzeug>=0.11.15 in /usr/local/lib/python3.6/dist-packages (from tensorboard<3,>=2.3.0->tensorflow>=1.5.0->zeugma) (1.0.1)\n",
            "Requirement already satisfied: requests<3,>=2.21.0 in /usr/local/lib/python3.6/dist-packages (from tensorboard<3,>=2.3.0->tensorflow>=1.5.0->zeugma) (2.23.0)\n",
            "Requirement already satisfied: google-auth-oauthlib<0.5,>=0.4.1 in /usr/local/lib/python3.6/dist-packages (from tensorboard<3,>=2.3.0->tensorflow>=1.5.0->zeugma) (0.4.2)\n",
            "Requirement already satisfied: cachetools<5.0,>=2.0.0 in /usr/local/lib/python3.6/dist-packages (from google-auth<2,>=1.6.3->tensorboard<3,>=2.3.0->tensorflow>=1.5.0->zeugma) (4.1.1)\n",
            "Requirement already satisfied: pyasn1-modules>=0.2.1 in /usr/local/lib/python3.6/dist-packages (from google-auth<2,>=1.6.3->tensorboard<3,>=2.3.0->tensorflow>=1.5.0->zeugma) (0.2.8)\n",
            "Requirement already satisfied: rsa<5,>=3.1.4; python_version >= \"3\" in /usr/local/lib/python3.6/dist-packages (from google-auth<2,>=1.6.3->tensorboard<3,>=2.3.0->tensorflow>=1.5.0->zeugma) (4.6)\n",
            "Requirement already satisfied: importlib-metadata; python_version < \"3.8\" in /usr/local/lib/python3.6/dist-packages (from markdown>=2.6.8->tensorboard<3,>=2.3.0->tensorflow>=1.5.0->zeugma) (3.1.1)\n",
            "Requirement already satisfied: certifi>=2017.4.17 in /usr/local/lib/python3.6/dist-packages (from requests<3,>=2.21.0->tensorboard<3,>=2.3.0->tensorflow>=1.5.0->zeugma) (2020.12.5)\n",
            "Requirement already satisfied: chardet<4,>=3.0.2 in /usr/local/lib/python3.6/dist-packages (from requests<3,>=2.21.0->tensorboard<3,>=2.3.0->tensorflow>=1.5.0->zeugma) (3.0.4)\n",
            "Requirement already satisfied: idna<3,>=2.5 in /usr/local/lib/python3.6/dist-packages (from requests<3,>=2.21.0->tensorboard<3,>=2.3.0->tensorflow>=1.5.0->zeugma) (2.10)\n",
            "Requirement already satisfied: urllib3!=1.25.0,!=1.25.1,<1.26,>=1.21.1 in /usr/local/lib/python3.6/dist-packages (from requests<3,>=2.21.0->tensorboard<3,>=2.3.0->tensorflow>=1.5.0->zeugma) (1.24.3)\n",
            "Requirement already satisfied: requests-oauthlib>=0.7.0 in /usr/local/lib/python3.6/dist-packages (from google-auth-oauthlib<0.5,>=0.4.1->tensorboard<3,>=2.3.0->tensorflow>=1.5.0->zeugma) (1.3.0)\n",
            "Requirement already satisfied: pyasn1<0.5.0,>=0.4.6 in /usr/local/lib/python3.6/dist-packages (from pyasn1-modules>=0.2.1->google-auth<2,>=1.6.3->tensorboard<3,>=2.3.0->tensorflow>=1.5.0->zeugma) (0.4.8)\n",
            "Requirement already satisfied: zipp>=0.5 in /usr/local/lib/python3.6/dist-packages (from importlib-metadata; python_version < \"3.8\"->markdown>=2.6.8->tensorboard<3,>=2.3.0->tensorflow>=1.5.0->zeugma) (3.4.0)\n",
            "Requirement already satisfied: oauthlib>=3.0.0 in /usr/local/lib/python3.6/dist-packages (from requests-oauthlib>=0.7.0->google-auth-oauthlib<0.5,>=0.4.1->tensorboard<3,>=2.3.0->tensorflow>=1.5.0->zeugma) (3.1.0)\n",
            "Building wheels for collected packages: zeugma\n",
            "  Building wheel for zeugma (setup.py) ... \u001b[?25l\u001b[?25hdone\n",
            "  Created wheel for zeugma: filename=zeugma-0.48-cp36-none-any.whl size=8777 sha256=4dd50808ea33b8628bd27453c62f0c8139defc1874fcccb2ff60eba6a8135395\n",
            "  Stored in directory: /root/.cache/pip/wheels/6a/b5/bc/5183ac478b0071d04d3ed0c0dd4a43db94c5c8ffb317b5eb53\n",
            "Successfully built zeugma\n",
            "Installing collected packages: zeugma\n",
            "Successfully installed zeugma-0.48\n",
            "[nltk_data] Downloading package punkt to /root/nltk_data...\n",
            "[nltk_data]   Unzipping tokenizers/punkt.zip.\n",
            "[nltk_data] Downloading package wordnet to /root/nltk_data...\n",
            "[nltk_data]   Unzipping corpora/wordnet.zip.\n",
            "[nltk_data] Downloading package stopwords to /root/nltk_data...\n",
            "[nltk_data]   Unzipping corpora/stopwords.zip.\n"
          ],
          "name": "stdout"
        },
        {
          "output_type": "execute_result",
          "data": {
            "text/plain": [
              "True"
            ]
          },
          "metadata": {
            "tags": []
          },
          "execution_count": 1
        }
      ]
    },
    {
      "cell_type": "code",
      "metadata": {
        "colab": {
          "resources": {
            "http://localhost:8080/nbextensions/google.colab/files.js": {
              "data": "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",
              "ok": true,
              "headers": [
                [
                  "content-type",
                  "application/javascript"
                ]
              ],
              "status": 200,
              "status_text": ""
            }
          },
          "base_uri": "https://localhost:8080/",
          "height": 406
        },
        "id": "Ceegx_U1doeh",
        "outputId": "901df00a-ac30-43bf-ce43-4a486b5732d7"
      },
      "source": [
        "from google.colab import drive\n",
        "drive.mount('/content/drive')"
      ],
      "execution_count": null,
      "outputs": [
        {
          "output_type": "stream",
          "text": [
            "Mounted at /content/drive\n"
          ],
          "name": "stdout"
        },
        {
          "output_type": "display_data",
          "data": {
            "text/html": [
              "\n",
              "     <input type=\"file\" id=\"files-b57b3a0b-50f8-4731-b48d-a241054b4d1c\" name=\"files[]\" multiple disabled\n",
              "        style=\"border:none\" />\n",
              "     <output id=\"result-b57b3a0b-50f8-4731-b48d-a241054b4d1c\">\n",
              "      Upload widget is only available when the cell has been executed in the\n",
              "      current browser session. Please rerun this cell to enable.\n",
              "      </output>\n",
              "      <script src=\"/nbextensions/google.colab/files.js\"></script> "
            ],
            "text/plain": [
              "<IPython.core.display.HTML object>"
            ]
          },
          "metadata": {
            "tags": []
          }
        },
        {
          "output_type": "error",
          "ename": "KeyboardInterrupt",
          "evalue": "ignored",
          "traceback": [
            "\u001b[0;31m---------------------------------------------------------------------------\u001b[0m",
            "\u001b[0;31mKeyboardInterrupt\u001b[0m                         Traceback (most recent call last)",
            "\u001b[0;32m<ipython-input-21-f549b1461f58>\u001b[0m in \u001b[0;36m<module>\u001b[0;34m()\u001b[0m\n\u001b[1;32m      3\u001b[0m \u001b[0;34m\u001b[0m\u001b[0m\n\u001b[1;32m      4\u001b[0m \u001b[0;32mfrom\u001b[0m \u001b[0mgoogle\u001b[0m\u001b[0;34m.\u001b[0m\u001b[0mcolab\u001b[0m \u001b[0;32mimport\u001b[0m \u001b[0mfiles\u001b[0m\u001b[0;34m\u001b[0m\u001b[0;34m\u001b[0m\u001b[0m\n\u001b[0;32m----> 5\u001b[0;31m \u001b[0muploaded\u001b[0m \u001b[0;34m=\u001b[0m \u001b[0mfiles\u001b[0m\u001b[0;34m.\u001b[0m\u001b[0mupload\u001b[0m\u001b[0;34m(\u001b[0m\u001b[0;34m)\u001b[0m\u001b[0;34m\u001b[0m\u001b[0;34m\u001b[0m\u001b[0m\n\u001b[0m",
            "\u001b[0;32m/usr/local/lib/python3.6/dist-packages/google/colab/files.py\u001b[0m in \u001b[0;36mupload\u001b[0;34m()\u001b[0m\n\u001b[1;32m     62\u001b[0m   result = _output.eval_js(\n\u001b[1;32m     63\u001b[0m       'google.colab._files._uploadFiles(\"{input_id}\", \"{output_id}\")'.format(\n\u001b[0;32m---> 64\u001b[0;31m           input_id=input_id, output_id=output_id))\n\u001b[0m\u001b[1;32m     65\u001b[0m   \u001b[0mfiles\u001b[0m \u001b[0;34m=\u001b[0m \u001b[0m_collections\u001b[0m\u001b[0;34m.\u001b[0m\u001b[0mdefaultdict\u001b[0m\u001b[0;34m(\u001b[0m\u001b[0m_six\u001b[0m\u001b[0;34m.\u001b[0m\u001b[0mbinary_type\u001b[0m\u001b[0;34m)\u001b[0m\u001b[0;34m\u001b[0m\u001b[0;34m\u001b[0m\u001b[0m\n\u001b[1;32m     66\u001b[0m   \u001b[0;31m# Mapping from original filename to filename as saved locally.\u001b[0m\u001b[0;34m\u001b[0m\u001b[0;34m\u001b[0m\u001b[0;34m\u001b[0m\u001b[0m\n",
            "\u001b[0;32m/usr/local/lib/python3.6/dist-packages/google/colab/output/_js.py\u001b[0m in \u001b[0;36meval_js\u001b[0;34m(script, ignore_result)\u001b[0m\n\u001b[1;32m     37\u001b[0m   \u001b[0;32mif\u001b[0m \u001b[0mignore_result\u001b[0m\u001b[0;34m:\u001b[0m\u001b[0;34m\u001b[0m\u001b[0;34m\u001b[0m\u001b[0m\n\u001b[1;32m     38\u001b[0m     \u001b[0;32mreturn\u001b[0m\u001b[0;34m\u001b[0m\u001b[0;34m\u001b[0m\u001b[0m\n\u001b[0;32m---> 39\u001b[0;31m   \u001b[0;32mreturn\u001b[0m \u001b[0m_message\u001b[0m\u001b[0;34m.\u001b[0m\u001b[0mread_reply_from_input\u001b[0m\u001b[0;34m(\u001b[0m\u001b[0mrequest_id\u001b[0m\u001b[0;34m)\u001b[0m\u001b[0;34m\u001b[0m\u001b[0;34m\u001b[0m\u001b[0m\n\u001b[0m\u001b[1;32m     40\u001b[0m \u001b[0;34m\u001b[0m\u001b[0m\n\u001b[1;32m     41\u001b[0m \u001b[0;34m\u001b[0m\u001b[0m\n",
            "\u001b[0;32m/usr/local/lib/python3.6/dist-packages/google/colab/_message.py\u001b[0m in \u001b[0;36mread_reply_from_input\u001b[0;34m(message_id, timeout_sec)\u001b[0m\n\u001b[1;32m     99\u001b[0m     \u001b[0mreply\u001b[0m \u001b[0;34m=\u001b[0m \u001b[0m_read_next_input_message\u001b[0m\u001b[0;34m(\u001b[0m\u001b[0;34m)\u001b[0m\u001b[0;34m\u001b[0m\u001b[0;34m\u001b[0m\u001b[0m\n\u001b[1;32m    100\u001b[0m     \u001b[0;32mif\u001b[0m \u001b[0mreply\u001b[0m \u001b[0;34m==\u001b[0m \u001b[0m_NOT_READY\u001b[0m \u001b[0;32mor\u001b[0m \u001b[0;32mnot\u001b[0m \u001b[0misinstance\u001b[0m\u001b[0;34m(\u001b[0m\u001b[0mreply\u001b[0m\u001b[0;34m,\u001b[0m \u001b[0mdict\u001b[0m\u001b[0;34m)\u001b[0m\u001b[0;34m:\u001b[0m\u001b[0;34m\u001b[0m\u001b[0;34m\u001b[0m\u001b[0m\n\u001b[0;32m--> 101\u001b[0;31m       \u001b[0mtime\u001b[0m\u001b[0;34m.\u001b[0m\u001b[0msleep\u001b[0m\u001b[0;34m(\u001b[0m\u001b[0;36m0.025\u001b[0m\u001b[0;34m)\u001b[0m\u001b[0;34m\u001b[0m\u001b[0;34m\u001b[0m\u001b[0m\n\u001b[0m\u001b[1;32m    102\u001b[0m       \u001b[0;32mcontinue\u001b[0m\u001b[0;34m\u001b[0m\u001b[0;34m\u001b[0m\u001b[0m\n\u001b[1;32m    103\u001b[0m     if (reply.get('type') == 'colab_reply' and\n",
            "\u001b[0;31mKeyboardInterrupt\u001b[0m: "
          ]
        }
      ]
    },
    {
      "cell_type": "code",
      "metadata": {
        "id": "pGWHNPCrEZ43"
      },
      "source": [
        ""
      ],
      "execution_count": null,
      "outputs": []
    },
    {
      "cell_type": "markdown",
      "metadata": {
        "id": "j6OSgFJ9b803"
      },
      "source": [
        "# Data Cleaning"
      ]
    },
    {
      "cell_type": "markdown",
      "metadata": {
        "id": "tYyxtP7xeIUY"
      },
      "source": [
        "## Load the DataFrames"
      ]
    },
    {
      "cell_type": "code",
      "metadata": {
        "id": "VnnFCk83drVv",
        "colab": {
          "base_uri": "https://localhost:8080/",
          "height": 473
        },
        "outputId": "4697aa17-d5d7-405a-fa3e-1cf4f6e4d771"
      },
      "source": [
        "#read the files into their respective dataframes \n",
        "labela_df = pd.read_csv('/content/drive/My Drive/CDS_Project/OLIDv1/labels-levela.csv', header = None)\n",
        "labelb_df = pd.read_csv('/content/drive/My Drive/CDS_Project/OLIDv1/labels-levelb.csv', header = None)\n",
        "labelc_df = pd.read_csv('/content/drive/My Drive/CDS_Project/OLIDv1/labels-levelc.csv', header = None)\n",
        "testa_df = pd.read_csv('/content/drive/My Drive/CDS_Project/OLIDv1/testset-levela.tsv', sep = '\\t')\n",
        "testb_df = pd.read_csv('/content/drive/My Drive/CDS_Project/OLIDv1/testset-levelb.tsv', sep = '\\t')\n",
        "testc_df = pd.read_csv('/content/drive/My Drive/CDS_Project/OLIDv1/testset-levelc.tsv', sep = '\\t')\n",
        "train_df = pd.read_csv('/content/drive/My Drive/CDS_Project/OLIDv1/olid-training-v1.0.tsv', sep = '\\t')\n",
        "experiment_df = pd.read_excel('/content/drive/My Drive/CDS_Project/OLIDv1/Data/PublicData.xlsx')\n",
        "\n"
      ],
      "execution_count": null,
      "outputs": [
        {
          "output_type": "error",
          "ename": "KeyboardInterrupt",
          "evalue": "ignored",
          "traceback": [
            "\u001b[0;31m---------------------------------------------------------------------------\u001b[0m",
            "\u001b[0;31mKeyboardInterrupt\u001b[0m                         Traceback (most recent call last)",
            "\u001b[0;32m<ipython-input-4-517bba8a16ef>\u001b[0m in \u001b[0;36m<module>\u001b[0;34m()\u001b[0m\n\u001b[1;32m      2\u001b[0m \u001b[0mlabela_df\u001b[0m \u001b[0;34m=\u001b[0m \u001b[0mpd\u001b[0m\u001b[0;34m.\u001b[0m\u001b[0mread_csv\u001b[0m\u001b[0;34m(\u001b[0m\u001b[0;34m'/content/drive/My Drive/CDS_Project/OLIDv1/labels-levela.csv'\u001b[0m\u001b[0;34m,\u001b[0m \u001b[0mheader\u001b[0m \u001b[0;34m=\u001b[0m \u001b[0;32mNone\u001b[0m\u001b[0;34m)\u001b[0m\u001b[0;34m\u001b[0m\u001b[0;34m\u001b[0m\u001b[0m\n\u001b[1;32m      3\u001b[0m \u001b[0mlabelb_df\u001b[0m \u001b[0;34m=\u001b[0m \u001b[0mpd\u001b[0m\u001b[0;34m.\u001b[0m\u001b[0mread_csv\u001b[0m\u001b[0;34m(\u001b[0m\u001b[0;34m'/content/drive/My Drive/CDS_Project/OLIDv1/labels-levelb.csv'\u001b[0m\u001b[0;34m,\u001b[0m \u001b[0mheader\u001b[0m \u001b[0;34m=\u001b[0m \u001b[0;32mNone\u001b[0m\u001b[0;34m)\u001b[0m\u001b[0;34m\u001b[0m\u001b[0;34m\u001b[0m\u001b[0m\n\u001b[0;32m----> 4\u001b[0;31m \u001b[0mlabelc_df\u001b[0m \u001b[0;34m=\u001b[0m \u001b[0mpd\u001b[0m\u001b[0;34m.\u001b[0m\u001b[0mread_csv\u001b[0m\u001b[0;34m(\u001b[0m\u001b[0;34m'/content/drive/My Drive/CDS_Project/OLIDv1/labels-levelc.csv'\u001b[0m\u001b[0;34m,\u001b[0m \u001b[0mheader\u001b[0m \u001b[0;34m=\u001b[0m \u001b[0;32mNone\u001b[0m\u001b[0;34m)\u001b[0m\u001b[0;34m\u001b[0m\u001b[0;34m\u001b[0m\u001b[0m\n\u001b[0m\u001b[1;32m      5\u001b[0m \u001b[0mtesta_df\u001b[0m \u001b[0;34m=\u001b[0m \u001b[0mpd\u001b[0m\u001b[0;34m.\u001b[0m\u001b[0mread_csv\u001b[0m\u001b[0;34m(\u001b[0m\u001b[0;34m'/content/drive/My Drive/CDS_Project/OLIDv1/testset-levela.tsv'\u001b[0m\u001b[0;34m,\u001b[0m \u001b[0msep\u001b[0m \u001b[0;34m=\u001b[0m \u001b[0;34m'\\t'\u001b[0m\u001b[0;34m)\u001b[0m\u001b[0;34m\u001b[0m\u001b[0;34m\u001b[0m\u001b[0m\n\u001b[1;32m      6\u001b[0m \u001b[0mtestb_df\u001b[0m \u001b[0;34m=\u001b[0m \u001b[0mpd\u001b[0m\u001b[0;34m.\u001b[0m\u001b[0mread_csv\u001b[0m\u001b[0;34m(\u001b[0m\u001b[0;34m'/content/drive/My Drive/CDS_Project/OLIDv1/testset-levelb.tsv'\u001b[0m\u001b[0;34m,\u001b[0m \u001b[0msep\u001b[0m \u001b[0;34m=\u001b[0m \u001b[0;34m'\\t'\u001b[0m\u001b[0;34m)\u001b[0m\u001b[0;34m\u001b[0m\u001b[0;34m\u001b[0m\u001b[0m\n",
            "\u001b[0;32m/usr/local/lib/python3.6/dist-packages/pandas/io/parsers.py\u001b[0m in \u001b[0;36mread_csv\u001b[0;34m(filepath_or_buffer, sep, delimiter, header, names, index_col, usecols, squeeze, prefix, mangle_dupe_cols, dtype, engine, converters, true_values, false_values, skipinitialspace, skiprows, skipfooter, nrows, na_values, keep_default_na, na_filter, verbose, skip_blank_lines, parse_dates, infer_datetime_format, keep_date_col, date_parser, dayfirst, cache_dates, iterator, chunksize, compression, thousands, decimal, lineterminator, quotechar, quoting, doublequote, escapechar, comment, encoding, dialect, error_bad_lines, warn_bad_lines, delim_whitespace, low_memory, memory_map, float_precision)\u001b[0m\n\u001b[1;32m    686\u001b[0m     )\n\u001b[1;32m    687\u001b[0m \u001b[0;34m\u001b[0m\u001b[0m\n\u001b[0;32m--> 688\u001b[0;31m     \u001b[0;32mreturn\u001b[0m \u001b[0m_read\u001b[0m\u001b[0;34m(\u001b[0m\u001b[0mfilepath_or_buffer\u001b[0m\u001b[0;34m,\u001b[0m \u001b[0mkwds\u001b[0m\u001b[0;34m)\u001b[0m\u001b[0;34m\u001b[0m\u001b[0;34m\u001b[0m\u001b[0m\n\u001b[0m\u001b[1;32m    689\u001b[0m \u001b[0;34m\u001b[0m\u001b[0m\n\u001b[1;32m    690\u001b[0m \u001b[0;34m\u001b[0m\u001b[0m\n",
            "\u001b[0;32m/usr/local/lib/python3.6/dist-packages/pandas/io/parsers.py\u001b[0m in \u001b[0;36m_read\u001b[0;34m(filepath_or_buffer, kwds)\u001b[0m\n\u001b[1;32m    452\u001b[0m \u001b[0;34m\u001b[0m\u001b[0m\n\u001b[1;32m    453\u001b[0m     \u001b[0;31m# Create the parser.\u001b[0m\u001b[0;34m\u001b[0m\u001b[0;34m\u001b[0m\u001b[0;34m\u001b[0m\u001b[0m\n\u001b[0;32m--> 454\u001b[0;31m     \u001b[0mparser\u001b[0m \u001b[0;34m=\u001b[0m \u001b[0mTextFileReader\u001b[0m\u001b[0;34m(\u001b[0m\u001b[0mfp_or_buf\u001b[0m\u001b[0;34m,\u001b[0m \u001b[0;34m**\u001b[0m\u001b[0mkwds\u001b[0m\u001b[0;34m)\u001b[0m\u001b[0;34m\u001b[0m\u001b[0;34m\u001b[0m\u001b[0m\n\u001b[0m\u001b[1;32m    455\u001b[0m \u001b[0;34m\u001b[0m\u001b[0m\n\u001b[1;32m    456\u001b[0m     \u001b[0;32mif\u001b[0m \u001b[0mchunksize\u001b[0m \u001b[0;32mor\u001b[0m \u001b[0miterator\u001b[0m\u001b[0;34m:\u001b[0m\u001b[0;34m\u001b[0m\u001b[0;34m\u001b[0m\u001b[0m\n",
            "\u001b[0;32m/usr/local/lib/python3.6/dist-packages/pandas/io/parsers.py\u001b[0m in \u001b[0;36m__init__\u001b[0;34m(self, f, engine, **kwds)\u001b[0m\n\u001b[1;32m    946\u001b[0m             \u001b[0mself\u001b[0m\u001b[0;34m.\u001b[0m\u001b[0moptions\u001b[0m\u001b[0;34m[\u001b[0m\u001b[0;34m\"has_index_names\"\u001b[0m\u001b[0;34m]\u001b[0m \u001b[0;34m=\u001b[0m \u001b[0mkwds\u001b[0m\u001b[0;34m[\u001b[0m\u001b[0;34m\"has_index_names\"\u001b[0m\u001b[0;34m]\u001b[0m\u001b[0;34m\u001b[0m\u001b[0;34m\u001b[0m\u001b[0m\n\u001b[1;32m    947\u001b[0m \u001b[0;34m\u001b[0m\u001b[0m\n\u001b[0;32m--> 948\u001b[0;31m         \u001b[0mself\u001b[0m\u001b[0;34m.\u001b[0m\u001b[0m_make_engine\u001b[0m\u001b[0;34m(\u001b[0m\u001b[0mself\u001b[0m\u001b[0;34m.\u001b[0m\u001b[0mengine\u001b[0m\u001b[0;34m)\u001b[0m\u001b[0;34m\u001b[0m\u001b[0;34m\u001b[0m\u001b[0m\n\u001b[0m\u001b[1;32m    949\u001b[0m \u001b[0;34m\u001b[0m\u001b[0m\n\u001b[1;32m    950\u001b[0m     \u001b[0;32mdef\u001b[0m \u001b[0mclose\u001b[0m\u001b[0;34m(\u001b[0m\u001b[0mself\u001b[0m\u001b[0;34m)\u001b[0m\u001b[0;34m:\u001b[0m\u001b[0;34m\u001b[0m\u001b[0;34m\u001b[0m\u001b[0m\n",
            "\u001b[0;32m/usr/local/lib/python3.6/dist-packages/pandas/io/parsers.py\u001b[0m in \u001b[0;36m_make_engine\u001b[0;34m(self, engine)\u001b[0m\n\u001b[1;32m   1178\u001b[0m     \u001b[0;32mdef\u001b[0m \u001b[0m_make_engine\u001b[0m\u001b[0;34m(\u001b[0m\u001b[0mself\u001b[0m\u001b[0;34m,\u001b[0m \u001b[0mengine\u001b[0m\u001b[0;34m=\u001b[0m\u001b[0;34m\"c\"\u001b[0m\u001b[0;34m)\u001b[0m\u001b[0;34m:\u001b[0m\u001b[0;34m\u001b[0m\u001b[0;34m\u001b[0m\u001b[0m\n\u001b[1;32m   1179\u001b[0m         \u001b[0;32mif\u001b[0m \u001b[0mengine\u001b[0m \u001b[0;34m==\u001b[0m \u001b[0;34m\"c\"\u001b[0m\u001b[0;34m:\u001b[0m\u001b[0;34m\u001b[0m\u001b[0;34m\u001b[0m\u001b[0m\n\u001b[0;32m-> 1180\u001b[0;31m             \u001b[0mself\u001b[0m\u001b[0;34m.\u001b[0m\u001b[0m_engine\u001b[0m \u001b[0;34m=\u001b[0m \u001b[0mCParserWrapper\u001b[0m\u001b[0;34m(\u001b[0m\u001b[0mself\u001b[0m\u001b[0;34m.\u001b[0m\u001b[0mf\u001b[0m\u001b[0;34m,\u001b[0m \u001b[0;34m**\u001b[0m\u001b[0mself\u001b[0m\u001b[0;34m.\u001b[0m\u001b[0moptions\u001b[0m\u001b[0;34m)\u001b[0m\u001b[0;34m\u001b[0m\u001b[0;34m\u001b[0m\u001b[0m\n\u001b[0m\u001b[1;32m   1181\u001b[0m         \u001b[0;32melse\u001b[0m\u001b[0;34m:\u001b[0m\u001b[0;34m\u001b[0m\u001b[0;34m\u001b[0m\u001b[0m\n\u001b[1;32m   1182\u001b[0m             \u001b[0;32mif\u001b[0m \u001b[0mengine\u001b[0m \u001b[0;34m==\u001b[0m \u001b[0;34m\"python\"\u001b[0m\u001b[0;34m:\u001b[0m\u001b[0;34m\u001b[0m\u001b[0;34m\u001b[0m\u001b[0m\n",
            "\u001b[0;32m/usr/local/lib/python3.6/dist-packages/pandas/io/parsers.py\u001b[0m in \u001b[0;36m__init__\u001b[0;34m(self, src, **kwds)\u001b[0m\n\u001b[1;32m   2008\u001b[0m         \u001b[0mkwds\u001b[0m\u001b[0;34m[\u001b[0m\u001b[0;34m\"usecols\"\u001b[0m\u001b[0;34m]\u001b[0m \u001b[0;34m=\u001b[0m \u001b[0mself\u001b[0m\u001b[0;34m.\u001b[0m\u001b[0musecols\u001b[0m\u001b[0;34m\u001b[0m\u001b[0;34m\u001b[0m\u001b[0m\n\u001b[1;32m   2009\u001b[0m \u001b[0;34m\u001b[0m\u001b[0m\n\u001b[0;32m-> 2010\u001b[0;31m         \u001b[0mself\u001b[0m\u001b[0;34m.\u001b[0m\u001b[0m_reader\u001b[0m \u001b[0;34m=\u001b[0m \u001b[0mparsers\u001b[0m\u001b[0;34m.\u001b[0m\u001b[0mTextReader\u001b[0m\u001b[0;34m(\u001b[0m\u001b[0msrc\u001b[0m\u001b[0;34m,\u001b[0m \u001b[0;34m**\u001b[0m\u001b[0mkwds\u001b[0m\u001b[0;34m)\u001b[0m\u001b[0;34m\u001b[0m\u001b[0;34m\u001b[0m\u001b[0m\n\u001b[0m\u001b[1;32m   2011\u001b[0m         \u001b[0mself\u001b[0m\u001b[0;34m.\u001b[0m\u001b[0munnamed_cols\u001b[0m \u001b[0;34m=\u001b[0m \u001b[0mself\u001b[0m\u001b[0;34m.\u001b[0m\u001b[0m_reader\u001b[0m\u001b[0;34m.\u001b[0m\u001b[0munnamed_cols\u001b[0m\u001b[0;34m\u001b[0m\u001b[0;34m\u001b[0m\u001b[0m\n\u001b[1;32m   2012\u001b[0m \u001b[0;34m\u001b[0m\u001b[0m\n",
            "\u001b[0;31mKeyboardInterrupt\u001b[0m: "
          ]
        }
      ]
    },
    {
      "cell_type": "code",
      "metadata": {
        "colab": {
          "base_uri": "https://localhost:8080/"
        },
        "id": "SiyuGXTN3nOW",
        "outputId": "0059f9d4-336f-45cc-d67b-4d4423054b09"
      },
      "source": [
        "#Clean the experimental labels \n",
        "experiment_df['subtask_a'] = experiment_df['subtask_a'].replace('OFF ', 'OFF')\n",
        "experiment_df['subtask_b'] = experiment_df['subtask_b'].replace('OFF ', 'OFF')\n",
        "experiment_df['subtask_c'] = experiment_df['subtask_c'].replace('OFF ', 'OFF')\n",
        "experiment_df['subtask_a'].unique(),experiment_df['subtask_b'].unique(), experiment_df['subtask_c'].unique() "
      ],
      "execution_count": null,
      "outputs": [
        {
          "output_type": "execute_result",
          "data": {
            "text/plain": [
              "(array(['OFF', 'NOT'], dtype=object),\n",
              " array(['TIN', nan, 'UNT'], dtype=object),\n",
              " array(['IND', 'GRP', 'OTH', nan], dtype=object))"
            ]
          },
          "metadata": {
            "tags": []
          },
          "execution_count": 39
        }
      ]
    },
    {
      "cell_type": "code",
      "metadata": {
        "colab": {
          "base_uri": "https://localhost:8080/",
          "height": 204
        },
        "id": "6y9qM8cPv3oI",
        "outputId": "91530fe6-a646-4bc5-e294-909c0e6fd69c"
      },
      "source": [
        "#Split the experiment data into A, B and C\n",
        "experiment_a_df = experiment_df[['tweet', 'subtask_a']]\n",
        "experiment_b_df = experiment_df[['tweet', 'subtask_b']]\n",
        "experiment_c_df = experiment_df[['tweet', 'subtask_c']]\n",
        "experiment_a_df.head()"
      ],
      "execution_count": null,
      "outputs": [
        {
          "output_type": "execute_result",
          "data": {
            "text/html": [
              "<div>\n",
              "<style scoped>\n",
              "    .dataframe tbody tr th:only-of-type {\n",
              "        vertical-align: middle;\n",
              "    }\n",
              "\n",
              "    .dataframe tbody tr th {\n",
              "        vertical-align: top;\n",
              "    }\n",
              "\n",
              "    .dataframe thead th {\n",
              "        text-align: right;\n",
              "    }\n",
              "</style>\n",
              "<table border=\"1\" class=\"dataframe\">\n",
              "  <thead>\n",
              "    <tr style=\"text-align: right;\">\n",
              "      <th></th>\n",
              "      <th>tweet</th>\n",
              "      <th>subtask_a</th>\n",
              "    </tr>\n",
              "  </thead>\n",
              "  <tbody>\n",
              "    <tr>\n",
              "      <th>0</th>\n",
              "      <td>RT @iSellGreenCards: 1st RT @MsSashaBelle: Sho...</td>\n",
              "      <td>OFF</td>\n",
              "    </tr>\n",
              "    <tr>\n",
              "      <th>1</th>\n",
              "      <td>@40oz_VAN IYCMI. I can't get any work done if ...</td>\n",
              "      <td>OFF</td>\n",
              "    </tr>\n",
              "    <tr>\n",
              "      <th>2</th>\n",
              "      <td>&amp;#8220;@lildebo2391: He too rich to let that b...</td>\n",
              "      <td>OFF</td>\n",
              "    </tr>\n",
              "    <tr>\n",
              "      <th>3</th>\n",
              "      <td>Really Barnicle? OJ or Anthony Weiner? MJ is a...</td>\n",
              "      <td>OFF</td>\n",
              "    </tr>\n",
              "    <tr>\n",
              "      <th>4</th>\n",
              "      <td>RT @GabrielaAngela4: That hoe wanta 6/6.</td>\n",
              "      <td>OFF</td>\n",
              "    </tr>\n",
              "  </tbody>\n",
              "</table>\n",
              "</div>"
            ],
            "text/plain": [
              "                                               tweet subtask_a\n",
              "0  RT @iSellGreenCards: 1st RT @MsSashaBelle: Sho...       OFF\n",
              "1  @40oz_VAN IYCMI. I can't get any work done if ...       OFF\n",
              "2  &#8220;@lildebo2391: He too rich to let that b...       OFF\n",
              "3  Really Barnicle? OJ or Anthony Weiner? MJ is a...       OFF\n",
              "4           RT @GabrielaAngela4: That hoe wanta 6/6.       OFF"
            ]
          },
          "metadata": {
            "tags": []
          },
          "execution_count": 40
        }
      ]
    },
    {
      "cell_type": "code",
      "metadata": {
        "colab": {
          "base_uri": "https://localhost:8080/",
          "height": 255
        },
        "id": "3GxuiM3Xd0dB",
        "outputId": "395de574-5eae-4df8-b4eb-b7bbd1d0d3de"
      },
      "source": [
        "#Merge the label dataset with the test data set, so only Test data set needed\n",
        "\n",
        "testa_df['subtask_a'] = labela_df[1]\n",
        "testb_df['subtask_b'] = labelb_df[1]\n",
        "testc_df['subtask_c'] = labelc_df[1]\n",
        "testc_df.head()"
      ],
      "execution_count": null,
      "outputs": [
        {
          "output_type": "execute_result",
          "data": {
            "text/html": [
              "<div>\n",
              "<style scoped>\n",
              "    .dataframe tbody tr th:only-of-type {\n",
              "        vertical-align: middle;\n",
              "    }\n",
              "\n",
              "    .dataframe tbody tr th {\n",
              "        vertical-align: top;\n",
              "    }\n",
              "\n",
              "    .dataframe thead th {\n",
              "        text-align: right;\n",
              "    }\n",
              "</style>\n",
              "<table border=\"1\" class=\"dataframe\">\n",
              "  <thead>\n",
              "    <tr style=\"text-align: right;\">\n",
              "      <th></th>\n",
              "      <th>id</th>\n",
              "      <th>tweet</th>\n",
              "      <th>subtask_c</th>\n",
              "      <th>clean_tweet</th>\n",
              "    </tr>\n",
              "  </thead>\n",
              "  <tbody>\n",
              "    <tr>\n",
              "      <th>0</th>\n",
              "      <td>15923</td>\n",
              "      <td>#WhoIsQ #WheresTheServer #DumpNike #DECLASFISA...</td>\n",
              "      <td>OTH</td>\n",
              "      <td>[democrat, support, ant, muslim, brotherhood, ...</td>\n",
              "    </tr>\n",
              "    <tr>\n",
              "      <th>1</th>\n",
              "      <td>60133</td>\n",
              "      <td>#NoPasaran: Unity demo to oppose the far-right...</td>\n",
              "      <td>GRP</td>\n",
              "      <td>[unity, demo, oppose, far, right, enough, enough]</td>\n",
              "    </tr>\n",
              "    <tr>\n",
              "      <th>2</th>\n",
              "      <td>83681</td>\n",
              "      <td>. . . What the fuck did he do this time?</td>\n",
              "      <td>IND</td>\n",
              "      <td>[fuck, he, time]</td>\n",
              "    </tr>\n",
              "    <tr>\n",
              "      <th>3</th>\n",
              "      <td>65507</td>\n",
              "      <td>@USER Do you get the feeling he is kissing @US...</td>\n",
              "      <td>OTH</td>\n",
              "      <td>[you, get, feeling, he, kissing, behind, he, h...</td>\n",
              "    </tr>\n",
              "    <tr>\n",
              "      <th>4</th>\n",
              "      <td>34263</td>\n",
              "      <td>#StopKavanaugh he is liar like the rest of the...</td>\n",
              "      <td>IND</td>\n",
              "      <td>[he, liar, like, rest]</td>\n",
              "    </tr>\n",
              "  </tbody>\n",
              "</table>\n",
              "</div>"
            ],
            "text/plain": [
              "      id  ...                                        clean_tweet\n",
              "0  15923  ...  [democrat, support, ant, muslim, brotherhood, ...\n",
              "1  60133  ...  [unity, demo, oppose, far, right, enough, enough]\n",
              "2  83681  ...                                   [fuck, he, time]\n",
              "3  65507  ...  [you, get, feeling, he, kissing, behind, he, h...\n",
              "4  34263  ...                             [he, liar, like, rest]\n",
              "\n",
              "[5 rows x 4 columns]"
            ]
          },
          "metadata": {
            "tags": []
          },
          "execution_count": 41
        }
      ]
    },
    {
      "cell_type": "code",
      "metadata": {
        "colab": {
          "base_uri": "https://localhost:8080/",
          "height": 527
        },
        "id": "ZeI88dPCd3X7",
        "outputId": "1c0b18fd-fc42-423a-98a3-7fe4dba532bd"
      },
      "source": [
        "#View the training data set\n",
        "train_df.head()"
      ],
      "execution_count": null,
      "outputs": [
        {
          "output_type": "execute_result",
          "data": {
            "text/html": [
              "<div>\n",
              "<style scoped>\n",
              "    .dataframe tbody tr th:only-of-type {\n",
              "        vertical-align: middle;\n",
              "    }\n",
              "\n",
              "    .dataframe tbody tr th {\n",
              "        vertical-align: top;\n",
              "    }\n",
              "\n",
              "    .dataframe thead th {\n",
              "        text-align: right;\n",
              "    }\n",
              "</style>\n",
              "<table border=\"1\" class=\"dataframe\">\n",
              "  <thead>\n",
              "    <tr style=\"text-align: right;\">\n",
              "      <th></th>\n",
              "      <th>id</th>\n",
              "      <th>tweet</th>\n",
              "      <th>subtask_a</th>\n",
              "      <th>subtask_b</th>\n",
              "      <th>subtask_c</th>\n",
              "      <th>clean_tweet</th>\n",
              "      <th>clean_tweet_str</th>\n",
              "    </tr>\n",
              "  </thead>\n",
              "  <tbody>\n",
              "    <tr>\n",
              "      <th>0</th>\n",
              "      <td>86426</td>\n",
              "      <td>@USER She should ask a few native Americans wh...</td>\n",
              "      <td>OFF</td>\n",
              "      <td>UNT</td>\n",
              "      <td>NaN</td>\n",
              "      <td>[she, ask, native, american, take]</td>\n",
              "      <td>she ask native american take</td>\n",
              "    </tr>\n",
              "    <tr>\n",
              "      <th>1</th>\n",
              "      <td>90194</td>\n",
              "      <td>@USER @USER Go home you’re drunk!!! @USER #MAG...</td>\n",
              "      <td>OFF</td>\n",
              "      <td>TIN</td>\n",
              "      <td>IND</td>\n",
              "      <td>[go, home, you, drunk]</td>\n",
              "      <td>go home you drunk</td>\n",
              "    </tr>\n",
              "    <tr>\n",
              "      <th>2</th>\n",
              "      <td>16820</td>\n",
              "      <td>Amazon is investigating Chinese employees who ...</td>\n",
              "      <td>NOT</td>\n",
              "      <td>NaN</td>\n",
              "      <td>NaN</td>\n",
              "      <td>[amazon, investigating, chinese, employee, sel...</td>\n",
              "      <td>amazon investigating chinese employee selling ...</td>\n",
              "    </tr>\n",
              "    <tr>\n",
              "      <th>3</th>\n",
              "      <td>62688</td>\n",
              "      <td>@USER Someone should'veTaken\" this piece of sh...</td>\n",
              "      <td>OFF</td>\n",
              "      <td>UNT</td>\n",
              "      <td>NaN</td>\n",
              "      <td>[someone, vet, ken, piece, shit, volcano]</td>\n",
              "      <td>someone vet ken piece shit volcano</td>\n",
              "    </tr>\n",
              "    <tr>\n",
              "      <th>4</th>\n",
              "      <td>43605</td>\n",
              "      <td>@USER @USER Obama wanted liberals &amp;amp; illega...</td>\n",
              "      <td>NOT</td>\n",
              "      <td>NaN</td>\n",
              "      <td>NaN</td>\n",
              "      <td>[obama, wanted, liberal, amp, illegals, move, ...</td>\n",
              "      <td>obama wanted liberal amp illegals move red state</td>\n",
              "    </tr>\n",
              "  </tbody>\n",
              "</table>\n",
              "</div>"
            ],
            "text/plain": [
              "      id  ...                                    clean_tweet_str\n",
              "0  86426  ...                       she ask native american take\n",
              "1  90194  ...                                  go home you drunk\n",
              "2  16820  ...  amazon investigating chinese employee selling ...\n",
              "3  62688  ...                 someone vet ken piece shit volcano\n",
              "4  43605  ...   obama wanted liberal amp illegals move red state\n",
              "\n",
              "[5 rows x 7 columns]"
            ]
          },
          "metadata": {
            "tags": []
          },
          "execution_count": 42
        }
      ]
    },
    {
      "cell_type": "markdown",
      "metadata": {
        "id": "uTaW_Vypda5l"
      },
      "source": [
        "## Cleaning the Tweets\n",
        "\n",
        "The training and test data are in 2 separate files, so a function has been written to to tidy the text up and return a column of cleaned tweets\n",
        "\n",
        "* remove URLs, Hashtags, Mentions, Reserved Words (RT, FAV), Emojis\n",
        "* Change text to lowercase \n",
        "* Handle Apostrophe (e.g. aren't -> are not)\n",
        "* Remove punctuations\n",
        "* Remove numbers \n",
        "* Segment the words (fix the spelling) \n",
        "* Lemmatization and Tokenization\n",
        "* Remove Stop Words (with Blacklist and Whitelist words)"
      ]
    },
    {
      "cell_type": "markdown",
      "metadata": {
        "id": "fm3ViTeZeTnB"
      },
      "source": [
        "### Cleaning Function"
      ]
    },
    {
      "cell_type": "code",
      "metadata": {
        "id": "54COcJPGeWXs"
      },
      "source": [
        "#list of contractions to remove later \n",
        "contractions = {\n",
        "\"ain't\": \"am not / are not\",\n",
        "\"aren't\": \"are not / am not\",\n",
        "\"can't\": \"cannot\",\n",
        "\"can't've\": \"cannot have\",\n",
        "\"'cause\": \"because\",\n",
        "\"could've\": \"could have\",\n",
        "\"couldn't\": \"could not\",\n",
        "\"couldn't've\": \"could not have\",\n",
        "\"didn't\": \"did not\",\n",
        "\"doesn't\": \"does not\",\n",
        "\"don't\": \"do not\",\n",
        "\"hadn't\": \"had not\",\n",
        "\"hadn't've\": \"had not have\",\n",
        "\"hasn't\": \"has not\",\n",
        "\"haven't\": \"have not\",\n",
        "\"he'd\": \"he had / he would\",\n",
        "\"he'd've\": \"he would have\",\n",
        "\"he'll\": \"he shall / he will\",\n",
        "\"he'll've\": \"he shall have / he will have\",\n",
        "\"he's\": \"he has / he is\",\n",
        "\"how'd\": \"how did\",\n",
        "\"how'd'y\": \"how do you\",\n",
        "\"how'll\": \"how will\",\n",
        "\"how's\": \"how has / how is\",\n",
        "\"i'd\": \"I had / I would\",\n",
        "\"i'd've\": \"I would have\",\n",
        "\"i'll\": \"I shall / I will\",\n",
        "\"i'll've\": \"I shall have / I will have\",\n",
        "\"i'm\": \"I am\",\n",
        "\"i've\": \"I have\",\n",
        "\"isn't\": \"is not\",\n",
        "\"it'd\": \"it had / it would\",\n",
        "\"it'd've\": \"it would have\",\n",
        "\"it'll\": \"it shall / it will\",\n",
        "\"it'll've\": \"it shall have / it will have\",\n",
        "\"it's\": \"it has / it is\",\n",
        "\"let's\": \"let us\",\n",
        "\"ma'am\": \"madam\",\n",
        "\"mayn't\": \"may not\",\n",
        "\"might've\": \"might have\",\n",
        "\"mightn't\": \"might not\",\n",
        "\"mightn't've\": \"might not have\",\n",
        "\"must've\": \"must have\",\n",
        "\"mustn't\": \"must not\",\n",
        "\"mustn't've\": \"must not have\",\n",
        "\"needn't\": \"need not\",\n",
        "\"needn't've\": \"need not have\",\n",
        "\"o'clock\": \"of the clock\",\n",
        "\"oughtn't\": \"ought not\",\n",
        "\"oughtn't've\": \"ought not have\",\n",
        "\"shan't\": \"shall not\",\n",
        "\"sha'n't\": \"shall not\",\n",
        "\"shan't've\": \"shall not have\",\n",
        "\"she'd\": \"she had / she would\",\n",
        "\"she'd've\": \"she would have\",\n",
        "\"she'll\": \"she shall / she will\",\n",
        "\"she'll've\": \"she shall have / she will have\",\n",
        "\"she's\": \"she has / she is\",\n",
        "\"should've\": \"should have\",\n",
        "\"shouldn't\": \"should not\",\n",
        "\"shouldn't've\": \"should not have\",\n",
        "\"so've\": \"so have\",\n",
        "\"so's\": \"so as / so is\",\n",
        "\"that'd\": \"that would / that had\",\n",
        "\"that'd've\": \"that would have\",\n",
        "\"that's\": \"that has / that is\",\n",
        "\"there'd\": \"there had / there would\",\n",
        "\"there'd've\": \"there would have\",\n",
        "\"there's\": \"there has / there is\",\n",
        "\"they'd\": \"they had / they would\",\n",
        "\"they'd've\": \"they would have\",\n",
        "\"they'll\": \"they shall / they will\",\n",
        "\"they'll've\": \"they shall have / they will have\",\n",
        "\"they're\": \"they are\",\n",
        "\"they've\": \"they have\",\n",
        "\"to've\": \"to have\",\n",
        "\"wasn't\": \"was not\",\n",
        "\"we'd\": \"we had / we would\",\n",
        "\"we'd've\": \"we would have\",\n",
        "\"we'll\": \"we will\",\n",
        "\"we'll've\": \"we will have\",\n",
        "\"we're\": \"we are\",\n",
        "\"we've\": \"we have\",\n",
        "\"weren't\": \"were not\",\n",
        "\"what'll\": \"what shall / what will\",\n",
        "\"what'll've\": \"what shall have / what will have\",\n",
        "\"what're\": \"what are\",\n",
        "\"what's\": \"what has / what is\",\n",
        "\"what've\": \"what have\",\n",
        "\"when's\": \"when has / when is\",\n",
        "\"when've\": \"when have\",\n",
        "\"where'd\": \"where did\",\n",
        "\"where's\": \"where has / where is\",\n",
        "\"where've\": \"where have\",\n",
        "\"who'll\": \"who shall / who will\",\n",
        "\"who'll've\": \"who shall have / who will have\",\n",
        "\"who's\": \"who has / who is\",\n",
        "\"who've\": \"who have\",\n",
        "\"why's\": \"why has / why is\",\n",
        "\"why've\": \"why have\",\n",
        "\"will've\": \"will have\",\n",
        "\"won't\": \"will not\",\n",
        "\"won't've\": \"will not have\",\n",
        "\"would've\": \"would have\",\n",
        "\"wouldn't\": \"would not\",\n",
        "\"wouldn't've\": \"would not have\",\n",
        "\"y'all\": \"you all\",\n",
        "\"y'all'd\": \"you all would\",\n",
        "\"y'all'd've\": \"you all would have\",\n",
        "\"y'all're\": \"you all are\",\n",
        "\"y'all've\": \"you all have\",\n",
        "\"you'd\": \"you had / you would\",\n",
        "\"you'd've\": \"you would have\",\n",
        "\"you'll\": \"you shall / you will\",\n",
        "\"you'll've\": \"you shall have / you will have\",\n",
        "\"you're\": \"you are\",\n",
        "\"you've\": \"you have\"\n",
        "}"
      ],
      "execution_count": null,
      "outputs": []
    },
    {
      "cell_type": "code",
      "metadata": {
        "colab": {
          "base_uri": "https://localhost:8080/"
        },
        "id": "Cvr-OXQeeaKH",
        "outputId": "173b00f7-dd02-4529-a5ed-616112e54cad"
      },
      "source": [
        "#Setting up SymSpell to segment words\n",
        "sym_spell = SymSpell(max_dictionary_edit_distance=0, prefix_length=7)\n",
        "dictionary_path = pkg_resources.resource_filename(\n",
        "    \"symspellpy\", \"frequency_dictionary_en_82_765.txt\")\n",
        "# term_index is the column of the term and count_index is the column of the term frequency\n",
        "sym_spell.load_dictionary(dictionary_path, term_index=0, count_index=1)\n"
      ],
      "execution_count": null,
      "outputs": [
        {
          "output_type": "execute_result",
          "data": {
            "text/plain": [
              "True"
            ]
          },
          "metadata": {
            "tags": []
          },
          "execution_count": 13
        }
      ]
    },
    {
      "cell_type": "code",
      "metadata": {
        "id": "Lk6oFv1Jeckj"
      },
      "source": [
        "#Setting up Lematizer, Tokenizer\n",
        "lemmatizer = nltk.stem.WordNetLemmatizer()\n",
        "w_tokenizer = TweetTokenizer()"
      ],
      "execution_count": null,
      "outputs": []
    },
    {
      "cell_type": "code",
      "metadata": {
        "id": "BoCnHYA4efft"
      },
      "source": [
        "#Removes specially chosen stop words\n",
        "def cleaner(row, contractions, blacklist, whitelist):\n",
        "  '''\n",
        "  Blacklist: Words that are not in stop words but we will be removing \n",
        "  Whitelist: Words that are in the stop words but we will be keeping\n",
        "  '''\n",
        "  #remove URLs, Hashtags, Mentions, Reserved Words (RT, FAV), Emojis\n",
        "  row = p.clean(row)\n",
        "  #lower the text \n",
        "  row = row.lower()\n",
        "  #Apostrophe Handling\n",
        "  for word in row.split():\n",
        "    if word in contractions: \n",
        "      row = row.replace(word, contractions[word.lower()])\n",
        "  #remove punctuations\n",
        "  row  = \"\".join([char for char in row if char not in string.punctuation])\n",
        "  row = re.sub('[0-9]+', '', row, flags=re.MULTILINE)\n",
        "  #remove numbers \n",
        "  row = re.sub(r'\\d+', '', row, flags=re.MULTILINE)\n",
        "  #Segment the words \n",
        "  try:\n",
        "    row = (sym_spell.word_segmentation(row)).corrected_string\n",
        "  except: \n",
        "    pass\n",
        "  #Lemmatization and Tokenization\n",
        "  row = [(lemmatizer.lemmatize(w)) for w in w_tokenizer.tokenize((row))]\n",
        "  #Stopwords \n",
        "  all_stopwords = stopwords.words('english')\n",
        "  all_stopwords.extend(blacklist)\n",
        "  all_stopwords = set(all_stopwords)- set(whitelist)\n",
        "  row = [word for word in row if word not in all_stopwords]\n",
        "  return row"
      ],
      "execution_count": null,
      "outputs": []
    },
    {
      "cell_type": "code",
      "metadata": {
        "colab": {
          "base_uri": "https://localhost:8080/"
        },
        "id": "XScY5X-0fnbN",
        "outputId": "780b2304-d896-488b-c3a6-18917dc21cd1"
      },
      "source": [
        "tqdm.pandas()\n",
        "#List of stopwords that want to remove in addition to the ones in stopwords corpus\n",
        "badboy_list = ['url', 'ha']\n",
        "#List of stopwords that we would like to keep \n",
        "goodboy_list = ['i', 'he', 'she', 'it', 'him', 'her', 'we', 'you', 'they', 'us', 'them' ]\n",
        "#Apply modified clean tweet to the training data\n",
        "train_df['clean_tweet'] = train_df['tweet'].progress_apply(lambda x: cleaner(x, contractions, badboy_list, goodboy_list))\n",
        "#Apply modified clean tweet to the test data\n",
        "testc_df['clean_tweet'] = testc_df['tweet'].progress_apply(lambda x: cleaner(x, contractions, badboy_list, goodboy_list))\n",
        "testb_df['clean_tweet'] = testb_df['tweet'].progress_apply(lambda x: cleaner(x, contractions, badboy_list, goodboy_list))\n",
        "testa_df['clean_tweet'] = testa_df['tweet'].progress_apply(lambda x: cleaner(x, contractions, badboy_list, goodboy_list))\n",
        "#Apply modified cleaen tweet to the experimental data \n",
        "experiment_a_df['clean_tweet'] = experiment_a_df['tweet'].progress_apply(lambda x: cleaner(x, contractions, badboy_list, goodboy_list))\n",
        "experiment_b_df['clean_tweet'] = experiment_b_df['tweet'].progress_apply(lambda x: cleaner(x, contractions, badboy_list, goodboy_list))\n",
        "experiment_c_df['clean_tweet'] = experiment_c_df['tweet'].progress_apply(lambda x: cleaner(x, contractions, badboy_list, goodboy_list))"
      ],
      "execution_count": null,
      "outputs": [
        {
          "output_type": "stream",
          "text": [
            "100%|██████████| 13240/13240 [01:56<00:00, 113.98it/s]\n",
            "100%|██████████| 213/213 [00:02<00:00, 104.54it/s]\n",
            "100%|██████████| 240/240 [00:02<00:00, 108.52it/s]\n",
            "100%|██████████| 860/860 [00:08<00:00, 103.79it/s]\n",
            "100%|██████████| 200/200 [00:01<00:00, 183.42it/s]\n",
            "100%|██████████| 117/117 [00:00<00:00, 187.57it/s]\n",
            "100%|██████████| 102/102 [00:00<00:00, 184.11it/s]\n"
          ],
          "name": "stderr"
        }
      ]
    },
    {
      "cell_type": "code",
      "metadata": {
        "id": "ctOiQsrVlc2L"
      },
      "source": [
        "#Train Dataframe for each of the subsets  \n",
        "train_df_a = train_df.dropna(subset=['subtask_a'])\n",
        "train_df_a = train_df_a.drop(columns = ['subtask_b', 'subtask_c'])\n",
        "train_df_b = train_df.dropna(subset=['subtask_b'])\n",
        "train_df_b = train_df_b.drop(columns = ['subtask_a', 'subtask_c'])\n",
        "train_df_c = train_df.dropna(subset=['subtask_c'])\n",
        "train_df_c = train_df_c.drop(columns = ['subtask_a', 'subtask_b'])\n",
        "experiment_a_df = experiment_a_df.dropna(subset=['subtask_a']) \n",
        "experiment_b_df = experiment_b_df.dropna(subset=['subtask_b'])\n",
        "experiment_c_df = experiment_c_df.dropna(subset=['subtask_c'])"
      ],
      "execution_count": null,
      "outputs": []
    },
    {
      "cell_type": "code",
      "metadata": {
        "colab": {
          "base_uri": "https://localhost:8080/"
        },
        "id": "MTSjYYDy7Hct",
        "outputId": "2649b9ab-3d97-407d-8f37-8fbe8dd26257"
      },
      "source": [
        "experiment_a_df['subtask_a'].unique(), experiment_b_df['subtask_b'].unique(), experiment_c_df['subtask_c'].unique()"
      ],
      "execution_count": null,
      "outputs": [
        {
          "output_type": "execute_result",
          "data": {
            "text/plain": [
              "(array(['OFF', 'NOT'], dtype=object),\n",
              " array(['TIN', 'UNT'], dtype=object),\n",
              " array(['IND', 'GRP', 'OTH'], dtype=object))"
            ]
          },
          "metadata": {
            "tags": []
          },
          "execution_count": 52
        }
      ]
    },
    {
      "cell_type": "markdown",
      "metadata": {
        "id": "cITWaysdn0ZX"
      },
      "source": [
        "Key Dataframes "
      ]
    },
    {
      "cell_type": "code",
      "metadata": {
        "id": "jh6oajBwmDHs"
      },
      "source": [
        "#Split the data into X and Y \n",
        "#Split the data into X and Y\n",
        "a_trainX_df = train_df_a['clean_tweet']\n",
        "a_trainY_df = train_df_a['subtask_a'] \n",
        "a_testX_df = testa_df['clean_tweet'] \n",
        "a_testY_df = testa_df['subtask_a'] \n",
        "a_experimentX_df = experiment_a_df['clean_tweet']\n",
        "a_experimentY_df = experiment_a_df['subtask_a']\n",
        "\n",
        "b_trainX_df = train_df_b['clean_tweet']\n",
        "b_trainY_df = train_df_b['subtask_b'] \n",
        "b_testX_df = testb_df['clean_tweet'] \n",
        "b_testY_df = testb_df['subtask_b'] \n",
        "b_experimentX_df = experiment_b_df['clean_tweet']\n",
        "b_experimentY_df = experiment_b_df['subtask_b']\n",
        "\n",
        "\n",
        "c_trainX_df = train_df_c['clean_tweet']\n",
        "c_trainY_df = train_df_c['subtask_c'] \n",
        "c_testX_df = testc_df['clean_tweet'] \n",
        "c_testY_df = testc_df['subtask_c'] \n",
        "c_experimentX_df = experiment_c_df['clean_tweet']\n",
        "c_experimentY_df = experiment_c_df['subtask_c']"
      ],
      "execution_count": null,
      "outputs": []
    },
    {
      "cell_type": "markdown",
      "metadata": {
        "id": "JtwVdlLgkoFX"
      },
      "source": [
        "## Vectorizing the Tweets"
      ]
    },
    {
      "cell_type": "code",
      "metadata": {
        "colab": {
          "base_uri": "https://localhost:8080/",
          "height": 282
        },
        "id": "KmhvozOSomas",
        "outputId": "1d99e03d-d2ed-4e5f-ca32-6227d4e0a3f6"
      },
      "source": [
        "#Convert list to string\n",
        "train_df['clean_tweet_str'] = train_df['clean_tweet'].apply(lambda x: ' '.join([str(elem) for elem in x]))\n",
        "\n",
        "# get length of all the messages in the train set\n",
        "seq_len = [len(i.split()) for i in train_df['clean_tweet_str']]\n",
        "pd.Series(seq_len).hist(bins = 30)\n",
        "\n"
      ],
      "execution_count": null,
      "outputs": [
        {
          "output_type": "execute_result",
          "data": {
            "text/plain": [
              "<matplotlib.axes._subplots.AxesSubplot at 0x7f7bcf1b7780>"
            ]
          },
          "metadata": {
            "tags": []
          },
          "execution_count": 55
        },
        {
          "output_type": "display_data",
          "data": {
            "image/png": "[encoded data removed]",
            "text/plain": [
              "<Figure size 432x288 with 1 Axes>"
            ]
          },
          "metadata": {
            "tags": [],
            "needs_background": "light"
          }
        }
      ]
    },
    {
      "cell_type": "code",
      "metadata": {
        "colab": {
          "base_uri": "https://localhost:8080/"
        },
        "id": "wpZ60H8tqzXT",
        "outputId": "736bb1f8-cc00-43b3-82dd-c2ea79591ac0"
      },
      "source": [
        "#Count the number of unique words\n",
        "from collections import Counter\n",
        "results = Counter()\n",
        "train_df['clean_tweet_str'].str.lower().str.split().apply(results.update)\n",
        "print(len(results.keys()))"
      ],
      "execution_count": null,
      "outputs": [
        {
          "output_type": "stream",
          "text": [
            "13828\n"
          ],
          "name": "stdout"
        }
      ]
    },
    {
      "cell_type": "code",
      "metadata": {
        "id": "FPkOec5yqN2H"
      },
      "source": [
        "#Vectorizing the training data\n",
        "#https://stackoverflow.com/questions/45735070/keras-text-preprocessing-saword_ving-tokenizer-object-to-file-for-scoring\n",
        "def vectorizing(trainX_df, testX_df, experiment_dfX, category):\n",
        "  MAX_NUM_WORDS = 13828 # Parameter indicating the number of words we'll put in the dictionary\n",
        "  MAX_SEQUENCE_LENGTH = 40 # Maximum number of words in a sequence\n",
        "  tokenizer = Tokenizer(num_words=MAX_NUM_WORDS)\n",
        "  tokenizer.fit_on_texts(trainX_df)\n",
        "  token_file_name = 'tokenizer_' + category + '.pickle'\n",
        "  with open(token_file_name, 'wb') as handle:\n",
        "    pickle.dump(tokenizer, handle, protocol=pickle.HIGHEST_PROTOCOL)\n",
        "  #Tokenize the training and test data set\n",
        "  trainX_seq = tokenizer.texts_to_sequences(trainX_df)\n",
        "  testX_seq = tokenizer.texts_to_sequences(testX_df)\n",
        "  experimentX_seq = tokenizer.texts_to_sequences(experiment_dfX)\n",
        "\n",
        "  word_index = tokenizer.word_index\n",
        "  print('Found %s unique tokens.' % len(word_index))\n",
        "\n",
        "  #Padding the sequence \n",
        "  trainX_seq_trunc = pad_sequences(trainX_seq, maxlen=MAX_SEQUENCE_LENGTH)\n",
        "  testX_seq_trunc = pad_sequences(testX_seq, maxlen=MAX_SEQUENCE_LENGTH)\n",
        "  experimentX_seq_trunc = pad_sequences(experimentX_seq, maxlen = MAX_SEQUENCE_LENGTH)\n",
        "  return trainX_seq_trunc, testX_seq_trunc, experimentX_seq_trunc, word_index"
      ],
      "execution_count": null,
      "outputs": []
    },
    {
      "cell_type": "code",
      "metadata": {
        "colab": {
          "base_uri": "https://localhost:8080/"
        },
        "id": "FfVBN7xpYPI_",
        "outputId": "39cc2732-2f29-4f6d-9e2e-3114281ab2ac"
      },
      "source": [
        "a_trainX_df.head()"
      ],
      "execution_count": null,
      "outputs": [
        {
          "output_type": "execute_result",
          "data": {
            "text/plain": [
              "0                   [she, ask, native, american, take]\n",
              "1                               [go, home, you, drunk]\n",
              "2    [amazon, investigating, chinese, employee, sel...\n",
              "3            [someone, vet, ken, piece, shit, volcano]\n",
              "4    [obama, wanted, liberal, amp, illegals, move, ...\n",
              "Name: clean_tweet, dtype: object"
            ]
          },
          "metadata": {
            "tags": []
          },
          "execution_count": 58
        }
      ]
    },
    {
      "cell_type": "code",
      "metadata": {
        "colab": {
          "base_uri": "https://localhost:8080/"
        },
        "id": "4D5RGQ3IsTIb",
        "outputId": "d26faee8-47e9-4263-fe76-c25b4205dc80"
      },
      "source": [
        "#Generate vectorized matrix for A B and C\n",
        "vec_a_trainX_df, vec_a_testX_df, vec_a_exp_df, word_index_a = vectorizing(a_trainX_df, a_testX_df, a_experimentX_df, 'a')\n",
        "vec_b_trainX_df, vec_b_testX_df, vec_b_exp_df, word_index_b = vectorizing(b_trainX_df, b_testX_df, b_experimentX_df,'b')\n",
        "vec_c_trainX_df, vec_c_testX_df, vec_c_exp_df, word_index_c = vectorizing(c_trainX_df, c_testX_df, c_experimentX_df, 'c')"
      ],
      "execution_count": null,
      "outputs": [
        {
          "output_type": "stream",
          "text": [
            "Found 13828 unique tokens.\n",
            "Found 8208 unique tokens.\n",
            "Found 7751 unique tokens.\n"
          ],
          "name": "stdout"
        }
      ]
    },
    {
      "cell_type": "code",
      "metadata": {
        "colab": {
          "base_uri": "https://localhost:8080/"
        },
        "id": "PPh6Ncw026TP",
        "outputId": "5ad5ed26-22ac-45f8-99be-323d8fa51d22"
      },
      "source": [
        "a_experimentY_df.unique()"
      ],
      "execution_count": null,
      "outputs": [
        {
          "output_type": "execute_result",
          "data": {
            "text/plain": [
              "array(['OFF', 'NOT'], dtype=object)"
            ]
          },
          "metadata": {
            "tags": []
          },
          "execution_count": 60
        }
      ]
    },
    {
      "cell_type": "code",
      "metadata": {
        "id": "8-sQ8BaHtQSu",
        "colab": {
          "base_uri": "https://localhost:8080/"
        },
        "outputId": "572e38b9-1c47-4892-adbd-3c19027e356b"
      },
      "source": [
        "#Convert the target classes to categoricial  \n",
        "le = LabelEncoder()\n",
        "ie_a_trainY_df = le.fit_transform(a_trainY_df)\n",
        "print(le.classes_)\n",
        "ie_a_testY_df = le.transform(a_testY_df)\n",
        "ie_a_exp_y_df = le.transform(a_experimentY_df)\n",
        "ie_b_trainY_df = le.fit_transform(b_trainY_df)\n",
        "print(le.classes_)\n",
        "ie_b_testY_df = le.transform(b_testY_df)\n",
        "ie_b_exp_y_df = le.transform(b_experimentY_df)\n",
        "ie_c_trainY_df = le.fit_transform(c_trainY_df)\n",
        "print(le.classes_)\n",
        "ie_c_testY_df = le.transform(c_testY_df)\n",
        "ie_c_exp_y_df = le.transform(c_experimentY_df)\n",
        "\n",
        "#Convert to One Hot Encoding\n",
        "oh_a_trainY_df = to_categorical(ie_a_trainY_df)\n",
        "oh_a_testY_df = to_categorical(ie_a_testY_df)\n",
        "oh_a_exp_y_df = to_categorical(ie_a_exp_y_df)\n",
        "oh_b_trainY_df = to_categorical(ie_b_trainY_df)\n",
        "oh_b_testY_df = to_categorical(ie_b_testY_df)\n",
        "oh_b_exp_y_df = to_categorical(ie_b_exp_y_df)\n",
        "oh_c_trainY_df = to_categorical(ie_c_trainY_df)\n",
        "oh_c_testY_df = to_categorical(ie_c_testY_df)\n",
        "oh_c_exp_y_df = to_categorical(ie_c_exp_y_df)"
      ],
      "execution_count": null,
      "outputs": [
        {
          "output_type": "stream",
          "text": [
            "['NOT' 'OFF']\n",
            "['TIN' 'UNT']\n",
            "['GRP' 'IND' 'OTH']\n"
          ],
          "name": "stdout"
        }
      ]
    },
    {
      "cell_type": "code",
      "metadata": {
        "colab": {
          "base_uri": "https://localhost:8080/"
        },
        "id": "588ttO7ozm9l",
        "outputId": "4e779870-e26a-42e6-c953-554067ea5deb"
      },
      "source": [
        "le.classes_"
      ],
      "execution_count": null,
      "outputs": [
        {
          "output_type": "execute_result",
          "data": {
            "text/plain": [
              "array(['GRP', 'IND', 'OTH'], dtype=object)"
            ]
          },
          "metadata": {
            "tags": []
          },
          "execution_count": 77
        }
      ]
    },
    {
      "cell_type": "code",
      "metadata": {
        "colab": {
          "base_uri": "https://localhost:8080/"
        },
        "id": "-FdNeElw9VO_",
        "outputId": "e8cd4b20-96cd-4ade-f62e-01637dec5a03"
      },
      "source": [
        "oh_a_trainY_df.shape,ie_a_trainY_df.shape"
      ],
      "execution_count": null,
      "outputs": [
        {
          "output_type": "execute_result",
          "data": {
            "text/plain": [
              "((13240, 2), (13240,))"
            ]
          },
          "metadata": {
            "tags": []
          },
          "execution_count": 63
        }
      ]
    },
    {
      "cell_type": "markdown",
      "metadata": {
        "id": "8S61zjctvG1s"
      },
      "source": [
        "### Splitting of Validation Data\n",
        "* For one hot encoding\n",
        "* For integer encoding"
      ]
    },
    {
      "cell_type": "code",
      "metadata": {
        "id": "pIJIFBmqTfgG"
      },
      "source": [
        "#Allocate 10% of the training data for validation \n",
        "oh_a_trainX_df, oh_a_validX_df, oh_a_trainY_df, oh_a_validY_df = train_test_split(vec_a_trainX_df, oh_a_trainY_df, test_size = 0.1, random_state = 37)\n",
        "oh_b_trainX_df, oh_b_validX_df, oh_b_trainY_df, oh_b_validY_df = train_test_split(vec_b_trainX_df, oh_b_trainY_df, test_size = 0.1, random_state = 37)\n",
        "oh_c_trainX_df, oh_c_validX_df, oh_c_trainY_df, oh_c_validY_df = train_test_split(vec_c_trainX_df, oh_c_trainY_df, test_size = 0.1, random_state = 37)\n",
        "\n",
        "#For Integer Encoding \n",
        "le_a_trainX_df, le_a_validX_df, le_a_trainY_df, le_a_validY_df = train_test_split(vec_a_trainX_df, ie_a_trainY_df, test_size = 0.1, random_state = 37)\n",
        "le_b_trainX_df, le_b_validX_df, le_b_trainY_df, le_b_validY_df = train_test_split(vec_b_trainX_df, ie_b_trainY_df, test_size = 0.1, random_state = 37)\n",
        "le_c_trainX_df, le_c_validX_df, le_c_trainY_df, le_c_validY_df = train_test_split(vec_c_trainX_df, ie_c_trainY_df, test_size = 0.1, random_state = 37)"
      ],
      "execution_count": null,
      "outputs": []
    },
    {
      "cell_type": "code",
      "metadata": {
        "colab": {
          "base_uri": "https://localhost:8080/"
        },
        "id": "gdove94p8m8f",
        "outputId": "a935dda0-5a9b-4178-f050-004c50bb40a2"
      },
      "source": [
        "le_a_trainX_df"
      ],
      "execution_count": null,
      "outputs": [
        {
          "output_type": "execute_result",
          "data": {
            "text/plain": [
              "array([[   0,    0,    0, ..., 3382, 4711,  286],\n",
              "       [   0,    0,    0, ...,   68,  130, 4400],\n",
              "       [   0,    0,    0, ...,   37, 1965,  826],\n",
              "       ...,\n",
              "       [   0,    0,    0, ...,  971,   24,    3],\n",
              "       [   0,    0,    0, ..., 4466, 3463,   43],\n",
              "       [   0,    0,    0, ...,    0,   77, 3143]], dtype=int32)"
            ]
          },
          "metadata": {
            "tags": []
          },
          "execution_count": 65
        }
      ]
    },
    {
      "cell_type": "markdown",
      "metadata": {
        "id": "_jGdPolLISmc"
      },
      "source": [
        "###After obtaining cleaned tweets, One Hot, Integer Encoding for subtask A,B,C,\n",
        "###we want to carry out a baseline evaluation in choosing an appropriate text vectorisation method. \n",
        "\n",
        "###We will be using applying TF-IDF, W2V, GloVe on subtask A, followed by an ###evaluation of results using baseline statistical models."
      ]
    },
    {
      "cell_type": "markdown",
      "metadata": {
        "id": "5QGxOWx1cDC8"
      },
      "source": [
        "# TF-IDF"
      ]
    },
    {
      "cell_type": "code",
      "metadata": {
        "id": "QYLDvjoOcBq1"
      },
      "source": [
        "bdef identity_tokenizer(text):\n",
        "    return text\n",
        "\n",
        "#tfidf transformer\n",
        "tfidf = TfidfVectorizer(tokenizer=identity_tokenizer, stop_words=None ,ngram_range=(1,3), lowercase=False, max_features = 5000)    \n",
        "\n",
        "#transformer will take in cleaned list of tweets from subtask A\n",
        "\n",
        "X = train_df.iloc[:,5]\n",
        "y = train_df.iloc[:,2]\n",
        "\n",
        "X_tfidf = tfidf.fit_transform(X).toarray()\n",
        "\n",
        "X_train_tfidf, X_test_tfidf, y_train_tfidf, y_test_tfidf = train_test_split(X_tfidf, y, test_size = 0.1,\n",
        "                                                        random_state = 37)\n"
      ],
      "execution_count": null,
      "outputs": []
    },
    {
      "cell_type": "code",
      "metadata": {
        "colab": {
          "base_uri": "https://localhost:8080/"
        },
        "id": "Vk5nQicoGCDx",
        "outputId": "81b54e64-3d65-4089-9f0e-7576f188a6b4"
      },
      "source": [
        "train_df.iloc[:,5]"
      ],
      "execution_count": null,
      "outputs": [
        {
          "output_type": "execute_result",
          "data": {
            "text/plain": [
              "0                       [she, ask, native, american, take]\n",
              "1                                   [go, home, you, drunk]\n",
              "2        [amazon, investigating, chinese, employee, sel...\n",
              "3                [someone, vet, ken, piece, shit, volcano]\n",
              "4        [obama, wanted, liberal, amp, illegals, move, ...\n",
              "                               ...                        \n",
              "13235    [sometimes, i, get, strong, vibe, people, man,...\n",
              "13236      [beni, dorm, cream, field, mag, shabby, summer]\n",
              "13237                    [report, garbage, we, give, crap]\n",
              "13238                                              [pussy]\n",
              "13239                                                  [v]\n",
              "Name: clean_tweet, Length: 13240, dtype: object"
            ]
          },
          "metadata": {
            "tags": []
          },
          "execution_count": 97
        }
      ]
    },
    {
      "cell_type": "code",
      "metadata": {
        "colab": {
          "base_uri": "https://localhost:8080/",
          "height": 238
        },
        "id": "JtCLUWKkCIP-",
        "outputId": "8e945e4d-8cdc-4c2b-cd43-5a5f1457e4de"
      },
      "source": [
        "#Train Dataframe for each of the subsets  \n",
        "train_tfidf_a = train_df.dropna(subset=['subtask_a'])\n",
        "train_tfidf_a = train_tfidf_a.drop(columns = ['subtask_b', 'subtask_c'])\n",
        "train_tfidf_b = train_df.dropna(subset=['subtask_b'])\n",
        "train_tfidf_b = train_tfidf_b.drop(columns = ['subtask_a', 'subtask_c'])\n",
        "#train_tfidf_b.head()\n",
        "train_tfidf_c = train_df.dropna(subset=['subtask_c'])\n",
        "train_tfidf_c = train_tfidf_c.drop(columns = ['subtask_a', 'subtask_b'])\n",
        "train_tfidf_c.head()"
      ],
      "execution_count": null,
      "outputs": [
        {
          "output_type": "execute_result",
          "data": {
            "text/html": [
              "<div>\n",
              "<style scoped>\n",
              "    .dataframe tbody tr th:only-of-type {\n",
              "        vertical-align: middle;\n",
              "    }\n",
              "\n",
              "    .dataframe tbody tr th {\n",
              "        vertical-align: top;\n",
              "    }\n",
              "\n",
              "    .dataframe thead th {\n",
              "        text-align: right;\n",
              "    }\n",
              "</style>\n",
              "<table border=\"1\" class=\"dataframe\">\n",
              "  <thead>\n",
              "    <tr style=\"text-align: right;\">\n",
              "      <th></th>\n",
              "      <th>id</th>\n",
              "      <th>tweet</th>\n",
              "      <th>subtask_c</th>\n",
              "      <th>clean_tweet</th>\n",
              "      <th>clean_tweet_str</th>\n",
              "    </tr>\n",
              "  </thead>\n",
              "  <tbody>\n",
              "    <tr>\n",
              "      <th>1</th>\n",
              "      <td>90194</td>\n",
              "      <td>@USER @USER Go home you’re drunk!!! @USER #MAG...</td>\n",
              "      <td>IND</td>\n",
              "      <td>[go, home, you, drunk]</td>\n",
              "      <td>go home you drunk</td>\n",
              "    </tr>\n",
              "    <tr>\n",
              "      <th>5</th>\n",
              "      <td>97670</td>\n",
              "      <td>@USER Liberals are all Kookoo !!!</td>\n",
              "      <td>OTH</td>\n",
              "      <td>[liberal, kook, oo]</td>\n",
              "      <td>liberal kook oo</td>\n",
              "    </tr>\n",
              "    <tr>\n",
              "      <th>7</th>\n",
              "      <td>52415</td>\n",
              "      <td>@USER was literally just talking about this lo...</td>\n",
              "      <td>GRP</td>\n",
              "      <td>[wa, literally, talking, lol, mass, shooting, ...</td>\n",
              "      <td>wa literally talking lol mass shooting like se...</td>\n",
              "    </tr>\n",
              "    <tr>\n",
              "      <th>9</th>\n",
              "      <td>13384</td>\n",
              "      <td>@USER Canada doesn’t need another CUCK! We alr...</td>\n",
              "      <td>IND</td>\n",
              "      <td>[canada, doe, nt, need, another, cuck, we, alr...</td>\n",
              "      <td>canada doe nt need another cuck we already eno...</td>\n",
              "    </tr>\n",
              "    <tr>\n",
              "      <th>12</th>\n",
              "      <td>28414</td>\n",
              "      <td>@USER you are a lying corrupt traitor!!! Nobod...</td>\n",
              "      <td>IND</td>\n",
              "      <td>[you, lying, corrupt, traitor, nobody, want, h...</td>\n",
              "      <td>you lying corrupt traitor nobody want hear any...</td>\n",
              "    </tr>\n",
              "  </tbody>\n",
              "</table>\n",
              "</div>"
            ],
            "text/plain": [
              "       id  ...                                    clean_tweet_str\n",
              "1   90194  ...                                  go home you drunk\n",
              "5   97670  ...                                    liberal kook oo\n",
              "7   52415  ...  wa literally talking lol mass shooting like se...\n",
              "9   13384  ...  canada doe nt need another cuck we already eno...\n",
              "12  28414  ...  you lying corrupt traitor nobody want hear any...\n",
              "\n",
              "[5 rows x 5 columns]"
            ]
          },
          "metadata": {
            "tags": []
          },
          "execution_count": 75
        }
      ]
    },
    {
      "cell_type": "code",
      "metadata": {
        "id": "oHdOnfh2BLAs"
      },
      "source": [
        "#Split the data into X and Y \n",
        "#Split the data into X and Y\n",
        "a_trainX_tfidf = train_tfidf_a['clean_tweet']\n",
        "a_trainY_tfidf = train_tfidf_a['subtask_a'] \n",
        "#a_testX_tfidf = testa_df['clean_tweet_str'] \n",
        "#a_testY_tfidf = testa_df['subtask_a'] \n",
        "\n",
        "b_trainX_tfidf = train_tfidf_b['clean_tweet']\n",
        "b_trainY_tfidf = train_tfidf_b['subtask_b'] \n",
        "#b_testX_tfidf = testb_df['clean_tweet_str'] \n",
        "#b_testY_tfidf = testb_df['subtask_b'] \n",
        "\n",
        "\n",
        "c_trainX_tfidf = train_tfidf_c['clean_tweet']\n",
        "c_trainY_tfidf = train_tfidf_c['subtask_c'] \n",
        "#c_testX_tfidf = testc_df['clean_tweet_str'] \n",
        "#c_testY_tfidf = testc_df['subtask_c'] "
      ],
      "execution_count": null,
      "outputs": []
    },
    {
      "cell_type": "code",
      "metadata": {
        "colab": {
          "base_uri": "https://localhost:8080/"
        },
        "id": "cLDgzhovGFwG",
        "outputId": "2dccbfc6-02ee-4eac-9cdf-757c8d6dfbcc"
      },
      "source": [
        "a_trainX_tfidf"
      ],
      "execution_count": null,
      "outputs": [
        {
          "output_type": "execute_result",
          "data": {
            "text/plain": [
              "0                       [she, ask, native, american, take]\n",
              "1                                   [go, home, you, drunk]\n",
              "2        [amazon, investigating, chinese, employee, sel...\n",
              "3                [someone, vet, ken, piece, shit, volcano]\n",
              "4        [obama, wanted, liberal, amp, illegals, move, ...\n",
              "                               ...                        \n",
              "13235    [sometimes, i, get, strong, vibe, people, man,...\n",
              "13236      [beni, dorm, cream, field, mag, shabby, summer]\n",
              "13237                    [report, garbage, we, give, crap]\n",
              "13238                                              [pussy]\n",
              "13239                                                  [v]\n",
              "Name: clean_tweet, Length: 13240, dtype: object"
            ]
          },
          "metadata": {
            "tags": []
          },
          "execution_count": 99
        }
      ]
    },
    {
      "cell_type": "code",
      "metadata": {
        "id": "7smBwlz1FTgj"
      },
      "source": [
        "# Data for a\n",
        "X_tfidf_a = tfidf.fit_transform(a_trainX_tfidf).toarray()\n",
        "\n",
        "X_train_tfidf_a, X_val_tfidf_a, y_train_tfidf_a, y_val_tfidf_a = train_test_split(X_tfidf_a, a_trainY_tfidf, test_size = 0.1,\n",
        "                                                        random_state = 37)\n",
        "# Data for b\n",
        "X_tfidf_b = tfidf.fit_transform(b_trainX_tfidf).toarray()\n",
        "\n",
        "X_train_tfidf_b, X_val_tfidf_b, y_train_tfidf_b, y_val_tfidf_b = train_test_split(X_tfidf_b, b_trainY_tfidf, test_size = 0.1,\n",
        "                                                        random_state = 37)\n",
        "# Data for c\n",
        "X_tfidf_c = tfidf.fit_transform(c_trainX_tfidf).toarray()\n",
        "\n",
        "X_train_tfidf_c, X_val_tfidf_c, y_train_tfidf_c, y_val_tfidf_c = train_test_split(X_tfidf_c, c_trainY_tfidf, test_size = 0.1,\n",
        "                                                        random_state = 37)"
      ],
      "execution_count": null,
      "outputs": []
    },
    {
      "cell_type": "markdown",
      "metadata": {
        "id": "D3kFlH0_cS0J"
      },
      "source": [
        "#Word2Vec"
      ]
    },
    {
      "cell_type": "code",
      "metadata": {
        "colab": {
          "base_uri": "https://localhost:8080/"
        },
        "id": "EfSvA_nkczmY",
        "outputId": "cf6f54be-920d-4905-cee7-3f2aaa451cd0"
      },
      "source": [
        "!wget -P ./ \"https://s3.amazonaws.com/dl4j-distribution/GoogleNews-vectors-negative300.bin.gz\""
      ],
      "execution_count": null,
      "outputs": [
        {
          "output_type": "stream",
          "text": [
            "--2020-12-08 08:02:04--  https://s3.amazonaws.com/dl4j-distribution/GoogleNews-vectors-negative300.bin.gz\n",
            "Resolving s3.amazonaws.com (s3.amazonaws.com)... 52.216.96.45\n",
            "Connecting to s3.amazonaws.com (s3.amazonaws.com)|52.216.96.45|:443... connected.\n",
            "HTTP request sent, awaiting response... 200 OK\n",
            "Length: 1647046227 (1.5G) [application/x-gzip]\n",
            "Saving to: ‘./GoogleNews-vectors-negative300.bin.gz.1’\n",
            "\n",
            "GoogleNews-vectors- 100%[===================>]   1.53G  15.8MB/s    in 2m 12s  \n",
            "\n",
            "2020-12-08 08:04:17 (11.9 MB/s) - ‘./GoogleNews-vectors-negative300.bin.gz.1’ saved [1647046227/1647046227]\n",
            "\n"
          ],
          "name": "stdout"
        }
      ]
    },
    {
      "cell_type": "code",
      "metadata": {
        "colab": {
          "base_uri": "https://localhost:8080/",
          "height": 238
        },
        "id": "egdJIrsycVC6",
        "outputId": "1f6d1673-e1a1-4bad-d117-c5fffd9eb3f4"
      },
      "source": [
        "from gensim.models import Word2Vec\n",
        "\n",
        "w2v = gensim.models.KeyedVectors.load_word2vec_format(\"GoogleNews-vectors-negative300.bin.gz\", \n",
        "                                                     binary=True)\n",
        "w2v.init_sims(replace=True)\n",
        "print('Model loaded')"
      ],
      "execution_count": null,
      "outputs": [
        {
          "output_type": "error",
          "ename": "TypeError",
          "evalue": "ignored",
          "traceback": [
            "\u001b[0;31m---------------------------------------------------------------------------\u001b[0m",
            "\u001b[0;31mTypeError\u001b[0m                                 Traceback (most recent call last)",
            "\u001b[0;32m<ipython-input-9-df845270f3c5>\u001b[0m in \u001b[0;36m<module>\u001b[0;34m()\u001b[0m\n\u001b[1;32m      2\u001b[0m \u001b[0;34m\u001b[0m\u001b[0m\n\u001b[1;32m      3\u001b[0m w2v = gensim.models.KeyedVectors.load_word2vec_format(\"GoogleNews-vectors-negative300.bin.gz\", \n\u001b[0;32m----> 4\u001b[0;31m                                                      binary=True, sg = '1' )\n\u001b[0m\u001b[1;32m      5\u001b[0m \u001b[0mw2v\u001b[0m\u001b[0;34m.\u001b[0m\u001b[0minit_sims\u001b[0m\u001b[0;34m(\u001b[0m\u001b[0mreplace\u001b[0m\u001b[0;34m=\u001b[0m\u001b[0;32mTrue\u001b[0m\u001b[0;34m)\u001b[0m\u001b[0;34m\u001b[0m\u001b[0;34m\u001b[0m\u001b[0m\n\u001b[1;32m      6\u001b[0m \u001b[0mprint\u001b[0m\u001b[0;34m(\u001b[0m\u001b[0;34m'Model loaded'\u001b[0m\u001b[0;34m)\u001b[0m\u001b[0;34m\u001b[0m\u001b[0;34m\u001b[0m\u001b[0m\n",
            "\u001b[0;31mTypeError\u001b[0m: load_word2vec_format() got an unexpected keyword argument 'sg'"
          ]
        }
      ]
    },
    {
      "cell_type": "markdown",
      "metadata": {
        "id": "LsqvUKNxO5Sz"
      },
      "source": [
        "As we have multiple words for each post, we want to combine them. We will average the word vectors per document using the function below.\n",
        "\n"
      ]
    },
    {
      "cell_type": "code",
      "metadata": {
        "id": "ky-bHgBoPFRR"
      },
      "source": [
        "def word_averaging(wv, words):\n",
        "    # averages a set of words 'words' given their wordvectors 'wv'\n",
        "    \n",
        "    all_words, mean = set(), []\n",
        "    \n",
        "    # for each word in the list of words\n",
        "    for word in words:\n",
        "      if isinstance(word, np.ndarray):\n",
        "        mean.append(word)\n",
        "  # if not: first get the vector embedding for the words      \n",
        "      elif word in wv.vocab:\n",
        "          mean.append(wv.syn0norm[wv.vocab[word].index])\n",
        "          all_words.add(wv.vocab[word].index)\n",
        "\n",
        "    if not mean:\n",
        "        # error handling in case mean cannot be calculated\n",
        "        logging.warning(\"cannot compute similarity with no input %s\", words)\n",
        "        return np.zeros(wv.vector_size,)\n",
        "\n",
        "    # use gensim's method to calculate the mean of all the words appended to mean list\n",
        "    mean = gensim.matutils.unitvec(np.array(mean).mean(axis=0)).astype(np.float32)\n",
        "    return mean\n",
        "\n",
        "def  word_averaging_list(wv, text_list):\n",
        "    return np.vstack([word_averaging(wv, post) for post in text_list ])"
      ],
      "execution_count": null,
      "outputs": []
    },
    {
      "cell_type": "code",
      "metadata": {
        "id": "7r2ivoGEQFf6"
      },
      "source": [
        "X_string = train_df.iloc[:,6]\n",
        "\n",
        "X_train_w2v, X_test_w2v, y_train_w2v, y_test_w2v = train_test_split(X_string, y, test_size = 0.1,\n",
        "                                                        random_state = 37)\n"
      ],
      "execution_count": null,
      "outputs": []
    },
    {
      "cell_type": "code",
      "metadata": {
        "colab": {
          "base_uri": "https://localhost:8080/"
        },
        "id": "jAbxjbYKRzkO",
        "outputId": "cd93eab9-adf1-4550-dea1-1c489a84faca"
      },
      "source": [
        "word_averaging_list(w2v, X_train_w2v)\n",
        "#X_train_w2v.count"
      ],
      "execution_count": null,
      "outputs": [
        {
          "output_type": "stream",
          "text": [
            "/usr/local/lib/python3.6/dist-packages/ipykernel_launcher.py:12: DeprecationWarning: Call to deprecated `syn0norm` (Attribute will be removed in 4.0.0, use self.wv.vectors_norm instead).\n",
            "  if sys.path[0] == '':\n",
            "/usr/local/lib/python3.6/dist-packages/gensim/matutils.py:737: FutureWarning: Conversion of the second argument of issubdtype from `int` to `np.signedinteger` is deprecated. In future, it will be treated as `np.int64 == np.dtype(int).type`.\n",
            "  if np.issubdtype(vec.dtype, np.int):\n",
            "WARNING:root:cannot compute similarity with no input \n",
            "WARNING:root:cannot compute similarity with no input \n",
            "WARNING:root:cannot compute similarity with no input \n",
            "WARNING:root:cannot compute similarity with no input \n",
            "WARNING:root:cannot compute similarity with no input \n",
            "WARNING:root:cannot compute similarity with no input \n",
            "WARNING:root:cannot compute similarity with no input \n",
            "WARNING:root:cannot compute similarity with no input \n",
            "WARNING:root:cannot compute similarity with no input \n",
            "WARNING:root:cannot compute similarity with no input \n",
            "WARNING:root:cannot compute similarity with no input \n",
            "WARNING:root:cannot compute similarity with no input \n",
            "WARNING:root:cannot compute similarity with no input \n",
            "WARNING:root:cannot compute similarity with no input \n",
            "WARNING:root:cannot compute similarity with no input \n",
            "WARNING:root:cannot compute similarity with no input \n",
            "WARNING:root:cannot compute similarity with no input \n",
            "WARNING:root:cannot compute similarity with no input \n"
          ],
          "name": "stderr"
        },
        {
          "output_type": "execute_result",
          "data": {
            "text/plain": [
              "array([[-0.09960043,  0.065391  , -0.0147709 , ..., -0.0158936 ,\n",
              "        -0.06606388,  0.08280224],\n",
              "       [-0.09857686,  0.06318619,  0.00730469, ..., -0.02053084,\n",
              "        -0.06356247,  0.09426809],\n",
              "       [-0.11192186,  0.07825133, -0.00218853, ..., -0.02330061,\n",
              "        -0.06794364,  0.0895485 ],\n",
              "       ...,\n",
              "       [-0.10193821,  0.05938056, -0.00520735, ..., -0.01875439,\n",
              "        -0.07204743,  0.07795371],\n",
              "       [-0.09595536,  0.05227422, -0.01478258, ..., -0.0201808 ,\n",
              "        -0.08201713,  0.0762513 ],\n",
              "       [-0.12171841,  0.04620853,  0.00539464, ..., -0.02795007,\n",
              "        -0.08189067,  0.09044704]])"
            ]
          },
          "metadata": {
            "tags": []
          },
          "execution_count": 118
        }
      ]
    },
    {
      "cell_type": "code",
      "metadata": {
        "colab": {
          "base_uri": "https://localhost:8080/"
        },
        "id": "54jMivmsR-Ao",
        "outputId": "50fd5c6d-8796-4bae-f96c-08d9cec79bd4"
      },
      "source": [
        "test = word_averaging_list(w2v, X_train_w2v_a)\n",
        "len(test)"
      ],
      "execution_count": null,
      "outputs": [
        {
          "output_type": "stream",
          "text": [
            "/usr/local/lib/python3.6/dist-packages/ipykernel_launcher.py:12: DeprecationWarning: Call to deprecated `syn0norm` (Attribute will be removed in 4.0.0, use self.wv.vectors_norm instead).\n",
            "  if sys.path[0] == '':\n",
            "/usr/local/lib/python3.6/dist-packages/gensim/matutils.py:737: FutureWarning: Conversion of the second argument of issubdtype from `int` to `np.signedinteger` is deprecated. In future, it will be treated as `np.int64 == np.dtype(int).type`.\n",
            "  if np.issubdtype(vec.dtype, np.int):\n",
            "WARNING:root:cannot compute similarity with no input \n",
            "WARNING:root:cannot compute similarity with no input \n",
            "WARNING:root:cannot compute similarity with no input \n",
            "WARNING:root:cannot compute similarity with no input \n",
            "WARNING:root:cannot compute similarity with no input \n",
            "WARNING:root:cannot compute similarity with no input \n",
            "WARNING:root:cannot compute similarity with no input \n",
            "WARNING:root:cannot compute similarity with no input \n",
            "WARNING:root:cannot compute similarity with no input \n",
            "WARNING:root:cannot compute similarity with no input \n",
            "WARNING:root:cannot compute similarity with no input \n",
            "WARNING:root:cannot compute similarity with no input \n",
            "WARNING:root:cannot compute similarity with no input \n",
            "WARNING:root:cannot compute similarity with no input \n",
            "WARNING:root:cannot compute similarity with no input \n",
            "WARNING:root:cannot compute similarity with no input \n",
            "WARNING:root:cannot compute similarity with no input \n",
            "WARNING:root:cannot compute similarity with no input \n"
          ],
          "name": "stderr"
        },
        {
          "output_type": "execute_result",
          "data": {
            "text/plain": [
              "11916"
            ]
          },
          "metadata": {
            "tags": []
          },
          "execution_count": 125
        }
      ]
    },
    {
      "cell_type": "code",
      "metadata": {
        "colab": {
          "base_uri": "https://localhost:8080/"
        },
        "id": "Vuy7VU8OSUwN",
        "outputId": "fceb5ed9-8657-4cf7-cbb5-247d11d47886"
      },
      "source": [
        "test = word_averaging_list(w2v, X_train_w2v)\n",
        "len(test)"
      ],
      "execution_count": null,
      "outputs": [
        {
          "output_type": "stream",
          "text": [
            "/usr/local/lib/python3.6/dist-packages/ipykernel_launcher.py:12: DeprecationWarning: Call to deprecated `syn0norm` (Attribute will be removed in 4.0.0, use self.wv.vectors_norm instead).\n",
            "  if sys.path[0] == '':\n",
            "/usr/local/lib/python3.6/dist-packages/gensim/matutils.py:737: FutureWarning: Conversion of the second argument of issubdtype from `int` to `np.signedinteger` is deprecated. In future, it will be treated as `np.int64 == np.dtype(int).type`.\n",
            "  if np.issubdtype(vec.dtype, np.int):\n",
            "WARNING:root:cannot compute similarity with no input \n",
            "WARNING:root:cannot compute similarity with no input \n",
            "WARNING:root:cannot compute similarity with no input \n",
            "WARNING:root:cannot compute similarity with no input \n",
            "WARNING:root:cannot compute similarity with no input \n",
            "WARNING:root:cannot compute similarity with no input \n",
            "WARNING:root:cannot compute similarity with no input \n",
            "WARNING:root:cannot compute similarity with no input \n",
            "WARNING:root:cannot compute similarity with no input \n",
            "WARNING:root:cannot compute similarity with no input \n",
            "WARNING:root:cannot compute similarity with no input \n",
            "WARNING:root:cannot compute similarity with no input \n",
            "WARNING:root:cannot compute similarity with no input \n",
            "WARNING:root:cannot compute similarity with no input \n",
            "WARNING:root:cannot compute similarity with no input \n",
            "WARNING:root:cannot compute similarity with no input \n",
            "WARNING:root:cannot compute similarity with no input \n",
            "WARNING:root:cannot compute similarity with no input \n"
          ],
          "name": "stderr"
        },
        {
          "output_type": "execute_result",
          "data": {
            "text/plain": [
              "11916"
            ]
          },
          "metadata": {
            "tags": []
          },
          "execution_count": 126
        }
      ]
    },
    {
      "cell_type": "code",
      "metadata": {
        "colab": {
          "base_uri": "https://localhost:8080/"
        },
        "id": "IA6oFjTJS84v",
        "outputId": "06a05ed8-548a-446f-8e7a-0b4972098c41"
      },
      "source": [
        "train_word_average = word_averaging_list(w2v, X_train_w2v)\n",
        "test_word_average = word_averaging_list(w2v, X_test_w2v)"
      ],
      "execution_count": null,
      "outputs": [
        {
          "output_type": "stream",
          "text": [
            "/usr/local/lib/python3.6/dist-packages/ipykernel_launcher.py:12: DeprecationWarning: Call to deprecated `syn0norm` (Attribute will be removed in 4.0.0, use self.wv.vectors_norm instead).\n",
            "  if sys.path[0] == '':\n",
            "/usr/local/lib/python3.6/dist-packages/gensim/matutils.py:737: FutureWarning: Conversion of the second argument of issubdtype from `int` to `np.signedinteger` is deprecated. In future, it will be treated as `np.int64 == np.dtype(int).type`.\n",
            "  if np.issubdtype(vec.dtype, np.int):\n",
            "WARNING:root:cannot compute similarity with no input \n",
            "WARNING:root:cannot compute similarity with no input \n",
            "WARNING:root:cannot compute similarity with no input \n",
            "WARNING:root:cannot compute similarity with no input \n",
            "WARNING:root:cannot compute similarity with no input \n",
            "WARNING:root:cannot compute similarity with no input \n",
            "WARNING:root:cannot compute similarity with no input \n",
            "WARNING:root:cannot compute similarity with no input \n",
            "WARNING:root:cannot compute similarity with no input \n",
            "WARNING:root:cannot compute similarity with no input \n",
            "WARNING:root:cannot compute similarity with no input \n",
            "WARNING:root:cannot compute similarity with no input \n",
            "WARNING:root:cannot compute similarity with no input \n",
            "WARNING:root:cannot compute similarity with no input \n",
            "WARNING:root:cannot compute similarity with no input \n",
            "WARNING:root:cannot compute similarity with no input \n",
            "WARNING:root:cannot compute similarity with no input \n",
            "WARNING:root:cannot compute similarity with no input \n"
          ],
          "name": "stderr"
        }
      ]
    },
    {
      "cell_type": "code",
      "metadata": {
        "id": "sz4Yr8kJOObQ"
      },
      "source": [
        "#Split the data into X and Y\n",
        "a_trainX_w2v = train_tfidf_a['clean_tweet_str']\n",
        "a_trainY_w2v = train_tfidf_a['subtask_a'] \n",
        "#a_testX_tfidf = testa_df['clean_tweet_str'] \n",
        "#a_testY_tfidf = testa_df['subtask_a'] \n",
        "\n",
        "b_trainX_w2v = train_tfidf_b['clean_tweet_str']\n",
        "b_trainY_w2v = train_tfidf_b['subtask_b'] \n",
        "#b_testX_tfidf = testb_df['clean_tweet_str'] \n",
        "#b_testY_tfidf = testb_df['subtask_b'] \n",
        "\n",
        "\n",
        "c_trainX_w2v = train_tfidf_c['clean_tweet_str']\n",
        "c_trainY_w2v = train_tfidf_c['subtask_c'] \n",
        "#c_testX_tfidf = testc_df['clean_tweet_str'] \n",
        "#c_testY_tfidf = testc_df['subtask_c'] "
      ],
      "execution_count": null,
      "outputs": []
    },
    {
      "cell_type": "code",
      "metadata": {
        "colab": {
          "base_uri": "https://localhost:8080/"
        },
        "id": "v678R5uTOb_1",
        "outputId": "94cdf196-5a1d-4a22-ca55-94a2d43b6474"
      },
      "source": [
        "## A\n",
        "X_train_w2v_a, X_val_w2v_a, y_train_w2v_a, y_val_w2v_a = train_test_split(a_trainX_w2v, a_trainY_w2v, test_size = 0.1,\n",
        "                                                        random_state = 37)\n",
        "train_word_average_a = word_averaging_list(w2v, X_train_w2v_a)\n",
        "test_word_average_a = word_averaging_list(w2v, X_val_w2v_a)\n",
        "\n",
        "# ## B\n",
        "# X_train_w2v_b, X_val_w2v_b, y_train_w2v_b, y_val_w2v_b = train_test_split(b_trainX_w2v, b_trainY_w2v, test_size = 0.1,\n",
        "#                                                         random_state = 37)\n",
        "# train_word_average_b = word_averaging_list(w2v, X_train_w2v_b)\n",
        "# test_word_average_b = word_averaging_list(w2v, X_val_w2v_b)\n",
        "\n",
        "# ## C\n",
        "# X_train_w2v_c, X_val_w2v_c, y_train_w2v_c, y_val_w2v_c = train_test_split(c_trainX_w2v, c_trainY_w2v, test_size = 0.1,\n",
        "#                                                         random_state = 37)\n",
        "# train_word_average_a = word_averaging_list(w2v, X_train_w2v_c)\n",
        "# test_word_average_a = word_averaging_list(w2v, X_val_w2v_c)"
      ],
      "execution_count": null,
      "outputs": [
        {
          "output_type": "stream",
          "text": [
            "/usr/local/lib/python3.6/dist-packages/ipykernel_launcher.py:12: DeprecationWarning: Call to deprecated `syn0norm` (Attribute will be removed in 4.0.0, use self.wv.vectors_norm instead).\n",
            "  if sys.path[0] == '':\n",
            "/usr/local/lib/python3.6/dist-packages/gensim/matutils.py:737: FutureWarning: Conversion of the second argument of issubdtype from `int` to `np.signedinteger` is deprecated. In future, it will be treated as `np.int64 == np.dtype(int).type`.\n",
            "  if np.issubdtype(vec.dtype, np.int):\n",
            "WARNING:root:cannot compute similarity with no input \n",
            "WARNING:root:cannot compute similarity with no input \n",
            "WARNING:root:cannot compute similarity with no input \n",
            "WARNING:root:cannot compute similarity with no input \n",
            "WARNING:root:cannot compute similarity with no input \n",
            "WARNING:root:cannot compute similarity with no input \n",
            "WARNING:root:cannot compute similarity with no input \n",
            "WARNING:root:cannot compute similarity with no input \n",
            "WARNING:root:cannot compute similarity with no input \n",
            "WARNING:root:cannot compute similarity with no input \n",
            "WARNING:root:cannot compute similarity with no input \n",
            "WARNING:root:cannot compute similarity with no input \n",
            "WARNING:root:cannot compute similarity with no input \n",
            "WARNING:root:cannot compute similarity with no input \n",
            "WARNING:root:cannot compute similarity with no input \n",
            "WARNING:root:cannot compute similarity with no input \n",
            "WARNING:root:cannot compute similarity with no input \n",
            "WARNING:root:cannot compute similarity with no input \n",
            "WARNING:root:cannot compute similarity with no input \n",
            "WARNING:root:cannot compute similarity with no input \n"
          ],
          "name": "stderr"
        }
      ]
    },
    {
      "cell_type": "code",
      "metadata": {
        "colab": {
          "base_uri": "https://localhost:8080/"
        },
        "id": "J8EqsXrWTfHz",
        "outputId": "f20c1ae7-13b5-4e74-bf49-24e40cc41325"
      },
      "source": [
        "len(train_word_average_a)"
      ],
      "execution_count": null,
      "outputs": [
        {
          "output_type": "execute_result",
          "data": {
            "text/plain": [
              "3488"
            ]
          },
          "metadata": {
            "tags": []
          },
          "execution_count": 135
        }
      ]
    },
    {
      "cell_type": "markdown",
      "metadata": {
        "id": "-DDCyHAGcYWR"
      },
      "source": [
        "# GloVe\n",
        "* For Neural Network \n",
        "* For statistical model"
      ]
    },
    {
      "cell_type": "markdown",
      "metadata": {
        "id": "_d8I7qPLXWFL"
      },
      "source": [
        "## For Neural Network"
      ]
    },
    {
      "cell_type": "code",
      "metadata": {
        "id": "EhHjXXyFc2gV"
      },
      "source": [
        "# #Export the relevant matrices to the folder\n",
        "np.savetxt(\"/content/drive/My Drive/CDS_Project/OLIDv1/Data/glove/NN/X_train_a.csv\", le_a_trainX_df, delimiter=\",\") \n",
        "np.savetxt(\"/content/drive/My Drive/CDS_Project/OLIDv1/Data/glove/NN/X_valid_a.csv\", le_a_validX_df, delimiter=\",\")\n",
        "np.savetxt(\"/content/drive/My Drive/CDS_Project/OLIDv1/Data/glove/NN/y_train_a.csv\", le_a_trainY_df, delimiter=\",\")\n",
        "np.savetxt(\"/content/drive/My Drive/CDS_Project/OLIDv1/Data/glove/NN/y_valid_a.csv\", le_a_validY_df, delimiter=\",\")\n",
        "np.savetxt(\"/content/drive/My Drive/CDS_Project/OLIDv1/Data/glove/NN/X_test_a.csv\", vec_a_testX_df, delimiter=\",\")\n",
        "np.savetxt(\"/content/drive/My Drive/CDS_Project/OLIDv1/Data/glove/NN/y_test_a.csv\", ie_a_testY_df, delimiter=\",\")\n",
        "np.savetxt(\"/content/drive/My Drive/CDS_Project/OLIDv1/Data/glove/NN/X_exp_a.csv\", vec_a_exp_df, delimiter=\",\")\n",
        "np.savetxt(\"/content/drive/My Drive/CDS_Project/OLIDv1/Data/glove/NN/y_exp_a.csv\", ie_a_exp_y_df, delimiter=\",\")\n",
        "\n",
        "np.savetxt(\"/content/drive/My Drive/CDS_Project/OLIDv1/Data/glove/NN/X_train_b.csv\", le_b_trainX_df, delimiter=\",\")\n",
        "np.savetxt(\"/content/drive/My Drive/CDS_Project/OLIDv1/Data/glove/NN/X_valid_b.csv\", le_b_validX_df, delimiter=\",\")\n",
        "np.savetxt(\"/content/drive/My Drive/CDS_Project/OLIDv1/Data/glove/NN/y_train_b.csv\", le_b_trainY_df, delimiter=\",\")\n",
        "np.savetxt(\"/content/drive/My Drive/CDS_Project/OLIDv1/Data/glove/NN/y_valid_b.csv\", le_b_validY_df, delimiter=\",\")\n",
        "np.savetxt(\"/content/drive/My Drive/CDS_Project/OLIDv1/Data/glove/NN/X_test_b.csv\", vec_b_testX_df, delimiter=\",\")\n",
        "np.savetxt(\"/content/drive/My Drive/CDS_Project/OLIDv1/Data/glove/NN/y_test_b.csv\", ie_b_testY_df, delimiter=\",\")\n",
        "np.savetxt(\"/content/drive/My Drive/CDS_Project/OLIDv1/Data/glove/NN/X_exp_b.csv\", vec_b_exp_df, delimiter=\",\")\n",
        "np.savetxt(\"/content/drive/My Drive/CDS_Project/OLIDv1/Data/glove/NN/y_exp_b.csv\", ie_b_exp_y_df, delimiter=\",\")\n",
        "\n",
        "np.savetxt(\"/content/drive/My Drive/CDS_Project/OLIDv1/Data/glove/NN/X_train_c.csv\", le_c_trainX_df, delimiter=\",\")\n",
        "np.savetxt(\"/content/drive/My Drive/CDS_Project/OLIDv1/Data/glove/NN/X_valid_c.csv\", le_c_validX_df, delimiter=\",\")\n",
        "np.savetxt(\"/content/drive/My Drive/CDS_Project/OLIDv1/Data/glove/NN/y_train_c.csv\", le_c_trainY_df, delimiter=\",\")\n",
        "np.savetxt(\"/content/drive/My Drive/CDS_Project/OLIDv1/Data/glove/NN/y_valid_c.csv\", le_c_validY_df, delimiter=\",\")\n",
        "np.savetxt(\"/content/drive/My Drive/CDS_Project/OLIDv1/Data/glove/NN/X_test_c.csv\", vec_c_testX_df, delimiter=\",\")\n",
        "np.savetxt(\"/content/drive/My Drive/CDS_Project/OLIDv1/Data/glove/NN/y_test_c.csv\", ie_c_testY_df, delimiter=\",\")\n",
        "np.savetxt(\"/content/drive/My Drive/CDS_Project/OLIDv1/Data/glove/NN/X_exp_c.csv\", vec_c_exp_df, delimiter=\",\")\n",
        "np.savetxt(\"/content/drive/My Drive/CDS_Project/OLIDv1/Data/glove/NN/y_exp_c.csv\", ie_c_exp_y_df, delimiter=\",\")"
      ],
      "execution_count": null,
      "outputs": []
    },
    {
      "cell_type": "code",
      "metadata": {
        "colab": {
          "base_uri": "https://localhost:8080/"
        },
        "id": "xsjOZlO9KRQ4",
        "outputId": "e4c0160f-6044-4f2c-8427-ac79ec904e50"
      },
      "source": [
        "le_b_trainX_df.shape, le_b_trainY_df.shape, le_b_validX_df.shape, le_b_validY_df.shape, vec_b_testX_df.shape, ie_b_testY_df.shape"
      ],
      "execution_count": null,
      "outputs": [
        {
          "output_type": "execute_result",
          "data": {
            "text/plain": [
              "((3960, 40), (3960,), (440, 40), (440,), (240, 40), (240,))"
            ]
          },
          "metadata": {
            "tags": []
          },
          "execution_count": 32
        }
      ]
    },
    {
      "cell_type": "code",
      "metadata": {
        "colab": {
          "base_uri": "https://localhost:8080/",
          "height": 238
        },
        "id": "Ug2snT1OXUpW",
        "outputId": "60e44b0c-7ec8-4e0c-a3e6-74a891b8cde1"
      },
      "source": [
        "#compute an index mapping words to known embeddings, by parsing the data dump of pre-trained embeddings:\n",
        "embeddings_index = {}\n",
        "glove_data = open('/content/drive/My Drive/CDS_Project/OLIDv1/glove.twitter.27B.200d.txt')\n",
        "for line in glove_data:\n",
        "    values = line.split()\n",
        "    word = values[0]\n",
        "    coefs = np.asarray(values[1:], dtype='float32')\n",
        "    embeddings_index[word] = coefs\n",
        "glove_data.close()\n",
        "\n",
        "EMBEDDING_DIM = 200\n",
        "print('Found %s word vectors.' % len(embeddings_index))"
      ],
      "execution_count": null,
      "outputs": [
        {
          "output_type": "error",
          "ename": "FileNotFoundError",
          "evalue": "ignored",
          "traceback": [
            "\u001b[0;31m---------------------------------------------------------------------------\u001b[0m",
            "\u001b[0;31mFileNotFoundError\u001b[0m                         Traceback (most recent call last)",
            "\u001b[0;32m<ipython-input-20-e19e7b5a7559>\u001b[0m in \u001b[0;36m<module>\u001b[0;34m()\u001b[0m\n\u001b[1;32m      1\u001b[0m \u001b[0;31m#compute an index mapping words to known embeddings, by parsing the data dump of pre-trained embeddings:\u001b[0m\u001b[0;34m\u001b[0m\u001b[0;34m\u001b[0m\u001b[0;34m\u001b[0m\u001b[0m\n\u001b[1;32m      2\u001b[0m \u001b[0membeddings_index\u001b[0m \u001b[0;34m=\u001b[0m \u001b[0;34m{\u001b[0m\u001b[0;34m}\u001b[0m\u001b[0;34m\u001b[0m\u001b[0;34m\u001b[0m\u001b[0m\n\u001b[0;32m----> 3\u001b[0;31m \u001b[0mglove_data\u001b[0m \u001b[0;34m=\u001b[0m \u001b[0mopen\u001b[0m\u001b[0;34m(\u001b[0m\u001b[0;34m'/content/drive/My Drive/CDS_Project/OLIDv1/glove.twitter.27B.200d.txt'\u001b[0m\u001b[0;34m)\u001b[0m\u001b[0;34m\u001b[0m\u001b[0;34m\u001b[0m\u001b[0m\n\u001b[0m\u001b[1;32m      4\u001b[0m \u001b[0;32mfor\u001b[0m \u001b[0mline\u001b[0m \u001b[0;32min\u001b[0m \u001b[0mglove_data\u001b[0m\u001b[0;34m:\u001b[0m\u001b[0;34m\u001b[0m\u001b[0;34m\u001b[0m\u001b[0m\n\u001b[1;32m      5\u001b[0m     \u001b[0mvalues\u001b[0m \u001b[0;34m=\u001b[0m \u001b[0mline\u001b[0m\u001b[0;34m.\u001b[0m\u001b[0msplit\u001b[0m\u001b[0;34m(\u001b[0m\u001b[0;34m)\u001b[0m\u001b[0;34m\u001b[0m\u001b[0;34m\u001b[0m\u001b[0m\n",
            "\u001b[0;31mFileNotFoundError\u001b[0m: [Errno 2] No such file or directory: '/content/drive/My Drive/CDS_Project/OLIDv1/glove.twitter.27B.200d.txt'"
          ]
        }
      ]
    },
    {
      "cell_type": "code",
      "metadata": {
        "id": "CCqOZbKccgdO"
      },
      "source": [
        "#leverage on embedding_index dictionary and our word_index to compute embedding matrix\n",
        "def em_matrix(word_index, EMBEDDING_DIM, embeddings_index):\n",
        "  embedding_matrix = np.zeros((len(word_index)+1, EMBEDDING_DIM))\n",
        "  for word, i in word_index.items(): #word_index.items e.g. (hello,1)\n",
        "      embedding_vector = embeddings_index.get(word)\n",
        "      if embedding_vector is not None:\n",
        "          # words not found in embedding index will be all-zeros.\n",
        "          embedding_matrix[i] = embedding_vector\n",
        "  return embedding_matrix"
      ],
      "execution_count": null,
      "outputs": []
    },
    {
      "cell_type": "code",
      "metadata": {
        "id": "yoKqQppLYgEp"
      },
      "source": [
        "#Export the embedded matrix\n",
        "em_mat_a = em_matrix(word_index_a, 200, embeddings_index)\n",
        "np.savetxt(\"/content/drive/My Drive/CDS_Project/OLIDv1/Data/glove/NN/glove_embed_a.csv\", em_mat_a, delimiter=\",\")\n",
        "em_mat_b = em_matrix(word_index_b, 200, embeddings_index)\n",
        "np.savetxt(\"/content/drive/My Drive/CDS_Project/OLIDv1/Data/glove/NN/glove_embed_b.csv\", em_mat_b, delimiter=\",\")\n",
        "em_mat_c = em_matrix(word_index_c, 200, embeddings_index)\n",
        "np.savetxt(\"/content/drive/My Drive/CDS_Project/OLIDv1/Data/glove/NN/glove_embed_c.csv\", em_mat_c, delimiter=\",\")"
      ],
      "execution_count": null,
      "outputs": []
    },
    {
      "cell_type": "markdown",
      "metadata": {
        "id": "sgIzqJNwedDY"
      },
      "source": [
        "## For STATS Model"
      ]
    },
    {
      "cell_type": "code",
      "metadata": {
        "id": "E-oAfcIcecav"
      },
      "source": [
        "#convert the training data to string\n",
        "a_trainX_str = a_trainX_df.apply(', '.join)\n",
        "a_testX_str = a_testX_df.apply(', ' .join)\n",
        "a_expX_str = a_experimentX_df.apply(',' .join)\n",
        "b_trainX_str = b_trainX_df.apply(', '.join)\n",
        "b_testX_str = b_testX_df.apply(', '.join)\n",
        "b_expX_str = b_experimentX_df.apply(',' .join)\n",
        "c_trainX_str = c_trainX_df.apply(', '.join)\n",
        "c_testX_str = c_testX_df.apply(', '.join)\n",
        "c_expX_str = c_experimentX_df.apply(',' .join)"
      ],
      "execution_count": null,
      "outputs": []
    },
    {
      "cell_type": "code",
      "metadata": {
        "colab": {
          "base_uri": "https://localhost:8080/"
        },
        "id": "JMT_rdDYhl1y",
        "outputId": "039606b0-db83-49e0-ae0e-ed507558052e"
      },
      "source": [
        "#Download the embedding transformer \n",
        "## TAKES LONG\n",
        "glove = EmbeddingTransformer('glove-twitter-200')\n"
      ],
      "execution_count": null,
      "outputs": [
        {
          "output_type": "stream",
          "text": [
            "[==================================================] 100.0% 758.5/758.5MB downloaded\n"
          ],
          "name": "stdout"
        }
      ]
    },
    {
      "cell_type": "code",
      "metadata": {
        "id": "ge0etALGhrMJ"
      },
      "source": [
        "#Embed the training data \n",
        "a_trainX_em = glove.transform(a_trainX_str)\n",
        "a_testX_em = glove.transform(a_testX_str)\n",
        "a_expX_em = glove.transform(a_expX_str)\n",
        "b_trainX_em = glove.transform(b_trainX_str)\n",
        "b_testX_em = glove.transform(b_testX_str)\n",
        "b_expX_em = glove.transform(b_expX_str)\n",
        "c_trainX_em = glove.transform(c_trainX_str)\n",
        "c_testX_em = glove.transform(c_testX_str)\n",
        "c_expX_em = glove.transform(c_expX_str)"
      ],
      "execution_count": null,
      "outputs": []
    },
    {
      "cell_type": "code",
      "metadata": {
        "colab": {
          "base_uri": "https://localhost:8080/"
        },
        "id": "tBmOTQR_lAVQ",
        "outputId": "7405124a-f2db-4c2a-e9c9-eef228c7574b"
      },
      "source": [
        "b_trainX_em.shape, ie_b_trainY_df.shape, b_testX_df.shape, b_testX_em.shape"
      ],
      "execution_count": null,
      "outputs": [
        {
          "output_type": "execute_result",
          "data": {
            "text/plain": [
              "((4400, 200), (4400,), (240,), (240, 200))"
            ]
          },
          "metadata": {
            "tags": []
          },
          "execution_count": 71
        }
      ]
    },
    {
      "cell_type": "code",
      "metadata": {
        "id": "ECbUoj0aijT6"
      },
      "source": [
        "# Create Validation Split\n",
        "a_trainX_em, a_validX_em, a_trainY_em, a_validY_em = train_test_split(a_trainX_em, ie_a_trainY_df, test_size=0.1, random_state=37)\n",
        "b_trainX_em, b_validX_em, b_trainY_em, b_validY_em = train_test_split(b_trainX_em, ie_b_trainY_df, test_size=0.1, random_state=37)\n",
        "c_trainX_em, c_validX_em, c_trainY_em, c_validY_em = train_test_split(c_trainX_em, ie_c_trainY_df, test_size=0.1, random_state=37)"
      ],
      "execution_count": null,
      "outputs": []
    },
    {
      "cell_type": "code",
      "metadata": {
        "id": "Y8-HmwRnjAqL"
      },
      "source": [
        "#Export the relevant matrices to the folder\n",
        "np.savetxt(\"/content/drive/My Drive/CDS_Project/OLIDv1/Data/glove/Stats/X_train_a.csv\", a_trainX_em, delimiter=\",\")\n",
        "np.savetxt(\"/content/drive/My Drive/CDS_Project/OLIDv1/Data/glove/Stats/X_valid_a.csv\", a_validX_em, delimiter=\",\")\n",
        "np.savetxt(\"/content/drive/My Drive/CDS_Project/OLIDv1/Data/glove/Stats/y_train_a.csv\", le_a_trainY_df, delimiter=\",\")\n",
        "np.savetxt(\"/content/drive/My Drive/CDS_Project/OLIDv1/Data/glove/Stats/y_valid_a.csv\", a_validY_em, delimiter=\",\")\n",
        "np.savetxt(\"/content/drive/My Drive/CDS_Project/OLIDv1/Data/glove/Stats/X_test_a.csv\", a_testX_em, delimiter=\",\")\n",
        "np.savetxt(\"/content/drive/My Drive/CDS_Project/OLIDv1/Data/glove/Stats/y_test_a.csv\", ie_a_testY_df, delimiter=\",\")\n",
        "np.savetxt(\"/content/drive/My Drive/CDS_Project/OLIDv1/Data/glove/Stats/X_exp_a.csv\", a_expX_em, delimiter=\",\")\n",
        "np.savetxt(\"/content/drive/My Drive/CDS_Project/OLIDv1/Data/glove/Stats/y_exp_a.csv\", ie_a_exp_y_df, delimiter=\",\")\n",
        "\n",
        "np.savetxt(\"/content/drive/My Drive/CDS_Project/OLIDv1/Data/glove/Stats/X_train_b.csv\", b_trainX_em, delimiter=\",\")\n",
        "np.savetxt(\"/content/drive/My Drive/CDS_Project/OLIDv1/Data/glove/Stats/X_valid_b.csv\", b_validX_em, delimiter=\",\")\n",
        "np.savetxt(\"/content/drive/My Drive/CDS_Project/OLIDv1/Data/glove/Stats/y_train_b.csv\", le_b_trainY_df, delimiter=\",\")\n",
        "np.savetxt(\"/content/drive/My Drive/CDS_Project/OLIDv1/Data/glove/Stats/y_valid_b.csv\", b_validY_em, delimiter=\",\")\n",
        "np.savetxt(\"/content/drive/My Drive/CDS_Project/OLIDv1/Data/glove/Stats/X_test_b.csv\", b_testX_em, delimiter=\",\")\n",
        "np.savetxt(\"/content/drive/My Drive/CDS_Project/OLIDv1/Data/glove/Stats/y_test_b.csv\", ie_b_testY_df, delimiter=\",\")\n",
        "np.savetxt(\"/content/drive/My Drive/CDS_Project/OLIDv1/Data/glove/Stats/X_exp_b.csv\", b_expX_em, delimiter=\",\")\n",
        "np.savetxt(\"/content/drive/My Drive/CDS_Project/OLIDv1/Data/glove/Stats/y_exp_b.csv\", ie_b_exp_y_df, delimiter=\",\")\n",
        "\n",
        "np.savetxt(\"/content/drive/My Drive/CDS_Project/OLIDv1/Data/glove/Stats/X_train_c.csv\", c_trainX_em, delimiter=\",\")\n",
        "np.savetxt(\"/content/drive/My Drive/CDS_Project/OLIDv1/Data/glove/Stats/X_valid_c.csv\", c_validX_em, delimiter=\",\")\n",
        "np.savetxt(\"/content/drive/My Drive/CDS_Project/OLIDv1/Data/glove/Stats/y_train_c.csv\", le_c_trainY_df, delimiter=\",\")\n",
        "np.savetxt(\"/content/drive/My Drive/CDS_Project/OLIDv1/Data/glove/Stats/y_valid_c.csv\", c_validY_em, delimiter=\",\")\n",
        "np.savetxt(\"/content/drive/My Drive/CDS_Project/OLIDv1/Data/glove/Stats/X_test_c.csv\", c_testX_em, delimiter=\",\")\n",
        "np.savetxt(\"/content/drive/My Drive/CDS_Project/OLIDv1/Data/glove/Stats/y_test_c.csv\", ie_c_testY_df, delimiter=\",\")\n",
        "np.savetxt(\"/content/drive/My Drive/CDS_Project/OLIDv1/Data/glove/Stats/X_exp_c.csv\", c_expX_em, delimiter=\",\")\n",
        "np.savetxt(\"/content/drive/My Drive/CDS_Project/OLIDv1/Data/glove/Stats/y_exp_c.csv\", ie_c_exp_y_df, delimiter=\",\")"
      ],
      "execution_count": null,
      "outputs": []
    },
    {
      "cell_type": "code",
      "metadata": {
        "colab": {
          "base_uri": "https://localhost:8080/"
        },
        "id": "SDonBnT6Je_P",
        "outputId": "3e44ace5-12df-4110-d725-7925739ef75a"
      },
      "source": [
        "a_trainX_em.shape, le_a_trainY_df.shape, b_expX_em.shape, ie_b_exp_y_df.shape"
      ],
      "execution_count": null,
      "outputs": [
        {
          "output_type": "execute_result",
          "data": {
            "text/plain": [
              "((11916, 200), (11916,), (117, 200), (117,))"
            ]
          },
          "metadata": {
            "tags": []
          },
          "execution_count": 76
        }
      ]
    },
    {
      "cell_type": "markdown",
      "metadata": {
        "id": "5ckGf_Xwckgd"
      },
      "source": [
        "# Choosing the Representation "
      ]
    },
    {
      "cell_type": "markdown",
      "metadata": {
        "id": "Grgd8_bScuhw"
      },
      "source": [
        "###We will use logistic regression to evaluate the best vector representation for subtask A and the rest of the project\n",
        "\n",
        "### Given that the dataset is imbalanced (skewed towards NON offensive tweets), we will be balancing the data when using log regression\n",
        "\n",
        "### Since spotting an offensive tweet is crucial, we will evaluate the performance using Macro- F1 and Recall Score"
      ]
    },
    {
      "cell_type": "code",
      "metadata": {
        "id": "OPVcdXcGco-4"
      },
      "source": [
        "from sklearn.metrics import classification_report, confusion_matrix\n",
        "from sklearn.metrics import roc_curve, roc_auc_score\n",
        "from sklearn.preprocessing import LabelEncoder\n",
        "lb = LabelEncoder() \n",
        "\n",
        "def evaluate_on_training_set(y_test, y_pred):\n",
        "  roc_score = roc_auc_score(y_test,y_pred)\n",
        "# Calculate AUC\n",
        "  print(\"AUC is: \", roc_score)\n",
        "  \n",
        "# print out recall and precision\n",
        "  print(classification_report(y_test, y_pred))\n",
        "  \n",
        "# print out confusion matrix\n",
        "  print(\"Confusion Matrix: \\n\", confusion_matrix(y_test, y_pred))\n",
        "\n",
        "  # # calculate points for ROC curve\n",
        "  fpr, tpr, thresholds = roc_curve(y_test, y_pred)\n",
        "  \n",
        "  # Plot ROC curve\n",
        "  plt.plot(fpr, tpr, label='ROC curve (area = %0.3f)' % roc_auc_score(y_test, y_pred))\n",
        "  plt.plot([0, 1], [0, 1], 'k--')  # random predictions curve\n",
        "  plt.xlim([0.0, 1.0])\n",
        "  plt.ylim([0.0, 1.0])\n",
        "  plt.xlabel('False Positive Rate or (1 - Specifity)')\n",
        "  plt.ylabel('True Positive Rate or (Sensitivity)')\n",
        "  plt.title('Receiver Operating Characteristic')"
      ],
      "execution_count": null,
      "outputs": []
    },
    {
      "cell_type": "code",
      "metadata": {
        "id": "ZSJ_9oAwKWrj"
      },
      "source": [
        "import sklearn.metrics as metrics\n",
        "# calculate AUC score by binarizing labels in a one-vs-all fashion\n",
        "from sklearn.metrics import roc_curve, roc_auc_score\n",
        "from sklearn.metrics import accuracy_score, classification_report\n",
        "from sklearn.preprocessing import LabelBinarizer\n",
        "\n",
        "def multiclass_roc_auc_score(y_test, y_pred, average=\"macro\"):\n",
        "  lb = LabelBinarizer()\n",
        "  lb.fit(y_test)\n",
        "  y_test = lb.transform(y_test)\n",
        "  y_pred = lb.transform(y_pred)\n",
        "  return roc_auc_score(y_test, y_pred, average=average)\n",
        "\n",
        "def evaluate_on_training_set_multi(y_test, y_pred, y_pred_prob):\n",
        "  # roc_auc_score not commonly implemented for multiclass, check confusion matrix instead\n",
        "  roc_score = multiclass_roc_auc_score(y_test, y_pred)\n",
        "  # Calculate AUC\n",
        "  print(\"AUC is: \", roc_score)\n",
        "\n",
        "  n_class = 3\n",
        "\n",
        "  # roc curve for classes\n",
        "  fpr = {}\n",
        "  tpr = {}\n",
        "  thresh ={}\n",
        "\n",
        "  for i in range(n_class):    \n",
        "    fpr[i], tpr[i], thresh[i] = roc_curve(y_test, y_pred_prob[:,i], pos_label=i)\n",
        "  \n",
        "# print out recall and precision\n",
        "  print(classification_report(y_test, y_pred))\n",
        "  \n",
        "# print out confusion matrix\n",
        "  print(\"Confusion Matrix: \\n\", metrics.confusion_matrix(y_test, y_pred))\n",
        "\n",
        "  # plotting    \n",
        "  plt.plot(fpr[0], tpr[0], linestyle='--',color='orange', label='Class 0 vs Rest')\n",
        "  plt.plot(fpr[1], tpr[1], linestyle='--',color='green', label='Class 1 vs Rest')\n",
        "  plt.plot(fpr[2], tpr[2], linestyle='--',color='blue', label='Class 2 vs Rest')\n",
        "  plt.title('Multiclass ROC curve')\n",
        "  plt.xlabel('False Positive Rate or (1-Specifity)')\n",
        "  plt.ylabel('True Positive rate or (Sensitivity)')\n",
        "  plt.legend(loc='best')"
      ],
      "execution_count": null,
      "outputs": []
    },
    {
      "cell_type": "markdown",
      "metadata": {
        "id": "_Q7EE9-FfHQ2"
      },
      "source": [
        "## Logistic Regression using TFIDF"
      ]
    },
    {
      "cell_type": "code",
      "metadata": {
        "colab": {
          "base_uri": "https://localhost:8080/",
          "height": 567
        },
        "id": "ZpAxHftVfGqn",
        "outputId": "144ac780-1afa-4ee3-bb2e-a3f206d6e8c9"
      },
      "source": [
        "from sklearn.linear_model import LogisticRegression\n",
        "model = LogisticRegression(max_iter=100000, class_weight='balanced', solver='lbfgs') \n",
        "\n",
        "model.fit(X_train_tfidf, y_train_tfidf) # Training the model\n",
        "\n",
        "y_pred_tfidf = model.predict(X_test_tfidf)\n",
        "y_final = lb.fit_transform(y_test_tfidf)\n",
        "y_pred_tfidf = lb.fit_transform(y_pred_tfidf)\n",
        "\n",
        "print('\\n')\n",
        "print('Logistic Regression')\n",
        "evaluate_on_training_set(y_final, y_pred_tfidf)"
      ],
      "execution_count": null,
      "outputs": [
        {
          "output_type": "stream",
          "text": [
            "\n",
            "\n",
            "Logistic Regression\n",
            "AUC is:  0.7402200740436036\n",
            "              precision    recall  f1-score   support\n",
            "\n",
            "           0       0.83      0.80      0.82       884\n",
            "           1       0.63      0.68      0.65       440\n",
            "\n",
            "    accuracy                           0.76      1324\n",
            "   macro avg       0.73      0.74      0.74      1324\n",
            "weighted avg       0.77      0.76      0.76      1324\n",
            "\n",
            "Confusion Matrix: \n",
            " [[710 174]\n",
            " [142 298]]\n"
          ],
          "name": "stdout"
        },
        {
          "output_type": "display_data",
          "data": {
            "image/png": "[encoded data removed]",
            "text/plain": [
              "<Figure size 432x288 with 1 Axes>"
            ]
          },
          "metadata": {
            "tags": []
          }
        }
      ]
    },
    {
      "cell_type": "code",
      "metadata": {
        "colab": {
          "base_uri": "https://localhost:8080/",
          "height": 572
        },
        "id": "rNSOVI8tG7dU",
        "outputId": "db7556f4-cf50-4f6b-9044-2ef7c5c14628"
      },
      "source": [
        "## A\n",
        "model = LogisticRegression(max_iter=100000, class_weight='balanced', solver='lbfgs') \n",
        "\n",
        "model.fit(X_train_tfidf_a, y_train_tfidf_a) # Training the model\n",
        "\n",
        "y_pred_tfidf = model.predict(X_val_tfidf_a)\n",
        "y_final = lb.fit_transform(y_val_tfidf_a)\n",
        "y_pred_tfidf = lb.fit_transform(y_pred_tfidf)\n",
        "\n",
        "print('\\n')\n",
        "print('Logistic Regression')\n",
        "evaluate_on_training_set(y_final, y_pred_tfidf)"
      ],
      "execution_count": null,
      "outputs": [
        {
          "output_type": "stream",
          "text": [
            "\n",
            "\n",
            "Logistic Regression\n",
            "AUC is:  0.7402200740436036\n",
            "              precision    recall  f1-score   support\n",
            "\n",
            "           0       0.83      0.80      0.82       884\n",
            "           1       0.63      0.68      0.65       440\n",
            "\n",
            "    accuracy                           0.76      1324\n",
            "   macro avg       0.73      0.74      0.74      1324\n",
            "weighted avg       0.77      0.76      0.76      1324\n",
            "\n",
            "Confusion Matrix: \n",
            " [[710 174]\n",
            " [142 298]]\n"
          ],
          "name": "stdout"
        },
        {
          "output_type": "display_data",
          "data": {
            "image/png": "[encoded data removed]",
            "text/plain": [
              "<Figure size 432x288 with 1 Axes>"
            ]
          },
          "metadata": {
            "tags": []
          }
        }
      ]
    },
    {
      "cell_type": "code",
      "metadata": {
        "colab": {
          "base_uri": "https://localhost:8080/",
          "height": 572
        },
        "id": "-qV5aswq6I-e",
        "outputId": "33d1f843-a044-4325-bd29-a3e7b823f480"
      },
      "source": [
        "## B\n",
        "model = LogisticRegression(max_iter=100000, class_weight='balanced', solver='lbfgs') \n",
        "\n",
        "model.fit(X_train_tfidf_b, y_train_tfidf_b) # Training the model\n",
        "\n",
        "y_pred_tfidf = model.predict(X_val_tfidf_b)\n",
        "y_final = lb.fit_transform(y_val_tfidf_b)\n",
        "y_pred_tfidf = lb.fit_transform(y_pred_tfidf)\n",
        "\n",
        "print('\\n')\n",
        "print('Logistic Regression')\n",
        "evaluate_on_training_set(y_final, y_pred_tfidf)"
      ],
      "execution_count": null,
      "outputs": [
        {
          "output_type": "stream",
          "text": [
            "\n",
            "\n",
            "Logistic Regression\n",
            "AUC is:  0.6326918041372087\n",
            "              precision    recall  f1-score   support\n",
            "\n",
            "           0       0.94      0.87      0.90       402\n",
            "           1       0.22      0.39      0.29        38\n",
            "\n",
            "    accuracy                           0.83       440\n",
            "   macro avg       0.58      0.63      0.59       440\n",
            "weighted avg       0.88      0.83      0.85       440\n",
            "\n",
            "Confusion Matrix: \n",
            " [[350  52]\n",
            " [ 23  15]]\n"
          ],
          "name": "stdout"
        },
        {
          "output_type": "display_data",
          "data": {
            "image/png": "[encoded data removed]",
            "text/plain": [
              "<Figure size 432x288 with 1 Axes>"
            ]
          },
          "metadata": {
            "tags": []
          }
        }
      ]
    },
    {
      "cell_type": "code",
      "metadata": {
        "colab": {
          "base_uri": "https://localhost:8080/",
          "height": 606
        },
        "id": "EJYXw8ulI-Xb",
        "outputId": "58354c4c-e42c-4b7b-bd29-b5040a293610"
      },
      "source": [
        "## C\n",
        "model = LogisticRegression(max_iter=100000, class_weight='balanced', solver='lbfgs') \n",
        "\n",
        "model.fit(X_train_tfidf_c, y_train_tfidf_c) # Training the model\n",
        "\n",
        "y_pred_tfidf = model.predict(X_val_tfidf_c)\n",
        "y_final = lb.fit_transform(y_val_tfidf_c)\n",
        "y_pred_tfidf = lb.fit_transform(y_pred_tfidf)\n",
        "y_pred_prob = model.predict_proba(X_val_tfidf_c)\n",
        "\n",
        "print('\\n')\n",
        "print('Logistic Regression')\n",
        "evaluate_on_training_set_multi(y_final, y_pred_tfidf, y_pred_prob)"
      ],
      "execution_count": null,
      "outputs": [
        {
          "output_type": "stream",
          "text": [
            "\n",
            "\n",
            "Logistic Regression\n",
            "AUC is:  0.6536031563013297\n",
            "              precision    recall  f1-score   support\n",
            "\n",
            "           0       0.48      0.51      0.49        97\n",
            "           1       0.83      0.76      0.79       261\n",
            "           2       0.17      0.27      0.21        30\n",
            "\n",
            "    accuracy                           0.66       388\n",
            "   macro avg       0.49      0.51      0.50       388\n",
            "weighted avg       0.69      0.66      0.67       388\n",
            "\n",
            "Confusion Matrix: \n",
            " [[ 49  29  19]\n",
            " [ 42 198  21]\n",
            " [ 11  11   8]]\n"
          ],
          "name": "stdout"
        },
        {
          "output_type": "display_data",
          "data": {
            "image/png": "[encoded data removed]",
            "text/plain": [
              "<Figure size 432x288 with 1 Axes>"
            ]
          },
          "metadata": {
            "tags": []
          }
        }
      ]
    },
    {
      "cell_type": "markdown",
      "metadata": {
        "id": "lqZbzX8zlqWw"
      },
      "source": [
        "## Logistic Regression using Word2Vec"
      ]
    },
    {
      "cell_type": "code",
      "metadata": {
        "colab": {
          "base_uri": "https://localhost:8080/",
          "height": 516
        },
        "id": "RExtLPL2lp7M",
        "outputId": "c1c0a4a0-fc26-4600-8680-f2d70eb39aa5"
      },
      "source": [
        "## A\n",
        "model = LogisticRegression(max_iter=100000, class_weight='balanced', solver='lbfgs') \n",
        "model = model.fit(train_word_average, y_train_w2v)\n",
        "y_pred = model.predict(test_word_average)\n",
        "\n",
        "lb = LabelEncoder()\n",
        "y_pred = lb.fit_transform(y_pred)\n",
        "y_test_w2v = lb.fit_transform(y_test_w2v)\n",
        "\n",
        "evaluate_on_training_set(y_test_w2v, y_pred)"
      ],
      "execution_count": null,
      "outputs": [
        {
          "output_type": "stream",
          "text": [
            "AUC is:  0.5817667626491155\n",
            "              precision    recall  f1-score   support\n",
            "\n",
            "           0       0.75      0.52      0.61       884\n",
            "           1       0.40      0.64      0.49       440\n",
            "\n",
            "    accuracy                           0.56      1324\n",
            "   macro avg       0.57      0.58      0.55      1324\n",
            "weighted avg       0.63      0.56      0.57      1324\n",
            "\n",
            "Confusion Matrix: \n",
            " [[462 422]\n",
            " [158 282]]\n"
          ],
          "name": "stdout"
        },
        {
          "output_type": "display_data",
          "data": {
            "image/png": "[encoded data removed]",
            "text/plain": [
              "<Figure size 432x288 with 1 Axes>"
            ]
          },
          "metadata": {
            "tags": []
          }
        }
      ]
    },
    {
      "cell_type": "code",
      "metadata": {
        "colab": {
          "base_uri": "https://localhost:8080/"
        },
        "id": "woHnfCRnPbrH",
        "outputId": "7a6d8c8d-9711-4252-f85f-9c497ae3bb8c"
      },
      "source": [
        "## A\n",
        "X_train_w2v_a, X_val_w2v_a, y_train_w2v_a, y_val_w2v_a = train_test_split(a_trainX_w2v, a_trainY_w2v, test_size = 0.1,\n",
        "                                                        random_state = 37)\n",
        "train_word_average_a = word_averaging_list(w2v, X_train_w2v_a)\n",
        "test_word_average_a = word_averaging_list(w2v, X_val_w2v_a)"
      ],
      "execution_count": null,
      "outputs": [
        {
          "output_type": "stream",
          "text": [
            "/usr/local/lib/python3.6/dist-packages/ipykernel_launcher.py:12: DeprecationWarning: Call to deprecated `syn0norm` (Attribute will be removed in 4.0.0, use self.wv.vectors_norm instead).\n",
            "  if sys.path[0] == '':\n",
            "/usr/local/lib/python3.6/dist-packages/gensim/matutils.py:737: FutureWarning: Conversion of the second argument of issubdtype from `int` to `np.signedinteger` is deprecated. In future, it will be treated as `np.int64 == np.dtype(int).type`.\n",
            "  if np.issubdtype(vec.dtype, np.int):\n",
            "WARNING:root:cannot compute similarity with no input \n",
            "WARNING:root:cannot compute similarity with no input \n",
            "WARNING:root:cannot compute similarity with no input \n",
            "WARNING:root:cannot compute similarity with no input \n",
            "WARNING:root:cannot compute similarity with no input \n",
            "WARNING:root:cannot compute similarity with no input \n",
            "WARNING:root:cannot compute similarity with no input \n",
            "WARNING:root:cannot compute similarity with no input \n",
            "WARNING:root:cannot compute similarity with no input \n",
            "WARNING:root:cannot compute similarity with no input \n",
            "WARNING:root:cannot compute similarity with no input \n",
            "WARNING:root:cannot compute similarity with no input \n",
            "WARNING:root:cannot compute similarity with no input \n",
            "WARNING:root:cannot compute similarity with no input \n",
            "WARNING:root:cannot compute similarity with no input \n",
            "WARNING:root:cannot compute similarity with no input \n",
            "WARNING:root:cannot compute similarity with no input \n",
            "WARNING:root:cannot compute similarity with no input \n"
          ],
          "name": "stderr"
        }
      ]
    },
    {
      "cell_type": "code",
      "metadata": {
        "colab": {
          "base_uri": "https://localhost:8080/",
          "height": 520
        },
        "id": "Ys8KxwIyIZGw",
        "outputId": "9d4730bb-570f-4815-9bb8-9ed7b66ab10a"
      },
      "source": [
        "## A\n",
        "model = LogisticRegression(max_iter=100000, class_weight='balanced', solver='lbfgs') \n",
        "model = model.fit(train_word_average_a, y_train_w2v_a)\n",
        "y_pred = model.predict(test_word_average_a)\n",
        "\n",
        "lb = LabelEncoder()\n",
        "y_pred = lb.fit_transform(y_pred)\n",
        "y_val_w2v = lb.fit_transform(y_val_w2v_a)\n",
        "\n",
        "evaluate_on_training_set(y_val_w2v, y_pred)"
      ],
      "execution_count": null,
      "outputs": [
        {
          "output_type": "stream",
          "text": [
            "AUC is:  0.5817667626491155\n",
            "              precision    recall  f1-score   support\n",
            "\n",
            "           0       0.75      0.52      0.61       884\n",
            "           1       0.40      0.64      0.49       440\n",
            "\n",
            "    accuracy                           0.56      1324\n",
            "   macro avg       0.57      0.58      0.55      1324\n",
            "weighted avg       0.63      0.56      0.57      1324\n",
            "\n",
            "Confusion Matrix: \n",
            " [[462 422]\n",
            " [158 282]]\n"
          ],
          "name": "stdout"
        },
        {
          "output_type": "display_data",
          "data": {
            "image/png": "[encoded data removed]",
            "text/plain": [
              "<Figure size 432x288 with 1 Axes>"
            ]
          },
          "metadata": {
            "tags": []
          }
        }
      ]
    },
    {
      "cell_type": "code",
      "metadata": {
        "colab": {
          "base_uri": "https://localhost:8080/"
        },
        "id": "7IlYj7LhV0WE",
        "outputId": "87ae81f3-befc-42b9-a78a-14caa108bd29"
      },
      "source": [
        "## B\n",
        "X_train_w2v_b, X_val_w2v_b, y_train_w2v_b, y_val_w2v_b = train_test_split(b_trainX_w2v, b_trainY_w2v, test_size = 0.1,\n",
        "                                                        random_state = 37)\n",
        "train_word_average_b = word_averaging_list(w2v, X_train_w2v_b)\n",
        "test_word_average_b = word_averaging_list(w2v, X_val_w2v_b)"
      ],
      "execution_count": null,
      "outputs": [
        {
          "output_type": "stream",
          "text": [
            "/usr/local/lib/python3.6/dist-packages/ipykernel_launcher.py:12: DeprecationWarning: Call to deprecated `syn0norm` (Attribute will be removed in 4.0.0, use self.wv.vectors_norm instead).\n",
            "  if sys.path[0] == '':\n",
            "/usr/local/lib/python3.6/dist-packages/gensim/matutils.py:737: FutureWarning: Conversion of the second argument of issubdtype from `int` to `np.signedinteger` is deprecated. In future, it will be treated as `np.int64 == np.dtype(int).type`.\n",
            "  if np.issubdtype(vec.dtype, np.int):\n",
            "WARNING:root:cannot compute similarity with no input \n"
          ],
          "name": "stderr"
        }
      ]
    },
    {
      "cell_type": "code",
      "metadata": {
        "colab": {
          "base_uri": "https://localhost:8080/",
          "height": 520
        },
        "id": "qriD70qiV7Aj",
        "outputId": "29315f8c-7cfd-4104-f0ec-90465e970126"
      },
      "source": [
        "## B\n",
        "model = LogisticRegression(max_iter=100000, class_weight='balanced', solver='lbfgs') \n",
        "model = model.fit(train_word_average_b, y_train_w2v_b)\n",
        "y_pred = model.predict(test_word_average_b)\n",
        "\n",
        "lb = LabelEncoder()\n",
        "y_pred = lb.fit_transform(y_pred)\n",
        "y_val_w2v = lb.fit_transform(y_val_w2v_b)\n",
        "\n",
        "evaluate_on_training_set(y_val_w2v, y_pred)"
      ],
      "execution_count": null,
      "outputs": [
        {
          "output_type": "stream",
          "text": [
            "AUC is:  0.6101728201099763\n",
            "              precision    recall  f1-score   support\n",
            "\n",
            "           0       0.94      0.69      0.80       402\n",
            "           1       0.14      0.53      0.22        38\n",
            "\n",
            "    accuracy                           0.68       440\n",
            "   macro avg       0.54      0.61      0.51       440\n",
            "weighted avg       0.87      0.68      0.75       440\n",
            "\n",
            "Confusion Matrix: \n",
            " [[279 123]\n",
            " [ 18  20]]\n"
          ],
          "name": "stdout"
        },
        {
          "output_type": "display_data",
          "data": {
            "image/png": "[encoded data removed]",
            "text/plain": [
              "<Figure size 432x288 with 1 Axes>"
            ]
          },
          "metadata": {
            "tags": []
          }
        }
      ]
    },
    {
      "cell_type": "code",
      "metadata": {
        "colab": {
          "base_uri": "https://localhost:8080/"
        },
        "id": "A5ED5-PyXfKQ",
        "outputId": "1e89825e-d931-4b9d-a84c-f622b4e6dd09"
      },
      "source": [
        "## C\n",
        "X_train_w2v_c, X_val_w2v_c, y_train_w2v_c, y_val_w2v_c = train_test_split(c_trainX_w2v, c_trainY_w2v, test_size = 0.1,\n",
        "                                                        random_state = 37)\n",
        "train_word_average_c = word_averaging_list(w2v, X_train_w2v_c)\n",
        "test_word_average_c = word_averaging_list(w2v, X_val_w2v_c)"
      ],
      "execution_count": null,
      "outputs": [
        {
          "output_type": "stream",
          "text": [
            "/usr/local/lib/python3.6/dist-packages/ipykernel_launcher.py:12: DeprecationWarning: Call to deprecated `syn0norm` (Attribute will be removed in 4.0.0, use self.wv.vectors_norm instead).\n",
            "  if sys.path[0] == '':\n",
            "/usr/local/lib/python3.6/dist-packages/gensim/matutils.py:737: FutureWarning: Conversion of the second argument of issubdtype from `int` to `np.signedinteger` is deprecated. In future, it will be treated as `np.int64 == np.dtype(int).type`.\n",
            "  if np.issubdtype(vec.dtype, np.int):\n",
            "WARNING:root:cannot compute similarity with no input \n"
          ],
          "name": "stderr"
        }
      ]
    },
    {
      "cell_type": "code",
      "metadata": {
        "colab": {
          "base_uri": "https://localhost:8080/",
          "height": 554
        },
        "id": "Xr_7f7wjXrNN",
        "outputId": "3593b65a-a74e-4dd3-8119-842911002904"
      },
      "source": [
        "## C\n",
        "model = LogisticRegression(max_iter=100000, class_weight='balanced', solver='lbfgs') \n",
        "model = model.fit(train_word_average_c, y_train_w2v_c)\n",
        "y_pred = model.predict(test_word_average_c)\n",
        "y_pred_prob = model.predict_proba(test_word_average_c)\n",
        "\n",
        "lb = LabelEncoder()\n",
        "y_pred = lb.fit_transform(y_pred)\n",
        "y_val_w2v = lb.fit_transform(y_val_w2v_c)\n",
        "\n",
        "evaluate_on_training_set_multi(y_val_w2v, y_pred, y_pred_prob)"
      ],
      "execution_count": null,
      "outputs": [
        {
          "output_type": "stream",
          "text": [
            "AUC is:  0.6000184147798913\n",
            "              precision    recall  f1-score   support\n",
            "\n",
            "           0       0.36      0.54      0.43        97\n",
            "           1       0.80      0.39      0.53       261\n",
            "           2       0.12      0.47      0.19        30\n",
            "\n",
            "    accuracy                           0.44       388\n",
            "   macro avg       0.43      0.47      0.38       388\n",
            "weighted avg       0.64      0.44      0.48       388\n",
            "\n",
            "Confusion Matrix: \n",
            " [[ 52  17  28]\n",
            " [ 83 103  75]\n",
            " [  8   8  14]]\n"
          ],
          "name": "stdout"
        },
        {
          "output_type": "display_data",
          "data": {
            "image/png": "[encoded data removed]",
            "text/plain": [
              "<Figure size 432x288 with 1 Axes>"
            ]
          },
          "metadata": {
            "tags": []
          }
        }
      ]
    },
    {
      "cell_type": "markdown",
      "metadata": {
        "id": "FS69cQ5dhd12"
      },
      "source": [
        "## Logistic Regression using GloVe"
      ]
    },
    {
      "cell_type": "code",
      "metadata": {
        "id": "G1LNMxWphdh_"
      },
      "source": [
        "a_trainX_em, a_testX_em, a_trainY_em, a_testY_em = train_test_split(a_trainX_em, le_a_trainY_df, test_size=0.1, random_state=37)"
      ],
      "execution_count": null,
      "outputs": []
    },
    {
      "cell_type": "code",
      "metadata": {
        "colab": {
          "base_uri": "https://localhost:8080/",
          "height": 516
        },
        "id": "WqRUyM2qi-dI",
        "outputId": "041d86b4-5ec8-47b7-e9a5-5ff1a795aa0f"
      },
      "source": [
        "model = LogisticRegression(max_iter=100000, class_weight='balanced', solver='lbfgs')\n",
        "model.fit(a_trainX_em, a_trainY_em)\n",
        "\n",
        "y_pred = model.predict(a_testX_em)\n",
        "\n",
        "evaluate_on_training_set(a_testY_em, y_pred)"
      ],
      "execution_count": null,
      "outputs": [
        {
          "output_type": "stream",
          "text": [
            "AUC is:  0.6112068965517241\n",
            "              precision    recall  f1-score   support\n",
            "\n",
            "           0       0.76      0.67      0.71       812\n",
            "           1       0.44      0.55      0.49       380\n",
            "\n",
            "    accuracy                           0.63      1192\n",
            "   macro avg       0.60      0.61      0.60      1192\n",
            "weighted avg       0.66      0.63      0.64      1192\n",
            "\n",
            "Confusion Matrix: \n",
            " [[546 266]\n",
            " [171 209]]\n"
          ],
          "name": "stdout"
        },
        {
          "output_type": "display_data",
          "data": {
            "image/png": "[encoded data removed]",
            "text/plain": [
              "<Figure size 432x288 with 1 Axes>"
            ]
          },
          "metadata": {
            "tags": []
          }
        }
      ]
    },
    {
      "cell_type": "code",
      "metadata": {
        "id": "F95dQcFOWOBC"
      },
      "source": [
        "b_trainX_em, b_testX_em, b_trainY_em, b_testY_em = train_test_split(b_trainX_em, le_b_trainY_df, test_size=0.1, random_state=37)"
      ],
      "execution_count": null,
      "outputs": []
    },
    {
      "cell_type": "code",
      "metadata": {
        "colab": {
          "base_uri": "https://localhost:8080/",
          "height": 520
        },
        "id": "-tFeIuEOWQww",
        "outputId": "c33620c5-8d3b-44fb-d105-350d4e15f792"
      },
      "source": [
        "model = LogisticRegression(max_iter=100000, class_weight='balanced', solver='lbfgs')\n",
        "model.fit(b_trainX_em, b_trainY_em)\n",
        "\n",
        "y_pred = model.predict(b_testX_em)\n",
        "\n",
        "evaluate_on_training_set(b_testY_em, y_pred)"
      ],
      "execution_count": null,
      "outputs": [
        {
          "output_type": "stream",
          "text": [
            "AUC is:  0.5874534161490683\n",
            "              precision    recall  f1-score   support\n",
            "\n",
            "           0       0.91      0.63      0.75       350\n",
            "           1       0.16      0.54      0.25        46\n",
            "\n",
            "    accuracy                           0.62       396\n",
            "   macro avg       0.54      0.59      0.50       396\n",
            "weighted avg       0.83      0.62      0.69       396\n",
            "\n",
            "Confusion Matrix: \n",
            " [[221 129]\n",
            " [ 21  25]]\n"
          ],
          "name": "stdout"
        },
        {
          "output_type": "display_data",
          "data": {
            "image/png": "[encoded data removed]",
            "text/plain": [
              "<Figure size 432x288 with 1 Axes>"
            ]
          },
          "metadata": {
            "tags": []
          }
        }
      ]
    },
    {
      "cell_type": "code",
      "metadata": {
        "id": "CPnedcbNWjDa"
      },
      "source": [
        "c_trainX_em, c_testX_em, c_trainY_em, c_testY_em = train_test_split(c_trainX_em, le_c_trainY_df, test_size=0.1, random_state=37)"
      ],
      "execution_count": null,
      "outputs": []
    },
    {
      "cell_type": "code",
      "metadata": {
        "colab": {
          "base_uri": "https://localhost:8080/",
          "height": 554
        },
        "id": "9mXizX1oWjOQ",
        "outputId": "32bf7a96-6d48-49c3-d3a4-588e2dd15314"
      },
      "source": [
        "model = LogisticRegression(max_iter=100000, class_weight='balanced', solver='lbfgs')\n",
        "model.fit(c_trainX_em, c_trainY_em)\n",
        "\n",
        "y_pred = model.predict(c_testX_em)\n",
        "y_pred_prob = model.predict_proba(c_testX_em)\n",
        "\n",
        "evaluate_on_training_set_multi(c_testY_em, y_pred, y_pred_prob)"
      ],
      "execution_count": null,
      "outputs": [
        {
          "output_type": "stream",
          "text": [
            "AUC is:  0.5549281017582403\n",
            "              precision    recall  f1-score   support\n",
            "\n",
            "           0       0.35      0.35      0.35       102\n",
            "           1       0.68      0.47      0.56       214\n",
            "           2       0.13      0.39      0.20        33\n",
            "\n",
            "    accuracy                           0.43       349\n",
            "   macro avg       0.39      0.41      0.37       349\n",
            "weighted avg       0.53      0.43      0.46       349\n",
            "\n",
            "Confusion Matrix: \n",
            " [[ 36  37  29]\n",
            " [ 58 101  55]\n",
            " [ 10  10  13]]\n"
          ],
          "name": "stdout"
        },
        {
          "output_type": "display_data",
          "data": {
            "image/png": "[encoded data removed]",
            "text/plain": [
              "<Figure size 432x288 with 1 Axes>"
            ]
          },
          "metadata": {
            "tags": []
          }
        }
      ]
    },
    {
      "cell_type": "markdown",
      "metadata": {
        "id": "kZd1GsHzmoED"
      },
      "source": [
        "## Based on the above results, GloVe gives us the most optimal results for Macro F1 and Recall Score. We will proceed with GloVe for the rest of the models."
      ]
    },
    {
      "cell_type": "markdown",
      "metadata": {
        "id": "4w_5yk85SdKO"
      },
      "source": [
        "##Try for weather"
      ]
    },
    {
      "cell_type": "code",
      "metadata": {
        "id": "Z8qIQVGl0ATF"
      },
      "source": [
        "\r\n",
        "from keras.callbacks import EarlyStopping\r\n",
        "from keras.callbacks import ModelCheckpoint\r\n",
        "from keras.models import load_model\r\n",
        "from sklearn.metrics import classification_report, confusion_matrix\r\n",
        "from sklearn.metrics import roc_curve, roc_auc_score\r\n",
        "from sklearn.preprocessing import LabelEncoder\r\n",
        "from keras.layers import Embedding\r\n",
        "from keras import Input\r\n",
        "from keras import models\r\n",
        "from keras import layers\r\n",
        "from keras import regularizers\r\n",
        "from keras.models import Sequential\r\n",
        "from keras.layers import Dense, Flatten, LSTM, Conv1D, MaxPooling1D, Dropout, Activation, SpatialDropout1D, Bidirectional, GlobalMaxPool1D\r\n",
        "from tensorflow.keras import backend as K\r\n",
        "from keras.utils.np_utils import to_categorical\r\n",
        "from keras.preprocessing import sequence\r\n",
        "from numpy.random import seed\r\n",
        "\r\n",
        "import numpy as np\r\n",
        "import pandas as pd \r\n",
        "import matplotlib.pyplot as plt\r\n",
        "import keras\r\n",
        "import sklearn.metrics as metrics\r\n",
        "\r\n",
        "from sklearn.metrics import classification_report, confusion_matrix\r\n",
        "from sklearn.metrics import roc_curve, roc_auc_score\r\n",
        "\r\n",
        "import tensorflow as tf"
      ],
      "execution_count": null,
      "outputs": []
    },
    {
      "cell_type": "code",
      "metadata": {
        "colab": {
          "base_uri": "https://localhost:8080/"
        },
        "id": "JlXAZMdm2-rO",
        "outputId": "e17a6040-2405-4d4c-da3f-fa3cb6b48e55"
      },
      "source": [
        "#vec_trainX_df, vec_testX_df, word_index, em_mat\r\n",
        "#vec_trainX_df.shape\r\n",
        "\r\n",
        "len(word_index)\r\n",
        "len(em_mat)"
      ],
      "execution_count": null,
      "outputs": [
        {
          "output_type": "execute_result",
          "data": {
            "text/plain": [
              "11107"
            ]
          },
          "metadata": {
            "tags": []
          },
          "execution_count": 45
        }
      ]
    },
    {
      "cell_type": "code",
      "metadata": {
        "id": "RRJPdmnf5KtX"
      },
      "source": [
        "#The settings we are using \r\n",
        "MAX_SEQUENCE_LENGTH = 25\r\n",
        "EMBEDDING_DIM = em_mat.shape[1]\r\n",
        "word_index = em_mat.shape[0]"
      ],
      "execution_count": null,
      "outputs": []
    },
    {
      "cell_type": "code",
      "metadata": {
        "id": "LChvanrBzs1B"
      },
      "source": [
        "embedding_layer = Embedding((word_index),\r\n",
        "                            EMBEDDING_DIM,\r\n",
        "                            weights=[em_mat],\r\n",
        "                            input_length=MAX_SEQUENCE_LENGTH, \r\n",
        "                            trainable = False)"
      ],
      "execution_count": null,
      "outputs": []
    },
    {
      "cell_type": "code",
      "metadata": {
        "colab": {
          "base_uri": "https://localhost:8080/"
        },
        "id": "frnlFJ-o6tyF",
        "outputId": "083f114d-5a1f-433b-f4fa-f3b16204388c"
      },
      "source": [
        "from sklearn.preprocessing import LabelEncoder\r\n",
        "from keras.utils import np_utils\r\n",
        "\r\n",
        "# One-hot encoding\r\n",
        "# encode class values as integers\r\n",
        "encoder = LabelEncoder()\r\n",
        "encoder.fit(trainY_df)\r\n",
        "\r\n",
        "trainY_df_oh = encoder.transform(trainY_df)\r\n",
        "trainY_df_oh= np_utils.to_categorical(trainY_df_oh)\r\n",
        "print(trainY_df_oh)"
      ],
      "execution_count": null,
      "outputs": [
        {
          "output_type": "execute_result",
          "data": {
            "text/plain": [
              "LabelEncoder()"
            ]
          },
          "metadata": {
            "tags": []
          },
          "execution_count": 53
        }
      ]
    },
    {
      "cell_type": "code",
      "metadata": {
        "colab": {
          "base_uri": "https://localhost:8080/"
        },
        "id": "TSzfK6uQ6x-9",
        "outputId": "487e3b9e-4e24-4642-ecc7-888a01cf134b"
      },
      "source": [
        "trainY_df_oh.shape, vec_trainX_df.shape"
      ],
      "execution_count": null,
      "outputs": [
        {
          "output_type": "execute_result",
          "data": {
            "text/plain": [
              "((22500, 3), (22500, 25))"
            ]
          },
          "metadata": {
            "tags": []
          },
          "execution_count": 58
        }
      ]
    },
    {
      "cell_type": "code",
      "metadata": {
        "id": "I-oj4uZOy_CE"
      },
      "source": [
        "model_nn1 = Sequential()\r\n",
        "model_nn1.add(embedding_layer)\r\n",
        "model_nn1.add(Conv1D(100, 2, activation='relu')) #filters, kernel size\r\n",
        "model_nn1.add(Dropout(0.2))\r\n",
        "model_nn1.add(Conv1D(100, 3, activation='relu'))\r\n",
        "model_nn1.add(Dropout(0.2))\r\n",
        "model_nn1.add(MaxPooling1D(3))\r\n",
        "model_nn1.add(Dropout(0.5))\r\n",
        "model_nn1.add(Bidirectional(LSTM(128,dropout = 0.5)))\r\n",
        "model_nn1.add(Dense(3))\r\n",
        "model_nn1.add(Activation('softmax'))\r\n",
        "model_nn1.compile(loss='categorical_crossentropy', optimizer='adam', metrics = ['accuracy'])"
      ],
      "execution_count": null,
      "outputs": []
    },
    {
      "cell_type": "code",
      "metadata": {
        "colab": {
          "base_uri": "https://localhost:8080/"
        },
        "id": "_nY7hHLv5htQ",
        "outputId": "6ae790e9-4dcd-43b8-efd8-80294fd33aa5"
      },
      "source": [
        "tf.random.set_seed(123)\r\n",
        "earlystop = EarlyStopping(monitor = 'val_loss',min_delta = 0,patience = 15, verbose = 1,restore_best_weights = True, mode = 'min')\r\n",
        "model_checkpoint = ModelCheckpoint('best_model_c2', monitor='val_loss', mode='min', verbose=1, save_best_only=True)\r\n",
        "history = model_nn1.fit(vec_trainX_df,trainY_df_oh, epochs=30, verbose = 1, validation_split= 0.2 ,callbacks = [earlystop,model_checkpoint])"
      ],
      "execution_count": null,
      "outputs": [
        {
          "output_type": "stream",
          "text": [
            "Epoch 1/30\n",
            "562/563 [============================>.] - ETA: 0s - loss: 0.1944 - accuracy: 0.9300\n",
            "Epoch 00001: val_loss improved from inf to 0.33830, saving model to best_model_c2\n",
            "INFO:tensorflow:Assets written to: best_model_c2/assets\n",
            "563/563 [==============================] - 15s 27ms/step - loss: 0.1943 - accuracy: 0.9301 - val_loss: 0.3383 - val_accuracy: 0.8833\n",
            "Epoch 2/30\n",
            "563/563 [==============================] - ETA: 0s - loss: 0.2385 - accuracy: 0.9107\n",
            "Epoch 00002: val_loss improved from 0.33830 to 0.32641, saving model to best_model_c2\n",
            "INFO:tensorflow:Assets written to: best_model_c2/assets\n",
            "563/563 [==============================] - 15s 26ms/step - loss: 0.2385 - accuracy: 0.9107 - val_loss: 0.3264 - val_accuracy: 0.8793\n",
            "Epoch 3/30\n",
            "562/563 [============================>.] - ETA: 0s - loss: 0.2977 - accuracy: 0.8850\n",
            "Epoch 00003: val_loss did not improve from 0.32641\n",
            "563/563 [==============================] - 4s 7ms/step - loss: 0.2975 - accuracy: 0.8850 - val_loss: 0.3264 - val_accuracy: 0.8749\n",
            "Epoch 4/30\n",
            "560/563 [============================>.] - ETA: 0s - loss: 0.2825 - accuracy: 0.8925\n",
            "Epoch 00004: val_loss improved from 0.32641 to 0.32640, saving model to best_model_c2\n",
            "INFO:tensorflow:Assets written to: best_model_c2/assets\n",
            "563/563 [==============================] - 15s 27ms/step - loss: 0.2823 - accuracy: 0.8926 - val_loss: 0.3264 - val_accuracy: 0.8764\n",
            "Epoch 5/30\n",
            "559/563 [============================>.] - ETA: 0s - loss: 0.2703 - accuracy: 0.8961\n",
            "Epoch 00005: val_loss did not improve from 0.32640\n",
            "563/563 [==============================] - 4s 7ms/step - loss: 0.2713 - accuracy: 0.8957 - val_loss: 0.3372 - val_accuracy: 0.8791\n",
            "Epoch 6/30\n",
            "562/563 [============================>.] - ETA: 0s - loss: 0.2593 - accuracy: 0.9025\n",
            "Epoch 00006: val_loss did not improve from 0.32640\n",
            "563/563 [==============================] - 4s 7ms/step - loss: 0.2592 - accuracy: 0.9026 - val_loss: 0.3501 - val_accuracy: 0.8707\n",
            "Epoch 7/30\n",
            "558/563 [============================>.] - ETA: 0s - loss: 0.2516 - accuracy: 0.9067\n",
            "Epoch 00007: val_loss improved from 0.32640 to 0.32557, saving model to best_model_c2\n",
            "INFO:tensorflow:Assets written to: best_model_c2/assets\n",
            "563/563 [==============================] - 14s 25ms/step - loss: 0.2520 - accuracy: 0.9064 - val_loss: 0.3256 - val_accuracy: 0.8744\n",
            "Epoch 8/30\n",
            "562/563 [============================>.] - ETA: 0s - loss: 0.2415 - accuracy: 0.9099\n",
            "Epoch 00008: val_loss did not improve from 0.32557\n",
            "563/563 [==============================] - 4s 7ms/step - loss: 0.2415 - accuracy: 0.9099 - val_loss: 0.3550 - val_accuracy: 0.8718\n",
            "Epoch 9/30\n",
            "559/563 [============================>.] - ETA: 0s - loss: 0.2292 - accuracy: 0.9144\n",
            "Epoch 00009: val_loss did not improve from 0.32557\n",
            "563/563 [==============================] - 4s 7ms/step - loss: 0.2290 - accuracy: 0.9144 - val_loss: 0.3606 - val_accuracy: 0.8727\n",
            "Epoch 10/30\n",
            "561/563 [============================>.] - ETA: 0s - loss: 0.2304 - accuracy: 0.9127\n",
            "Epoch 00010: val_loss did not improve from 0.32557\n",
            "563/563 [==============================] - 4s 7ms/step - loss: 0.2301 - accuracy: 0.9127 - val_loss: 0.3425 - val_accuracy: 0.8767\n",
            "Epoch 11/30\n",
            "561/563 [============================>.] - ETA: 0s - loss: 0.2217 - accuracy: 0.9151\n",
            "Epoch 00011: val_loss did not improve from 0.32557\n",
            "563/563 [==============================] - 4s 7ms/step - loss: 0.2214 - accuracy: 0.9153 - val_loss: 0.3579 - val_accuracy: 0.8729\n",
            "Epoch 12/30\n",
            "560/563 [============================>.] - ETA: 0s - loss: 0.2114 - accuracy: 0.9191\n",
            "Epoch 00012: val_loss did not improve from 0.32557\n",
            "563/563 [==============================] - 4s 7ms/step - loss: 0.2113 - accuracy: 0.9191 - val_loss: 0.3510 - val_accuracy: 0.8687\n",
            "Epoch 13/30\n",
            "556/563 [============================>.] - ETA: 0s - loss: 0.2045 - accuracy: 0.9246\n",
            "Epoch 00013: val_loss did not improve from 0.32557\n",
            "563/563 [==============================] - 4s 7ms/step - loss: 0.2039 - accuracy: 0.9246 - val_loss: 0.3618 - val_accuracy: 0.8676\n",
            "Epoch 14/30\n",
            "559/563 [============================>.] - ETA: 0s - loss: 0.1955 - accuracy: 0.9278\n",
            "Epoch 00014: val_loss did not improve from 0.32557\n",
            "563/563 [==============================] - 4s 7ms/step - loss: 0.1956 - accuracy: 0.9277 - val_loss: 0.3810 - val_accuracy: 0.8667\n",
            "Epoch 15/30\n",
            "557/563 [============================>.] - ETA: 0s - loss: 0.1965 - accuracy: 0.9273\n",
            "Epoch 00015: val_loss did not improve from 0.32557\n",
            "563/563 [==============================] - 4s 7ms/step - loss: 0.1965 - accuracy: 0.9270 - val_loss: 0.3816 - val_accuracy: 0.8698\n",
            "Epoch 16/30\n",
            "555/563 [============================>.] - ETA: 0s - loss: 0.1864 - accuracy: 0.9303\n",
            "Epoch 00016: val_loss did not improve from 0.32557\n",
            "563/563 [==============================] - 4s 7ms/step - loss: 0.1866 - accuracy: 0.9303 - val_loss: 0.3940 - val_accuracy: 0.8698\n",
            "Epoch 17/30\n",
            "560/563 [============================>.] - ETA: 0s - loss: 0.1796 - accuracy: 0.9316\n",
            "Epoch 00017: val_loss did not improve from 0.32557\n",
            "563/563 [==============================] - 4s 7ms/step - loss: 0.1796 - accuracy: 0.9315 - val_loss: 0.3816 - val_accuracy: 0.8704\n",
            "Epoch 18/30\n",
            "563/563 [==============================] - ETA: 0s - loss: 0.1779 - accuracy: 0.9316\n",
            "Epoch 00018: val_loss did not improve from 0.32557\n",
            "563/563 [==============================] - 4s 7ms/step - loss: 0.1779 - accuracy: 0.9316 - val_loss: 0.4083 - val_accuracy: 0.8702\n",
            "Epoch 19/30\n",
            "560/563 [============================>.] - ETA: 0s - loss: 0.1729 - accuracy: 0.9344\n",
            "Epoch 00019: val_loss did not improve from 0.32557\n",
            "563/563 [==============================] - 4s 7ms/step - loss: 0.1731 - accuracy: 0.9343 - val_loss: 0.3996 - val_accuracy: 0.8691\n",
            "Epoch 20/30\n",
            "561/563 [============================>.] - ETA: 0s - loss: 0.1681 - accuracy: 0.9363\n",
            "Epoch 00020: val_loss did not improve from 0.32557\n",
            "563/563 [==============================] - 4s 7ms/step - loss: 0.1682 - accuracy: 0.9363 - val_loss: 0.3968 - val_accuracy: 0.8720\n",
            "Epoch 21/30\n",
            "557/563 [============================>.] - ETA: 0s - loss: 0.1641 - accuracy: 0.9381\n",
            "Epoch 00021: val_loss did not improve from 0.32557\n",
            "563/563 [==============================] - 4s 7ms/step - loss: 0.1643 - accuracy: 0.9382 - val_loss: 0.4255 - val_accuracy: 0.8678\n",
            "Epoch 22/30\n",
            "560/563 [============================>.] - ETA: 0s - loss: 0.1646 - accuracy: 0.9391Restoring model weights from the end of the best epoch.\n",
            "\n",
            "Epoch 00022: val_loss did not improve from 0.32557\n",
            "563/563 [==============================] - 4s 7ms/step - loss: 0.1649 - accuracy: 0.9391 - val_loss: 0.4436 - val_accuracy: 0.8676\n",
            "Epoch 00022: early stopping\n"
          ],
          "name": "stdout"
        }
      ]
    },
    {
      "cell_type": "code",
      "metadata": {
        "id": "q-LQc6drScyT"
      },
      "source": [
        "saved_model_weather = load_model('best_model_c2')"
      ],
      "execution_count": null,
      "outputs": []
    },
    {
      "cell_type": "code",
      "metadata": {
        "id": "pTG5b-VHAQbr"
      },
      "source": [
        "predicted_sentiment = saved_model_weather.predict(vec_testX_df)"
      ],
      "execution_count": null,
      "outputs": []
    },
    {
      "cell_type": "code",
      "metadata": {
        "colab": {
          "base_uri": "https://localhost:8080/"
        },
        "id": "3HE0uJ9yBg2o",
        "outputId": "6a1af5dc-a41a-41c2-8e80-ddb2eb2dc026"
      },
      "source": [
        "predicted_sentiment"
      ],
      "execution_count": null,
      "outputs": [
        {
          "output_type": "execute_result",
          "data": {
            "text/plain": [
              "array([[0.34830293, 0.24814071, 0.40355638],\n",
              "       [0.54623413, 0.32551613, 0.12824973],\n",
              "       [0.20750608, 0.00857088, 0.78392303],\n",
              "       ...,\n",
              "       [0.02563802, 0.97010416, 0.00425781],\n",
              "       [0.02359507, 0.00448107, 0.9719239 ],\n",
              "       [0.99135417, 0.00164422, 0.00700157]], dtype=float32)"
            ]
          },
          "metadata": {
            "tags": []
          },
          "execution_count": 69
        }
      ]
    },
    {
      "cell_type": "code",
      "metadata": {
        "colab": {
          "base_uri": "https://localhost:8080/"
        },
        "id": "98gOxOthB_tk",
        "outputId": "da0eb088-9b75-4027-ac61-214f74a1d9a3"
      },
      "source": [
        "predicted_sentiment= saved_model_weather.predict_classes(vec_testX_df)"
      ],
      "execution_count": null,
      "outputs": [
        {
          "output_type": "stream",
          "text": [
            "WARNING:tensorflow:From <ipython-input-70-70ce05ecfdc5>:1: Sequential.predict_classes (from tensorflow.python.keras.engine.sequential) is deprecated and will be removed after 2021-01-01.\n",
            "Instructions for updating:\n",
            "Please use instead:* `np.argmax(model.predict(x), axis=-1)`,   if your model does multi-class classification   (e.g. if it uses a `softmax` last-layer activation).* `(model.predict(x) > 0.5).astype(\"int32\")`,   if your model does binary classification   (e.g. if it uses a `sigmoid` last-layer activation).\n"
          ],
          "name": "stdout"
        }
      ]
    },
    {
      "cell_type": "code",
      "metadata": {
        "colab": {
          "base_uri": "https://localhost:8080/"
        },
        "id": "6tI-ezM8CTA5",
        "outputId": "e0c09113-2430-42d2-c0bd-0a1b33ec2104"
      },
      "source": [
        "from google.colab import drive\r\n",
        "drive.mount('drive')"
      ],
      "execution_count": null,
      "outputs": [
        {
          "output_type": "stream",
          "text": [
            "Drive already mounted at drive; to attempt to forcibly remount, call drive.mount(\"drive\", force_remount=True).\n"
          ],
          "name": "stdout"
        }
      ]
    },
    {
      "cell_type": "code",
      "metadata": {
        "id": "RO-1ixzlCu3e"
      },
      "source": [
        "pd.DataFrame(predicted_sentiment).to_csv(\"submission4.csv\")\r\n",
        "#df.to_csv('data.csv')"
      ],
      "execution_count": null,
      "outputs": []
    },
    {
      "cell_type": "code",
      "metadata": {
        "id": "ATOHXUHLDjg2"
      },
      "source": [
        ""
      ],
      "execution_count": null,
      "outputs": []
    }
  ]
}